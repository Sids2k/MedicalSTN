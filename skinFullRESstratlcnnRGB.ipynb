{
 "cells": [
  {
   "cell_type": "code",
   "execution_count": 1,
   "id": "5a94ef16",
   "metadata": {},
   "outputs": [],
   "source": [
    "# run it via 5-fold as well\n",
    "# transfer the STN network from kneeRESv2\n",
    "# STN looks better with augmentation (test hypothesis)\n",
    "# in addition to yesterday's conversation.\n",
    "# Fire weighting or Augment \n",
    "    # we can use fire scores to figure out how much to augment (multiplicative factor or something)"
   ]
  },
  {
   "cell_type": "code",
   "execution_count": 2,
   "id": "8e3e40d3",
   "metadata": {},
   "outputs": [
    {
     "data": {
      "text/plain": [
       "<matplotlib.pyplot._IonContext at 0x7f25d37700d0>"
      ]
     },
     "execution_count": 2,
     "metadata": {},
     "output_type": "execute_result"
    }
   ],
   "source": [
    "from __future__ import print_function\n",
    "%matplotlib inline\n",
    "import warnings\n",
    "warnings.filterwarnings('ignore')\n",
    "import os\n",
    "# os.environ[\"CUDA_VISIBLE_DEVICES\"] = \"5\"\n",
    "import torch\n",
    "import torch.nn as nn\n",
    "import torch.nn.functional as F\n",
    "import torch.optim as optim\n",
    "import torchvision\n",
    "from torchvision import datasets, transforms\n",
    "import matplotlib.pyplot as plt\n",
    "import numpy as np\n",
    "from PIL import Image\n",
    "from tqdm.notebook import tqdm\n",
    "from six.moves import urllib\n",
    "\n",
    "torch.manual_seed(0)\n",
    "plt.ion()  "
   ]
  },
  {
   "cell_type": "code",
   "execution_count": 3,
   "id": "6bf3f239",
   "metadata": {},
   "outputs": [],
   "source": [
    "import random\n",
    "import math\n",
    "import torch.utils.data\n",
    "from collections import defaultdict\n",
    "\n",
    "def stratified_split(dataset : torch.utils.data.Dataset, labels, fraction, random_state=None):\n",
    "#     print('hi')\n",
    "    if random_state: random.seed(random_state)\n",
    "    indices_per_label = defaultdict(list)\n",
    "#     print('hi')\n",
    "    for index, label in enumerate(labels):\n",
    "        indices_per_label[label].append(index)\n",
    "    first_set_indices, second_set_indices = list(), list()\n",
    "    for label, indices in (indices_per_label.items()):\n",
    "        n_samples_for_label = round(len(indices) * fraction)\n",
    "        random_indices_sample = random.sample(indices, n_samples_for_label)\n",
    "        first_set_indices.extend(random_indices_sample)\n",
    "        second_set_indices.extend(set(indices) - set(random_indices_sample))\n",
    "    first_set_inputs = torch.utils.data.Subset(dataset, first_set_indices)\n",
    "    first_set_labels = list(map(labels.__getitem__, first_set_indices))\n",
    "    second_set_inputs = torch.utils.data.Subset(dataset, second_set_indices)\n",
    "    second_set_labels = list(map(labels.__getitem__, second_set_indices))\n",
    "    return first_set_inputs, first_set_labels, second_set_inputs, second_set_labels"
   ]
  },
  {
   "cell_type": "code",
   "execution_count": 4,
   "id": "5aa16ffa",
   "metadata": {},
   "outputs": [],
   "source": [
    "opener = urllib.request.build_opener()\n",
    "opener.addheaders = [('User-agent', 'Mozilla/5.0')]\n",
    "urllib.request.install_opener(opener)\n",
    "\n",
    "device = torch.device(\"cuda:2\" if torch.cuda.is_available() else \"cpu\")\n",
    "device = torch.device(\"cpu\")\n",
    "\n",
    "full_dataset = torchvision.datasets.ImageFolder(root = '/data/siddhant/MedicalSTN/LavinaData', \n",
    "                                     transform=transforms.Compose([\n",
    "                       transforms.ToTensor(),\n",
    "#                        transforms.Grayscale(num_output_channels=3),\n",
    "                       transforms.Resize((512,512)),\n",
    "                   ]))\n",
    "train_size = int(0.8 * len(full_dataset))\n",
    "test_size = len(full_dataset) - train_size\n",
    "# train_dataset, test_dataset = torch.utils.data.random_split(full_dataset, [train_size, test_size])\n",
    "\n",
    "train_dataset, _, test_dataset, __ = stratified_split(full_dataset, full_dataset.targets, fraction=0.8, random_state=1)\n",
    "\n",
    "# Training dataset\n",
    "train_loader = torch.utils.data.DataLoader(\n",
    "    train_dataset, \n",
    "    batch_size=64, shuffle=True, num_workers=2)\n",
    "# Test dataset\n",
    "test_loader = torch.utils.data.DataLoader(\n",
    "    test_dataset, \n",
    "    batch_size=64, shuffle=True, num_workers=2)\n",
    "\n",
    "outputlen = len(full_dataset.find_classes('/data/siddhant/MedicalSTN/LavinaData')[0])"
   ]
  },
  {
   "cell_type": "code",
   "execution_count": 5,
   "id": "9064e449",
   "metadata": {},
   "outputs": [
    {
     "data": {
      "text/plain": [
       "(['Acanthosis nigricans',\n",
       "  'Acne',\n",
       "  'Acne Kleidalis nuche',\n",
       "  'Acrochordon or Skin tags',\n",
       "  'Alopecia Areata',\n",
       "  'Androgenetic alopecia',\n",
       "  'Angiofibroma',\n",
       "  'Anogenital warts',\n",
       "  'Atopic dermatitis',\n",
       "  'Basal cell carcinoma',\n",
       "  'Becker_s nevus',\n",
       "  'Bowenoid Papulosis',\n",
       "  'Bowens disease',\n",
       "  'Bullous impetigo',\n",
       "  'Bullous pemphigoid',\n",
       "  'Candidiasis',\n",
       "  'Capillary lymphatic malformation',\n",
       "  'Chicken pox',\n",
       "  'Chronic paronychia',\n",
       "  'Collagenoma',\n",
       "  'Corn',\n",
       "  'Cut horn',\n",
       "  'Cutaneous metastasis',\n",
       "  'Dermatitis cruris pustulosa et atrophicans',\n",
       "  'Dermatofibroma',\n",
       "  'Discoid lupus erythematosus',\n",
       "  'EB pruriginosa',\n",
       "  'Ecythma',\n",
       "  'Epidermoid cyst(sebaceous cyst)',\n",
       "  'Erythroderma',\n",
       "  'Female patterned hair loss',\n",
       "  'Fixed drug eruption',\n",
       "  'Freckles',\n",
       "  'Fric Blister',\n",
       "  'Furuncle',\n",
       "  'Geographic tongue',\n",
       "  'Hailey Hailey disease',\n",
       "  'Henoch schonlein purpura',\n",
       "  'Herpes zoster',\n",
       "  'Hidradenitis suppurativa',\n",
       "  'Hypereosinophilic syndrome',\n",
       "  'Hypertrophic lichen planus',\n",
       "  'Hypertrophic scar',\n",
       "  'Ichthyosis',\n",
       "  'Impetigo and Pyodermas',\n",
       "  'Keloids',\n",
       "  'Keratoderma blenorrhagicum',\n",
       "  'LIPEN',\n",
       "  'Leiomyoma',\n",
       "  'Leukeamia cutis',\n",
       "  'Lichen Niditus',\n",
       "  'Lichen amyloidosis',\n",
       "  'Lichen plano pilaris',\n",
       "  'Lichen planus',\n",
       "  'Lichen planus pigmentosus',\n",
       "  'Lichen sclerosus et atrophicus',\n",
       "  'Lichen striatus',\n",
       "  'Livedoid vasculopathy',\n",
       "  'Lupus vulgaris',\n",
       "  'Mastocytosis',\n",
       "  'Melanocytic nevi or Mole',\n",
       "  'Melanoma',\n",
       "  'Melasma',\n",
       "  'Milia',\n",
       "  'Molluscum contagiosum',\n",
       "  'Mosacisim',\n",
       "  'Nail psoriasis',\n",
       "  'Nevus Spilus',\n",
       "  'Nevus depigmentosus',\n",
       "  'Nuerofibromatosis',\n",
       "  'Nummular dermatitis',\n",
       "  'Oral Apthae',\n",
       "  'Paederus dermatitis',\n",
       "  'Palmoplantar psoriasis',\n",
       "  'Paronychia',\n",
       "  'Pemphigus',\n",
       "  'Periporitis',\n",
       "  'Phrynoderma',\n",
       "  'Pityriasis alba',\n",
       "  'Pityriasis rosea',\n",
       "  'Plantar psoriasis',\n",
       "  'Plantar warts',\n",
       "  'Porokeratosis',\n",
       "  'Port wine stain',\n",
       "  'Pseudoxanthoma elasticum',\n",
       "  'Psoriasis',\n",
       "  'Pyoderma',\n",
       "  'Query',\n",
       "  'Rhinophyma',\n",
       "  'Rosacea',\n",
       "  'SBG Repigmentation',\n",
       "  'Sebo psoriasis',\n",
       "  'Seborrheic dermatitis',\n",
       "  'Senile purpura',\n",
       "  'Stasis eczema',\n",
       "  'Submucous cyst',\n",
       "  'Syringomas',\n",
       "  'Tinea cruris, corporis or faciei',\n",
       "  'Tinea manuum',\n",
       "  'Tinea unguium',\n",
       "  'Trichostasis',\n",
       "  'Trichotillomania',\n",
       "  'Umbilical granuloma',\n",
       "  'Venous malformation',\n",
       "  'Vitiligo or Leucoderma',\n",
       "  'Xanthoma',\n",
       "  'Xeroderma pigmentosum',\n",
       "  'Xerosis',\n",
       "  'Zinc responsive dermatosis',\n",
       "  'alopecia cicatricial',\n",
       "  'cafe au lait macules',\n",
       "  'capillary venous malformation',\n",
       "  'carbuncle',\n",
       "  'epidermolysis bullosa',\n",
       "  'erythema elevatum diutinum',\n",
       "  'erythema multiforme',\n",
       "  'exfoliative cheilitis',\n",
       "  'exogenous ochronosis',\n",
       "  'fissured heels',\n",
       "  'fordyce spots',\n",
       "  'granuloma annulare',\n",
       "  'herpes labialis',\n",
       "  'hirsutism',\n",
       "  'insect bite reaction',\n",
       "  'irritant contact dermatitis',\n",
       "  'lymphangioma circumscriptum',\n",
       "  'miliaria',\n",
       "  'mycosis fungoides',\n",
       "  'neurofirbromatosis-plexiform neurofibroma with scoliosis',\n",
       "  'nodular lepromatous leprosy',\n",
       "  'pigmented purpuric dermatoses',\n",
       "  'polymorphic light eruption',\n",
       "  'post burn',\n",
       "  'post herpetic scar',\n",
       "  'post kala azar dermal leishmaniasis',\n",
       "  'prurigo nodularis',\n",
       "  'purpura fulminans',\n",
       "  'reiters disease',\n",
       "  'scalp folliculitis',\n",
       "  'scar',\n",
       "  'septal perforation',\n",
       "  'topical steroid damaged face',\n",
       "  'traumatic nail',\n",
       "  'trichilemmal cyst',\n",
       "  'varicose veins',\n",
       "  'verrucous epidermal nevus'],\n",
       " {'Acanthosis nigricans': 0,\n",
       "  'Acne': 1,\n",
       "  'Acne Kleidalis nuche': 2,\n",
       "  'Acrochordon or Skin tags': 3,\n",
       "  'Alopecia Areata': 4,\n",
       "  'Androgenetic alopecia': 5,\n",
       "  'Angiofibroma': 6,\n",
       "  'Anogenital warts': 7,\n",
       "  'Atopic dermatitis': 8,\n",
       "  'Basal cell carcinoma': 9,\n",
       "  'Becker_s nevus': 10,\n",
       "  'Bowenoid Papulosis': 11,\n",
       "  'Bowens disease': 12,\n",
       "  'Bullous impetigo': 13,\n",
       "  'Bullous pemphigoid': 14,\n",
       "  'Candidiasis': 15,\n",
       "  'Capillary lymphatic malformation': 16,\n",
       "  'Chicken pox': 17,\n",
       "  'Chronic paronychia': 18,\n",
       "  'Collagenoma': 19,\n",
       "  'Corn': 20,\n",
       "  'Cut horn': 21,\n",
       "  'Cutaneous metastasis': 22,\n",
       "  'Dermatitis cruris pustulosa et atrophicans': 23,\n",
       "  'Dermatofibroma': 24,\n",
       "  'Discoid lupus erythematosus': 25,\n",
       "  'EB pruriginosa': 26,\n",
       "  'Ecythma': 27,\n",
       "  'Epidermoid cyst(sebaceous cyst)': 28,\n",
       "  'Erythroderma': 29,\n",
       "  'Female patterned hair loss': 30,\n",
       "  'Fixed drug eruption': 31,\n",
       "  'Freckles': 32,\n",
       "  'Fric Blister': 33,\n",
       "  'Furuncle': 34,\n",
       "  'Geographic tongue': 35,\n",
       "  'Hailey Hailey disease': 36,\n",
       "  'Henoch schonlein purpura': 37,\n",
       "  'Herpes zoster': 38,\n",
       "  'Hidradenitis suppurativa': 39,\n",
       "  'Hypereosinophilic syndrome': 40,\n",
       "  'Hypertrophic lichen planus': 41,\n",
       "  'Hypertrophic scar': 42,\n",
       "  'Ichthyosis': 43,\n",
       "  'Impetigo and Pyodermas': 44,\n",
       "  'Keloids': 45,\n",
       "  'Keratoderma blenorrhagicum': 46,\n",
       "  'LIPEN': 47,\n",
       "  'Leiomyoma': 48,\n",
       "  'Leukeamia cutis': 49,\n",
       "  'Lichen Niditus': 50,\n",
       "  'Lichen amyloidosis': 51,\n",
       "  'Lichen plano pilaris': 52,\n",
       "  'Lichen planus': 53,\n",
       "  'Lichen planus pigmentosus': 54,\n",
       "  'Lichen sclerosus et atrophicus': 55,\n",
       "  'Lichen striatus': 56,\n",
       "  'Livedoid vasculopathy': 57,\n",
       "  'Lupus vulgaris': 58,\n",
       "  'Mastocytosis': 59,\n",
       "  'Melanocytic nevi or Mole': 60,\n",
       "  'Melanoma': 61,\n",
       "  'Melasma': 62,\n",
       "  'Milia': 63,\n",
       "  'Molluscum contagiosum': 64,\n",
       "  'Mosacisim': 65,\n",
       "  'Nail psoriasis': 66,\n",
       "  'Nevus Spilus': 67,\n",
       "  'Nevus depigmentosus': 68,\n",
       "  'Nuerofibromatosis': 69,\n",
       "  'Nummular dermatitis': 70,\n",
       "  'Oral Apthae': 71,\n",
       "  'Paederus dermatitis': 72,\n",
       "  'Palmoplantar psoriasis': 73,\n",
       "  'Paronychia': 74,\n",
       "  'Pemphigus': 75,\n",
       "  'Periporitis': 76,\n",
       "  'Phrynoderma': 77,\n",
       "  'Pityriasis alba': 78,\n",
       "  'Pityriasis rosea': 79,\n",
       "  'Plantar psoriasis': 80,\n",
       "  'Plantar warts': 81,\n",
       "  'Porokeratosis': 82,\n",
       "  'Port wine stain': 83,\n",
       "  'Pseudoxanthoma elasticum': 84,\n",
       "  'Psoriasis': 85,\n",
       "  'Pyoderma': 86,\n",
       "  'Query': 87,\n",
       "  'Rhinophyma': 88,\n",
       "  'Rosacea': 89,\n",
       "  'SBG Repigmentation': 90,\n",
       "  'Sebo psoriasis': 91,\n",
       "  'Seborrheic dermatitis': 92,\n",
       "  'Senile purpura': 93,\n",
       "  'Stasis eczema': 94,\n",
       "  'Submucous cyst': 95,\n",
       "  'Syringomas': 96,\n",
       "  'Tinea cruris, corporis or faciei': 97,\n",
       "  'Tinea manuum': 98,\n",
       "  'Tinea unguium': 99,\n",
       "  'Trichostasis': 100,\n",
       "  'Trichotillomania': 101,\n",
       "  'Umbilical granuloma': 102,\n",
       "  'Venous malformation': 103,\n",
       "  'Vitiligo or Leucoderma': 104,\n",
       "  'Xanthoma': 105,\n",
       "  'Xeroderma pigmentosum': 106,\n",
       "  'Xerosis': 107,\n",
       "  'Zinc responsive dermatosis': 108,\n",
       "  'alopecia cicatricial': 109,\n",
       "  'cafe au lait macules': 110,\n",
       "  'capillary venous malformation': 111,\n",
       "  'carbuncle': 112,\n",
       "  'epidermolysis bullosa': 113,\n",
       "  'erythema elevatum diutinum': 114,\n",
       "  'erythema multiforme': 115,\n",
       "  'exfoliative cheilitis': 116,\n",
       "  'exogenous ochronosis': 117,\n",
       "  'fissured heels': 118,\n",
       "  'fordyce spots': 119,\n",
       "  'granuloma annulare': 120,\n",
       "  'herpes labialis': 121,\n",
       "  'hirsutism': 122,\n",
       "  'insect bite reaction': 123,\n",
       "  'irritant contact dermatitis': 124,\n",
       "  'lymphangioma circumscriptum': 125,\n",
       "  'miliaria': 126,\n",
       "  'mycosis fungoides': 127,\n",
       "  'neurofirbromatosis-plexiform neurofibroma with scoliosis': 128,\n",
       "  'nodular lepromatous leprosy': 129,\n",
       "  'pigmented purpuric dermatoses': 130,\n",
       "  'polymorphic light eruption': 131,\n",
       "  'post burn': 132,\n",
       "  'post herpetic scar': 133,\n",
       "  'post kala azar dermal leishmaniasis': 134,\n",
       "  'prurigo nodularis': 135,\n",
       "  'purpura fulminans': 136,\n",
       "  'reiters disease': 137,\n",
       "  'scalp folliculitis': 138,\n",
       "  'scar': 139,\n",
       "  'septal perforation': 140,\n",
       "  'topical steroid damaged face': 141,\n",
       "  'traumatic nail': 142,\n",
       "  'trichilemmal cyst': 143,\n",
       "  'varicose veins': 144,\n",
       "  'verrucous epidermal nevus': 145})"
      ]
     },
     "execution_count": 5,
     "metadata": {},
     "output_type": "execute_result"
    }
   ],
   "source": [
    "full_dataset.find_classes('/data/siddhant/MedicalSTN/LavinaData')"
   ]
  },
  {
   "cell_type": "code",
   "execution_count": 6,
   "id": "38282c84",
   "metadata": {},
   "outputs": [],
   "source": [
    "class STNresnet(nn.Module):\n",
    "    def __init__(self):\n",
    "        super(STNresnet, self).__init__()\n",
    "        # Spatial transformer localization-network\n",
    "        self.finalfc = nn.Linear(1000, outputlen)\n",
    "        self.localization = nn.Sequential(\n",
    "            nn.Conv2d(3, 8, kernel_size=7),\n",
    "            nn.MaxPool2d(2, stride=2),\n",
    "            nn.ReLU(True),\n",
    "            nn.Conv2d(8, 10, kernel_size=5),\n",
    "            nn.MaxPool2d(2, stride=2),\n",
    "            nn.ReLU(True)\n",
    "        )\n",
    "\n",
    "        # Regressor for the 3 * 2 affine matrix\n",
    "        self.fc_loc = nn.Sequential(\n",
    "            nn.Linear(10 * 124 * 124, 32),\n",
    "            nn.ReLU(True),\n",
    "            nn.Linear(32, 3 * 2)\n",
    "        )\n",
    "\n",
    "        # Initialize the weights/bias with identity transformation\n",
    "        self.fc_loc[2].weight.data.zero_()\n",
    "        self.fc_loc[2].bias.data.copy_(torch.tensor([1, 0, 0, 0, 1, 0], dtype=torch.float))\n",
    "        self.resnetportion = torchvision.models.resnet18(pretrained = False)\n",
    "    \n",
    "    def stn(self, x):\n",
    "        xs = self.localization(x)\n",
    "        xs = xs.view(x.shape[0], -1) \n",
    "        theta = self.fc_loc(xs)\n",
    "        theta = theta.view(-1, 2, 3)\n",
    "\n",
    "        grid = F.affine_grid(theta, x.size())\n",
    "        x = F.grid_sample(x, grid)\n",
    "\n",
    "        return x\n",
    "    \n",
    "    def forward(self, x):\n",
    "        xs = self.localization(x)\n",
    "        xs = xs.view(x.shape[0], -1) \n",
    "        theta = self.fc_loc(xs)\n",
    "        theta = theta.view(-1, 2, 3)\n",
    "\n",
    "        grid = F.affine_grid(theta, x.size())\n",
    "        x = F.grid_sample(x, grid)\n",
    "        x = self.resnetportion(x)\n",
    "        x = self.finalfc(x)\n",
    "        return F.log_softmax(x, dim=1), x\n"
   ]
  },
  {
   "cell_type": "code",
   "execution_count": 7,
   "id": "8f3c3ed6",
   "metadata": {},
   "outputs": [],
   "source": [
    "class STNnet(nn.Module):\n",
    "    def __init__(self):\n",
    "        super(STNnet, self).__init__()\n",
    "        self.conv1 = nn.Conv2d(3, 10, kernel_size=5)\n",
    "        self.conv2 = nn.Conv2d(10, 20, kernel_size=5)\n",
    "        self.conv2_drop = nn.Dropout2d()\n",
    "        self.fc1 = nn.Linear(20 * 125 * 125, 50)\n",
    "        self.fc2 = nn.Linear(50, outputlen)\n",
    "\n",
    "        # Spatial transformer localization-network\n",
    "        self.localization = nn.Sequential(\n",
    "            nn.Conv2d(3, 8, kernel_size=7),\n",
    "            nn.MaxPool2d(2, stride=2),\n",
    "            nn.ReLU(True),\n",
    "            nn.Conv2d(8, 10, kernel_size=5),\n",
    "            nn.MaxPool2d(2, stride=2),\n",
    "            nn.ReLU(True)\n",
    "        )\n",
    "\n",
    "        # Regressor for the 3 * 2 affine matrix\n",
    "        self.fc_loc = nn.Sequential(\n",
    "            nn.Linear(10 * 124 * 124, 32),\n",
    "            nn.ReLU(True),\n",
    "            nn.Linear(32, 3 * 2)\n",
    "        )\n",
    "\n",
    "        # Initialize the weights/bias with identity transformation\n",
    "        self.fc_loc[2].weight.data.zero_()\n",
    "        self.fc_loc[2].bias.data.copy_(torch.tensor([1, 0, 0, 0, 1, 0], dtype=torch.float))\n",
    "\n",
    "    # Spatial transformer network forward function\n",
    "    def stn(self, x):\n",
    "        xs = self.localization(x)\n",
    "        xs = xs.view(x.shape[0], -1) \n",
    "        theta = self.fc_loc(xs)\n",
    "        theta = theta.view(-1, 2, 3)\n",
    "\n",
    "        grid = F.affine_grid(theta, x.size())\n",
    "        x = F.grid_sample(x, grid)\n",
    "\n",
    "        return x\n",
    "\n",
    "    def forward(self, x):\n",
    "        x = self.stn(x)\n",
    "        x = F.relu(F.max_pool2d(self.conv1(x), 2))\n",
    "        x = F.relu(F.max_pool2d(self.conv2_drop(self.conv2(x)), 2))\n",
    "        x = x.view(x.shape[0], -1)\n",
    "        x = F.relu(self.fc1(x))\n",
    "        x = F.dropout(x, training=self.training)\n",
    "        x = self.fc2(x)\n",
    "        return F.log_softmax(x, dim=1)"
   ]
  },
  {
   "cell_type": "code",
   "execution_count": 8,
   "id": "96a414eb",
   "metadata": {},
   "outputs": [],
   "source": [
    "# model = STNnet().to(device)\n",
    "model = STNresnet().to(device)\n"
   ]
  },
  {
   "cell_type": "code",
   "execution_count": 9,
   "id": "d640cfc6",
   "metadata": {},
   "outputs": [],
   "source": [
    "def train(epoch):\n",
    "    model.train()\n",
    "    for data, target in tqdm(train_loader): \n",
    "        data, target = data.to(device), target.to(device)\n",
    "\n",
    "        optimizer.zero_grad()\n",
    "        output, layer = model(data)\n",
    "        loss = F.nll_loss(output, target) + 0.005*torch.mean(torch.square(layer)) #0.05 earlier\n",
    "        loss.backward()\n",
    "        optimizer.step()\n",
    "#         if batch_idx % 5 == 0:\n",
    "#             print('Train Epoch: {} [{}/{} ({:.0f}%)]\\tLoss: {:.6f}'.format(\n",
    "#                 epoch, batch_idx * len(data), len(train_loader.dataset),\n",
    "#                 100. * batch_idx / len(train_loader), loss.item()))\n",
    "    \n",
    "\n",
    "def test():\n",
    "    with torch.no_grad():\n",
    "        model.eval()\n",
    "        test_loss = 0\n",
    "        lcnn_loss = 0\n",
    "        correct = 0\n",
    "        preds = []\n",
    "        targets = []\n",
    "        for data, target in tqdm(test_loader):\n",
    "            data, target = data.to(device), target.to(device)\n",
    "            output, layer = model(data)\n",
    "\n",
    "            # sum up batch loss\n",
    "            test_loss += F.nll_loss(output, target, size_average=False).item()\n",
    "            lcnn_loss += 0.005*torch.mean(torch.square(layer))\n",
    "            # get the index of the max log-probability\n",
    "            pred = output.max(1, keepdim=True)[1]\n",
    "            # print(pred)\n",
    "            correct += pred.eq(target.view_as(pred)).sum().item()\n",
    "            preds.extend(np.array(pred.cpu()))\n",
    "            targets.extend(np.array(target.cpu()))\n",
    "        from sklearn.metrics import confusion_matrix\n",
    "        conf_mat=confusion_matrix(targets, preds)\n",
    "        print(conf_mat)\n",
    "        #TODO make confusion matrix\n",
    "        test_loss /= len(test_loader.dataset)\n",
    "        print('\\nTest set: Average loss: {:.4f}, LCNN Loss: {:.4f}, Accuracy: {}/{} ({:.0f}%)\\n'\n",
    "              .format(test_loss, lcnn_loss, correct, len(test_loader.dataset),\n",
    "                      100. * correct / len(test_loader.dataset)))\n",
    "        return test_loss, lcnn_loss, 100. * correct / len(test_loader.dataset)\n",
    "\n",
    "def train_conf():\n",
    "    with torch.no_grad():\n",
    "        model.eval()\n",
    "        train_loss = 0\n",
    "        lcnn_loss = 0\n",
    "        correct = 0\n",
    "        preds = []\n",
    "        targets = []\n",
    "        for data, target in tqdm(train_loader):\n",
    "            data, target = data.to(device), target.to(device)\n",
    "            output, layer = model(data)\n",
    "            # sum up batch loss\n",
    "            train_loss += F.nll_loss(output, target, size_average=False).item() \n",
    "            lcnn_loss += 0.005*torch.mean(torch.square(layer))\n",
    "            # get the index of the max log-probability\n",
    "            pred = output.max(1, keepdim=True)[1]\n",
    "            # print(pred)\n",
    "            correct += pred.eq(target.view_as(pred)).sum().item()\n",
    "            preds.extend(np.array(pred.cpu()))\n",
    "            targets.extend(np.array(target.cpu()))\n",
    "        from sklearn.metrics import confusion_matrix\n",
    "        conf_mat=confusion_matrix(targets, preds)\n",
    "        print(conf_mat)\n",
    "        train_loss /= len(train_loader.dataset)\n",
    "        print('\\nTrain set: Average loss: {:.4f}, LCNN Loss: {:.4f}, Accuracy: {}/{} ({:.0f}%)\\n'\n",
    "              .format(train_loss, lcnn_loss, correct, len(train_loader.dataset),\n",
    "                      100. * correct / len(train_loader.dataset)))\n",
    "        return train_loss, lcnn_loss, 100. * correct / len(train_loader.dataset)"
   ]
  },
  {
   "cell_type": "code",
   "execution_count": 10,
   "id": "e543e59f",
   "metadata": {},
   "outputs": [],
   "source": [
    "optimizer = optim.Adam(model.parameters(), lr=0.0001)"
   ]
  },
  {
   "cell_type": "code",
   "execution_count": 11,
   "id": "4240e22c",
   "metadata": {},
   "outputs": [
    {
     "data": {
      "application/vnd.jupyter.widget-view+json": {
       "model_id": "21273fd6a8994eca859176c2ec2137c7",
       "version_major": 2,
       "version_minor": 0
      },
      "text/plain": [
       "  0%|          | 0/33 [00:00<?, ?it/s]"
      ]
     },
     "metadata": {},
     "output_type": "display_data"
    },
    {
     "data": {
      "application/vnd.jupyter.widget-view+json": {
       "model_id": "328fb4f96ba14394a5eaa797df74f261",
       "version_major": 2,
       "version_minor": 0
      },
      "text/plain": [
       "  0%|          | 0/33 [00:00<?, ?it/s]"
      ]
     },
     "metadata": {},
     "output_type": "display_data"
    },
    {
     "name": "stdout",
     "output_type": "stream",
     "text": [
      "[[0 0 0 ... 0 0 0]\n",
      " [0 0 0 ... 0 0 0]\n",
      " [0 0 0 ... 0 0 0]\n",
      " ...\n",
      " [0 0 0 ... 0 0 0]\n",
      " [0 0 0 ... 0 0 0]\n",
      " [0 0 0 ... 0 0 0]]\n",
      "\n",
      "Train set: Average loss: 3.8014, LCNN Loss: 0.3102, Accuracy: 182/2079 (9%)\n",
      "\n"
     ]
    },
    {
     "data": {
      "application/vnd.jupyter.widget-view+json": {
       "model_id": "0e9942efe77f40b78d13ffdff6d927d1",
       "version_major": 2,
       "version_minor": 0
      },
      "text/plain": [
       "  0%|          | 0/8 [00:00<?, ?it/s]"
      ]
     },
     "metadata": {},
     "output_type": "display_data"
    },
    {
     "name": "stdout",
     "output_type": "stream",
     "text": [
      "[[0 0 0 ... 0 0 0]\n",
      " [0 0 0 ... 0 0 0]\n",
      " [0 0 0 ... 0 0 0]\n",
      " ...\n",
      " [0 0 0 ... 0 0 0]\n",
      " [0 0 0 ... 0 0 0]\n",
      " [0 0 0 ... 0 0 0]]\n",
      "\n",
      "Test set: Average loss: 3.7107, LCNN Loss: 0.0757, Accuracy: 43/507 (8%)\n",
      "\n"
     ]
    },
    {
     "data": {
      "application/vnd.jupyter.widget-view+json": {
       "model_id": "528bd12d106e49579f2b4af0c05fd714",
       "version_major": 2,
       "version_minor": 0
      },
      "text/plain": [
       "  0%|          | 0/33 [00:00<?, ?it/s]"
      ]
     },
     "metadata": {},
     "output_type": "display_data"
    },
    {
     "data": {
      "application/vnd.jupyter.widget-view+json": {
       "model_id": "c867b8acd8274126b55d75933d9459fc",
       "version_major": 2,
       "version_minor": 0
      },
      "text/plain": [
       "  0%|          | 0/33 [00:00<?, ?it/s]"
      ]
     },
     "metadata": {},
     "output_type": "display_data"
    },
    {
     "name": "stdout",
     "output_type": "stream",
     "text": [
      "[[  0   3   0 ...   0   0   0]\n",
      " [  0 184   0 ...   0   0   0]\n",
      " [  0   1   0 ...   0   0   0]\n",
      " ...\n",
      " [  0   1   0 ...   0   0   0]\n",
      " [  0   0   0 ...   0   0   0]\n",
      " [  0   0   0 ...   0   0   0]]\n",
      "\n",
      "Train set: Average loss: 3.2867, LCNN Loss: 0.3700, Accuracy: 461/2079 (22%)\n",
      "\n"
     ]
    },
    {
     "data": {
      "application/vnd.jupyter.widget-view+json": {
       "model_id": "a2dacb5af5e54a218faa27bcdaa2f326",
       "version_major": 2,
       "version_minor": 0
      },
      "text/plain": [
       "  0%|          | 0/8 [00:00<?, ?it/s]"
      ]
     },
     "metadata": {},
     "output_type": "display_data"
    },
    {
     "name": "stdout",
     "output_type": "stream",
     "text": [
      "[[ 0  0  0 ...  0  0  0]\n",
      " [ 0 51  0 ...  0  0  0]\n",
      " [ 0  0  0 ...  0  0  0]\n",
      " ...\n",
      " [ 0  0  0 ...  0  0  0]\n",
      " [ 0  0  0 ...  0  0  0]\n",
      " [ 0  1  0 ...  0  0  0]]\n",
      "\n",
      "Test set: Average loss: 3.2455, LCNN Loss: 0.0890, Accuracy: 115/507 (23%)\n",
      "\n"
     ]
    },
    {
     "data": {
      "application/vnd.jupyter.widget-view+json": {
       "model_id": "d8628a83fb214671805f330332236df7",
       "version_major": 2,
       "version_minor": 0
      },
      "text/plain": [
       "  0%|          | 0/33 [00:00<?, ?it/s]"
      ]
     },
     "metadata": {},
     "output_type": "display_data"
    },
    {
     "data": {
      "application/vnd.jupyter.widget-view+json": {
       "model_id": "8b9a0e788e3246cca52932229e8f75ca",
       "version_major": 2,
       "version_minor": 0
      },
      "text/plain": [
       "  0%|          | 0/33 [00:00<?, ?it/s]"
      ]
     },
     "metadata": {},
     "output_type": "display_data"
    },
    {
     "name": "stdout",
     "output_type": "stream",
     "text": [
      "[[  0   5   0 ...   0   0   0]\n",
      " [  0 216   0 ...   0   0   0]\n",
      " [  0   2   0 ...   0   0   0]\n",
      " ...\n",
      " [  0   0   0 ...   0   0   0]\n",
      " [  0   0   0 ...   0   0   0]\n",
      " [  0   0   0 ...   0   0   0]]\n",
      "\n",
      "Train set: Average loss: 3.0392, LCNN Loss: 0.3466, Accuracy: 577/2079 (28%)\n",
      "\n"
     ]
    },
    {
     "data": {
      "application/vnd.jupyter.widget-view+json": {
       "model_id": "49ad8b92b729463a9f7155d363f46438",
       "version_major": 2,
       "version_minor": 0
      },
      "text/plain": [
       "  0%|          | 0/8 [00:00<?, ?it/s]"
      ]
     },
     "metadata": {},
     "output_type": "display_data"
    },
    {
     "name": "stdout",
     "output_type": "stream",
     "text": [
      "[[ 0  0  0 ...  0  0  0]\n",
      " [ 0 57  0 ...  0  0  0]\n",
      " [ 0  1  0 ...  0  0  0]\n",
      " ...\n",
      " [ 0  0  0 ...  0  0  0]\n",
      " [ 0  0  0 ...  0  0  0]\n",
      " [ 0  1  0 ...  0  0  0]]\n",
      "\n",
      "Test set: Average loss: 3.0262, LCNN Loss: 0.0835, Accuracy: 143/507 (28%)\n",
      "\n"
     ]
    },
    {
     "data": {
      "application/vnd.jupyter.widget-view+json": {
       "model_id": "a1be74d98b6246559be4f4692dd9172d",
       "version_major": 2,
       "version_minor": 0
      },
      "text/plain": [
       "  0%|          | 0/33 [00:00<?, ?it/s]"
      ]
     },
     "metadata": {},
     "output_type": "display_data"
    },
    {
     "data": {
      "application/vnd.jupyter.widget-view+json": {
       "model_id": "5bccdaa469324973a9dcc1d8930e4b5e",
       "version_major": 2,
       "version_minor": 0
      },
      "text/plain": [
       "  0%|          | 0/33 [00:00<?, ?it/s]"
      ]
     },
     "metadata": {},
     "output_type": "display_data"
    },
    {
     "name": "stdout",
     "output_type": "stream",
     "text": [
      "[[  0   1   0 ...   0   0   0]\n",
      " [  0 197   0 ...   0   0   0]\n",
      " [  0   1   0 ...   0   0   0]\n",
      " ...\n",
      " [  0   1   0 ...   0   0   0]\n",
      " [  0   0   0 ...   0   0   0]\n",
      " [  0   0   0 ...   0   0   0]]\n",
      "\n",
      "Train set: Average loss: 2.8280, LCNN Loss: 0.4077, Accuracy: 641/2079 (31%)\n",
      "\n"
     ]
    },
    {
     "data": {
      "application/vnd.jupyter.widget-view+json": {
       "model_id": "5f4c479207bf40fd951f7b742a6bcdf2",
       "version_major": 2,
       "version_minor": 0
      },
      "text/plain": [
       "  0%|          | 0/8 [00:00<?, ?it/s]"
      ]
     },
     "metadata": {},
     "output_type": "display_data"
    },
    {
     "name": "stdout",
     "output_type": "stream",
     "text": [
      "[[ 0  0  0 ...  0  0  0]\n",
      " [ 0 51  0 ...  0  0  0]\n",
      " [ 0  0  0 ...  0  0  0]\n",
      " ...\n",
      " [ 0  0  0 ...  0  0  0]\n",
      " [ 0  0  0 ...  0  0  0]\n",
      " [ 0  0  0 ...  0  0  0]]\n",
      "\n",
      "Test set: Average loss: 2.9197, LCNN Loss: 0.0969, Accuracy: 155/507 (31%)\n",
      "\n"
     ]
    },
    {
     "data": {
      "application/vnd.jupyter.widget-view+json": {
       "model_id": "7a0fe527380f4b538a18be82d7b5cb29",
       "version_major": 2,
       "version_minor": 0
      },
      "text/plain": [
       "  0%|          | 0/33 [00:00<?, ?it/s]"
      ]
     },
     "metadata": {},
     "output_type": "display_data"
    },
    {
     "data": {
      "application/vnd.jupyter.widget-view+json": {
       "model_id": "1622860811814ff9b614e887191983a8",
       "version_major": 2,
       "version_minor": 0
      },
      "text/plain": [
       "  0%|          | 0/33 [00:00<?, ?it/s]"
      ]
     },
     "metadata": {},
     "output_type": "display_data"
    },
    {
     "name": "stdout",
     "output_type": "stream",
     "text": [
      "[[  0   1   0 ...   0   0   0]\n",
      " [  0 198   0 ...   0   0   0]\n",
      " [  0   0   0 ...   0   0   0]\n",
      " ...\n",
      " [  0   1   0 ...   0   0   0]\n",
      " [  0   0   0 ...   0   0   0]\n",
      " [  0   1   0 ...   0   0   0]]\n",
      "\n",
      "Train set: Average loss: 3.2036, LCNN Loss: 0.4528, Accuracy: 531/2079 (26%)\n",
      "\n"
     ]
    },
    {
     "data": {
      "application/vnd.jupyter.widget-view+json": {
       "model_id": "adc96f4c320b44fabc41249475582fb1",
       "version_major": 2,
       "version_minor": 0
      },
      "text/plain": [
       "  0%|          | 0/8 [00:00<?, ?it/s]"
      ]
     },
     "metadata": {},
     "output_type": "display_data"
    },
    {
     "name": "stdout",
     "output_type": "stream",
     "text": [
      "[[ 0  0  0 ...  0  0  0]\n",
      " [ 0 53  0 ...  0  0  0]\n",
      " [ 0  0  0 ...  0  0  0]\n",
      " ...\n",
      " [ 0  0  0 ...  0  0  0]\n",
      " [ 0  0  0 ...  0  0  0]\n",
      " [ 0  0  0 ...  0  0  0]]\n",
      "\n",
      "Test set: Average loss: 3.3355, LCNN Loss: 0.1086, Accuracy: 128/507 (25%)\n",
      "\n"
     ]
    },
    {
     "data": {
      "application/vnd.jupyter.widget-view+json": {
       "model_id": "a94c088f475d42b593226a5f1e6a6b91",
       "version_major": 2,
       "version_minor": 0
      },
      "text/plain": [
       "  0%|          | 0/33 [00:00<?, ?it/s]"
      ]
     },
     "metadata": {},
     "output_type": "display_data"
    },
    {
     "data": {
      "application/vnd.jupyter.widget-view+json": {
       "model_id": "4fb521de1b0f4c38a8076e60dd24807f",
       "version_major": 2,
       "version_minor": 0
      },
      "text/plain": [
       "  0%|          | 0/33 [00:00<?, ?it/s]"
      ]
     },
     "metadata": {},
     "output_type": "display_data"
    },
    {
     "name": "stdout",
     "output_type": "stream",
     "text": [
      "[[  0   1   0 ...   0   0   0]\n",
      " [  0 193   0 ...   0   0   0]\n",
      " [  0   0   0 ...   0   0   0]\n",
      " ...\n",
      " [  0   0   0 ...   0   0   0]\n",
      " [  0   0   0 ...   0   0   0]\n",
      " [  0   0   0 ...   0   0   0]]\n",
      "\n",
      "Train set: Average loss: 3.0460, LCNN Loss: 0.4882, Accuracy: 635/2079 (31%)\n",
      "\n"
     ]
    },
    {
     "data": {
      "application/vnd.jupyter.widget-view+json": {
       "model_id": "c9e21fb8915e4eb99689a0ad8df92bb5",
       "version_major": 2,
       "version_minor": 0
      },
      "text/plain": [
       "  0%|          | 0/8 [00:00<?, ?it/s]"
      ]
     },
     "metadata": {},
     "output_type": "display_data"
    },
    {
     "name": "stdout",
     "output_type": "stream",
     "text": [
      "[[ 0  0  0 ...  0  0  0]\n",
      " [ 0 48  0 ...  0  0  0]\n",
      " [ 0  0  0 ...  0  0  0]\n",
      " ...\n",
      " [ 0  0  0 ...  0  0  0]\n",
      " [ 0  0  0 ...  0  0  0]\n",
      " [ 0  0  0 ...  0  0  0]]\n",
      "\n",
      "Test set: Average loss: 3.2793, LCNN Loss: 0.1160, Accuracy: 136/507 (27%)\n",
      "\n"
     ]
    },
    {
     "data": {
      "application/vnd.jupyter.widget-view+json": {
       "model_id": "9280cf5c62224c1fb9e611f513a712a1",
       "version_major": 2,
       "version_minor": 0
      },
      "text/plain": [
       "  0%|          | 0/33 [00:00<?, ?it/s]"
      ]
     },
     "metadata": {},
     "output_type": "display_data"
    },
    {
     "data": {
      "application/vnd.jupyter.widget-view+json": {
       "model_id": "718a96c2323a4e9ebba17307973567ae",
       "version_major": 2,
       "version_minor": 0
      },
      "text/plain": [
       "  0%|          | 0/33 [00:00<?, ?it/s]"
      ]
     },
     "metadata": {},
     "output_type": "display_data"
    },
    {
     "name": "stdout",
     "output_type": "stream",
     "text": [
      "[[  0   0   0 ...   0   0   0]\n",
      " [  0 227   0 ...   0   0   0]\n",
      " [  0   1   0 ...   0   0   0]\n",
      " ...\n",
      " [  0   1   0 ...   0   0   0]\n",
      " [  0   0   0 ...   0   0   0]\n",
      " [  0   1   0 ...   0   0   0]]\n",
      "\n",
      "Train set: Average loss: 2.4953, LCNN Loss: 0.4303, Accuracy: 745/2079 (36%)\n",
      "\n"
     ]
    },
    {
     "data": {
      "application/vnd.jupyter.widget-view+json": {
       "model_id": "1628658bae6c4b70bfd31e6c81ca816c",
       "version_major": 2,
       "version_minor": 0
      },
      "text/plain": [
       "  0%|          | 0/8 [00:00<?, ?it/s]"
      ]
     },
     "metadata": {},
     "output_type": "display_data"
    },
    {
     "name": "stdout",
     "output_type": "stream",
     "text": [
      "[[ 0  0  0 ...  0  0  0]\n",
      " [ 0 56  0 ...  0  0  0]\n",
      " [ 0  1  0 ...  0  0  0]\n",
      " ...\n",
      " [ 0  0  0 ...  0  0  0]\n",
      " [ 0  0  0 ...  0  0  0]\n",
      " [ 0  0  0 ...  0  0  0]]\n",
      "\n",
      "Test set: Average loss: 2.7996, LCNN Loss: 0.1013, Accuracy: 165/507 (33%)\n",
      "\n"
     ]
    },
    {
     "data": {
      "application/vnd.jupyter.widget-view+json": {
       "model_id": "f790fed98b534cf28423d24b457d4809",
       "version_major": 2,
       "version_minor": 0
      },
      "text/plain": [
       "  0%|          | 0/33 [00:00<?, ?it/s]"
      ]
     },
     "metadata": {},
     "output_type": "display_data"
    },
    {
     "data": {
      "application/vnd.jupyter.widget-view+json": {
       "model_id": "17ceb996dd2c42ff95a6a1fd48a6e8a0",
       "version_major": 2,
       "version_minor": 0
      },
      "text/plain": [
       "  0%|          | 0/33 [00:00<?, ?it/s]"
      ]
     },
     "metadata": {},
     "output_type": "display_data"
    },
    {
     "name": "stdout",
     "output_type": "stream",
     "text": [
      "[[  0   0   0 ...   0   0   0]\n",
      " [  0 224   0 ...   0   0   0]\n",
      " [  0   0   0 ...   0   0   0]\n",
      " ...\n",
      " [  0   1   0 ...   0   0   0]\n",
      " [  0   0   0 ...   0   0   0]\n",
      " [  0   1   0 ...   0   0   0]]\n",
      "\n",
      "Train set: Average loss: 2.3679, LCNN Loss: 0.3931, Accuracy: 838/2079 (40%)\n",
      "\n"
     ]
    },
    {
     "data": {
      "application/vnd.jupyter.widget-view+json": {
       "model_id": "79c3d1ea83e2493a868001b215d0ea1b",
       "version_major": 2,
       "version_minor": 0
      },
      "text/plain": [
       "  0%|          | 0/8 [00:00<?, ?it/s]"
      ]
     },
     "metadata": {},
     "output_type": "display_data"
    },
    {
     "name": "stdout",
     "output_type": "stream",
     "text": [
      "[[ 0  0  0 ...  0  0  0]\n",
      " [ 0 55  0 ...  0  0  0]\n",
      " [ 0  0  0 ...  0  0  0]\n",
      " ...\n",
      " [ 0  0  0 ...  0  0  0]\n",
      " [ 0  0  0 ...  0  0  0]\n",
      " [ 0  0  0 ...  0  0  0]]\n",
      "\n",
      "Test set: Average loss: 2.6997, LCNN Loss: 0.0935, Accuracy: 177/507 (35%)\n",
      "\n"
     ]
    },
    {
     "data": {
      "application/vnd.jupyter.widget-view+json": {
       "model_id": "4774dd3992614420aa901bb073954bac",
       "version_major": 2,
       "version_minor": 0
      },
      "text/plain": [
       "  0%|          | 0/33 [00:00<?, ?it/s]"
      ]
     },
     "metadata": {},
     "output_type": "display_data"
    },
    {
     "data": {
      "application/vnd.jupyter.widget-view+json": {
       "model_id": "ba329f2c23ae4bf8910bd72373669518",
       "version_major": 2,
       "version_minor": 0
      },
      "text/plain": [
       "  0%|          | 0/33 [00:00<?, ?it/s]"
      ]
     },
     "metadata": {},
     "output_type": "display_data"
    },
    {
     "name": "stdout",
     "output_type": "stream",
     "text": [
      "[[  0   0   0 ...   0   0   0]\n",
      " [  0 198   0 ...   0   0   0]\n",
      " [  0   0   0 ...   0   0   0]\n",
      " ...\n",
      " [  0   0   0 ...   0   0   0]\n",
      " [  0   0   0 ...   0   0   0]\n",
      " [  0   0   0 ...   0   0   0]]\n",
      "\n",
      "Train set: Average loss: 2.6864, LCNN Loss: 0.4995, Accuracy: 709/2079 (34%)\n",
      "\n"
     ]
    },
    {
     "data": {
      "application/vnd.jupyter.widget-view+json": {
       "model_id": "30fd16791966473994ea974b31916db7",
       "version_major": 2,
       "version_minor": 0
      },
      "text/plain": [
       "  0%|          | 0/8 [00:00<?, ?it/s]"
      ]
     },
     "metadata": {},
     "output_type": "display_data"
    },
    {
     "name": "stdout",
     "output_type": "stream",
     "text": [
      "[[ 0  0  0 ...  0  0  0]\n",
      " [ 0 51  0 ...  0  0  0]\n",
      " [ 0  0  0 ...  0  0  0]\n",
      " ...\n",
      " [ 0  0  0 ...  0  0  0]\n",
      " [ 0  0  0 ...  0  0  0]\n",
      " [ 0  0  0 ...  0  0  0]]\n",
      "\n",
      "Test set: Average loss: 3.0436, LCNN Loss: 0.1193, Accuracy: 143/507 (28%)\n",
      "\n"
     ]
    },
    {
     "data": {
      "application/vnd.jupyter.widget-view+json": {
       "model_id": "9fdb72f33fbd42189ed44957df551dfb",
       "version_major": 2,
       "version_minor": 0
      },
      "text/plain": [
       "  0%|          | 0/33 [00:00<?, ?it/s]"
      ]
     },
     "metadata": {},
     "output_type": "display_data"
    },
    {
     "data": {
      "application/vnd.jupyter.widget-view+json": {
       "model_id": "7adfc1dbedc848e4b7ba48168223f3b1",
       "version_major": 2,
       "version_minor": 0
      },
      "text/plain": [
       "  0%|          | 0/33 [00:00<?, ?it/s]"
      ]
     },
     "metadata": {},
     "output_type": "display_data"
    },
    {
     "name": "stdout",
     "output_type": "stream",
     "text": [
      "[[  0   4   0 ...   0   0   0]\n",
      " [  0 233   0 ...   0   0   0]\n",
      " [  0   2   0 ...   0   0   0]\n",
      " ...\n",
      " [  0   0   0 ...   0   0   0]\n",
      " [  0   0   0 ...   0   0   0]\n",
      " [  0   1   0 ...   0   0   0]]\n",
      "\n",
      "Train set: Average loss: 2.4980, LCNN Loss: 0.4890, Accuracy: 768/2079 (37%)\n",
      "\n"
     ]
    },
    {
     "data": {
      "application/vnd.jupyter.widget-view+json": {
       "model_id": "a886932e2d674c6b935ba054dfed9c60",
       "version_major": 2,
       "version_minor": 0
      },
      "text/plain": [
       "  0%|          | 0/8 [00:00<?, ?it/s]"
      ]
     },
     "metadata": {},
     "output_type": "display_data"
    },
    {
     "name": "stdout",
     "output_type": "stream",
     "text": [
      "[[ 0  1  0 ...  0  0  0]\n",
      " [ 0 58  0 ...  0  0  0]\n",
      " [ 0  0  0 ...  0  0  0]\n",
      " ...\n",
      " [ 0  0  0 ...  0  0  0]\n",
      " [ 0  0  0 ...  0  0  0]\n",
      " [ 0  1  0 ...  0  0  0]]\n",
      "\n",
      "Test set: Average loss: 2.9994, LCNN Loss: 0.1167, Accuracy: 151/507 (30%)\n",
      "\n"
     ]
    },
    {
     "data": {
      "application/vnd.jupyter.widget-view+json": {
       "model_id": "be4fef31c8264744a33061843dd0ea15",
       "version_major": 2,
       "version_minor": 0
      },
      "text/plain": [
       "  0%|          | 0/33 [00:00<?, ?it/s]"
      ]
     },
     "metadata": {},
     "output_type": "display_data"
    },
    {
     "data": {
      "application/vnd.jupyter.widget-view+json": {
       "model_id": "430e88cb915143c2b724d0dc27c4e836",
       "version_major": 2,
       "version_minor": 0
      },
      "text/plain": [
       "  0%|          | 0/33 [00:00<?, ?it/s]"
      ]
     },
     "metadata": {},
     "output_type": "display_data"
    },
    {
     "name": "stdout",
     "output_type": "stream",
     "text": [
      "[[  0   0   0 ...   0   0   0]\n",
      " [  0 203   0 ...   0   0   0]\n",
      " [  0   0   0 ...   0   0   0]\n",
      " ...\n",
      " [  0   1   0 ...   0   0   0]\n",
      " [  0   0   0 ...   0   0   0]\n",
      " [  0   0   0 ...   0   0   0]]\n",
      "\n",
      "Train set: Average loss: 2.2756, LCNN Loss: 0.4825, Accuracy: 867/2079 (42%)\n",
      "\n"
     ]
    },
    {
     "data": {
      "application/vnd.jupyter.widget-view+json": {
       "model_id": "dd2ed72c368046daad518d5bafa0f656",
       "version_major": 2,
       "version_minor": 0
      },
      "text/plain": [
       "  0%|          | 0/8 [00:00<?, ?it/s]"
      ]
     },
     "metadata": {},
     "output_type": "display_data"
    },
    {
     "name": "stdout",
     "output_type": "stream",
     "text": [
      "[[ 0  0  0 ...  0  0  0]\n",
      " [ 0 50  0 ...  0  0  0]\n",
      " [ 0  0  0 ...  0  0  0]\n",
      " ...\n",
      " [ 0  0  0 ...  0  0  0]\n",
      " [ 0  0  0 ...  0  0  0]\n",
      " [ 0  0  0 ...  0  0  0]]\n",
      "\n",
      "Test set: Average loss: 2.7783, LCNN Loss: 0.1144, Accuracy: 169/507 (33%)\n",
      "\n"
     ]
    },
    {
     "data": {
      "application/vnd.jupyter.widget-view+json": {
       "model_id": "b2a3664b611548f29193ebdd53ccfac9",
       "version_major": 2,
       "version_minor": 0
      },
      "text/plain": [
       "  0%|          | 0/33 [00:00<?, ?it/s]"
      ]
     },
     "metadata": {},
     "output_type": "display_data"
    },
    {
     "data": {
      "application/vnd.jupyter.widget-view+json": {
       "model_id": "889d19c78d49491ea328384ceeb7315d",
       "version_major": 2,
       "version_minor": 0
      },
      "text/plain": [
       "  0%|          | 0/33 [00:00<?, ?it/s]"
      ]
     },
     "metadata": {},
     "output_type": "display_data"
    },
    {
     "name": "stdout",
     "output_type": "stream",
     "text": [
      "[[  1   0   0 ...   0   0   0]\n",
      " [  0 223   0 ...   0   0   0]\n",
      " [  0   1   0 ...   0   0   0]\n",
      " ...\n",
      " [  0   1   0 ...   0   0   0]\n",
      " [  0   0   0 ...   0   0   0]\n",
      " [  0   0   0 ...   0   0   0]]\n",
      "\n",
      "Train set: Average loss: 2.1439, LCNN Loss: 0.5801, Accuracy: 888/2079 (43%)\n",
      "\n"
     ]
    },
    {
     "data": {
      "application/vnd.jupyter.widget-view+json": {
       "model_id": "3b5e03dbc8284cff9c98281d2ab9bbd9",
       "version_major": 2,
       "version_minor": 0
      },
      "text/plain": [
       "  0%|          | 0/8 [00:00<?, ?it/s]"
      ]
     },
     "metadata": {},
     "output_type": "display_data"
    },
    {
     "name": "stdout",
     "output_type": "stream",
     "text": [
      "[[ 0  0  0 ...  0  0  0]\n",
      " [ 0 57  0 ...  0  0  0]\n",
      " [ 0  0  0 ...  0  0  0]\n",
      " ...\n",
      " [ 0  0  0 ...  0  0  0]\n",
      " [ 0  0  0 ...  0  0  0]\n",
      " [ 0  0  0 ...  0  0  0]]\n",
      "\n",
      "Test set: Average loss: 2.8749, LCNN Loss: 0.1367, Accuracy: 165/507 (33%)\n",
      "\n"
     ]
    },
    {
     "data": {
      "application/vnd.jupyter.widget-view+json": {
       "model_id": "2ec6fb05d6e74281bef94e9a7e8a8ea5",
       "version_major": 2,
       "version_minor": 0
      },
      "text/plain": [
       "  0%|          | 0/33 [00:00<?, ?it/s]"
      ]
     },
     "metadata": {},
     "output_type": "display_data"
    },
    {
     "data": {
      "application/vnd.jupyter.widget-view+json": {
       "model_id": "3729ee64f11a47469609e01b9aea4fac",
       "version_major": 2,
       "version_minor": 0
      },
      "text/plain": [
       "  0%|          | 0/33 [00:00<?, ?it/s]"
      ]
     },
     "metadata": {},
     "output_type": "display_data"
    },
    {
     "name": "stdout",
     "output_type": "stream",
     "text": [
      "[[  5   1   0 ...   0   0   0]\n",
      " [  0 229   0 ...   0   0   0]\n",
      " [  1   2   0 ...   0   0   0]\n",
      " ...\n",
      " [  0   0   0 ...   0   0   0]\n",
      " [  0   2   0 ...   0   0   0]\n",
      " [  0   1   0 ...   0   0   0]]\n",
      "\n",
      "Train set: Average loss: 2.1810, LCNN Loss: 0.6009, Accuracy: 895/2079 (43%)\n",
      "\n"
     ]
    },
    {
     "data": {
      "application/vnd.jupyter.widget-view+json": {
       "model_id": "61ebe0e5172b401bbf33bb13f14595b0",
       "version_major": 2,
       "version_minor": 0
      },
      "text/plain": [
       "  0%|          | 0/8 [00:00<?, ?it/s]"
      ]
     },
     "metadata": {},
     "output_type": "display_data"
    },
    {
     "name": "stdout",
     "output_type": "stream",
     "text": [
      "[[ 1  0  0 ...  0  0  0]\n",
      " [ 0 55  0 ...  0  0  0]\n",
      " [ 0  1  0 ...  0  0  0]\n",
      " ...\n",
      " [ 0  0  0 ...  0  0  0]\n",
      " [ 0  0  0 ...  0  0  0]\n",
      " [ 0  1  0 ...  0  0  0]]\n",
      "\n",
      "Test set: Average loss: 2.9678, LCNN Loss: 0.1428, Accuracy: 156/507 (31%)\n",
      "\n"
     ]
    },
    {
     "data": {
      "application/vnd.jupyter.widget-view+json": {
       "model_id": "891e352afa354b15b16e013b9335ffb7",
       "version_major": 2,
       "version_minor": 0
      },
      "text/plain": [
       "  0%|          | 0/33 [00:00<?, ?it/s]"
      ]
     },
     "metadata": {},
     "output_type": "display_data"
    },
    {
     "data": {
      "application/vnd.jupyter.widget-view+json": {
       "model_id": "95119a8e641c4bb7a2285f1795532b23",
       "version_major": 2,
       "version_minor": 0
      },
      "text/plain": [
       "  0%|          | 0/33 [00:00<?, ?it/s]"
      ]
     },
     "metadata": {},
     "output_type": "display_data"
    },
    {
     "name": "stdout",
     "output_type": "stream",
     "text": [
      "[[  4   0   0 ...   0   0   0]\n",
      " [  0 175   0 ...   0   0   0]\n",
      " [  1   1   0 ...   0   0   0]\n",
      " ...\n",
      " [  0   0   0 ...   1   0   0]\n",
      " [  0   0   0 ...   0   0   0]\n",
      " [  0   0   0 ...   0   0   0]]\n",
      "\n",
      "Train set: Average loss: 2.1167, LCNN Loss: 0.6429, Accuracy: 926/2079 (45%)\n",
      "\n"
     ]
    },
    {
     "data": {
      "application/vnd.jupyter.widget-view+json": {
       "model_id": "6fab011b1dcc4691adf5970f44224bb1",
       "version_major": 2,
       "version_minor": 0
      },
      "text/plain": [
       "  0%|          | 0/8 [00:00<?, ?it/s]"
      ]
     },
     "metadata": {},
     "output_type": "display_data"
    },
    {
     "name": "stdout",
     "output_type": "stream",
     "text": [
      "[[ 0  0  0 ...  0  0  0]\n",
      " [ 0 39  0 ...  0  0  0]\n",
      " [ 0  0  0 ...  0  0  0]\n",
      " ...\n",
      " [ 0  0  0 ...  0  0  0]\n",
      " [ 0  0  0 ...  0  0  0]\n",
      " [ 0  0  0 ...  0  0  0]]\n",
      "\n",
      "Test set: Average loss: 2.8799, LCNN Loss: 0.1542, Accuracy: 161/507 (32%)\n",
      "\n"
     ]
    },
    {
     "data": {
      "application/vnd.jupyter.widget-view+json": {
       "model_id": "4a4dc62beb084a3990a1c19e40c04107",
       "version_major": 2,
       "version_minor": 0
      },
      "text/plain": [
       "  0%|          | 0/33 [00:00<?, ?it/s]"
      ]
     },
     "metadata": {},
     "output_type": "display_data"
    },
    {
     "data": {
      "application/vnd.jupyter.widget-view+json": {
       "model_id": "0d9428528d174a2bb71cef0ab557c434",
       "version_major": 2,
       "version_minor": 0
      },
      "text/plain": [
       "  0%|          | 0/33 [00:00<?, ?it/s]"
      ]
     },
     "metadata": {},
     "output_type": "display_data"
    },
    {
     "name": "stdout",
     "output_type": "stream",
     "text": [
      "[[  0   0   0 ...   0   0   0]\n",
      " [  0 173   0 ...   0   0   0]\n",
      " [  0   0   0 ...   0   0   0]\n",
      " ...\n",
      " [  0   0   0 ...   0   0   0]\n",
      " [  0   0   0 ...   0   0   0]\n",
      " [  0   0   0 ...   0   0   0]]\n",
      "\n",
      "Train set: Average loss: 2.1617, LCNN Loss: 0.6558, Accuracy: 896/2079 (43%)\n",
      "\n"
     ]
    },
    {
     "data": {
      "application/vnd.jupyter.widget-view+json": {
       "model_id": "471b8cadfbcd4ecd8282914598319e3a",
       "version_major": 2,
       "version_minor": 0
      },
      "text/plain": [
       "  0%|          | 0/8 [00:00<?, ?it/s]"
      ]
     },
     "metadata": {},
     "output_type": "display_data"
    },
    {
     "name": "stdout",
     "output_type": "stream",
     "text": [
      "[[ 0  0  0 ...  0  0  0]\n",
      " [ 0 44  0 ...  0  0  0]\n",
      " [ 0  0  0 ...  0  0  0]\n",
      " ...\n",
      " [ 0  0  0 ...  0  0  0]\n",
      " [ 0  0  0 ...  0  0  0]\n",
      " [ 0  0  0 ...  0  0  0]]\n",
      "\n",
      "Test set: Average loss: 3.0122, LCNN Loss: 0.1554, Accuracy: 156/507 (31%)\n",
      "\n"
     ]
    },
    {
     "data": {
      "application/vnd.jupyter.widget-view+json": {
       "model_id": "29f60f665dea4f948d305289036ec2f0",
       "version_major": 2,
       "version_minor": 0
      },
      "text/plain": [
       "  0%|          | 0/33 [00:00<?, ?it/s]"
      ]
     },
     "metadata": {},
     "output_type": "display_data"
    },
    {
     "data": {
      "application/vnd.jupyter.widget-view+json": {
       "model_id": "fed99dbdb50843c4bb5e46f3a7fddd7c",
       "version_major": 2,
       "version_minor": 0
      },
      "text/plain": [
       "  0%|          | 0/33 [00:00<?, ?it/s]"
      ]
     },
     "metadata": {},
     "output_type": "display_data"
    },
    {
     "name": "stdout",
     "output_type": "stream",
     "text": [
      "[[  4   0   0 ...   0   0   0]\n",
      " [  0 197   0 ...   0   0   0]\n",
      " [  0   1   0 ...   0   0   0]\n",
      " ...\n",
      " [  1   0   0 ...   0   0   0]\n",
      " [  0   0   0 ...   0   0   0]\n",
      " [  0   0   0 ...   0   0   0]]\n",
      "\n",
      "Train set: Average loss: 2.1942, LCNN Loss: 0.7245, Accuracy: 917/2079 (44%)\n",
      "\n"
     ]
    },
    {
     "data": {
      "application/vnd.jupyter.widget-view+json": {
       "model_id": "c19f9521037a4af0b741d7211340c461",
       "version_major": 2,
       "version_minor": 0
      },
      "text/plain": [
       "  0%|          | 0/8 [00:00<?, ?it/s]"
      ]
     },
     "metadata": {},
     "output_type": "display_data"
    },
    {
     "name": "stdout",
     "output_type": "stream",
     "text": [
      "[[ 1  0  0 ...  0  0  0]\n",
      " [ 0 45  0 ...  0  0  0]\n",
      " [ 0  0  0 ...  0  0  0]\n",
      " ...\n",
      " [ 0  0  0 ...  0  0  0]\n",
      " [ 0  0  0 ...  0  0  0]\n",
      " [ 0  0  0 ...  0  0  0]]\n",
      "\n",
      "Test set: Average loss: 3.2577, LCNN Loss: 0.1722, Accuracy: 156/507 (31%)\n",
      "\n"
     ]
    },
    {
     "data": {
      "application/vnd.jupyter.widget-view+json": {
       "model_id": "a428ed15167240d6935b0c3c1b2ea80a",
       "version_major": 2,
       "version_minor": 0
      },
      "text/plain": [
       "  0%|          | 0/33 [00:00<?, ?it/s]"
      ]
     },
     "metadata": {},
     "output_type": "display_data"
    },
    {
     "data": {
      "application/vnd.jupyter.widget-view+json": {
       "model_id": "3c75708552594030ab9eca2c24e84f94",
       "version_major": 2,
       "version_minor": 0
      },
      "text/plain": [
       "  0%|          | 0/33 [00:00<?, ?it/s]"
      ]
     },
     "metadata": {},
     "output_type": "display_data"
    },
    {
     "name": "stdout",
     "output_type": "stream",
     "text": [
      "[[  4   0   0 ...   0   0   0]\n",
      " [  0 229   0 ...   0   0   0]\n",
      " [  0   0   0 ...   0   0   0]\n",
      " ...\n",
      " [  0   0   0 ...   0   0   0]\n",
      " [  0   0   0 ...   0   0   0]\n",
      " [  0   0   0 ...   0   0   0]]\n",
      "\n",
      "Train set: Average loss: 1.7223, LCNN Loss: 0.6601, Accuracy: 1139/2079 (55%)\n",
      "\n"
     ]
    },
    {
     "data": {
      "application/vnd.jupyter.widget-view+json": {
       "model_id": "e4a2f0e5a6d0404d90efdfb3b055f4b4",
       "version_major": 2,
       "version_minor": 0
      },
      "text/plain": [
       "  0%|          | 0/8 [00:00<?, ?it/s]"
      ]
     },
     "metadata": {},
     "output_type": "display_data"
    },
    {
     "name": "stdout",
     "output_type": "stream",
     "text": [
      "[[ 1  0  0 ...  0  0  0]\n",
      " [ 0 53  0 ...  0  0  0]\n",
      " [ 0  0  0 ...  0  0  0]\n",
      " ...\n",
      " [ 0  0  0 ...  0  0  0]\n",
      " [ 0  0  0 ...  0  0  0]\n",
      " [ 0  0  0 ...  0  0  0]]\n",
      "\n",
      "Test set: Average loss: 2.8273, LCNN Loss: 0.1563, Accuracy: 177/507 (35%)\n",
      "\n"
     ]
    },
    {
     "data": {
      "application/vnd.jupyter.widget-view+json": {
       "model_id": "14668901f22740bfbc12c101cbd80900",
       "version_major": 2,
       "version_minor": 0
      },
      "text/plain": [
       "  0%|          | 0/33 [00:00<?, ?it/s]"
      ]
     },
     "metadata": {},
     "output_type": "display_data"
    },
    {
     "data": {
      "application/vnd.jupyter.widget-view+json": {
       "model_id": "03e363d0c2514b119f4f9013d6806ce8",
       "version_major": 2,
       "version_minor": 0
      },
      "text/plain": [
       "  0%|          | 0/33 [00:00<?, ?it/s]"
      ]
     },
     "metadata": {},
     "output_type": "display_data"
    },
    {
     "name": "stdout",
     "output_type": "stream",
     "text": [
      "[[  0   0   0 ...   0   0   0]\n",
      " [  0 214   0 ...   0   0   0]\n",
      " [  0   0   0 ...   0   0   0]\n",
      " ...\n",
      " [  0   0   0 ...   1   0   0]\n",
      " [  0   0   0 ...   0   0   0]\n",
      " [  0   0   0 ...   0   0   0]]\n",
      "\n",
      "Train set: Average loss: 1.9837, LCNN Loss: 0.7467, Accuracy: 991/2079 (48%)\n",
      "\n"
     ]
    },
    {
     "data": {
      "application/vnd.jupyter.widget-view+json": {
       "model_id": "6f18f82bb7f34fb397d19cb42c2484bb",
       "version_major": 2,
       "version_minor": 0
      },
      "text/plain": [
       "  0%|          | 0/8 [00:00<?, ?it/s]"
      ]
     },
     "metadata": {},
     "output_type": "display_data"
    },
    {
     "name": "stdout",
     "output_type": "stream",
     "text": [
      "[[ 0  0  0 ...  0  0  0]\n",
      " [ 0 55  0 ...  0  0  0]\n",
      " [ 0  0  0 ...  0  0  0]\n",
      " ...\n",
      " [ 0  0  0 ...  0  0  0]\n",
      " [ 0  0  0 ...  0  0  0]\n",
      " [ 0  0  0 ...  0  0  0]]\n",
      "\n",
      "Test set: Average loss: 3.1036, LCNN Loss: 0.1737, Accuracy: 166/507 (33%)\n",
      "\n"
     ]
    },
    {
     "data": {
      "application/vnd.jupyter.widget-view+json": {
       "model_id": "86ff195fd1d94a7b90ef173515d52467",
       "version_major": 2,
       "version_minor": 0
      },
      "text/plain": [
       "  0%|          | 0/33 [00:00<?, ?it/s]"
      ]
     },
     "metadata": {},
     "output_type": "display_data"
    },
    {
     "data": {
      "application/vnd.jupyter.widget-view+json": {
       "model_id": "588ad99061fc43deb78fbe3ada402d0d",
       "version_major": 2,
       "version_minor": 0
      },
      "text/plain": [
       "  0%|          | 0/33 [00:00<?, ?it/s]"
      ]
     },
     "metadata": {},
     "output_type": "display_data"
    },
    {
     "name": "stdout",
     "output_type": "stream",
     "text": [
      "[[  9   0   0 ...   0   0   0]\n",
      " [  0 238   0 ...   0   0   0]\n",
      " [  1   2   0 ...   0   0   0]\n",
      " ...\n",
      " [  0   0   0 ...   1   0   0]\n",
      " [  0   0   0 ...   0   0   0]\n",
      " [  0   2   0 ...   0   0   0]]\n",
      "\n",
      "Train set: Average loss: 2.0627, LCNN Loss: 0.6892, Accuracy: 967/2079 (47%)\n",
      "\n"
     ]
    },
    {
     "data": {
      "application/vnd.jupyter.widget-view+json": {
       "model_id": "698b1b2723ae49adbe2f7933688e14f1",
       "version_major": 2,
       "version_minor": 0
      },
      "text/plain": [
       "  0%|          | 0/8 [00:00<?, ?it/s]"
      ]
     },
     "metadata": {},
     "output_type": "display_data"
    },
    {
     "name": "stdout",
     "output_type": "stream",
     "text": [
      "[[ 0  0  0 ...  0  0  0]\n",
      " [ 0 57  0 ...  0  0  0]\n",
      " [ 0  1  0 ...  0  0  0]\n",
      " ...\n",
      " [ 0  0  0 ...  0  0  0]\n",
      " [ 0  0  0 ...  0  0  0]\n",
      " [ 0  1  0 ...  0  0  0]]\n",
      "\n",
      "Test set: Average loss: 3.2540, LCNN Loss: 0.1618, Accuracy: 171/507 (34%)\n",
      "\n"
     ]
    },
    {
     "data": {
      "application/vnd.jupyter.widget-view+json": {
       "model_id": "b72e0b74adee48d18f6584c03c7d02a3",
       "version_major": 2,
       "version_minor": 0
      },
      "text/plain": [
       "  0%|          | 0/33 [00:00<?, ?it/s]"
      ]
     },
     "metadata": {},
     "output_type": "display_data"
    },
    {
     "data": {
      "application/vnd.jupyter.widget-view+json": {
       "model_id": "7b6428b4940842cda863e767a408e5a3",
       "version_major": 2,
       "version_minor": 0
      },
      "text/plain": [
       "  0%|          | 0/33 [00:00<?, ?it/s]"
      ]
     },
     "metadata": {},
     "output_type": "display_data"
    },
    {
     "name": "stdout",
     "output_type": "stream",
     "text": [
      "[[ 11   0   0 ...   0   0   0]\n",
      " [  0 206   0 ...   0   0   0]\n",
      " [  1   0   0 ...   0   0   0]\n",
      " ...\n",
      " [  0   0   0 ...   1   0   0]\n",
      " [  0   0   0 ...   0   0   0]\n",
      " [  0   0   0 ...   0   0   0]]\n",
      "\n",
      "Train set: Average loss: 1.3915, LCNN Loss: 0.7619, Accuracy: 1302/2079 (63%)\n",
      "\n"
     ]
    },
    {
     "data": {
      "application/vnd.jupyter.widget-view+json": {
       "model_id": "7e7ca84d23dc4d429ad8da3c557f6b2d",
       "version_major": 2,
       "version_minor": 0
      },
      "text/plain": [
       "  0%|          | 0/8 [00:00<?, ?it/s]"
      ]
     },
     "metadata": {},
     "output_type": "display_data"
    },
    {
     "name": "stdout",
     "output_type": "stream",
     "text": [
      "[[ 1  0  0 ...  0  0  0]\n",
      " [ 0 46  0 ...  0  0  0]\n",
      " [ 0  0  0 ...  0  0  0]\n",
      " ...\n",
      " [ 0  0  0 ...  0  0  0]\n",
      " [ 0  0  0 ...  0  0  0]\n",
      " [ 0  0  0 ...  0  0  0]]\n",
      "\n",
      "Test set: Average loss: 2.9886, LCNN Loss: 0.1827, Accuracy: 169/507 (33%)\n",
      "\n"
     ]
    },
    {
     "data": {
      "application/vnd.jupyter.widget-view+json": {
       "model_id": "2091317c8270414e9a3eb2b319471049",
       "version_major": 2,
       "version_minor": 0
      },
      "text/plain": [
       "  0%|          | 0/33 [00:00<?, ?it/s]"
      ]
     },
     "metadata": {},
     "output_type": "display_data"
    },
    {
     "data": {
      "application/vnd.jupyter.widget-view+json": {
       "model_id": "40453eb2ba384f89b937dbb4be097193",
       "version_major": 2,
       "version_minor": 0
      },
      "text/plain": [
       "  0%|          | 0/33 [00:00<?, ?it/s]"
      ]
     },
     "metadata": {},
     "output_type": "display_data"
    },
    {
     "name": "stdout",
     "output_type": "stream",
     "text": [
      "[[  1   0   0 ...   0   0   0]\n",
      " [  0 221   0 ...   0   0   0]\n",
      " [  0   0   0 ...   0   0   0]\n",
      " ...\n",
      " [  0   0   0 ...   1   0   0]\n",
      " [  0   0   0 ...   0   0   0]\n",
      " [  0   0   0 ...   0   0   0]]\n",
      "\n",
      "Train set: Average loss: 1.5292, LCNN Loss: 0.8268, Accuracy: 1219/2079 (59%)\n",
      "\n"
     ]
    },
    {
     "data": {
      "application/vnd.jupyter.widget-view+json": {
       "model_id": "f0b981c17b80460698606034d1767cf3",
       "version_major": 2,
       "version_minor": 0
      },
      "text/plain": [
       "  0%|          | 0/8 [00:00<?, ?it/s]"
      ]
     },
     "metadata": {},
     "output_type": "display_data"
    },
    {
     "name": "stdout",
     "output_type": "stream",
     "text": [
      "[[ 0  0  0 ...  0  0  0]\n",
      " [ 0 57  0 ...  0  0  0]\n",
      " [ 0  0  0 ...  0  0  0]\n",
      " ...\n",
      " [ 0  0  0 ...  0  0  0]\n",
      " [ 0  0  0 ...  0  0  0]\n",
      " [ 0  0  0 ...  0  0  0]]\n",
      "\n",
      "Test set: Average loss: 3.1629, LCNN Loss: 0.1947, Accuracy: 182/507 (36%)\n",
      "\n"
     ]
    },
    {
     "data": {
      "application/vnd.jupyter.widget-view+json": {
       "model_id": "c333de1bbabe4f3299db0b2bce871519",
       "version_major": 2,
       "version_minor": 0
      },
      "text/plain": [
       "  0%|          | 0/33 [00:00<?, ?it/s]"
      ]
     },
     "metadata": {},
     "output_type": "display_data"
    },
    {
     "data": {
      "application/vnd.jupyter.widget-view+json": {
       "model_id": "f60544daa8064bd99cb8973afa970fac",
       "version_major": 2,
       "version_minor": 0
      },
      "text/plain": [
       "  0%|          | 0/33 [00:00<?, ?it/s]"
      ]
     },
     "metadata": {},
     "output_type": "display_data"
    },
    {
     "name": "stdout",
     "output_type": "stream",
     "text": [
      "[[ 12   0   0 ...   0   0   0]\n",
      " [  0 215   0 ...   0   0   0]\n",
      " [  1   0   0 ...   0   0   0]\n",
      " ...\n",
      " [  0   0   0 ...   1   0   0]\n",
      " [  0   0   0 ...   0   0   0]\n",
      " [  0   0   0 ...   0   0   0]]\n",
      "\n",
      "Train set: Average loss: 1.2063, LCNN Loss: 0.9478, Accuracy: 1395/2079 (67%)\n",
      "\n"
     ]
    },
    {
     "data": {
      "application/vnd.jupyter.widget-view+json": {
       "model_id": "581fad49b0d64dfaa5e6f648e4391d31",
       "version_major": 2,
       "version_minor": 0
      },
      "text/plain": [
       "  0%|          | 0/8 [00:00<?, ?it/s]"
      ]
     },
     "metadata": {},
     "output_type": "display_data"
    },
    {
     "name": "stdout",
     "output_type": "stream",
     "text": [
      "[[ 1  0  0 ...  0  0  0]\n",
      " [ 0 54  0 ...  0  0  0]\n",
      " [ 0  0  0 ...  0  0  0]\n",
      " ...\n",
      " [ 0  0  0 ...  0  0  0]\n",
      " [ 0  0  0 ...  0  0  0]\n",
      " [ 0  0  0 ...  0  0  0]]\n",
      "\n",
      "Test set: Average loss: 2.8795, LCNN Loss: 0.2207, Accuracy: 190/507 (37%)\n",
      "\n"
     ]
    },
    {
     "data": {
      "application/vnd.jupyter.widget-view+json": {
       "model_id": "616624c368544ec1879f056a36614f0f",
       "version_major": 2,
       "version_minor": 0
      },
      "text/plain": [
       "  0%|          | 0/33 [00:00<?, ?it/s]"
      ]
     },
     "metadata": {},
     "output_type": "display_data"
    },
    {
     "data": {
      "application/vnd.jupyter.widget-view+json": {
       "model_id": "d4749c706e3d4a2598763a0909ab5376",
       "version_major": 2,
       "version_minor": 0
      },
      "text/plain": [
       "  0%|          | 0/33 [00:00<?, ?it/s]"
      ]
     },
     "metadata": {},
     "output_type": "display_data"
    },
    {
     "name": "stdout",
     "output_type": "stream",
     "text": [
      "[[  9   0   0 ...   0   0   0]\n",
      " [  0 234   0 ...   0   0   0]\n",
      " [  0   0   0 ...   0   0   0]\n",
      " ...\n",
      " [  0   0   0 ...   1   0   0]\n",
      " [  0   0   0 ...   0   0   0]\n",
      " [  0   0   0 ...   0   0   0]]\n",
      "\n",
      "Train set: Average loss: 1.1578, LCNN Loss: 0.9597, Accuracy: 1398/2079 (67%)\n",
      "\n"
     ]
    },
    {
     "data": {
      "application/vnd.jupyter.widget-view+json": {
       "model_id": "891a310fa2054726aead69bc8d9efb19",
       "version_major": 2,
       "version_minor": 0
      },
      "text/plain": [
       "  0%|          | 0/8 [00:00<?, ?it/s]"
      ]
     },
     "metadata": {},
     "output_type": "display_data"
    },
    {
     "name": "stdout",
     "output_type": "stream",
     "text": [
      "[[ 0  0  0 ...  0  0  0]\n",
      " [ 0 57  0 ...  0  0  0]\n",
      " [ 0  0  0 ...  0  0  0]\n",
      " ...\n",
      " [ 0  0  0 ...  0  0  0]\n",
      " [ 0  0  0 ...  0  0  0]\n",
      " [ 0  0  0 ...  0  0  0]]\n",
      "\n",
      "Test set: Average loss: 3.1466, LCNN Loss: 0.2250, Accuracy: 186/507 (37%)\n",
      "\n"
     ]
    },
    {
     "data": {
      "application/vnd.jupyter.widget-view+json": {
       "model_id": "47f9039cc2ef4ce3b295b543b4969cd3",
       "version_major": 2,
       "version_minor": 0
      },
      "text/plain": [
       "  0%|          | 0/33 [00:00<?, ?it/s]"
      ]
     },
     "metadata": {},
     "output_type": "display_data"
    },
    {
     "data": {
      "application/vnd.jupyter.widget-view+json": {
       "model_id": "782f93e6d28c4340a4542bedc17f5014",
       "version_major": 2,
       "version_minor": 0
      },
      "text/plain": [
       "  0%|          | 0/33 [00:00<?, ?it/s]"
      ]
     },
     "metadata": {},
     "output_type": "display_data"
    },
    {
     "name": "stdout",
     "output_type": "stream",
     "text": [
      "[[ 12   0   0 ...   0   0   0]\n",
      " [  0 230   0 ...   0   0   0]\n",
      " [  0   1   0 ...   0   0   0]\n",
      " ...\n",
      " [  0   0   0 ...   2   0   0]\n",
      " [  0   0   0 ...   0   2   0]\n",
      " [  0   0   0 ...   0   0   1]]\n",
      "\n",
      "Train set: Average loss: 1.2082, LCNN Loss: 0.9085, Accuracy: 1384/2079 (67%)\n",
      "\n"
     ]
    },
    {
     "data": {
      "application/vnd.jupyter.widget-view+json": {
       "model_id": "1b20234eb33c485ba223df653cc7f01a",
       "version_major": 2,
       "version_minor": 0
      },
      "text/plain": [
       "  0%|          | 0/8 [00:00<?, ?it/s]"
      ]
     },
     "metadata": {},
     "output_type": "display_data"
    },
    {
     "name": "stdout",
     "output_type": "stream",
     "text": [
      "[[ 1  0  0 ...  0  0  0]\n",
      " [ 0 50  0 ...  0  0  0]\n",
      " [ 0  0  0 ...  0  0  0]\n",
      " ...\n",
      " [ 0  0  0 ...  0  0  0]\n",
      " [ 0  0  0 ...  0  0  0]\n",
      " [ 0  0  0 ...  0  0  0]]\n",
      "\n",
      "Test set: Average loss: 3.0423, LCNN Loss: 0.2109, Accuracy: 180/507 (36%)\n",
      "\n"
     ]
    },
    {
     "data": {
      "application/vnd.jupyter.widget-view+json": {
       "model_id": "5438edd5def241658a779f23b26f4822",
       "version_major": 2,
       "version_minor": 0
      },
      "text/plain": [
       "  0%|          | 0/33 [00:00<?, ?it/s]"
      ]
     },
     "metadata": {},
     "output_type": "display_data"
    },
    {
     "data": {
      "application/vnd.jupyter.widget-view+json": {
       "model_id": "e0bd50093632498a8a313a50c552c512",
       "version_major": 2,
       "version_minor": 0
      },
      "text/plain": [
       "  0%|          | 0/33 [00:00<?, ?it/s]"
      ]
     },
     "metadata": {},
     "output_type": "display_data"
    },
    {
     "name": "stdout",
     "output_type": "stream",
     "text": [
      "[[  5   0   0 ...   0   0   0]\n",
      " [  0 231   0 ...   0   0   0]\n",
      " [  0   0   0 ...   0   0   0]\n",
      " ...\n",
      " [  0   0   0 ...   1   0   0]\n",
      " [  0   0   0 ...   0   0   0]\n",
      " [  0   0   0 ...   0   0   0]]\n",
      "\n",
      "Train set: Average loss: 1.2064, LCNN Loss: 0.8565, Accuracy: 1341/2079 (65%)\n",
      "\n"
     ]
    },
    {
     "data": {
      "application/vnd.jupyter.widget-view+json": {
       "model_id": "e937f4abe61042218bd2aae01b3748c9",
       "version_major": 2,
       "version_minor": 0
      },
      "text/plain": [
       "  0%|          | 0/8 [00:00<?, ?it/s]"
      ]
     },
     "metadata": {},
     "output_type": "display_data"
    },
    {
     "name": "stdout",
     "output_type": "stream",
     "text": [
      "[[ 0  0  0 ...  0  0  0]\n",
      " [ 0 52  0 ...  0  0  0]\n",
      " [ 0  0  0 ...  0  0  0]\n",
      " ...\n",
      " [ 0  0  0 ...  0  0  0]\n",
      " [ 0  0  0 ...  0  0  0]\n",
      " [ 0  0  0 ...  0  0  0]]\n",
      "\n",
      "Test set: Average loss: 3.2525, LCNN Loss: 0.2029, Accuracy: 174/507 (34%)\n",
      "\n"
     ]
    },
    {
     "data": {
      "application/vnd.jupyter.widget-view+json": {
       "model_id": "b4d619f54d734a37b0775b35928d818b",
       "version_major": 2,
       "version_minor": 0
      },
      "text/plain": [
       "  0%|          | 0/33 [00:00<?, ?it/s]"
      ]
     },
     "metadata": {},
     "output_type": "display_data"
    },
    {
     "data": {
      "application/vnd.jupyter.widget-view+json": {
       "model_id": "c330a0f818274b9fb5a380c644a90650",
       "version_major": 2,
       "version_minor": 0
      },
      "text/plain": [
       "  0%|          | 0/33 [00:00<?, ?it/s]"
      ]
     },
     "metadata": {},
     "output_type": "display_data"
    },
    {
     "name": "stdout",
     "output_type": "stream",
     "text": [
      "[[ 11   0   0 ...   0   0   0]\n",
      " [  0 238   0 ...   0   0   0]\n",
      " [  0   1   0 ...   0   0   0]\n",
      " ...\n",
      " [  0   0   0 ...   2   0   0]\n",
      " [  0   0   0 ...   0   0   0]\n",
      " [  0   1   0 ...   0   0   1]]\n",
      "\n",
      "Train set: Average loss: 0.7348, LCNN Loss: 1.0779, Accuracy: 1663/2079 (80%)\n",
      "\n"
     ]
    },
    {
     "data": {
      "application/vnd.jupyter.widget-view+json": {
       "model_id": "41f505a9475b415bb1dc0595d7a780b3",
       "version_major": 2,
       "version_minor": 0
      },
      "text/plain": [
       "  0%|          | 0/8 [00:00<?, ?it/s]"
      ]
     },
     "metadata": {},
     "output_type": "display_data"
    },
    {
     "name": "stdout",
     "output_type": "stream",
     "text": [
      "[[ 2  0  0 ...  0  0  0]\n",
      " [ 0 56  0 ...  0  0  0]\n",
      " [ 0  1  0 ...  0  0  0]\n",
      " ...\n",
      " [ 0  0  0 ...  0  0  0]\n",
      " [ 0  0  0 ...  0  0  0]\n",
      " [ 0  0  0 ...  0  0  0]]\n",
      "\n",
      "Test set: Average loss: 3.1332, LCNN Loss: 0.2454, Accuracy: 194/507 (38%)\n",
      "\n"
     ]
    },
    {
     "data": {
      "application/vnd.jupyter.widget-view+json": {
       "model_id": "4d24ab425722443a80c9ead058b8eed3",
       "version_major": 2,
       "version_minor": 0
      },
      "text/plain": [
       "  0%|          | 0/33 [00:00<?, ?it/s]"
      ]
     },
     "metadata": {},
     "output_type": "display_data"
    },
    {
     "name": "stdout",
     "output_type": "stream",
     "text": [
      "[[  9   2   0 ...   0   0   0]\n",
      " [  0 238   0 ...   0   0   0]\n",
      " [  0   3   0 ...   0   0   0]\n",
      " ...\n",
      " [  0   0   0 ...   2   0   0]\n",
      " [  0   0   0 ...   0   1   0]\n",
      " [  0   0   0 ...   0   0   0]]\n",
      "\n",
      "Train set: Average loss: 0.8599, LCNN Loss: 0.9023, Accuracy: 1621/2079 (78%)\n",
      "\n"
     ]
    },
    {
     "data": {
      "application/vnd.jupyter.widget-view+json": {
       "model_id": "5f58926084a247d2940617167bb1f3e8",
       "version_major": 2,
       "version_minor": 0
      },
      "text/plain": [
       "  0%|          | 0/8 [00:00<?, ?it/s]"
      ]
     },
     "metadata": {},
     "output_type": "display_data"
    },
    {
     "name": "stdout",
     "output_type": "stream",
     "text": [
      "[[ 0  0  0 ...  0  0  0]\n",
      " [ 0 56  0 ...  0  0  0]\n",
      " [ 0  1  0 ...  0  0  0]\n",
      " ...\n",
      " [ 0  0  0 ...  0  0  0]\n",
      " [ 0  0  0 ...  0  0  0]\n",
      " [ 0  0  0 ...  0  0  0]]\n",
      "\n",
      "Test set: Average loss: 3.2458, LCNN Loss: 0.2097, Accuracy: 184/507 (36%)\n",
      "\n"
     ]
    },
    {
     "data": {
      "application/vnd.jupyter.widget-view+json": {
       "model_id": "7c5e58cf63664265898fa9fc702cb97a",
       "version_major": 2,
       "version_minor": 0
      },
      "text/plain": [
       "  0%|          | 0/33 [00:00<?, ?it/s]"
      ]
     },
     "metadata": {},
     "output_type": "display_data"
    },
    {
     "data": {
      "application/vnd.jupyter.widget-view+json": {
       "model_id": "74ff9ed008f245738ad8a2a6748702eb",
       "version_major": 2,
       "version_minor": 0
      },
      "text/plain": [
       "  0%|          | 0/33 [00:00<?, ?it/s]"
      ]
     },
     "metadata": {},
     "output_type": "display_data"
    },
    {
     "name": "stdout",
     "output_type": "stream",
     "text": [
      "[[  7   0   0 ...   0   0   0]\n",
      " [  0 236   0 ...   0   0   0]\n",
      " [  0   1   0 ...   0   0   0]\n",
      " ...\n",
      " [  0   0   0 ...   2   0   0]\n",
      " [  0   0   0 ...   0   0   0]\n",
      " [  0   0   0 ...   0   0   1]]\n",
      "\n",
      "Train set: Average loss: 0.9801, LCNN Loss: 1.1707, Accuracy: 1434/2079 (69%)\n",
      "\n"
     ]
    },
    {
     "data": {
      "application/vnd.jupyter.widget-view+json": {
       "model_id": "1569b0f283de4ae1a61ac0b39689bbe0",
       "version_major": 2,
       "version_minor": 0
      },
      "text/plain": [
       "  0%|          | 0/8 [00:00<?, ?it/s]"
      ]
     },
     "metadata": {},
     "output_type": "display_data"
    },
    {
     "name": "stdout",
     "output_type": "stream",
     "text": [
      "[[ 1  0  0 ...  0  0  0]\n",
      " [ 0 56  0 ...  0  0  0]\n",
      " [ 0  1  0 ...  0  0  0]\n",
      " ...\n",
      " [ 0  0  0 ...  0  0  0]\n",
      " [ 0  0  0 ...  0  0  0]\n",
      " [ 0  0  0 ...  0  0  0]]\n",
      "\n",
      "Test set: Average loss: 3.6720, LCNN Loss: 0.2660, Accuracy: 166/507 (33%)\n",
      "\n"
     ]
    },
    {
     "data": {
      "application/vnd.jupyter.widget-view+json": {
       "model_id": "a43a2cad62ec4a63aaf90f7d7efe1551",
       "version_major": 2,
       "version_minor": 0
      },
      "text/plain": [
       "  0%|          | 0/33 [00:00<?, ?it/s]"
      ]
     },
     "metadata": {},
     "output_type": "display_data"
    },
    {
     "data": {
      "application/vnd.jupyter.widget-view+json": {
       "model_id": "225d15a16d914903a6d56964f8473ce7",
       "version_major": 2,
       "version_minor": 0
      },
      "text/plain": [
       "  0%|          | 0/33 [00:00<?, ?it/s]"
      ]
     },
     "metadata": {},
     "output_type": "display_data"
    },
    {
     "name": "stdout",
     "output_type": "stream",
     "text": [
      "[[  3   0   0 ...   0   0   0]\n",
      " [  0 222   0 ...   0   0   0]\n",
      " [  0   2   0 ...   0   0   0]\n",
      " ...\n",
      " [  0   0   0 ...   1   0   0]\n",
      " [  0   0   0 ...   0   2   0]\n",
      " [  0   0   0 ...   0   0   2]]\n",
      "\n",
      "Train set: Average loss: 0.6698, LCNN Loss: 1.1171, Accuracy: 1679/2079 (81%)\n",
      "\n"
     ]
    },
    {
     "data": {
      "application/vnd.jupyter.widget-view+json": {
       "model_id": "98f9fc2db47c42128c9a4f6f69c1cc47",
       "version_major": 2,
       "version_minor": 0
      },
      "text/plain": [
       "  0%|          | 0/8 [00:00<?, ?it/s]"
      ]
     },
     "metadata": {},
     "output_type": "display_data"
    },
    {
     "name": "stdout",
     "output_type": "stream",
     "text": [
      "[[ 0  0  0 ...  0  0  0]\n",
      " [ 0 47  0 ...  0  0  0]\n",
      " [ 0  0  0 ...  0  0  0]\n",
      " ...\n",
      " [ 0  0  0 ...  0  0  0]\n",
      " [ 0  0  0 ...  0  0  0]\n",
      " [ 0  0  0 ...  0  0  0]]\n",
      "\n",
      "Test set: Average loss: 3.2969, LCNN Loss: 0.2501, Accuracy: 187/507 (37%)\n",
      "\n"
     ]
    },
    {
     "data": {
      "application/vnd.jupyter.widget-view+json": {
       "model_id": "e7a5b4c5093b4b2cb94ca8099dcf7620",
       "version_major": 2,
       "version_minor": 0
      },
      "text/plain": [
       "  0%|          | 0/33 [00:00<?, ?it/s]"
      ]
     },
     "metadata": {},
     "output_type": "display_data"
    },
    {
     "data": {
      "application/vnd.jupyter.widget-view+json": {
       "model_id": "d465e758561246bbb549108303a55b6b",
       "version_major": 2,
       "version_minor": 0
      },
      "text/plain": [
       "  0%|          | 0/33 [00:00<?, ?it/s]"
      ]
     },
     "metadata": {},
     "output_type": "display_data"
    },
    {
     "name": "stdout",
     "output_type": "stream",
     "text": [
      "[[ 14   0   0 ...   0   0   0]\n",
      " [  0 232   0 ...   0   0   0]\n",
      " [  0   2   0 ...   0   0   0]\n",
      " ...\n",
      " [  0   0   0 ...   1   0   0]\n",
      " [  0   0   0 ...   0   2   0]\n",
      " [  0   0   0 ...   0   0   4]]\n",
      "\n",
      "Train set: Average loss: 0.7112, LCNN Loss: 1.0722, Accuracy: 1671/2079 (80%)\n",
      "\n"
     ]
    },
    {
     "data": {
      "application/vnd.jupyter.widget-view+json": {
       "model_id": "1450d46e8f7549b78ec65333500f3250",
       "version_major": 2,
       "version_minor": 0
      },
      "text/plain": [
       "  0%|          | 0/8 [00:00<?, ?it/s]"
      ]
     },
     "metadata": {},
     "output_type": "display_data"
    },
    {
     "name": "stdout",
     "output_type": "stream",
     "text": [
      "[[ 3  0  0 ...  0  0  0]\n",
      " [ 0 50  0 ...  0  0  0]\n",
      " [ 0  0  0 ...  0  0  0]\n",
      " ...\n",
      " [ 0  0  0 ...  0  0  0]\n",
      " [ 0  0  0 ...  0  0  0]\n",
      " [ 0  0  0 ...  0  0  0]]\n",
      "\n",
      "Test set: Average loss: 3.1934, LCNN Loss: 0.2438, Accuracy: 195/507 (38%)\n",
      "\n"
     ]
    },
    {
     "data": {
      "application/vnd.jupyter.widget-view+json": {
       "model_id": "97f7e6f175c649c297d08015fa3aaf13",
       "version_major": 2,
       "version_minor": 0
      },
      "text/plain": [
       "  0%|          | 0/33 [00:00<?, ?it/s]"
      ]
     },
     "metadata": {},
     "output_type": "display_data"
    },
    {
     "data": {
      "application/vnd.jupyter.widget-view+json": {
       "model_id": "85698ad50d6346f8bba53b1771a84ff9",
       "version_major": 2,
       "version_minor": 0
      },
      "text/plain": [
       "  0%|          | 0/33 [00:00<?, ?it/s]"
      ]
     },
     "metadata": {},
     "output_type": "display_data"
    },
    {
     "name": "stdout",
     "output_type": "stream",
     "text": [
      "[[  9   0   0 ...   0   0   0]\n",
      " [  0 238   0 ...   0   0   0]\n",
      " [  0   0   1 ...   0   0   0]\n",
      " ...\n",
      " [  0   0   0 ...   2   0   0]\n",
      " [  0   0   0 ...   0   1   0]\n",
      " [  0   0   0 ...   0   0   3]]\n",
      "\n",
      "Train set: Average loss: 0.5425, LCNN Loss: 1.1582, Accuracy: 1783/2079 (86%)\n",
      "\n"
     ]
    },
    {
     "data": {
      "application/vnd.jupyter.widget-view+json": {
       "model_id": "6cfb9322059e4710b35e3cbc49021434",
       "version_major": 2,
       "version_minor": 0
      },
      "text/plain": [
       "  0%|          | 0/8 [00:00<?, ?it/s]"
      ]
     },
     "metadata": {},
     "output_type": "display_data"
    },
    {
     "name": "stdout",
     "output_type": "stream",
     "text": [
      "[[ 1  0  0 ...  0  0  0]\n",
      " [ 0 56  0 ...  0  0  0]\n",
      " [ 0  0  0 ...  0  0  0]\n",
      " ...\n",
      " [ 0  0  0 ...  0  0  0]\n",
      " [ 0  0  0 ...  0  0  0]\n",
      " [ 0  0  0 ...  0  0  0]]\n",
      "\n",
      "Test set: Average loss: 3.2723, LCNN Loss: 0.2607, Accuracy: 196/507 (39%)\n",
      "\n"
     ]
    },
    {
     "data": {
      "application/vnd.jupyter.widget-view+json": {
       "model_id": "847488702db14d8899d7d8ad2babb83a",
       "version_major": 2,
       "version_minor": 0
      },
      "text/plain": [
       "  0%|          | 0/33 [00:00<?, ?it/s]"
      ]
     },
     "metadata": {},
     "output_type": "display_data"
    },
    {
     "data": {
      "application/vnd.jupyter.widget-view+json": {
       "model_id": "1a01e3abd71d468ab422efbc36f90a23",
       "version_major": 2,
       "version_minor": 0
      },
      "text/plain": [
       "  0%|          | 0/33 [00:00<?, ?it/s]"
      ]
     },
     "metadata": {},
     "output_type": "display_data"
    },
    {
     "name": "stdout",
     "output_type": "stream",
     "text": [
      "[[ 15   0   0 ...   0   0   0]\n",
      " [  0 238   0 ...   0   0   0]\n",
      " [  1   0   2 ...   0   0   0]\n",
      " ...\n",
      " [  0   0   0 ...   2   0   0]\n",
      " [  0   0   0 ...   0   2   0]\n",
      " [  0   0   0 ...   0   0   6]]\n",
      "\n",
      "Train set: Average loss: 0.3306, LCNN Loss: 1.4047, Accuracy: 1922/2079 (92%)\n",
      "\n"
     ]
    },
    {
     "data": {
      "application/vnd.jupyter.widget-view+json": {
       "model_id": "88827e02b66f49fbbc11fe8b709435d2",
       "version_major": 2,
       "version_minor": 0
      },
      "text/plain": [
       "  0%|          | 0/8 [00:00<?, ?it/s]"
      ]
     },
     "metadata": {},
     "output_type": "display_data"
    },
    {
     "name": "stdout",
     "output_type": "stream",
     "text": [
      "[[ 1  0  0 ...  0  0  0]\n",
      " [ 0 57  0 ...  0  0  0]\n",
      " [ 0  1  0 ...  0  0  0]\n",
      " ...\n",
      " [ 0  0  0 ...  0  0  0]\n",
      " [ 0  0  0 ...  0  0  0]\n",
      " [ 0  0  0 ...  0  0  0]]\n",
      "\n",
      "Test set: Average loss: 3.3242, LCNN Loss: 0.3068, Accuracy: 199/507 (39%)\n",
      "\n"
     ]
    },
    {
     "data": {
      "application/vnd.jupyter.widget-view+json": {
       "model_id": "7d522a6b62f549cd92f74424cfb30c5a",
       "version_major": 2,
       "version_minor": 0
      },
      "text/plain": [
       "  0%|          | 0/33 [00:00<?, ?it/s]"
      ]
     },
     "metadata": {},
     "output_type": "display_data"
    },
    {
     "data": {
      "application/vnd.jupyter.widget-view+json": {
       "model_id": "2e5cf6ec06ed4ca59264c692fca16e81",
       "version_major": 2,
       "version_minor": 0
      },
      "text/plain": [
       "  0%|          | 0/33 [00:00<?, ?it/s]"
      ]
     },
     "metadata": {},
     "output_type": "display_data"
    },
    {
     "name": "stdout",
     "output_type": "stream",
     "text": [
      "[[ 11   0   0 ...   0   0   0]\n",
      " [  0 238   0 ...   0   0   0]\n",
      " [  0   2   1 ...   0   0   0]\n",
      " ...\n",
      " [  0   0   0 ...   2   0   0]\n",
      " [  0   0   0 ...   0   2   0]\n",
      " [  0   0   0 ...   0   0   1]]\n",
      "\n",
      "Train set: Average loss: 0.8096, LCNN Loss: 1.1944, Accuracy: 1602/2079 (77%)\n",
      "\n"
     ]
    },
    {
     "data": {
      "application/vnd.jupyter.widget-view+json": {
       "model_id": "36dee4dd4114475488b8fc527fee6c7e",
       "version_major": 2,
       "version_minor": 0
      },
      "text/plain": [
       "  0%|          | 0/8 [00:00<?, ?it/s]"
      ]
     },
     "metadata": {},
     "output_type": "display_data"
    },
    {
     "name": "stdout",
     "output_type": "stream",
     "text": [
      "[[ 1  0  0 ...  0  0  0]\n",
      " [ 0 57  0 ...  0  0  0]\n",
      " [ 0  1  0 ...  0  0  0]\n",
      " ...\n",
      " [ 0  0  0 ...  0  0  0]\n",
      " [ 0  0  0 ...  0  0  0]\n",
      " [ 0  0  0 ...  0  0  0]]\n",
      "\n",
      "Test set: Average loss: 3.5995, LCNN Loss: 0.2687, Accuracy: 196/507 (39%)\n",
      "\n"
     ]
    },
    {
     "data": {
      "application/vnd.jupyter.widget-view+json": {
       "model_id": "685fffb7f6144db398f0d3db6f5c7dad",
       "version_major": 2,
       "version_minor": 0
      },
      "text/plain": [
       "  0%|          | 0/33 [00:00<?, ?it/s]"
      ]
     },
     "metadata": {},
     "output_type": "display_data"
    },
    {
     "data": {
      "application/vnd.jupyter.widget-view+json": {
       "model_id": "9a4f8163d19a4619a313f7cd543a419d",
       "version_major": 2,
       "version_minor": 0
      },
      "text/plain": [
       "  0%|          | 0/33 [00:00<?, ?it/s]"
      ]
     },
     "metadata": {},
     "output_type": "display_data"
    },
    {
     "name": "stdout",
     "output_type": "stream",
     "text": [
      "[[ 12   0   0 ...   0   0   0]\n",
      " [  0 237   0 ...   0   0   0]\n",
      " [  0   1   1 ...   0   0   0]\n",
      " ...\n",
      " [  0   0   0 ...   2   0   0]\n",
      " [  0   0   0 ...   0   1   0]\n",
      " [  0   0   0 ...   0   0   5]]\n",
      "\n",
      "Train set: Average loss: 0.4938, LCNN Loss: 1.3428, Accuracy: 1818/2079 (87%)\n",
      "\n"
     ]
    },
    {
     "data": {
      "application/vnd.jupyter.widget-view+json": {
       "model_id": "7499d78eb1bf4c1cae6cb7a03d047ba1",
       "version_major": 2,
       "version_minor": 0
      },
      "text/plain": [
       "  0%|          | 0/8 [00:00<?, ?it/s]"
      ]
     },
     "metadata": {},
     "output_type": "display_data"
    },
    {
     "name": "stdout",
     "output_type": "stream",
     "text": [
      "[[ 1  0  0 ...  0  0  0]\n",
      " [ 0 54  0 ...  0  0  0]\n",
      " [ 0  0  0 ...  0  0  0]\n",
      " ...\n",
      " [ 0  0  0 ...  0  0  0]\n",
      " [ 0  0  0 ...  0  0  0]\n",
      " [ 0  0  0 ...  0  0  0]]\n",
      "\n",
      "Test set: Average loss: 3.5526, LCNN Loss: 0.2940, Accuracy: 185/507 (36%)\n",
      "\n"
     ]
    },
    {
     "data": {
      "application/vnd.jupyter.widget-view+json": {
       "model_id": "2174170327b146a38e5ee10ebe7eb1ba",
       "version_major": 2,
       "version_minor": 0
      },
      "text/plain": [
       "  0%|          | 0/33 [00:00<?, ?it/s]"
      ]
     },
     "metadata": {},
     "output_type": "display_data"
    },
    {
     "data": {
      "application/vnd.jupyter.widget-view+json": {
       "model_id": "57a917db6dbf49bca84f7439f1eccead",
       "version_major": 2,
       "version_minor": 0
      },
      "text/plain": [
       "  0%|          | 0/33 [00:00<?, ?it/s]"
      ]
     },
     "metadata": {},
     "output_type": "display_data"
    },
    {
     "name": "stdout",
     "output_type": "stream",
     "text": [
      "[[ 16   0   0 ...   0   0   0]\n",
      " [  0 233   0 ...   0   0   0]\n",
      " [  0   0   2 ...   0   0   0]\n",
      " ...\n",
      " [  0   0   0 ...   2   0   0]\n",
      " [  0   0   0 ...   0   1   0]\n",
      " [  0   0   0 ...   0   0   5]]\n",
      "\n",
      "Train set: Average loss: 0.4151, LCNN Loss: 1.2382, Accuracy: 1897/2079 (91%)\n",
      "\n"
     ]
    },
    {
     "data": {
      "application/vnd.jupyter.widget-view+json": {
       "model_id": "b62230f1838749a085e902a7284fa5f5",
       "version_major": 2,
       "version_minor": 0
      },
      "text/plain": [
       "  0%|          | 0/8 [00:00<?, ?it/s]"
      ]
     },
     "metadata": {},
     "output_type": "display_data"
    },
    {
     "name": "stdout",
     "output_type": "stream",
     "text": [
      "[[ 2  0  0 ...  0  0  0]\n",
      " [ 0 52  0 ...  0  0  0]\n",
      " [ 0  0  0 ...  0  0  0]\n",
      " ...\n",
      " [ 0  0  0 ...  0  0  0]\n",
      " [ 0  0  0 ...  0  0  0]\n",
      " [ 0  0  0 ...  0  0  0]]\n",
      "\n",
      "Test set: Average loss: 3.3199, LCNN Loss: 0.2708, Accuracy: 188/507 (37%)\n",
      "\n"
     ]
    },
    {
     "data": {
      "application/vnd.jupyter.widget-view+json": {
       "model_id": "b93dcd499eee42a6ac924519ddb27360",
       "version_major": 2,
       "version_minor": 0
      },
      "text/plain": [
       "  0%|          | 0/33 [00:00<?, ?it/s]"
      ]
     },
     "metadata": {},
     "output_type": "display_data"
    },
    {
     "data": {
      "application/vnd.jupyter.widget-view+json": {
       "model_id": "9584fdc7dd2c4a1487c2e013462fceaa",
       "version_major": 2,
       "version_minor": 0
      },
      "text/plain": [
       "  0%|          | 0/33 [00:00<?, ?it/s]"
      ]
     },
     "metadata": {},
     "output_type": "display_data"
    },
    {
     "name": "stdout",
     "output_type": "stream",
     "text": [
      "[[ 15   0   0 ...   0   0   0]\n",
      " [  0 238   0 ...   0   0   0]\n",
      " [  0   0   4 ...   0   0   0]\n",
      " ...\n",
      " [  0   0   0 ...   2   0   0]\n",
      " [  0   0   0 ...   0   2   0]\n",
      " [  0   0   0 ...   0   0   6]]\n",
      "\n",
      "Train set: Average loss: 0.1848, LCNN Loss: 1.3318, Accuracy: 2027/2079 (97%)\n",
      "\n"
     ]
    },
    {
     "data": {
      "application/vnd.jupyter.widget-view+json": {
       "model_id": "4a0da01bb10e4534b5567ffed1e93074",
       "version_major": 2,
       "version_minor": 0
      },
      "text/plain": [
       "  0%|          | 0/8 [00:00<?, ?it/s]"
      ]
     },
     "metadata": {},
     "output_type": "display_data"
    },
    {
     "name": "stdout",
     "output_type": "stream",
     "text": [
      "[[ 1  0  0 ...  0  0  0]\n",
      " [ 0 56  0 ...  0  0  0]\n",
      " [ 0  0  0 ...  0  0  0]\n",
      " ...\n",
      " [ 0  0  0 ...  0  0  0]\n",
      " [ 0  0  0 ...  0  0  0]\n",
      " [ 0  0  0 ...  0  0  0]]\n",
      "\n",
      "Test set: Average loss: 3.3185, LCNN Loss: 0.2802, Accuracy: 195/507 (38%)\n",
      "\n"
     ]
    },
    {
     "data": {
      "application/vnd.jupyter.widget-view+json": {
       "model_id": "ce9db0a1a3d6403581aead7567fd1481",
       "version_major": 2,
       "version_minor": 0
      },
      "text/plain": [
       "  0%|          | 0/33 [00:00<?, ?it/s]"
      ]
     },
     "metadata": {},
     "output_type": "display_data"
    },
    {
     "data": {
      "application/vnd.jupyter.widget-view+json": {
       "model_id": "601f7825b96b4a70a9abc6f82ab40ee4",
       "version_major": 2,
       "version_minor": 0
      },
      "text/plain": [
       "  0%|          | 0/33 [00:00<?, ?it/s]"
      ]
     },
     "metadata": {},
     "output_type": "display_data"
    },
    {
     "name": "stdout",
     "output_type": "stream",
     "text": [
      "[[ 16   0   0 ...   0   0   0]\n",
      " [  0 238   0 ...   0   0   0]\n",
      " [  0   0   4 ...   0   0   0]\n",
      " ...\n",
      " [  0   0   0 ...   1   0   0]\n",
      " [  0   0   0 ...   0   2   0]\n",
      " [  0   0   0 ...   0   0   6]]\n",
      "\n",
      "Train set: Average loss: 0.2896, LCNN Loss: 1.5308, Accuracy: 1959/2079 (94%)\n",
      "\n"
     ]
    },
    {
     "data": {
      "application/vnd.jupyter.widget-view+json": {
       "model_id": "083bd0531f2b434ea840d67ebcae5986",
       "version_major": 2,
       "version_minor": 0
      },
      "text/plain": [
       "  0%|          | 0/8 [00:00<?, ?it/s]"
      ]
     },
     "metadata": {},
     "output_type": "display_data"
    },
    {
     "name": "stdout",
     "output_type": "stream",
     "text": [
      "[[ 1  0  0 ...  0  0  0]\n",
      " [ 0 55  0 ...  0  0  0]\n",
      " [ 0  0  0 ...  0  0  0]\n",
      " ...\n",
      " [ 0  0  0 ...  0  0  0]\n",
      " [ 0  0  0 ...  0  0  0]\n",
      " [ 0  0  0 ...  0  0  0]]\n",
      "\n",
      "Test set: Average loss: 3.7910, LCNN Loss: 0.3328, Accuracy: 187/507 (37%)\n",
      "\n"
     ]
    },
    {
     "data": {
      "application/vnd.jupyter.widget-view+json": {
       "model_id": "edfa46182e8348559040754211cb58e9",
       "version_major": 2,
       "version_minor": 0
      },
      "text/plain": [
       "  0%|          | 0/33 [00:00<?, ?it/s]"
      ]
     },
     "metadata": {},
     "output_type": "display_data"
    },
    {
     "data": {
      "application/vnd.jupyter.widget-view+json": {
       "model_id": "0f3b25b5acf9424d8a2de92747316734",
       "version_major": 2,
       "version_minor": 0
      },
      "text/plain": [
       "  0%|          | 0/33 [00:00<?, ?it/s]"
      ]
     },
     "metadata": {},
     "output_type": "display_data"
    },
    {
     "name": "stdout",
     "output_type": "stream",
     "text": [
      "[[ 16   0   0 ...   0   0   0]\n",
      " [  0 238   0 ...   0   0   0]\n",
      " [  0   0   4 ...   0   0   0]\n",
      " ...\n",
      " [  0   0   0 ...   2   0   0]\n",
      " [  0   0   0 ...   0   2   0]\n",
      " [  0   0   0 ...   0   0   6]]\n",
      "\n",
      "Train set: Average loss: 0.1689, LCNN Loss: 1.3737, Accuracy: 2027/2079 (97%)\n",
      "\n"
     ]
    },
    {
     "data": {
      "application/vnd.jupyter.widget-view+json": {
       "model_id": "680ff627fc584059b7874e7a467c36c8",
       "version_major": 2,
       "version_minor": 0
      },
      "text/plain": [
       "  0%|          | 0/8 [00:00<?, ?it/s]"
      ]
     },
     "metadata": {},
     "output_type": "display_data"
    },
    {
     "name": "stdout",
     "output_type": "stream",
     "text": [
      "[[ 2  0  0 ...  0  0  0]\n",
      " [ 0 57  0 ...  0  0  0]\n",
      " [ 0  1  0 ...  0  0  0]\n",
      " ...\n",
      " [ 0  0  0 ...  0  0  0]\n",
      " [ 0  0  0 ...  0  0  0]\n",
      " [ 0  0  0 ...  0  0  0]]\n",
      "\n",
      "Test set: Average loss: 3.2299, LCNN Loss: 0.2903, Accuracy: 199/507 (39%)\n",
      "\n"
     ]
    },
    {
     "data": {
      "application/vnd.jupyter.widget-view+json": {
       "model_id": "b5f7a554ead34aabba4785c0530936f7",
       "version_major": 2,
       "version_minor": 0
      },
      "text/plain": [
       "  0%|          | 0/33 [00:00<?, ?it/s]"
      ]
     },
     "metadata": {},
     "output_type": "display_data"
    },
    {
     "data": {
      "application/vnd.jupyter.widget-view+json": {
       "model_id": "13a80e54f67e4db5aead7a37fd013705",
       "version_major": 2,
       "version_minor": 0
      },
      "text/plain": [
       "  0%|          | 0/33 [00:00<?, ?it/s]"
      ]
     },
     "metadata": {},
     "output_type": "display_data"
    },
    {
     "name": "stdout",
     "output_type": "stream",
     "text": [
      "[[ 15   0   0 ...   0   0   0]\n",
      " [  0 238   0 ...   0   0   0]\n",
      " [  0   0   4 ...   0   0   0]\n",
      " ...\n",
      " [  0   0   0 ...   2   0   0]\n",
      " [  0   0   0 ...   0   2   0]\n",
      " [  0   0   0 ...   0   0   5]]\n",
      "\n",
      "Train set: Average loss: 0.1655, LCNN Loss: 1.3572, Accuracy: 2024/2079 (97%)\n",
      "\n"
     ]
    },
    {
     "data": {
      "application/vnd.jupyter.widget-view+json": {
       "model_id": "e29fe939b6614468b181bfdb71d8bfa2",
       "version_major": 2,
       "version_minor": 0
      },
      "text/plain": [
       "  0%|          | 0/8 [00:00<?, ?it/s]"
      ]
     },
     "metadata": {},
     "output_type": "display_data"
    },
    {
     "name": "stdout",
     "output_type": "stream",
     "text": [
      "[[ 1  0  0 ...  0  0  0]\n",
      " [ 0 56  0 ...  0  0  0]\n",
      " [ 0  0  0 ...  0  0  0]\n",
      " ...\n",
      " [ 0  0  0 ...  0  0  0]\n",
      " [ 0  0  0 ...  0  0  0]\n",
      " [ 0  0  0 ...  0  0  0]]\n",
      "\n",
      "Test set: Average loss: 3.2704, LCNN Loss: 0.2899, Accuracy: 204/507 (40%)\n",
      "\n"
     ]
    },
    {
     "data": {
      "application/vnd.jupyter.widget-view+json": {
       "model_id": "aa27c9c5a0c14770b2c5317c6796aaa1",
       "version_major": 2,
       "version_minor": 0
      },
      "text/plain": [
       "  0%|          | 0/33 [00:00<?, ?it/s]"
      ]
     },
     "metadata": {},
     "output_type": "display_data"
    },
    {
     "data": {
      "application/vnd.jupyter.widget-view+json": {
       "model_id": "915cd65e27974b0bbe9929e4ad47d6cc",
       "version_major": 2,
       "version_minor": 0
      },
      "text/plain": [
       "  0%|          | 0/33 [00:00<?, ?it/s]"
      ]
     },
     "metadata": {},
     "output_type": "display_data"
    },
    {
     "name": "stdout",
     "output_type": "stream",
     "text": [
      "[[ 1  0  0 ...  0  0  0]\n",
      " [ 0 55  0 ...  0  0  0]\n",
      " [ 0  0  1 ...  0  0  0]\n",
      " ...\n",
      " [ 0  0  0 ...  0  0  0]\n",
      " [ 0  0  0 ...  0  0  0]\n",
      " [ 0  0  0 ...  0  0  0]]\n",
      "\n",
      "Test set: Average loss: 3.1854, LCNN Loss: 0.2675, Accuracy: 192/507 (38%)\n",
      "\n"
     ]
    },
    {
     "data": {
      "application/vnd.jupyter.widget-view+json": {
       "model_id": "299c07b9b7dc43e091f7edf456525642",
       "version_major": 2,
       "version_minor": 0
      },
      "text/plain": [
       "  0%|          | 0/33 [00:00<?, ?it/s]"
      ]
     },
     "metadata": {},
     "output_type": "display_data"
    },
    {
     "data": {
      "application/vnd.jupyter.widget-view+json": {
       "model_id": "5d3eaae6a1ae40acb9e6139c4d195ecc",
       "version_major": 2,
       "version_minor": 0
      },
      "text/plain": [
       "  0%|          | 0/33 [00:00<?, ?it/s]"
      ]
     },
     "metadata": {},
     "output_type": "display_data"
    },
    {
     "name": "stdout",
     "output_type": "stream",
     "text": [
      "[[ 16   0   0 ...   0   0   0]\n",
      " [  0 238   0 ...   0   0   0]\n",
      " [  0   0   4 ...   0   0   0]\n",
      " ...\n",
      " [  0   0   0 ...   2   0   0]\n",
      " [  0   0   0 ...   0   2   0]\n",
      " [  0   0   0 ...   0   0   6]]\n",
      "\n",
      "Train set: Average loss: 0.0589, LCNN Loss: 1.2815, Accuracy: 2069/2079 (100%)\n",
      "\n"
     ]
    },
    {
     "data": {
      "application/vnd.jupyter.widget-view+json": {
       "model_id": "90c4d20e7335430bbf632ebc21da6878",
       "version_major": 2,
       "version_minor": 0
      },
      "text/plain": [
       "  0%|          | 0/8 [00:00<?, ?it/s]"
      ]
     },
     "metadata": {},
     "output_type": "display_data"
    },
    {
     "name": "stdout",
     "output_type": "stream",
     "text": [
      "[[ 2  0  0 ...  0  0  0]\n",
      " [ 0 56  0 ...  0  0  0]\n",
      " [ 0  0  0 ...  0  0  0]\n",
      " ...\n",
      " [ 0  0  0 ...  0  0  0]\n",
      " [ 0  0  0 ...  0  0  0]\n",
      " [ 0  0  0 ...  0  0  0]]\n",
      "\n",
      "Test set: Average loss: 3.0529, LCNN Loss: 0.2568, Accuracy: 202/507 (40%)\n",
      "\n"
     ]
    },
    {
     "data": {
      "application/vnd.jupyter.widget-view+json": {
       "model_id": "424303da81a24a63881b05ea5c56cd1b",
       "version_major": 2,
       "version_minor": 0
      },
      "text/plain": [
       "  0%|          | 0/33 [00:00<?, ?it/s]"
      ]
     },
     "metadata": {},
     "output_type": "display_data"
    },
    {
     "data": {
      "application/vnd.jupyter.widget-view+json": {
       "model_id": "f042f952ccb74ef388a3419a51d6b330",
       "version_major": 2,
       "version_minor": 0
      },
      "text/plain": [
       "  0%|          | 0/33 [00:00<?, ?it/s]"
      ]
     },
     "metadata": {},
     "output_type": "display_data"
    },
    {
     "name": "stdout",
     "output_type": "stream",
     "text": [
      "[[ 16   0   0 ...   0   0   0]\n",
      " [  0 238   0 ...   0   0   0]\n",
      " [  0   0   4 ...   0   0   0]\n",
      " ...\n",
      " [  0   0   0 ...   2   0   0]\n",
      " [  0   0   0 ...   0   2   0]\n",
      " [  0   0   0 ...   0   0   6]]\n",
      "\n",
      "Train set: Average loss: 0.0427, LCNN Loss: 1.3366, Accuracy: 2073/2079 (100%)\n",
      "\n"
     ]
    },
    {
     "data": {
      "application/vnd.jupyter.widget-view+json": {
       "model_id": "7272963c30144d4b85654ad492508a45",
       "version_major": 2,
       "version_minor": 0
      },
      "text/plain": [
       "  0%|          | 0/8 [00:00<?, ?it/s]"
      ]
     },
     "metadata": {},
     "output_type": "display_data"
    },
    {
     "name": "stdout",
     "output_type": "stream",
     "text": [
      "[[ 1  0  0 ...  0  0  0]\n",
      " [ 0 56  0 ...  0  0  0]\n",
      " [ 0  1  0 ...  0  0  0]\n",
      " ...\n",
      " [ 0  0  0 ...  0  0  0]\n",
      " [ 0  0  0 ...  0  0  0]\n",
      " [ 0  0  0 ...  0  0  0]]\n",
      "\n",
      "Test set: Average loss: 3.2059, LCNN Loss: 0.2608, Accuracy: 216/507 (43%)\n",
      "\n"
     ]
    },
    {
     "data": {
      "application/vnd.jupyter.widget-view+json": {
       "model_id": "a60117354a244aa58d74c503043dae97",
       "version_major": 2,
       "version_minor": 0
      },
      "text/plain": [
       "  0%|          | 0/33 [00:00<?, ?it/s]"
      ]
     },
     "metadata": {},
     "output_type": "display_data"
    },
    {
     "data": {
      "application/vnd.jupyter.widget-view+json": {
       "model_id": "6dba6789f999453991cc6354999fef31",
       "version_major": 2,
       "version_minor": 0
      },
      "text/plain": [
       "  0%|          | 0/33 [00:00<?, ?it/s]"
      ]
     },
     "metadata": {},
     "output_type": "display_data"
    },
    {
     "name": "stdout",
     "output_type": "stream",
     "text": [
      "[[ 16   0   0 ...   0   0   0]\n",
      " [  0 238   0 ...   0   0   0]\n",
      " [  0   0   4 ...   0   0   0]\n",
      " ...\n",
      " [  0   0   0 ...   2   0   0]\n",
      " [  0   0   0 ...   0   2   0]\n",
      " [  0   0   0 ...   0   0   6]]\n",
      "\n",
      "Train set: Average loss: 0.0561, LCNN Loss: 1.2855, Accuracy: 2070/2079 (100%)\n",
      "\n"
     ]
    },
    {
     "data": {
      "application/vnd.jupyter.widget-view+json": {
       "model_id": "235b7e0ab5fd473086879bf98efb3975",
       "version_major": 2,
       "version_minor": 0
      },
      "text/plain": [
       "  0%|          | 0/8 [00:00<?, ?it/s]"
      ]
     },
     "metadata": {},
     "output_type": "display_data"
    },
    {
     "name": "stdout",
     "output_type": "stream",
     "text": [
      "[[ 1  0  0 ...  0  0  0]\n",
      " [ 0 54  0 ...  0  0  0]\n",
      " [ 0  0  0 ...  0  0  0]\n",
      " ...\n",
      " [ 0  0  0 ...  0  0  0]\n",
      " [ 0  0  0 ...  0  0  0]\n",
      " [ 0  0  0 ...  0  0  0]]\n",
      "\n",
      "Test set: Average loss: 3.3032, LCNN Loss: 0.2497, Accuracy: 195/507 (38%)\n",
      "\n"
     ]
    },
    {
     "data": {
      "application/vnd.jupyter.widget-view+json": {
       "model_id": "fa2d66d8188447239e5a97412f6b60b1",
       "version_major": 2,
       "version_minor": 0
      },
      "text/plain": [
       "  0%|          | 0/33 [00:00<?, ?it/s]"
      ]
     },
     "metadata": {},
     "output_type": "display_data"
    },
    {
     "data": {
      "application/vnd.jupyter.widget-view+json": {
       "model_id": "ce7f0af3ea2240758e6f40febf96b355",
       "version_major": 2,
       "version_minor": 0
      },
      "text/plain": [
       "  0%|          | 0/33 [00:00<?, ?it/s]"
      ]
     },
     "metadata": {},
     "output_type": "display_data"
    },
    {
     "name": "stdout",
     "output_type": "stream",
     "text": [
      "[[ 15   0   0 ...   0   0   0]\n",
      " [  0 238   0 ...   0   0   0]\n",
      " [  0   0   4 ...   0   0   0]\n",
      " ...\n",
      " [  0   0   0 ...   2   0   0]\n",
      " [  0   0   0 ...   0   2   0]\n",
      " [  0   0   0 ...   0   0   6]]\n",
      "\n",
      "Train set: Average loss: 0.0424, LCNN Loss: 1.2622, Accuracy: 2071/2079 (100%)\n",
      "\n"
     ]
    },
    {
     "data": {
      "application/vnd.jupyter.widget-view+json": {
       "model_id": "b49ba44a625147b9a26c94ff90fa056c",
       "version_major": 2,
       "version_minor": 0
      },
      "text/plain": [
       "  0%|          | 0/8 [00:00<?, ?it/s]"
      ]
     },
     "metadata": {},
     "output_type": "display_data"
    },
    {
     "name": "stdout",
     "output_type": "stream",
     "text": [
      "[[ 1  0  0 ...  0  0  0]\n",
      " [ 0 56  0 ...  0  0  0]\n",
      " [ 0  0  0 ...  0  0  0]\n",
      " ...\n",
      " [ 0  0  0 ...  0  0  0]\n",
      " [ 0  0  0 ...  0  0  0]\n",
      " [ 0  0  0 ...  0  0  0]]\n",
      "\n",
      "Test set: Average loss: 3.0828, LCNN Loss: 0.2430, Accuracy: 220/507 (43%)\n",
      "\n"
     ]
    },
    {
     "data": {
      "application/vnd.jupyter.widget-view+json": {
       "model_id": "819c9294b6814311a1d454e084794d38",
       "version_major": 2,
       "version_minor": 0
      },
      "text/plain": [
       "  0%|          | 0/33 [00:00<?, ?it/s]"
      ]
     },
     "metadata": {},
     "output_type": "display_data"
    },
    {
     "data": {
      "application/vnd.jupyter.widget-view+json": {
       "model_id": "1acc05cf63984deebcaec63b34f5a9f1",
       "version_major": 2,
       "version_minor": 0
      },
      "text/plain": [
       "  0%|          | 0/33 [00:00<?, ?it/s]"
      ]
     },
     "metadata": {},
     "output_type": "display_data"
    },
    {
     "name": "stdout",
     "output_type": "stream",
     "text": [
      "[[ 16   0   0 ...   0   0   0]\n",
      " [  0 238   0 ...   0   0   0]\n",
      " [  0   0   4 ...   0   0   0]\n",
      " ...\n",
      " [  0   0   0 ...   2   0   0]\n",
      " [  0   0   0 ...   0   2   0]\n",
      " [  0   0   0 ...   0   0   6]]\n",
      "\n",
      "Train set: Average loss: 0.0355, LCNN Loss: 1.2874, Accuracy: 2072/2079 (100%)\n",
      "\n"
     ]
    },
    {
     "data": {
      "application/vnd.jupyter.widget-view+json": {
       "model_id": "1bacb4ad2c8042d9aa1c5ba98cbde4e2",
       "version_major": 2,
       "version_minor": 0
      },
      "text/plain": [
       "  0%|          | 0/8 [00:00<?, ?it/s]"
      ]
     },
     "metadata": {},
     "output_type": "display_data"
    },
    {
     "name": "stdout",
     "output_type": "stream",
     "text": [
      "[[ 1  0  0 ...  0  0  0]\n",
      " [ 0 56  0 ...  0  0  0]\n",
      " [ 0  0  0 ...  0  0  0]\n",
      " ...\n",
      " [ 0  0  0 ...  0  0  0]\n",
      " [ 0  0  0 ...  0  0  0]\n",
      " [ 0  0  0 ...  0  0  0]]\n",
      "\n",
      "Test set: Average loss: 3.1719, LCNN Loss: 0.2430, Accuracy: 203/507 (40%)\n",
      "\n"
     ]
    },
    {
     "data": {
      "application/vnd.jupyter.widget-view+json": {
       "model_id": "ffddf168eedf4cc1aa7e6df561224b43",
       "version_major": 2,
       "version_minor": 0
      },
      "text/plain": [
       "  0%|          | 0/33 [00:00<?, ?it/s]"
      ]
     },
     "metadata": {},
     "output_type": "display_data"
    },
    {
     "data": {
      "application/vnd.jupyter.widget-view+json": {
       "model_id": "898b18f648c14662a04d43b3e7d19c72",
       "version_major": 2,
       "version_minor": 0
      },
      "text/plain": [
       "  0%|          | 0/33 [00:00<?, ?it/s]"
      ]
     },
     "metadata": {},
     "output_type": "display_data"
    },
    {
     "name": "stdout",
     "output_type": "stream",
     "text": [
      "[[ 15   0   0 ...   0   0   0]\n",
      " [  0 238   0 ...   0   0   0]\n",
      " [  0   0   4 ...   0   0   0]\n",
      " ...\n",
      " [  0   0   0 ...   2   0   0]\n",
      " [  0   0   0 ...   0   2   0]\n",
      " [  0   0   0 ...   0   0   6]]\n",
      "\n",
      "Train set: Average loss: 0.0341, LCNN Loss: 1.2080, Accuracy: 2072/2079 (100%)\n",
      "\n"
     ]
    },
    {
     "data": {
      "application/vnd.jupyter.widget-view+json": {
       "model_id": "7e50d21ea143493b9f22bce6014cd9a7",
       "version_major": 2,
       "version_minor": 0
      },
      "text/plain": [
       "  0%|          | 0/8 [00:00<?, ?it/s]"
      ]
     },
     "metadata": {},
     "output_type": "display_data"
    },
    {
     "name": "stdout",
     "output_type": "stream",
     "text": [
      "[[ 1  0  0 ...  0  0  0]\n",
      " [ 0 56  0 ...  0  0  0]\n",
      " [ 0  0  1 ...  0  0  0]\n",
      " ...\n",
      " [ 0  0  0 ...  0  0  0]\n",
      " [ 0  0  0 ...  0  0  0]\n",
      " [ 0  0  0 ...  0  0  0]]\n",
      "\n",
      "Test set: Average loss: 3.2225, LCNN Loss: 0.2271, Accuracy: 213/507 (42%)\n",
      "\n"
     ]
    },
    {
     "data": {
      "application/vnd.jupyter.widget-view+json": {
       "model_id": "c12599166d7c4b3aa3a29174c6e033d3",
       "version_major": 2,
       "version_minor": 0
      },
      "text/plain": [
       "  0%|          | 0/33 [00:00<?, ?it/s]"
      ]
     },
     "metadata": {},
     "output_type": "display_data"
    },
    {
     "data": {
      "application/vnd.jupyter.widget-view+json": {
       "model_id": "0164d430a8f341c48b4a1bc6818097b4",
       "version_major": 2,
       "version_minor": 0
      },
      "text/plain": [
       "  0%|          | 0/33 [00:00<?, ?it/s]"
      ]
     },
     "metadata": {},
     "output_type": "display_data"
    },
    {
     "name": "stdout",
     "output_type": "stream",
     "text": [
      "[[ 15   0   0 ...   0   0   0]\n",
      " [  0 238   0 ...   0   0   0]\n",
      " [  0   0   4 ...   0   0   0]\n",
      " ...\n",
      " [  0   0   0 ...   2   0   0]\n",
      " [  0   0   0 ...   0   2   0]\n",
      " [  0   0   0 ...   0   0   6]]\n",
      "\n",
      "Train set: Average loss: 0.0315, LCNN Loss: 1.1985, Accuracy: 2073/2079 (100%)\n",
      "\n"
     ]
    },
    {
     "data": {
      "application/vnd.jupyter.widget-view+json": {
       "model_id": "59a04b77682f43ef88d94ec8d2fc4a2b",
       "version_major": 2,
       "version_minor": 0
      },
      "text/plain": [
       "  0%|          | 0/8 [00:00<?, ?it/s]"
      ]
     },
     "metadata": {},
     "output_type": "display_data"
    },
    {
     "name": "stdout",
     "output_type": "stream",
     "text": [
      "[[ 2  0  0 ...  0  0  0]\n",
      " [ 0 57  0 ...  0  0  0]\n",
      " [ 0  0  0 ...  0  0  0]\n",
      " ...\n",
      " [ 0  0  0 ...  0  0  0]\n",
      " [ 0  0  0 ...  0  0  0]\n",
      " [ 0  0  0 ...  0  0  0]]\n",
      "\n",
      "Test set: Average loss: 3.0591, LCNN Loss: 0.2233, Accuracy: 224/507 (44%)\n",
      "\n"
     ]
    },
    {
     "data": {
      "application/vnd.jupyter.widget-view+json": {
       "model_id": "952382cde524418bb5c77d529a3ffb82",
       "version_major": 2,
       "version_minor": 0
      },
      "text/plain": [
       "  0%|          | 0/33 [00:00<?, ?it/s]"
      ]
     },
     "metadata": {},
     "output_type": "display_data"
    },
    {
     "data": {
      "application/vnd.jupyter.widget-view+json": {
       "model_id": "8a7c899e4ae045f18ec3260f60cffa90",
       "version_major": 2,
       "version_minor": 0
      },
      "text/plain": [
       "  0%|          | 0/33 [00:00<?, ?it/s]"
      ]
     },
     "metadata": {},
     "output_type": "display_data"
    },
    {
     "name": "stdout",
     "output_type": "stream",
     "text": [
      "[[ 15   0   0 ...   0   0   0]\n",
      " [  0 238   0 ...   0   0   0]\n",
      " [  0   0   4 ...   0   0   0]\n",
      " ...\n",
      " [  0   0   0 ...   2   0   0]\n",
      " [  0   0   0 ...   0   2   0]\n",
      " [  0   0   0 ...   0   0   6]]\n",
      "\n",
      "Train set: Average loss: 0.0285, LCNN Loss: 1.1523, Accuracy: 2073/2079 (100%)\n",
      "\n"
     ]
    },
    {
     "data": {
      "application/vnd.jupyter.widget-view+json": {
       "model_id": "e44be6853e5041cc8bf07589e63acdf2",
       "version_major": 2,
       "version_minor": 0
      },
      "text/plain": [
       "  0%|          | 0/8 [00:00<?, ?it/s]"
      ]
     },
     "metadata": {},
     "output_type": "display_data"
    },
    {
     "name": "stdout",
     "output_type": "stream",
     "text": [
      "[[ 1  0  0 ...  0  0  0]\n",
      " [ 0 56  0 ...  0  0  0]\n",
      " [ 0  0  0 ...  0  0  0]\n",
      " ...\n",
      " [ 0  0  0 ...  0  0  0]\n",
      " [ 0  0  0 ...  0  0  0]\n",
      " [ 0  0  0 ...  0  0  0]]\n",
      "\n",
      "Test set: Average loss: 3.1003, LCNN Loss: 0.2122, Accuracy: 217/507 (43%)\n",
      "\n"
     ]
    },
    {
     "data": {
      "application/vnd.jupyter.widget-view+json": {
       "model_id": "3fb7ff70e0db4b31bc58ca7866dfa2b2",
       "version_major": 2,
       "version_minor": 0
      },
      "text/plain": [
       "  0%|          | 0/33 [00:00<?, ?it/s]"
      ]
     },
     "metadata": {},
     "output_type": "display_data"
    },
    {
     "data": {
      "application/vnd.jupyter.widget-view+json": {
       "model_id": "40bc8c87e5ad4136813f10cdb3900844",
       "version_major": 2,
       "version_minor": 0
      },
      "text/plain": [
       "  0%|          | 0/33 [00:00<?, ?it/s]"
      ]
     },
     "metadata": {},
     "output_type": "display_data"
    },
    {
     "name": "stdout",
     "output_type": "stream",
     "text": [
      "[[ 16   0   0 ...   0   0   0]\n",
      " [  0 238   0 ...   0   0   0]\n",
      " [  0   0   4 ...   0   0   0]\n",
      " ...\n",
      " [  0   0   0 ...   2   0   0]\n",
      " [  0   0   0 ...   0   2   0]\n",
      " [  0   0   0 ...   0   0   6]]\n",
      "\n",
      "Train set: Average loss: 0.0273, LCNN Loss: 1.1739, Accuracy: 2073/2079 (100%)\n",
      "\n"
     ]
    },
    {
     "data": {
      "application/vnd.jupyter.widget-view+json": {
       "model_id": "716a896726704eafbe98c0b38e50d2ec",
       "version_major": 2,
       "version_minor": 0
      },
      "text/plain": [
       "  0%|          | 0/8 [00:00<?, ?it/s]"
      ]
     },
     "metadata": {},
     "output_type": "display_data"
    },
    {
     "name": "stdout",
     "output_type": "stream",
     "text": [
      "[[ 1  0  0 ...  0  0  0]\n",
      " [ 0 57  0 ...  0  0  0]\n",
      " [ 0  0  0 ...  0  0  0]\n",
      " ...\n",
      " [ 0  0  0 ...  0  0  0]\n",
      " [ 0  0  0 ...  0  0  0]\n",
      " [ 0  0  0 ...  0  0  0]]\n",
      "\n",
      "Test set: Average loss: 3.0459, LCNN Loss: 0.2189, Accuracy: 216/507 (43%)\n",
      "\n"
     ]
    },
    {
     "data": {
      "application/vnd.jupyter.widget-view+json": {
       "model_id": "8054a631a31f4af0a5db14fdfc45085d",
       "version_major": 2,
       "version_minor": 0
      },
      "text/plain": [
       "  0%|          | 0/33 [00:00<?, ?it/s]"
      ]
     },
     "metadata": {},
     "output_type": "display_data"
    },
    {
     "data": {
      "application/vnd.jupyter.widget-view+json": {
       "model_id": "6f9d35e464684c64b7c3bedc5f48ac71",
       "version_major": 2,
       "version_minor": 0
      },
      "text/plain": [
       "  0%|          | 0/33 [00:00<?, ?it/s]"
      ]
     },
     "metadata": {},
     "output_type": "display_data"
    },
    {
     "name": "stdout",
     "output_type": "stream",
     "text": [
      "[[ 14   0   0 ...   0   0   0]\n",
      " [  0 238   0 ...   0   0   0]\n",
      " [  0   0   4 ...   0   0   0]\n",
      " ...\n",
      " [  0   0   0 ...   2   0   0]\n",
      " [  0   0   0 ...   0   2   0]\n",
      " [  0   0   0 ...   0   0   6]]\n",
      "\n",
      "Train set: Average loss: 0.0765, LCNN Loss: 1.2268, Accuracy: 2056/2079 (99%)\n",
      "\n"
     ]
    },
    {
     "data": {
      "application/vnd.jupyter.widget-view+json": {
       "model_id": "bdfef35d7f6c41d68df24c775c890acf",
       "version_major": 2,
       "version_minor": 0
      },
      "text/plain": [
       "  0%|          | 0/8 [00:00<?, ?it/s]"
      ]
     },
     "metadata": {},
     "output_type": "display_data"
    },
    {
     "name": "stdout",
     "output_type": "stream",
     "text": [
      "[[ 2  0  0 ...  0  0  0]\n",
      " [ 0 55  0 ...  0  0  0]\n",
      " [ 0  0  0 ...  0  0  0]\n",
      " ...\n",
      " [ 0  0  0 ...  0  0  0]\n",
      " [ 0  0  0 ...  0  0  0]\n",
      " [ 0  0  0 ...  0  0  0]]\n",
      "\n",
      "Test set: Average loss: 3.3744, LCNN Loss: 0.2366, Accuracy: 207/507 (41%)\n",
      "\n"
     ]
    },
    {
     "data": {
      "application/vnd.jupyter.widget-view+json": {
       "model_id": "5bcf253237bf496b8e9ee6d48941e355",
       "version_major": 2,
       "version_minor": 0
      },
      "text/plain": [
       "  0%|          | 0/33 [00:00<?, ?it/s]"
      ]
     },
     "metadata": {},
     "output_type": "display_data"
    },
    {
     "data": {
      "application/vnd.jupyter.widget-view+json": {
       "model_id": "75b6003730c34ce9a537658282060f4b",
       "version_major": 2,
       "version_minor": 0
      },
      "text/plain": [
       "  0%|          | 0/33 [00:00<?, ?it/s]"
      ]
     },
     "metadata": {},
     "output_type": "display_data"
    },
    {
     "name": "stdout",
     "output_type": "stream",
     "text": [
      "[[ 15   0   0 ...   0   0   0]\n",
      " [  0 237   0 ...   0   0   0]\n",
      " [  0   0   4 ...   0   0   0]\n",
      " ...\n",
      " [  0   0   0 ...   2   0   0]\n",
      " [  0   0   0 ...   0   2   0]\n",
      " [  0   0   0 ...   0   0   6]]\n",
      "\n",
      "Train set: Average loss: 0.1375, LCNN Loss: 1.3942, Accuracy: 2015/2079 (97%)\n",
      "\n"
     ]
    },
    {
     "data": {
      "application/vnd.jupyter.widget-view+json": {
       "model_id": "bccb997f15ee4a38b9338d621fdaaa17",
       "version_major": 2,
       "version_minor": 0
      },
      "text/plain": [
       "  0%|          | 0/8 [00:00<?, ?it/s]"
      ]
     },
     "metadata": {},
     "output_type": "display_data"
    },
    {
     "name": "stdout",
     "output_type": "stream",
     "text": [
      "[[ 0  0  0 ...  0  0  0]\n",
      " [ 0 57  0 ...  0  0  0]\n",
      " [ 0  0  1 ...  0  0  0]\n",
      " ...\n",
      " [ 0  0  0 ...  0  0  0]\n",
      " [ 0  0  0 ...  0  0  0]\n",
      " [ 0  0  0 ...  0  0  0]]\n",
      "\n",
      "Test set: Average loss: 3.6628, LCNN Loss: 0.2817, Accuracy: 201/507 (40%)\n",
      "\n"
     ]
    },
    {
     "data": {
      "application/vnd.jupyter.widget-view+json": {
       "model_id": "8936de7e5f334fbd961a3f2a42329157",
       "version_major": 2,
       "version_minor": 0
      },
      "text/plain": [
       "  0%|          | 0/33 [00:00<?, ?it/s]"
      ]
     },
     "metadata": {},
     "output_type": "display_data"
    },
    {
     "data": {
      "application/vnd.jupyter.widget-view+json": {
       "model_id": "dcb3059bb9874d8bbeb6b2f46bcb0737",
       "version_major": 2,
       "version_minor": 0
      },
      "text/plain": [
       "  0%|          | 0/33 [00:00<?, ?it/s]"
      ]
     },
     "metadata": {},
     "output_type": "display_data"
    },
    {
     "name": "stdout",
     "output_type": "stream",
     "text": [
      "[[ 16   0   0 ...   0   0   0]\n",
      " [  0 238   0 ...   0   0   0]\n",
      " [  0   0   4 ...   0   0   0]\n",
      " ...\n",
      " [  0   0   0 ...   2   0   0]\n",
      " [  0   0   0 ...   0   2   0]\n",
      " [  0   0   0 ...   0   0   6]]\n",
      "\n",
      "Train set: Average loss: 0.1150, LCNN Loss: 1.2783, Accuracy: 2044/2079 (98%)\n",
      "\n"
     ]
    },
    {
     "data": {
      "application/vnd.jupyter.widget-view+json": {
       "model_id": "b420693b30cc43c8a10ea06e84be6159",
       "version_major": 2,
       "version_minor": 0
      },
      "text/plain": [
       "  0%|          | 0/8 [00:00<?, ?it/s]"
      ]
     },
     "metadata": {},
     "output_type": "display_data"
    },
    {
     "name": "stdout",
     "output_type": "stream",
     "text": [
      "[[ 1  0  0 ...  0  0  0]\n",
      " [ 0 57  0 ...  0  0  0]\n",
      " [ 0  0  0 ...  0  0  0]\n",
      " ...\n",
      " [ 0  0  0 ...  0  0  0]\n",
      " [ 0  0  0 ...  0  0  0]\n",
      " [ 0  0  0 ...  0  0  0]]\n",
      "\n",
      "Test set: Average loss: 3.5383, LCNN Loss: 0.2507, Accuracy: 189/507 (37%)\n",
      "\n"
     ]
    },
    {
     "data": {
      "application/vnd.jupyter.widget-view+json": {
       "model_id": "3399c595b1b44819b957b748fe687b64",
       "version_major": 2,
       "version_minor": 0
      },
      "text/plain": [
       "  0%|          | 0/33 [00:00<?, ?it/s]"
      ]
     },
     "metadata": {},
     "output_type": "display_data"
    },
    {
     "data": {
      "application/vnd.jupyter.widget-view+json": {
       "model_id": "1a7b0b13d84545b7bb65c91a47da6444",
       "version_major": 2,
       "version_minor": 0
      },
      "text/plain": [
       "  0%|          | 0/33 [00:00<?, ?it/s]"
      ]
     },
     "metadata": {},
     "output_type": "display_data"
    },
    {
     "name": "stdout",
     "output_type": "stream",
     "text": [
      "[[ 15   0   0 ...   0   0   0]\n",
      " [  0 238   0 ...   0   0   0]\n",
      " [  0   0   4 ...   0   0   0]\n",
      " ...\n",
      " [  0   0   0 ...   2   0   0]\n",
      " [  0   0   0 ...   0   2   0]\n",
      " [  0   0   0 ...   0   0   6]]\n",
      "\n",
      "Train set: Average loss: 0.0876, LCNN Loss: 1.2605, Accuracy: 2052/2079 (99%)\n",
      "\n"
     ]
    },
    {
     "data": {
      "application/vnd.jupyter.widget-view+json": {
       "model_id": "a895dfbb12664a54b1e8258c91966926",
       "version_major": 2,
       "version_minor": 0
      },
      "text/plain": [
       "  0%|          | 0/8 [00:00<?, ?it/s]"
      ]
     },
     "metadata": {},
     "output_type": "display_data"
    },
    {
     "name": "stdout",
     "output_type": "stream",
     "text": [
      "[[ 1  0  0 ...  0  0  0]\n",
      " [ 0 57  0 ...  0  0  0]\n",
      " [ 0  0  0 ...  0  0  0]\n",
      " ...\n",
      " [ 0  0  0 ...  0  0  0]\n",
      " [ 0  0  0 ...  0  0  0]\n",
      " [ 0  0  0 ...  0  0  0]]\n",
      "\n",
      "Test set: Average loss: 3.5676, LCNN Loss: 0.2443, Accuracy: 197/507 (39%)\n",
      "\n"
     ]
    },
    {
     "data": {
      "application/vnd.jupyter.widget-view+json": {
       "model_id": "284d306b119a46c0bc953652bca39276",
       "version_major": 2,
       "version_minor": 0
      },
      "text/plain": [
       "  0%|          | 0/33 [00:00<?, ?it/s]"
      ]
     },
     "metadata": {},
     "output_type": "display_data"
    },
    {
     "data": {
      "application/vnd.jupyter.widget-view+json": {
       "model_id": "f33a465240514ab38dee4eb8e0de8b9c",
       "version_major": 2,
       "version_minor": 0
      },
      "text/plain": [
       "  0%|          | 0/33 [00:00<?, ?it/s]"
      ]
     },
     "metadata": {},
     "output_type": "display_data"
    },
    {
     "name": "stdout",
     "output_type": "stream",
     "text": [
      "[[ 15   0   0 ...   0   0   0]\n",
      " [  0 238   0 ...   0   0   0]\n",
      " [  0   0   4 ...   0   0   0]\n",
      " ...\n",
      " [  0   0   0 ...   2   0   0]\n",
      " [  0   0   0 ...   0   1   0]\n",
      " [  0   0   0 ...   0   0   6]]\n",
      "\n",
      "Train set: Average loss: 0.1126, LCNN Loss: 1.1856, Accuracy: 2037/2079 (98%)\n",
      "\n"
     ]
    },
    {
     "data": {
      "application/vnd.jupyter.widget-view+json": {
       "model_id": "733900a31b6a4157814b411bb6293053",
       "version_major": 2,
       "version_minor": 0
      },
      "text/plain": [
       "  0%|          | 0/8 [00:00<?, ?it/s]"
      ]
     },
     "metadata": {},
     "output_type": "display_data"
    },
    {
     "name": "stdout",
     "output_type": "stream",
     "text": [
      "[[ 1  0  0 ...  0  0  0]\n",
      " [ 0 56  0 ...  0  0  0]\n",
      " [ 0  1  0 ...  0  0  0]\n",
      " ...\n",
      " [ 0  0  0 ...  0  0  0]\n",
      " [ 0  0  0 ...  0  0  0]\n",
      " [ 0  0  0 ...  0  0  0]]\n",
      "\n",
      "Test set: Average loss: 3.3671, LCNN Loss: 0.2316, Accuracy: 197/507 (39%)\n",
      "\n"
     ]
    },
    {
     "data": {
      "application/vnd.jupyter.widget-view+json": {
       "model_id": "7c554cc402864ff485412771c70e0a0f",
       "version_major": 2,
       "version_minor": 0
      },
      "text/plain": [
       "  0%|          | 0/33 [00:00<?, ?it/s]"
      ]
     },
     "metadata": {},
     "output_type": "display_data"
    },
    {
     "data": {
      "application/vnd.jupyter.widget-view+json": {
       "model_id": "d69f0bf024ff4d74b19907b0e0c9133f",
       "version_major": 2,
       "version_minor": 0
      },
      "text/plain": [
       "  0%|          | 0/33 [00:00<?, ?it/s]"
      ]
     },
     "metadata": {},
     "output_type": "display_data"
    },
    {
     "name": "stdout",
     "output_type": "stream",
     "text": [
      "[[ 16   0   0 ...   0   0   0]\n",
      " [  0 238   0 ...   0   0   0]\n",
      " [  0   0   4 ...   0   0   0]\n",
      " ...\n",
      " [  0   0   0 ...   2   0   0]\n",
      " [  0   0   0 ...   0   2   0]\n",
      " [  0   0   0 ...   0   0   6]]\n",
      "\n",
      "Train set: Average loss: 0.1535, LCNN Loss: 1.3126, Accuracy: 2018/2079 (97%)\n",
      "\n"
     ]
    },
    {
     "data": {
      "application/vnd.jupyter.widget-view+json": {
       "model_id": "ffba7364ce27447786a071137db8054d",
       "version_major": 2,
       "version_minor": 0
      },
      "text/plain": [
       "  0%|          | 0/8 [00:00<?, ?it/s]"
      ]
     },
     "metadata": {},
     "output_type": "display_data"
    },
    {
     "name": "stdout",
     "output_type": "stream",
     "text": [
      "[[ 1  0  0 ...  0  0  0]\n",
      " [ 0 58  0 ...  0  0  0]\n",
      " [ 0  0  0 ...  0  0  0]\n",
      " ...\n",
      " [ 0  0  0 ...  0  0  0]\n",
      " [ 0  0  0 ...  0  0  0]\n",
      " [ 0  0  0 ...  0  0  0]]\n",
      "\n",
      "Test set: Average loss: 3.6737, LCNN Loss: 0.2668, Accuracy: 176/507 (35%)\n",
      "\n"
     ]
    },
    {
     "data": {
      "application/vnd.jupyter.widget-view+json": {
       "model_id": "e0bb2c7c53254a189180726dbfcd0133",
       "version_major": 2,
       "version_minor": 0
      },
      "text/plain": [
       "  0%|          | 0/33 [00:00<?, ?it/s]"
      ]
     },
     "metadata": {},
     "output_type": "display_data"
    },
    {
     "data": {
      "application/vnd.jupyter.widget-view+json": {
       "model_id": "bda4945dea254feb944d055d9123c98d",
       "version_major": 2,
       "version_minor": 0
      },
      "text/plain": [
       "  0%|          | 0/33 [00:00<?, ?it/s]"
      ]
     },
     "metadata": {},
     "output_type": "display_data"
    },
    {
     "name": "stdout",
     "output_type": "stream",
     "text": [
      "[[ 14   0   0 ...   0   0   0]\n",
      " [  0 235   0 ...   0   0   0]\n",
      " [  0   1   2 ...   0   0   0]\n",
      " ...\n",
      " [  0   0   0 ...   2   0   0]\n",
      " [  0   0   0 ...   0   1   0]\n",
      " [  0   0   0 ...   0   0   5]]\n",
      "\n",
      "Train set: Average loss: 0.6289, LCNN Loss: 1.5693, Accuracy: 1717/2079 (83%)\n",
      "\n"
     ]
    },
    {
     "data": {
      "application/vnd.jupyter.widget-view+json": {
       "model_id": "a1c6022c3b2041c88f9e27498344ff84",
       "version_major": 2,
       "version_minor": 0
      },
      "text/plain": [
       "  0%|          | 0/8 [00:00<?, ?it/s]"
      ]
     },
     "metadata": {},
     "output_type": "display_data"
    },
    {
     "name": "stdout",
     "output_type": "stream",
     "text": [
      "[[ 2  0  0 ...  0  0  0]\n",
      " [ 0 51  0 ...  0  0  0]\n",
      " [ 0  0  0 ...  0  0  0]\n",
      " ...\n",
      " [ 0  0  0 ...  0  0  0]\n",
      " [ 0  0  0 ...  0  0  0]\n",
      " [ 0  0  0 ...  0  0  0]]\n",
      "\n",
      "Test set: Average loss: 4.4304, LCNN Loss: 0.3428, Accuracy: 172/507 (34%)\n",
      "\n"
     ]
    },
    {
     "data": {
      "application/vnd.jupyter.widget-view+json": {
       "model_id": "8d32625f6b5646f4a05b3be97cbf78c9",
       "version_major": 2,
       "version_minor": 0
      },
      "text/plain": [
       "  0%|          | 0/33 [00:00<?, ?it/s]"
      ]
     },
     "metadata": {},
     "output_type": "display_data"
    },
    {
     "data": {
      "application/vnd.jupyter.widget-view+json": {
       "model_id": "3f359cc4c9be43779c2bb207546c70b2",
       "version_major": 2,
       "version_minor": 0
      },
      "text/plain": [
       "  0%|          | 0/33 [00:00<?, ?it/s]"
      ]
     },
     "metadata": {},
     "output_type": "display_data"
    },
    {
     "name": "stdout",
     "output_type": "stream",
     "text": [
      "[[ 15   0   0 ...   0   0   0]\n",
      " [  0 238   0 ...   0   0   0]\n",
      " [  0   0   4 ...   0   0   0]\n",
      " ...\n",
      " [  0   0   0 ...   2   0   0]\n",
      " [  0   0   0 ...   0   2   0]\n",
      " [  0   0   0 ...   0   0   6]]\n",
      "\n",
      "Train set: Average loss: 0.0429, LCNN Loss: 1.2966, Accuracy: 2070/2079 (100%)\n",
      "\n"
     ]
    },
    {
     "data": {
      "application/vnd.jupyter.widget-view+json": {
       "model_id": "82b3470fc9864c3587e7f65b021aeb4d",
       "version_major": 2,
       "version_minor": 0
      },
      "text/plain": [
       "  0%|          | 0/8 [00:00<?, ?it/s]"
      ]
     },
     "metadata": {},
     "output_type": "display_data"
    },
    {
     "name": "stdout",
     "output_type": "stream",
     "text": [
      "[[ 1  0  0 ...  0  0  0]\n",
      " [ 0 55  0 ...  0  0  0]\n",
      " [ 0  0  0 ...  0  0  0]\n",
      " ...\n",
      " [ 0  0  0 ...  0  0  0]\n",
      " [ 0  0  0 ...  0  0  0]\n",
      " [ 0  0  0 ...  0  0  0]]\n",
      "\n",
      "Test set: Average loss: 3.2442, LCNN Loss: 0.2470, Accuracy: 210/507 (41%)\n",
      "\n"
     ]
    },
    {
     "data": {
      "application/vnd.jupyter.widget-view+json": {
       "model_id": "d50f37a6970547409b4f9c5c2b10101a",
       "version_major": 2,
       "version_minor": 0
      },
      "text/plain": [
       "  0%|          | 0/33 [00:00<?, ?it/s]"
      ]
     },
     "metadata": {},
     "output_type": "display_data"
    },
    {
     "data": {
      "application/vnd.jupyter.widget-view+json": {
       "model_id": "c7aa25426f074dd48500d89eedaae194",
       "version_major": 2,
       "version_minor": 0
      },
      "text/plain": [
       "  0%|          | 0/33 [00:00<?, ?it/s]"
      ]
     },
     "metadata": {},
     "output_type": "display_data"
    },
    {
     "name": "stdout",
     "output_type": "stream",
     "text": [
      "[[ 15   0   0 ...   0   0   0]\n",
      " [  0 237   0 ...   0   0   0]\n",
      " [  0   0   4 ...   0   0   0]\n",
      " ...\n",
      " [  0   0   0 ...   2   0   0]\n",
      " [  0   0   0 ...   0   2   0]\n",
      " [  0   0   0 ...   0   0   6]]\n",
      "\n",
      "Train set: Average loss: 0.1582, LCNN Loss: 1.1871, Accuracy: 1998/2079 (96%)\n",
      "\n"
     ]
    },
    {
     "data": {
      "application/vnd.jupyter.widget-view+json": {
       "model_id": "f88f29d3c92f423ba7445137ebd4b948",
       "version_major": 2,
       "version_minor": 0
      },
      "text/plain": [
       "  0%|          | 0/8 [00:00<?, ?it/s]"
      ]
     },
     "metadata": {},
     "output_type": "display_data"
    },
    {
     "name": "stdout",
     "output_type": "stream",
     "text": [
      "[[ 1  0  0 ...  0  0  0]\n",
      " [ 0 56  0 ...  0  0  0]\n",
      " [ 0  0  0 ...  0  0  0]\n",
      " ...\n",
      " [ 0  0  0 ...  0  0  0]\n",
      " [ 0  0  0 ...  0  0  0]\n",
      " [ 0  0  0 ...  0  0  0]]\n",
      "\n",
      "Test set: Average loss: 3.5470, LCNN Loss: 0.2344, Accuracy: 192/507 (38%)\n",
      "\n"
     ]
    },
    {
     "data": {
      "application/vnd.jupyter.widget-view+json": {
       "model_id": "6562a406fb244ed9947597f51d732047",
       "version_major": 2,
       "version_minor": 0
      },
      "text/plain": [
       "  0%|          | 0/33 [00:00<?, ?it/s]"
      ]
     },
     "metadata": {},
     "output_type": "display_data"
    },
    {
     "data": {
      "application/vnd.jupyter.widget-view+json": {
       "model_id": "2eed95b6502646baa7a2af2026e679aa",
       "version_major": 2,
       "version_minor": 0
      },
      "text/plain": [
       "  0%|          | 0/33 [00:00<?, ?it/s]"
      ]
     },
     "metadata": {},
     "output_type": "display_data"
    },
    {
     "name": "stdout",
     "output_type": "stream",
     "text": [
      "[[ 15   0   0 ...   0   0   0]\n",
      " [  0 229   0 ...   0   0   0]\n",
      " [  0   0   4 ...   0   0   0]\n",
      " ...\n",
      " [  0   0   0 ...   2   0   0]\n",
      " [  0   0   0 ...   0   2   0]\n",
      " [  0   0   0 ...   0   0   5]]\n",
      "\n",
      "Train set: Average loss: 0.5078, LCNN Loss: 1.6730, Accuracy: 1781/2079 (86%)\n",
      "\n"
     ]
    },
    {
     "data": {
      "application/vnd.jupyter.widget-view+json": {
       "model_id": "41cb48a895dc475bafafd4c739bea248",
       "version_major": 2,
       "version_minor": 0
      },
      "text/plain": [
       "  0%|          | 0/8 [00:00<?, ?it/s]"
      ]
     },
     "metadata": {},
     "output_type": "display_data"
    },
    {
     "name": "stdout",
     "output_type": "stream",
     "text": [
      "[[ 2  0  0 ...  0  0  0]\n",
      " [ 0 53  0 ...  0  0  0]\n",
      " [ 0  0  0 ...  0  0  0]\n",
      " ...\n",
      " [ 0  0  0 ...  0  0  0]\n",
      " [ 0  0  0 ...  0  0  0]\n",
      " [ 0  0  0 ...  0  0  0]]\n",
      "\n",
      "Test set: Average loss: 4.3379, LCNN Loss: 0.3511, Accuracy: 189/507 (37%)\n",
      "\n"
     ]
    },
    {
     "data": {
      "application/vnd.jupyter.widget-view+json": {
       "model_id": "3d76ffe1b8db4cf485a5a7d4f694f262",
       "version_major": 2,
       "version_minor": 0
      },
      "text/plain": [
       "  0%|          | 0/33 [00:00<?, ?it/s]"
      ]
     },
     "metadata": {},
     "output_type": "display_data"
    },
    {
     "data": {
      "application/vnd.jupyter.widget-view+json": {
       "model_id": "1e9762ed57ab4523946bc6521cf788db",
       "version_major": 2,
       "version_minor": 0
      },
      "text/plain": [
       "  0%|          | 0/33 [00:00<?, ?it/s]"
      ]
     },
     "metadata": {},
     "output_type": "display_data"
    },
    {
     "name": "stdout",
     "output_type": "stream",
     "text": [
      "[[  8   0   0 ...   0   0   0]\n",
      " [  0 178   0 ...   0   0   0]\n",
      " [  0   0   1 ...   0   0   0]\n",
      " ...\n",
      " [  0   0   0 ...   2   0   0]\n",
      " [  0   0   0 ...   0   2   0]\n",
      " [  0   0   0 ...   0   0   1]]\n",
      "\n",
      "Train set: Average loss: 1.4120, LCNN Loss: 1.8242, Accuracy: 1383/2079 (67%)\n",
      "\n"
     ]
    },
    {
     "data": {
      "application/vnd.jupyter.widget-view+json": {
       "model_id": "cba52dff37844bf3a8b8f0028c21f6f3",
       "version_major": 2,
       "version_minor": 0
      },
      "text/plain": [
       "  0%|          | 0/8 [00:00<?, ?it/s]"
      ]
     },
     "metadata": {},
     "output_type": "display_data"
    },
    {
     "name": "stdout",
     "output_type": "stream",
     "text": [
      "[[ 0  0  0 ...  0  0  0]\n",
      " [ 0 43  0 ...  0  0  0]\n",
      " [ 0  0  0 ...  0  0  0]\n",
      " ...\n",
      " [ 0  0  0 ...  0  0  0]\n",
      " [ 0  0  0 ...  0  0  0]\n",
      " [ 0  0  0 ...  0  0  0]]\n",
      "\n",
      "Test set: Average loss: 5.3651, LCNN Loss: 0.4123, Accuracy: 147/507 (29%)\n",
      "\n"
     ]
    },
    {
     "data": {
      "application/vnd.jupyter.widget-view+json": {
       "model_id": "712424147881488893491f03ae8756d0",
       "version_major": 2,
       "version_minor": 0
      },
      "text/plain": [
       "  0%|          | 0/33 [00:00<?, ?it/s]"
      ]
     },
     "metadata": {},
     "output_type": "display_data"
    },
    {
     "data": {
      "application/vnd.jupyter.widget-view+json": {
       "model_id": "63b88bea84054c5483c367486c11cc7b",
       "version_major": 2,
       "version_minor": 0
      },
      "text/plain": [
       "  0%|          | 0/33 [00:00<?, ?it/s]"
      ]
     },
     "metadata": {},
     "output_type": "display_data"
    },
    {
     "name": "stdout",
     "output_type": "stream",
     "text": [
      "[[ 11   0   0 ...   0   0   0]\n",
      " [  0 230   0 ...   0   0   0]\n",
      " [  0   0   3 ...   0   0   0]\n",
      " ...\n",
      " [  0   0   0 ...   2   0   0]\n",
      " [  0   0   0 ...   0   2   0]\n",
      " [  0   0   0 ...   0   0   5]]\n",
      "\n",
      "Train set: Average loss: 0.4236, LCNN Loss: 1.8613, Accuracy: 1831/2079 (88%)\n",
      "\n"
     ]
    },
    {
     "data": {
      "application/vnd.jupyter.widget-view+json": {
       "model_id": "46adcf5e30414bdcb5b88b5f5e1b2b7d",
       "version_major": 2,
       "version_minor": 0
      },
      "text/plain": [
       "  0%|          | 0/8 [00:00<?, ?it/s]"
      ]
     },
     "metadata": {},
     "output_type": "display_data"
    },
    {
     "name": "stdout",
     "output_type": "stream",
     "text": [
      "[[ 1  0  0 ...  0  0  0]\n",
      " [ 0 52  0 ...  0  0  0]\n",
      " [ 0  0  0 ...  0  0  0]\n",
      " ...\n",
      " [ 0  0  0 ...  0  0  0]\n",
      " [ 0  0  0 ...  0  0  0]\n",
      " [ 0  0  0 ...  0  0  0]]\n",
      "\n",
      "Test set: Average loss: 4.5438, LCNN Loss: 0.4021, Accuracy: 166/507 (33%)\n",
      "\n"
     ]
    },
    {
     "data": {
      "application/vnd.jupyter.widget-view+json": {
       "model_id": "90975dd9af3846e3b0f50bf613a2f8e4",
       "version_major": 2,
       "version_minor": 0
      },
      "text/plain": [
       "  0%|          | 0/33 [00:00<?, ?it/s]"
      ]
     },
     "metadata": {},
     "output_type": "display_data"
    },
    {
     "data": {
      "application/vnd.jupyter.widget-view+json": {
       "model_id": "28e86aa8c3b24c8d94ce2373f6c2cfcb",
       "version_major": 2,
       "version_minor": 0
      },
      "text/plain": [
       "  0%|          | 0/33 [00:00<?, ?it/s]"
      ]
     },
     "metadata": {},
     "output_type": "display_data"
    },
    {
     "name": "stdout",
     "output_type": "stream",
     "text": [
      "[[  9   0   0 ...   0   0   0]\n",
      " [  0 221   0 ...   0   0   0]\n",
      " [  0   0   4 ...   0   0   0]\n",
      " ...\n",
      " [  0   0   0 ...   1   0   0]\n",
      " [  0   0   0 ...   0   1   0]\n",
      " [  0   0   0 ...   0   0   6]]\n",
      "\n",
      "Train set: Average loss: 0.6129, LCNN Loss: 1.1691, Accuracy: 1729/2079 (83%)\n",
      "\n"
     ]
    },
    {
     "data": {
      "application/vnd.jupyter.widget-view+json": {
       "model_id": "464792a069474f55bc1102b9cd09b074",
       "version_major": 2,
       "version_minor": 0
      },
      "text/plain": [
       "  0%|          | 0/8 [00:00<?, ?it/s]"
      ]
     },
     "metadata": {},
     "output_type": "display_data"
    },
    {
     "name": "stdout",
     "output_type": "stream",
     "text": [
      "[[ 1  0  0 ...  0  0  0]\n",
      " [ 0 48  0 ...  0  0  0]\n",
      " [ 0  0  0 ...  0  0  0]\n",
      " ...\n",
      " [ 0  0  0 ...  0  0  0]\n",
      " [ 0  0  0 ...  0  0  0]\n",
      " [ 0  0  0 ...  0  0  0]]\n",
      "\n",
      "Test set: Average loss: 3.9850, LCNN Loss: 0.2524, Accuracy: 160/507 (32%)\n",
      "\n"
     ]
    },
    {
     "data": {
      "application/vnd.jupyter.widget-view+json": {
       "model_id": "b0e36dc5215f4dbfb203da4737bed899",
       "version_major": 2,
       "version_minor": 0
      },
      "text/plain": [
       "  0%|          | 0/33 [00:00<?, ?it/s]"
      ]
     },
     "metadata": {},
     "output_type": "display_data"
    },
    {
     "data": {
      "application/vnd.jupyter.widget-view+json": {
       "model_id": "1e7dabf17b9d4b2f9d9ee106fd52a1b7",
       "version_major": 2,
       "version_minor": 0
      },
      "text/plain": [
       "  0%|          | 0/33 [00:00<?, ?it/s]"
      ]
     },
     "metadata": {},
     "output_type": "display_data"
    },
    {
     "name": "stdout",
     "output_type": "stream",
     "text": [
      "[[ 14   0   0 ...   0   0   0]\n",
      " [  0 230   0 ...   0   0   0]\n",
      " [  0   0   4 ...   0   0   0]\n",
      " ...\n",
      " [  0   0   0 ...   2   0   0]\n",
      " [  0   0   0 ...   0   2   0]\n",
      " [  0   0   0 ...   0   0   5]]\n",
      "\n",
      "Train set: Average loss: 0.4541, LCNN Loss: 1.2412, Accuracy: 1844/2079 (89%)\n",
      "\n"
     ]
    },
    {
     "data": {
      "application/vnd.jupyter.widget-view+json": {
       "model_id": "5b476066cda94331b68ffddf14a43895",
       "version_major": 2,
       "version_minor": 0
      },
      "text/plain": [
       "  0%|          | 0/8 [00:00<?, ?it/s]"
      ]
     },
     "metadata": {},
     "output_type": "display_data"
    },
    {
     "name": "stdout",
     "output_type": "stream",
     "text": [
      "[[ 1  0  0 ...  0  0  0]\n",
      " [ 0 53  0 ...  0  0  0]\n",
      " [ 0  0  0 ...  0  0  0]\n",
      " ...\n",
      " [ 0  0  0 ...  0  0  0]\n",
      " [ 0  0  0 ...  0  0  0]\n",
      " [ 0  0  0 ...  0  0  0]]\n",
      "\n",
      "Test set: Average loss: 4.0078, LCNN Loss: 0.2635, Accuracy: 167/507 (33%)\n",
      "\n"
     ]
    },
    {
     "data": {
      "application/vnd.jupyter.widget-view+json": {
       "model_id": "33e0a502b79148439e47908a7f158689",
       "version_major": 2,
       "version_minor": 0
      },
      "text/plain": [
       "  0%|          | 0/33 [00:00<?, ?it/s]"
      ]
     },
     "metadata": {},
     "output_type": "display_data"
    },
    {
     "data": {
      "application/vnd.jupyter.widget-view+json": {
       "model_id": "a244440d69f74920977478eec1184819",
       "version_major": 2,
       "version_minor": 0
      },
      "text/plain": [
       "  0%|          | 0/33 [00:00<?, ?it/s]"
      ]
     },
     "metadata": {},
     "output_type": "display_data"
    },
    {
     "name": "stdout",
     "output_type": "stream",
     "text": [
      "[[ 14   0   0 ...   0   0   0]\n",
      " [  0 236   0 ...   0   0   0]\n",
      " [  0   1   2 ...   0   0   0]\n",
      " ...\n",
      " [  0   0   0 ...   2   0   0]\n",
      " [  0   2   0 ...   0   0   0]\n",
      " [  0   0   0 ...   0   0   6]]\n",
      "\n",
      "Train set: Average loss: 1.1269, LCNN Loss: 1.7792, Accuracy: 1524/2079 (73%)\n",
      "\n"
     ]
    },
    {
     "data": {
      "application/vnd.jupyter.widget-view+json": {
       "model_id": "e8a6281d24bf4a9f9e4cce53d84424c3",
       "version_major": 2,
       "version_minor": 0
      },
      "text/plain": [
       "  0%|          | 0/8 [00:00<?, ?it/s]"
      ]
     },
     "metadata": {},
     "output_type": "display_data"
    },
    {
     "name": "stdout",
     "output_type": "stream",
     "text": [
      "[[ 1  0  0 ...  0  0  0]\n",
      " [ 0 58  0 ...  0  0  0]\n",
      " [ 0  1  0 ...  0  0  0]\n",
      " ...\n",
      " [ 0  0  0 ...  0  0  0]\n",
      " [ 0  0  0 ...  0  0  0]\n",
      " [ 0  0  0 ...  0  0  0]]\n",
      "\n",
      "Test set: Average loss: 5.0827, LCNN Loss: 0.3860, Accuracy: 160/507 (32%)\n",
      "\n"
     ]
    },
    {
     "data": {
      "application/vnd.jupyter.widget-view+json": {
       "model_id": "89749e080a4948babef49616d05bf982",
       "version_major": 2,
       "version_minor": 0
      },
      "text/plain": [
       "  0%|          | 0/33 [00:00<?, ?it/s]"
      ]
     },
     "metadata": {},
     "output_type": "display_data"
    },
    {
     "data": {
      "application/vnd.jupyter.widget-view+json": {
       "model_id": "41156e06b8a44d288d979107338f9747",
       "version_major": 2,
       "version_minor": 0
      },
      "text/plain": [
       "  0%|          | 0/33 [00:00<?, ?it/s]"
      ]
     },
     "metadata": {},
     "output_type": "display_data"
    },
    {
     "name": "stdout",
     "output_type": "stream",
     "text": [
      "[[ 14   1   0 ...   0   0   0]\n",
      " [  0 238   0 ...   0   0   0]\n",
      " [  0   2   2 ...   0   0   0]\n",
      " ...\n",
      " [  0   0   0 ...   2   0   0]\n",
      " [  0   0   0 ...   0   2   0]\n",
      " [  0   0   0 ...   0   0   5]]\n",
      "\n",
      "Train set: Average loss: 0.4608, LCNN Loss: 1.3765, Accuracy: 1824/2079 (88%)\n",
      "\n"
     ]
    },
    {
     "data": {
      "application/vnd.jupyter.widget-view+json": {
       "model_id": "7e8b383fccad4e27a74867c2fa5d76f0",
       "version_major": 2,
       "version_minor": 0
      },
      "text/plain": [
       "  0%|          | 0/8 [00:00<?, ?it/s]"
      ]
     },
     "metadata": {},
     "output_type": "display_data"
    },
    {
     "name": "stdout",
     "output_type": "stream",
     "text": [
      "[[ 1  0  0 ...  0  0  0]\n",
      " [ 0 59  0 ...  0  0  0]\n",
      " [ 0  1  0 ...  0  0  0]\n",
      " ...\n",
      " [ 0  0  0 ...  0  0  0]\n",
      " [ 0  0  0 ...  0  0  0]\n",
      " [ 0  0  0 ...  0  0  0]]\n",
      "\n",
      "Test set: Average loss: 4.1554, LCNN Loss: 0.2850, Accuracy: 182/507 (36%)\n",
      "\n"
     ]
    },
    {
     "data": {
      "application/vnd.jupyter.widget-view+json": {
       "model_id": "e71daae0accf462f9441d77ea0751689",
       "version_major": 2,
       "version_minor": 0
      },
      "text/plain": [
       "  0%|          | 0/33 [00:00<?, ?it/s]"
      ]
     },
     "metadata": {},
     "output_type": "display_data"
    },
    {
     "data": {
      "application/vnd.jupyter.widget-view+json": {
       "model_id": "23766f042be4439d96b2c371f0907466",
       "version_major": 2,
       "version_minor": 0
      },
      "text/plain": [
       "  0%|          | 0/33 [00:00<?, ?it/s]"
      ]
     },
     "metadata": {},
     "output_type": "display_data"
    },
    {
     "name": "stdout",
     "output_type": "stream",
     "text": [
      "[[ 16   0   0 ...   0   0   0]\n",
      " [  0 234   0 ...   0   0   0]\n",
      " [  0   0   4 ...   0   0   0]\n",
      " ...\n",
      " [  0   0   0 ...   2   0   0]\n",
      " [  0   0   0 ...   0   2   0]\n",
      " [  0   0   0 ...   0   0   6]]\n",
      "\n",
      "Train set: Average loss: 0.0631, LCNN Loss: 1.4480, Accuracy: 2057/2079 (99%)\n",
      "\n"
     ]
    },
    {
     "data": {
      "application/vnd.jupyter.widget-view+json": {
       "model_id": "9a08ec333cf34c4bb5796c6d3e53a266",
       "version_major": 2,
       "version_minor": 0
      },
      "text/plain": [
       "  0%|          | 0/8 [00:00<?, ?it/s]"
      ]
     },
     "metadata": {},
     "output_type": "display_data"
    },
    {
     "name": "stdout",
     "output_type": "stream",
     "text": [
      "[[ 1  0  0 ...  0  0  0]\n",
      " [ 0 52  0 ...  0  0  0]\n",
      " [ 0  0  0 ...  0  0  0]\n",
      " ...\n",
      " [ 0  0  0 ...  0  0  0]\n",
      " [ 0  0  0 ...  0  0  0]\n",
      " [ 0  0  0 ...  0  0  0]]\n",
      "\n",
      "Test set: Average loss: 3.4744, LCNN Loss: 0.2764, Accuracy: 205/507 (40%)\n",
      "\n"
     ]
    },
    {
     "data": {
      "application/vnd.jupyter.widget-view+json": {
       "model_id": "d16f32c438ea4da18a35e439d7f1757f",
       "version_major": 2,
       "version_minor": 0
      },
      "text/plain": [
       "  0%|          | 0/33 [00:00<?, ?it/s]"
      ]
     },
     "metadata": {},
     "output_type": "display_data"
    },
    {
     "data": {
      "application/vnd.jupyter.widget-view+json": {
       "model_id": "bcf768ef15664201902a7f03776f7786",
       "version_major": 2,
       "version_minor": 0
      },
      "text/plain": [
       "  0%|          | 0/33 [00:00<?, ?it/s]"
      ]
     },
     "metadata": {},
     "output_type": "display_data"
    },
    {
     "name": "stdout",
     "output_type": "stream",
     "text": [
      "[[ 16   0   0 ...   0   0   0]\n",
      " [  0 238   0 ...   0   0   0]\n",
      " [  0   0   4 ...   0   0   0]\n",
      " ...\n",
      " [  0   0   0 ...   2   0   0]\n",
      " [  0   0   0 ...   0   2   0]\n",
      " [  0   0   0 ...   0   0   6]]\n",
      "\n",
      "Train set: Average loss: 0.0143, LCNN Loss: 1.2671, Accuracy: 2073/2079 (100%)\n",
      "\n"
     ]
    },
    {
     "data": {
      "application/vnd.jupyter.widget-view+json": {
       "model_id": "bbd03b9b82224ca4a2f015af221e2102",
       "version_major": 2,
       "version_minor": 0
      },
      "text/plain": [
       "  0%|          | 0/8 [00:00<?, ?it/s]"
      ]
     },
     "metadata": {},
     "output_type": "display_data"
    },
    {
     "name": "stdout",
     "output_type": "stream",
     "text": [
      "[[ 2  0  0 ...  0  0  0]\n",
      " [ 0 56  0 ...  0  0  0]\n",
      " [ 0  1  0 ...  0  0  0]\n",
      " ...\n",
      " [ 0  0  0 ...  0  0  0]\n",
      " [ 0  0  0 ...  0  0  0]\n",
      " [ 0  0  0 ...  0  0  0]]\n",
      "\n",
      "Test set: Average loss: 3.2113, LCNN Loss: 0.2228, Accuracy: 214/507 (42%)\n",
      "\n"
     ]
    },
    {
     "data": {
      "application/vnd.jupyter.widget-view+json": {
       "model_id": "77befb6768ad45a9a416cd369bcbd66d",
       "version_major": 2,
       "version_minor": 0
      },
      "text/plain": [
       "  0%|          | 0/33 [00:00<?, ?it/s]"
      ]
     },
     "metadata": {},
     "output_type": "display_data"
    },
    {
     "data": {
      "application/vnd.jupyter.widget-view+json": {
       "model_id": "8ba63eda793e4437b6dfc27f98320eaa",
       "version_major": 2,
       "version_minor": 0
      },
      "text/plain": [
       "  0%|          | 0/33 [00:00<?, ?it/s]"
      ]
     },
     "metadata": {},
     "output_type": "display_data"
    },
    {
     "name": "stdout",
     "output_type": "stream",
     "text": [
      "[[ 15   0   0 ...   0   0   0]\n",
      " [  0 238   0 ...   0   0   0]\n",
      " [  0   0   4 ...   0   0   0]\n",
      " ...\n",
      " [  0   0   0 ...   2   0   0]\n",
      " [  0   0   0 ...   0   2   0]\n",
      " [  0   0   0 ...   0   0   6]]\n",
      "\n",
      "Train set: Average loss: 0.0156, LCNN Loss: 1.3010, Accuracy: 2073/2079 (100%)\n",
      "\n"
     ]
    },
    {
     "data": {
      "application/vnd.jupyter.widget-view+json": {
       "model_id": "1286b15d7e614f40a4b192047848abbe",
       "version_major": 2,
       "version_minor": 0
      },
      "text/plain": [
       "  0%|          | 0/8 [00:00<?, ?it/s]"
      ]
     },
     "metadata": {},
     "output_type": "display_data"
    },
    {
     "name": "stdout",
     "output_type": "stream",
     "text": [
      "[[ 1  0  0 ...  0  0  0]\n",
      " [ 0 55  0 ...  0  0  0]\n",
      " [ 0  0  0 ...  0  0  0]\n",
      " ...\n",
      " [ 0  0  0 ...  0  0  0]\n",
      " [ 0  0  0 ...  0  0  0]\n",
      " [ 0  0  0 ...  0  0  0]]\n",
      "\n",
      "Test set: Average loss: 3.2220, LCNN Loss: 0.2279, Accuracy: 214/507 (42%)\n",
      "\n"
     ]
    },
    {
     "data": {
      "application/vnd.jupyter.widget-view+json": {
       "model_id": "294619ab740a4367be20c09801e0d939",
       "version_major": 2,
       "version_minor": 0
      },
      "text/plain": [
       "  0%|          | 0/33 [00:00<?, ?it/s]"
      ]
     },
     "metadata": {},
     "output_type": "display_data"
    },
    {
     "data": {
      "application/vnd.jupyter.widget-view+json": {
       "model_id": "c0118713bd07430fb1bb1d1a9a940bc4",
       "version_major": 2,
       "version_minor": 0
      },
      "text/plain": [
       "  0%|          | 0/33 [00:00<?, ?it/s]"
      ]
     },
     "metadata": {},
     "output_type": "display_data"
    },
    {
     "name": "stdout",
     "output_type": "stream",
     "text": [
      "[[ 16   0   0 ...   0   0   0]\n",
      " [  0 238   0 ...   0   0   0]\n",
      " [  0   0   4 ...   0   0   0]\n",
      " ...\n",
      " [  0   0   0 ...   2   0   0]\n",
      " [  0   0   0 ...   0   2   0]\n",
      " [  0   0   0 ...   0   0   6]]\n",
      "\n",
      "Train set: Average loss: 0.0282, LCNN Loss: 1.0611, Accuracy: 2072/2079 (100%)\n",
      "\n"
     ]
    },
    {
     "data": {
      "application/vnd.jupyter.widget-view+json": {
       "model_id": "8e8541ea53024e789275a56a607cd3f9",
       "version_major": 2,
       "version_minor": 0
      },
      "text/plain": [
       "  0%|          | 0/8 [00:00<?, ?it/s]"
      ]
     },
     "metadata": {},
     "output_type": "display_data"
    },
    {
     "name": "stdout",
     "output_type": "stream",
     "text": [
      "[[ 1  0  0 ...  0  0  0]\n",
      " [ 0 56  0 ...  0  0  0]\n",
      " [ 0  0  0 ...  0  0  0]\n",
      " ...\n",
      " [ 0  0  0 ...  0  0  0]\n",
      " [ 0  0  0 ...  0  0  0]\n",
      " [ 0  0  0 ...  0  0  0]]\n",
      "\n",
      "Test set: Average loss: 3.1562, LCNN Loss: 0.1887, Accuracy: 210/507 (41%)\n",
      "\n"
     ]
    },
    {
     "data": {
      "application/vnd.jupyter.widget-view+json": {
       "model_id": "8c89eceda6bc40f2912e23634bfcacec",
       "version_major": 2,
       "version_minor": 0
      },
      "text/plain": [
       "  0%|          | 0/33 [00:00<?, ?it/s]"
      ]
     },
     "metadata": {},
     "output_type": "display_data"
    },
    {
     "data": {
      "application/vnd.jupyter.widget-view+json": {
       "model_id": "9b332bf9ab7a4b319e1bf3e424594e64",
       "version_major": 2,
       "version_minor": 0
      },
      "text/plain": [
       "  0%|          | 0/33 [00:00<?, ?it/s]"
      ]
     },
     "metadata": {},
     "output_type": "display_data"
    },
    {
     "name": "stdout",
     "output_type": "stream",
     "text": [
      "[[ 16   0   0 ...   0   0   0]\n",
      " [  0 238   0 ...   0   0   0]\n",
      " [  0   0   4 ...   0   0   0]\n",
      " ...\n",
      " [  0   0   0 ...   2   0   0]\n",
      " [  0   0   0 ...   0   2   0]\n",
      " [  0   0   0 ...   0   0   6]]\n",
      "\n",
      "Train set: Average loss: 0.0124, LCNN Loss: 1.1318, Accuracy: 2074/2079 (100%)\n",
      "\n"
     ]
    },
    {
     "data": {
      "application/vnd.jupyter.widget-view+json": {
       "model_id": "c0fbc69a6866475f93b4c84abdbb61cc",
       "version_major": 2,
       "version_minor": 0
      },
      "text/plain": [
       "  0%|          | 0/8 [00:00<?, ?it/s]"
      ]
     },
     "metadata": {},
     "output_type": "display_data"
    },
    {
     "name": "stdout",
     "output_type": "stream",
     "text": [
      "[[ 2  0  0 ...  0  0  0]\n",
      " [ 0 57  0 ...  0  0  0]\n",
      " [ 0  0  0 ...  0  0  0]\n",
      " ...\n",
      " [ 0  0  0 ...  0  0  0]\n",
      " [ 0  0  0 ...  0  0  0]\n",
      " [ 0  0  0 ...  0  0  0]]\n",
      "\n",
      "Test set: Average loss: 3.0071, LCNN Loss: 0.1891, Accuracy: 220/507 (43%)\n",
      "\n"
     ]
    },
    {
     "data": {
      "application/vnd.jupyter.widget-view+json": {
       "model_id": "707bc00dddb94a01b12d4a60766f8749",
       "version_major": 2,
       "version_minor": 0
      },
      "text/plain": [
       "  0%|          | 0/33 [00:00<?, ?it/s]"
      ]
     },
     "metadata": {},
     "output_type": "display_data"
    },
    {
     "data": {
      "application/vnd.jupyter.widget-view+json": {
       "model_id": "2a25a2aa690f4e5fb09e9409b25807a4",
       "version_major": 2,
       "version_minor": 0
      },
      "text/plain": [
       "  0%|          | 0/33 [00:00<?, ?it/s]"
      ]
     },
     "metadata": {},
     "output_type": "display_data"
    },
    {
     "name": "stdout",
     "output_type": "stream",
     "text": [
      "[[ 15   0   0 ...   0   0   0]\n",
      " [  0 238   0 ...   0   0   0]\n",
      " [  0   0   4 ...   0   0   0]\n",
      " ...\n",
      " [  0   0   0 ...   2   0   0]\n",
      " [  0   0   0 ...   0   2   0]\n",
      " [  0   0   0 ...   0   0   6]]\n",
      "\n",
      "Train set: Average loss: 0.0131, LCNN Loss: 1.0267, Accuracy: 2074/2079 (100%)\n",
      "\n"
     ]
    },
    {
     "data": {
      "application/vnd.jupyter.widget-view+json": {
       "model_id": "f183e4ea8a20405c85f0f638c7245844",
       "version_major": 2,
       "version_minor": 0
      },
      "text/plain": [
       "  0%|          | 0/8 [00:00<?, ?it/s]"
      ]
     },
     "metadata": {},
     "output_type": "display_data"
    },
    {
     "name": "stdout",
     "output_type": "stream",
     "text": [
      "[[ 1  0  0 ...  0  0  0]\n",
      " [ 0 57  0 ...  0  0  0]\n",
      " [ 0  0  0 ...  0  0  0]\n",
      " ...\n",
      " [ 0  0  0 ...  0  0  0]\n",
      " [ 0  0  0 ...  0  0  0]\n",
      " [ 0  0  0 ...  0  0  0]]\n",
      "\n",
      "Test set: Average loss: 2.9730, LCNN Loss: 0.1688, Accuracy: 224/507 (44%)\n",
      "\n"
     ]
    },
    {
     "data": {
      "application/vnd.jupyter.widget-view+json": {
       "model_id": "18c66257d7a94f9daf053a9a597231f0",
       "version_major": 2,
       "version_minor": 0
      },
      "text/plain": [
       "  0%|          | 0/33 [00:00<?, ?it/s]"
      ]
     },
     "metadata": {},
     "output_type": "display_data"
    },
    {
     "data": {
      "application/vnd.jupyter.widget-view+json": {
       "model_id": "a3608c83966544b485147caaa85e58af",
       "version_major": 2,
       "version_minor": 0
      },
      "text/plain": [
       "  0%|          | 0/33 [00:00<?, ?it/s]"
      ]
     },
     "metadata": {},
     "output_type": "display_data"
    },
    {
     "name": "stdout",
     "output_type": "stream",
     "text": [
      "[[ 16   0   0 ...   0   0   0]\n",
      " [  0 238   0 ...   0   0   0]\n",
      " [  0   0   4 ...   0   0   0]\n",
      " ...\n",
      " [  0   0   0 ...   2   0   0]\n",
      " [  0   0   0 ...   0   2   0]\n",
      " [  0   0   0 ...   0   0   6]]\n",
      "\n",
      "Train set: Average loss: 0.0117, LCNN Loss: 1.0446, Accuracy: 2073/2079 (100%)\n",
      "\n"
     ]
    },
    {
     "data": {
      "application/vnd.jupyter.widget-view+json": {
       "model_id": "908f32f586474bb5ab86362b80d9a7c8",
       "version_major": 2,
       "version_minor": 0
      },
      "text/plain": [
       "  0%|          | 0/8 [00:00<?, ?it/s]"
      ]
     },
     "metadata": {},
     "output_type": "display_data"
    },
    {
     "name": "stdout",
     "output_type": "stream",
     "text": [
      "[[ 1  0  0 ...  0  0  0]\n",
      " [ 0 57  0 ...  0  0  0]\n",
      " [ 0  0  0 ...  0  0  0]\n",
      " ...\n",
      " [ 0  0  0 ...  0  0  0]\n",
      " [ 0  0  0 ...  0  0  0]\n",
      " [ 0  0  0 ...  0  0  0]]\n",
      "\n",
      "Test set: Average loss: 2.9936, LCNN Loss: 0.1685, Accuracy: 224/507 (44%)\n",
      "\n"
     ]
    },
    {
     "data": {
      "application/vnd.jupyter.widget-view+json": {
       "model_id": "4a731cce98994e659b568867752563ad",
       "version_major": 2,
       "version_minor": 0
      },
      "text/plain": [
       "  0%|          | 0/33 [00:00<?, ?it/s]"
      ]
     },
     "metadata": {},
     "output_type": "display_data"
    },
    {
     "data": {
      "application/vnd.jupyter.widget-view+json": {
       "model_id": "7c83cd1330cc474a9d8d3e3f29d76508",
       "version_major": 2,
       "version_minor": 0
      },
      "text/plain": [
       "  0%|          | 0/33 [00:00<?, ?it/s]"
      ]
     },
     "metadata": {},
     "output_type": "display_data"
    },
    {
     "name": "stdout",
     "output_type": "stream",
     "text": [
      "[[ 16   0   0 ...   0   0   0]\n",
      " [  0 238   0 ...   0   0   0]\n",
      " [  0   0   4 ...   0   0   0]\n",
      " ...\n",
      " [  0   0   0 ...   2   0   0]\n",
      " [  0   0   0 ...   0   2   0]\n",
      " [  0   0   0 ...   0   0   6]]\n",
      "\n",
      "Train set: Average loss: 0.0151, LCNN Loss: 0.9838, Accuracy: 2073/2079 (100%)\n",
      "\n"
     ]
    },
    {
     "data": {
      "application/vnd.jupyter.widget-view+json": {
       "model_id": "763ebbd79e1342ecbdce3b5eca54cefa",
       "version_major": 2,
       "version_minor": 0
      },
      "text/plain": [
       "  0%|          | 0/8 [00:00<?, ?it/s]"
      ]
     },
     "metadata": {},
     "output_type": "display_data"
    },
    {
     "name": "stdout",
     "output_type": "stream",
     "text": [
      "[[ 1  0  0 ...  0  0  0]\n",
      " [ 0 57  0 ...  0  0  0]\n",
      " [ 0  0  0 ...  0  0  0]\n",
      " ...\n",
      " [ 0  0  0 ...  0  0  0]\n",
      " [ 0  0  0 ...  0  0  0]\n",
      " [ 0  0  0 ...  0  0  0]]\n",
      "\n",
      "Test set: Average loss: 3.0672, LCNN Loss: 0.1611, Accuracy: 213/507 (42%)\n",
      "\n"
     ]
    },
    {
     "data": {
      "application/vnd.jupyter.widget-view+json": {
       "model_id": "abc9f2c792da4c0c80ac7217af0af705",
       "version_major": 2,
       "version_minor": 0
      },
      "text/plain": [
       "  0%|          | 0/33 [00:00<?, ?it/s]"
      ]
     },
     "metadata": {},
     "output_type": "display_data"
    },
    {
     "data": {
      "application/vnd.jupyter.widget-view+json": {
       "model_id": "d577f6b0513d4c2090ffa745b5fdb0e2",
       "version_major": 2,
       "version_minor": 0
      },
      "text/plain": [
       "  0%|          | 0/33 [00:00<?, ?it/s]"
      ]
     },
     "metadata": {},
     "output_type": "display_data"
    },
    {
     "name": "stdout",
     "output_type": "stream",
     "text": [
      "[[ 15   0   0 ...   0   0   0]\n",
      " [  0 238   0 ...   0   0   0]\n",
      " [  0   0   4 ...   0   0   0]\n",
      " ...\n",
      " [  0   0   0 ...   2   0   0]\n",
      " [  0   0   0 ...   0   2   0]\n",
      " [  0   0   0 ...   0   0   6]]\n",
      "\n",
      "Train set: Average loss: 0.0159, LCNN Loss: 0.9991, Accuracy: 2075/2079 (100%)\n",
      "\n"
     ]
    },
    {
     "data": {
      "application/vnd.jupyter.widget-view+json": {
       "model_id": "54268bc251fb4c48a7b78065ff118e4f",
       "version_major": 2,
       "version_minor": 0
      },
      "text/plain": [
       "  0%|          | 0/8 [00:00<?, ?it/s]"
      ]
     },
     "metadata": {},
     "output_type": "display_data"
    },
    {
     "name": "stdout",
     "output_type": "stream",
     "text": [
      "[[ 2  0  0 ...  0  0  0]\n",
      " [ 0 57  0 ...  0  0  0]\n",
      " [ 0  0  0 ...  0  0  0]\n",
      " ...\n",
      " [ 0  0  0 ...  0  0  0]\n",
      " [ 0  0  0 ...  0  0  0]\n",
      " [ 0  0  0 ...  0  0  0]]\n",
      "\n",
      "Test set: Average loss: 3.1102, LCNN Loss: 0.1668, Accuracy: 215/507 (42%)\n",
      "\n"
     ]
    },
    {
     "data": {
      "application/vnd.jupyter.widget-view+json": {
       "model_id": "967d01445e7544a88a05cbe1ac3a284b",
       "version_major": 2,
       "version_minor": 0
      },
      "text/plain": [
       "  0%|          | 0/33 [00:00<?, ?it/s]"
      ]
     },
     "metadata": {},
     "output_type": "display_data"
    },
    {
     "data": {
      "application/vnd.jupyter.widget-view+json": {
       "model_id": "b5932650ebea4aef93adac14ae44fbee",
       "version_major": 2,
       "version_minor": 0
      },
      "text/plain": [
       "  0%|          | 0/33 [00:00<?, ?it/s]"
      ]
     },
     "metadata": {},
     "output_type": "display_data"
    },
    {
     "name": "stdout",
     "output_type": "stream",
     "text": [
      "[[ 16   0   0 ...   0   0   0]\n",
      " [  0 238   0 ...   0   0   0]\n",
      " [  0   0   4 ...   0   0   0]\n",
      " ...\n",
      " [  0   0   0 ...   2   0   0]\n",
      " [  0   0   0 ...   0   2   0]\n",
      " [  0   0   0 ...   0   0   6]]\n",
      "\n",
      "Train set: Average loss: 0.0104, LCNN Loss: 0.9843, Accuracy: 2074/2079 (100%)\n",
      "\n"
     ]
    },
    {
     "data": {
      "application/vnd.jupyter.widget-view+json": {
       "model_id": "e436bc2bf9e443a5aae9d10d9bee92be",
       "version_major": 2,
       "version_minor": 0
      },
      "text/plain": [
       "  0%|          | 0/8 [00:00<?, ?it/s]"
      ]
     },
     "metadata": {},
     "output_type": "display_data"
    },
    {
     "name": "stdout",
     "output_type": "stream",
     "text": [
      "[[ 2  0  0 ...  0  0  0]\n",
      " [ 0 57  0 ...  0  0  0]\n",
      " [ 0  0  0 ...  0  0  0]\n",
      " ...\n",
      " [ 0  0  0 ...  0  0  0]\n",
      " [ 0  0  0 ...  0  0  0]\n",
      " [ 0  0  0 ...  0  0  0]]\n",
      "\n",
      "Test set: Average loss: 2.9685, LCNN Loss: 0.1575, Accuracy: 220/507 (43%)\n",
      "\n"
     ]
    },
    {
     "data": {
      "application/vnd.jupyter.widget-view+json": {
       "model_id": "a5c0ecd8fba249cc85d61cf367f3e66e",
       "version_major": 2,
       "version_minor": 0
      },
      "text/plain": [
       "  0%|          | 0/33 [00:00<?, ?it/s]"
      ]
     },
     "metadata": {},
     "output_type": "display_data"
    },
    {
     "data": {
      "application/vnd.jupyter.widget-view+json": {
       "model_id": "fe5d1a9eb2f749c5a5ddc158d5a7b77e",
       "version_major": 2,
       "version_minor": 0
      },
      "text/plain": [
       "  0%|          | 0/33 [00:00<?, ?it/s]"
      ]
     },
     "metadata": {},
     "output_type": "display_data"
    },
    {
     "name": "stdout",
     "output_type": "stream",
     "text": [
      "[[ 16   0   0 ...   0   0   0]\n",
      " [  0 238   0 ...   0   0   0]\n",
      " [  0   0   4 ...   0   0   0]\n",
      " ...\n",
      " [  0   0   0 ...   2   0   0]\n",
      " [  0   0   0 ...   0   2   0]\n",
      " [  0   0   0 ...   0   0   6]]\n",
      "\n",
      "Train set: Average loss: 0.0118, LCNN Loss: 0.9350, Accuracy: 2075/2079 (100%)\n",
      "\n"
     ]
    },
    {
     "data": {
      "application/vnd.jupyter.widget-view+json": {
       "model_id": "facc3801d3b2467cac8a0bc03c1eec2a",
       "version_major": 2,
       "version_minor": 0
      },
      "text/plain": [
       "  0%|          | 0/8 [00:00<?, ?it/s]"
      ]
     },
     "metadata": {},
     "output_type": "display_data"
    },
    {
     "name": "stdout",
     "output_type": "stream",
     "text": [
      "[[ 2  0  0 ...  0  0  0]\n",
      " [ 0 57  0 ...  0  0  0]\n",
      " [ 0  0  0 ...  0  0  0]\n",
      " ...\n",
      " [ 0  0  0 ...  0  0  0]\n",
      " [ 0  0  0 ...  0  0  0]\n",
      " [ 0  0  0 ...  0  0  0]]\n",
      "\n",
      "Test set: Average loss: 2.9772, LCNN Loss: 0.1497, Accuracy: 221/507 (44%)\n",
      "\n"
     ]
    },
    {
     "data": {
      "application/vnd.jupyter.widget-view+json": {
       "model_id": "0191c59d903b454caf66f9c0a0a91b78",
       "version_major": 2,
       "version_minor": 0
      },
      "text/plain": [
       "  0%|          | 0/33 [00:00<?, ?it/s]"
      ]
     },
     "metadata": {},
     "output_type": "display_data"
    },
    {
     "data": {
      "application/vnd.jupyter.widget-view+json": {
       "model_id": "db7f365b55b04daa83933d2d50c5e26e",
       "version_major": 2,
       "version_minor": 0
      },
      "text/plain": [
       "  0%|          | 0/33 [00:00<?, ?it/s]"
      ]
     },
     "metadata": {},
     "output_type": "display_data"
    },
    {
     "name": "stdout",
     "output_type": "stream",
     "text": [
      "[[ 15   0   0 ...   0   0   0]\n",
      " [  0 238   0 ...   0   0   0]\n",
      " [  0   0   4 ...   0   0   0]\n",
      " ...\n",
      " [  0   0   0 ...   2   0   0]\n",
      " [  0   0   0 ...   0   2   0]\n",
      " [  0   0   0 ...   0   0   6]]\n",
      "\n",
      "Train set: Average loss: 0.0109, LCNN Loss: 0.9477, Accuracy: 2074/2079 (100%)\n",
      "\n"
     ]
    },
    {
     "data": {
      "application/vnd.jupyter.widget-view+json": {
       "model_id": "eb17e32e10ff41d3809609e2555e4ec0",
       "version_major": 2,
       "version_minor": 0
      },
      "text/plain": [
       "  0%|          | 0/8 [00:00<?, ?it/s]"
      ]
     },
     "metadata": {},
     "output_type": "display_data"
    },
    {
     "name": "stdout",
     "output_type": "stream",
     "text": [
      "[[ 2  0  0 ...  0  0  0]\n",
      " [ 0 57  0 ...  0  0  0]\n",
      " [ 0  0  0 ...  0  0  0]\n",
      " ...\n",
      " [ 0  0  0 ...  0  0  0]\n",
      " [ 0  0  0 ...  0  0  0]\n",
      " [ 0  0  0 ...  0  0  0]]\n",
      "\n",
      "Test set: Average loss: 2.9183, LCNN Loss: 0.1511, Accuracy: 214/507 (42%)\n",
      "\n"
     ]
    },
    {
     "data": {
      "application/vnd.jupyter.widget-view+json": {
       "model_id": "d94f976a0c6d4ae7947af8921fc06765",
       "version_major": 2,
       "version_minor": 0
      },
      "text/plain": [
       "  0%|          | 0/33 [00:00<?, ?it/s]"
      ]
     },
     "metadata": {},
     "output_type": "display_data"
    },
    {
     "data": {
      "application/vnd.jupyter.widget-view+json": {
       "model_id": "6a1f7d927ba2498594c50878e5b6b270",
       "version_major": 2,
       "version_minor": 0
      },
      "text/plain": [
       "  0%|          | 0/33 [00:00<?, ?it/s]"
      ]
     },
     "metadata": {},
     "output_type": "display_data"
    },
    {
     "name": "stdout",
     "output_type": "stream",
     "text": [
      "[[ 16   0   0 ...   0   0   0]\n",
      " [  0 238   0 ...   0   0   0]\n",
      " [  0   0   4 ...   0   0   0]\n",
      " ...\n",
      " [  0   0   0 ...   2   0   0]\n",
      " [  0   0   0 ...   0   2   0]\n",
      " [  0   0   0 ...   0   0   6]]\n",
      "\n",
      "Train set: Average loss: 0.0094, LCNN Loss: 0.9335, Accuracy: 2074/2079 (100%)\n",
      "\n"
     ]
    },
    {
     "data": {
      "application/vnd.jupyter.widget-view+json": {
       "model_id": "ef4da6c76aad481294bf2b1ac8f535bc",
       "version_major": 2,
       "version_minor": 0
      },
      "text/plain": [
       "  0%|          | 0/8 [00:00<?, ?it/s]"
      ]
     },
     "metadata": {},
     "output_type": "display_data"
    },
    {
     "name": "stdout",
     "output_type": "stream",
     "text": [
      "[[ 2  0  0 ...  0  0  0]\n",
      " [ 0 57  0 ...  0  0  0]\n",
      " [ 0  0  0 ...  0  0  0]\n",
      " ...\n",
      " [ 0  0  0 ...  0  0  0]\n",
      " [ 0  0  0 ...  0  0  0]\n",
      " [ 0  0  0 ...  0  0  0]]\n",
      "\n",
      "Test set: Average loss: 2.9777, LCNN Loss: 0.1488, Accuracy: 220/507 (43%)\n",
      "\n"
     ]
    },
    {
     "data": {
      "application/vnd.jupyter.widget-view+json": {
       "model_id": "e61931796a304203b13b55285e3d0521",
       "version_major": 2,
       "version_minor": 0
      },
      "text/plain": [
       "  0%|          | 0/33 [00:00<?, ?it/s]"
      ]
     },
     "metadata": {},
     "output_type": "display_data"
    },
    {
     "data": {
      "application/vnd.jupyter.widget-view+json": {
       "model_id": "cda16d2b9a3b4e98b984838fa76ea99b",
       "version_major": 2,
       "version_minor": 0
      },
      "text/plain": [
       "  0%|          | 0/33 [00:00<?, ?it/s]"
      ]
     },
     "metadata": {},
     "output_type": "display_data"
    },
    {
     "name": "stdout",
     "output_type": "stream",
     "text": [
      "[[ 16   0   0 ...   0   0   0]\n",
      " [  0 238   0 ...   0   0   0]\n",
      " [  0   0   4 ...   0   0   0]\n",
      " ...\n",
      " [  0   0   0 ...   2   0   0]\n",
      " [  0   0   0 ...   0   2   0]\n",
      " [  0   0   0 ...   0   0   6]]\n",
      "\n",
      "Train set: Average loss: 0.0092, LCNN Loss: 0.9284, Accuracy: 2075/2079 (100%)\n",
      "\n"
     ]
    },
    {
     "data": {
      "application/vnd.jupyter.widget-view+json": {
       "model_id": "fcc8015ea3e84c6ca55f1c3f05711f9d",
       "version_major": 2,
       "version_minor": 0
      },
      "text/plain": [
       "  0%|          | 0/8 [00:00<?, ?it/s]"
      ]
     },
     "metadata": {},
     "output_type": "display_data"
    },
    {
     "name": "stdout",
     "output_type": "stream",
     "text": [
      "[[ 2  0  0 ...  0  0  0]\n",
      " [ 0 57  0 ...  0  0  0]\n",
      " [ 0  0  0 ...  0  0  0]\n",
      " ...\n",
      " [ 0  0  0 ...  0  0  0]\n",
      " [ 0  0  0 ...  0  0  0]\n",
      " [ 0  0  0 ...  0  0  0]]\n",
      "\n",
      "Test set: Average loss: 2.9756, LCNN Loss: 0.1458, Accuracy: 220/507 (43%)\n",
      "\n"
     ]
    },
    {
     "data": {
      "application/vnd.jupyter.widget-view+json": {
       "model_id": "e40dfe1d15264264bf7cfeae7d146d4e",
       "version_major": 2,
       "version_minor": 0
      },
      "text/plain": [
       "  0%|          | 0/33 [00:00<?, ?it/s]"
      ]
     },
     "metadata": {},
     "output_type": "display_data"
    },
    {
     "data": {
      "application/vnd.jupyter.widget-view+json": {
       "model_id": "5455db76fc2a42bcad7e9185f05e5277",
       "version_major": 2,
       "version_minor": 0
      },
      "text/plain": [
       "  0%|          | 0/33 [00:00<?, ?it/s]"
      ]
     },
     "metadata": {},
     "output_type": "display_data"
    },
    {
     "name": "stdout",
     "output_type": "stream",
     "text": [
      "[[ 15   0   0 ...   0   0   0]\n",
      " [  0 238   0 ...   0   0   0]\n",
      " [  0   0   4 ...   0   0   0]\n",
      " ...\n",
      " [  0   0   0 ...   2   0   0]\n",
      " [  0   0   0 ...   0   2   0]\n",
      " [  0   0   0 ...   0   0   6]]\n",
      "\n",
      "Train set: Average loss: 0.0113, LCNN Loss: 0.8869, Accuracy: 2073/2079 (100%)\n",
      "\n"
     ]
    },
    {
     "data": {
      "application/vnd.jupyter.widget-view+json": {
       "model_id": "76cad215b2b14f51bd1044a535ea23a3",
       "version_major": 2,
       "version_minor": 0
      },
      "text/plain": [
       "  0%|          | 0/8 [00:00<?, ?it/s]"
      ]
     },
     "metadata": {},
     "output_type": "display_data"
    },
    {
     "name": "stdout",
     "output_type": "stream",
     "text": [
      "[[ 2  0  0 ...  0  0  0]\n",
      " [ 0 57  0 ...  0  0  0]\n",
      " [ 0  0  0 ...  0  0  0]\n",
      " ...\n",
      " [ 0  0  0 ...  0  0  0]\n",
      " [ 0  0  0 ...  0  0  0]\n",
      " [ 0  0  0 ...  0  0  0]]\n",
      "\n",
      "Test set: Average loss: 2.9193, LCNN Loss: 0.1407, Accuracy: 220/507 (43%)\n",
      "\n",
      "[3.801373157437, 3.286652697571887, 3.0391675904142335, 2.8279987975575134, 3.203590800407817, 3.046025061962867, 2.4952828947198453, 2.367922285189131, 2.6863950735792166, 2.4979515020637457, 2.275592743404328, 2.143899024937691, 2.1809768089599024, 2.1167133674419745, 2.1617085877492372, 2.194235577383771, 1.7222653472004974, 1.9837062903583595, 2.062719360689179, 1.391545531037566, 1.5292463059491868, 1.2062694610111298, 1.1577920716447634, 1.2082401411415236, 1.2064180103502002, 0.7348028506838169, 0.8598632096900224, 0.9801043381537309, 0.6698209057065259, 0.7112385931927863, 0.5425458782392376, 0.3306147578589443, 0.8096109631544355, 0.4937825141014991, 0.4151114816560144, 0.18480979599248565, 0.2895869461030212, 0.16891558162291043, 0.1655205127538082, 0.09975865645268721, 0.05885458978796992, 0.04268673717430889, 0.05605373777065672, 0.042356020788437705, 0.03545216885594693, 0.03408529252143592, 0.0315367311970324, 0.02850524031123959, 0.02729955807278052, 0.07650960781873563, 0.13748977917097346, 0.11496477049093168, 0.08761354230125688, 0.11261034871936705, 0.15353364838952913, 0.6289059940354649, 0.042887149893818935, 0.15815348577017735, 0.5078388115945718, 1.4120394388834636, 0.42355659433486886, 0.612896183925847, 0.45407384447663834, 1.12687274296161, 0.46075535049915545, 0.06306642239457315, 0.014320489834454726, 0.015617491097734661, 0.02823992036981844, 0.012426130405522815, 0.013091295477345105, 0.01167231903533743, 0.0150877764415374, 0.015937207280127347, 0.01037269075969597, 0.01175762505815716, 0.010862791578376333, 0.009437387023423944, 0.009190012703095565, 0.011257630463343736] [tensor(0.3102), tensor(0.3700), tensor(0.3466), tensor(0.4077), tensor(0.4528), tensor(0.4882), tensor(0.4303), tensor(0.3931), tensor(0.4995), tensor(0.4890), tensor(0.4825), tensor(0.5801), tensor(0.6009), tensor(0.6429), tensor(0.6558), tensor(0.7245), tensor(0.6601), tensor(0.7467), tensor(0.6892), tensor(0.7619), tensor(0.8268), tensor(0.9478), tensor(0.9597), tensor(0.9085), tensor(0.8565), tensor(1.0779), tensor(0.9023), tensor(1.1707), tensor(1.1171), tensor(1.0722), tensor(1.1582), tensor(1.4047), tensor(1.1944), tensor(1.3428), tensor(1.2382), tensor(1.3318), tensor(1.5308), tensor(1.3737), tensor(1.3572), tensor(1.3232), tensor(1.2815), tensor(1.3366), tensor(1.2855), tensor(1.2622), tensor(1.2874), tensor(1.2080), tensor(1.1985), tensor(1.1523), tensor(1.1739), tensor(1.2268), tensor(1.3942), tensor(1.2783), tensor(1.2605), tensor(1.1856), tensor(1.3126), tensor(1.5693), tensor(1.2966), tensor(1.1871), tensor(1.6730), tensor(1.8242), tensor(1.8613), tensor(1.1691), tensor(1.2412), tensor(1.7792), tensor(1.3765), tensor(1.4480), tensor(1.2671), tensor(1.3010), tensor(1.0611), tensor(1.1318), tensor(1.0267), tensor(1.0446), tensor(0.9838), tensor(0.9991), tensor(0.9843), tensor(0.9350), tensor(0.9477), tensor(0.9335), tensor(0.9284), tensor(0.8869)] [8.754208754208754, 22.174122174122175, 27.753727753727755, 30.832130832130833, 25.541125541125542, 30.543530543530544, 35.834535834535835, 40.30784030784031, 34.1029341029341, 36.94083694083694, 41.702741702741704, 42.712842712842715, 43.04954304954305, 44.54064454064454, 43.0976430976431, 44.10774410774411, 54.785954785954786, 47.66714766714767, 46.51274651274651, 62.62626262626262, 58.633958633958635, 67.0995670995671, 67.24386724386724, 66.57046657046656, 64.5021645021645, 79.99037999037999, 77.97017797017797, 68.97546897546897, 80.75998075998076, 80.37518037518038, 85.76238576238576, 92.44829244829245, 77.05627705627705, 87.44588744588745, 91.24579124579125, 97.4987974987975, 94.22799422799423, 97.4987974987975, 97.35449735449735, 99.18229918229918, 99.51899951899952, 99.71139971139971, 99.56709956709956, 99.61519961519961, 99.66329966329967, 99.66329966329967, 99.71139971139971, 99.71139971139971, 99.71139971139971, 98.8936988936989, 96.92159692159692, 98.31649831649831, 98.7012987012987, 97.97979797979798, 97.06589706589706, 82.58778258778258, 99.56709956709956, 96.1038961038961, 85.66618566618567, 66.52236652236653, 88.07118807118808, 83.16498316498317, 88.6964886964887, 73.3044733044733, 87.73448773448773, 98.94179894179894, 99.71139971139971, 99.71139971139971, 99.66329966329967, 99.75949975949976, 99.75949975949976, 99.71139971139971, 99.71139971139971, 99.80759980759981, 99.75949975949976, 99.80759980759981, 99.75949975949976, 99.75949975949976, 99.80759980759981, 99.71139971139971] [3.71070449498043, 3.245538263866417, 3.026178724902151, 2.9197388598199425, 3.335529876648792, 3.2793438552164234, 2.799575203739445, 2.6996985441128882, 3.043559990455883, 2.9994122507069, 2.7782966869587495, 2.874937219262358, 2.9677828275240383, 2.879928107327493, 3.012177898098496, 3.2577440611709503, 2.8272574159520616, 3.1035877054729877, 3.2540183584600744, 2.9885594595583704, 3.1628926896014393, 2.879460923535349, 3.146572255994206, 3.0423022990631163, 3.2524920281103613, 3.1331810885397404, 3.2458461483084475, 3.6719613159902, 3.296897391595784, 3.1934027436687162, 3.2723120514457746, 3.3241606943706086, 3.599498861640163, 3.5526193472055287, 3.3199354845156095, 3.3184564955370903, 3.791003857373721, 3.229940711628991, 3.2704483122515255, 3.185398711255316, 3.052922446346847, 3.2059092023198654, 3.3032364704199795, 3.0828041814017815, 3.1719230636807354, 3.2224766356940333, 3.059050189437716, 3.1002618913819804, 3.04588832516642, 3.374425944491956, 3.6628169674845137, 3.5382856560882026, 3.56755580563517, 3.36712477945482, 3.6737339839897682, 4.430449416181275, 3.24415176060543, 3.546965228500216, 4.337873500244622, 5.365147517277644, 4.543791671241293, 3.9849714170075967, 4.007782704731416, 5.082745975291235, 4.155407817170935, 3.4744431535167806, 3.2113179163584813, 3.2220060209315675, 3.156223936664047, 3.0070542254626633, 2.973042234161196, 2.9936048819938823, 3.067228749894061, 3.110201683270155, 2.9684970110831177, 2.9772049341446314, 2.9182831352279033, 2.97772553874661, 2.9755969226242756, 2.9193325907991245] [tensor(0.0757), tensor(0.0890), tensor(0.0835), tensor(0.0969), tensor(0.1086), tensor(0.1160), tensor(0.1013), tensor(0.0935), tensor(0.1193), tensor(0.1167), tensor(0.1144), tensor(0.1367), tensor(0.1428), tensor(0.1542), tensor(0.1554), tensor(0.1722), tensor(0.1563), tensor(0.1737), tensor(0.1618), tensor(0.1827), tensor(0.1947), tensor(0.2207), tensor(0.2250), tensor(0.2109), tensor(0.2029), tensor(0.2454), tensor(0.2097), tensor(0.2660), tensor(0.2501), tensor(0.2438), tensor(0.2607), tensor(0.3068), tensor(0.2687), tensor(0.2940), tensor(0.2708), tensor(0.2802), tensor(0.3328), tensor(0.2903), tensor(0.2899), tensor(0.2675), tensor(0.2568), tensor(0.2608), tensor(0.2497), tensor(0.2430), tensor(0.2430), tensor(0.2271), tensor(0.2233), tensor(0.2122), tensor(0.2189), tensor(0.2366), tensor(0.2817), tensor(0.2507), tensor(0.2443), tensor(0.2316), tensor(0.2668), tensor(0.3428), tensor(0.2470), tensor(0.2344), tensor(0.3511), tensor(0.4123), tensor(0.4021), tensor(0.2524), tensor(0.2635), tensor(0.3860), tensor(0.2850), tensor(0.2764), tensor(0.2228), tensor(0.2279), tensor(0.1887), tensor(0.1891), tensor(0.1688), tensor(0.1685), tensor(0.1611), tensor(0.1668), tensor(0.1575), tensor(0.1497), tensor(0.1511), tensor(0.1488), tensor(0.1458), tensor(0.1407)] [8.481262327416173, 22.682445759368836, 28.205128205128204, 30.57199211045365, 25.2465483234714, 26.82445759368836, 32.544378698224854, 34.9112426035503, 28.205128205128204, 29.783037475345168, 33.333333333333336, 32.544378698224854, 30.76923076923077, 31.755424063116372, 30.76923076923077, 30.76923076923077, 34.9112426035503, 32.74161735700197, 33.72781065088758, 33.333333333333336, 35.8974358974359, 37.47534516765286, 36.68639053254438, 35.50295857988166, 34.319526627218934, 38.26429980276134, 36.29191321499014, 32.74161735700197, 36.883629191321496, 38.46153846153846, 38.658777120315584, 39.25049309664694, 38.658777120315584, 36.489151873767256, 37.08086785009862, 38.46153846153846, 36.883629191321496, 39.25049309664694, 40.23668639053255, 37.8698224852071, 39.84220907297831, 42.603550295857985, 38.46153846153846, 43.39250493096647, 40.03944773175542, 42.01183431952663, 44.18145956607495, 42.80078895463511, 42.603550295857985, 40.828402366863905, 39.64497041420118, 37.27810650887574, 38.8560157790927, 38.8560157790927, 34.714003944773175, 33.92504930966469, 41.42011834319526, 37.8698224852071, 37.27810650887574, 28.994082840236686, 32.74161735700197, 31.558185404339252, 32.938856015779095, 31.558185404339252, 35.8974358974359, 40.433925049309664, 42.209072978303745, 42.209072978303745, 41.42011834319526, 43.39250493096647, 44.18145956607495, 44.18145956607495, 42.01183431952663, 42.40631163708087, 43.39250493096647, 43.58974358974359, 42.209072978303745, 43.39250493096647, 43.39250493096647, 43.39250493096647]\n"
     ]
    },
    {
     "name": "stdout",
     "output_type": "stream",
     "text": [
      "torch.Size([64, 3, 512, 512]) torch.Size([64, 3, 512, 512]) tensor(1.) tensor(1.)\n"
     ]
    },
    {
     "data": {
      "image/png": "[encoded data removed]",
      "text/plain": [
       "<Figure size 640x480 with 2 Axes>"
      ]
     },
     "metadata": {},
     "output_type": "display_data"
    }
   ],
   "source": [
    "def convert_image_np(inp):\n",
    "    \"\"\"Convert a Tensor to numpy image.\"\"\"\n",
    "    inp = inp.numpy().transpose((1, 2, 0))\n",
    "    # mean = np.array([0.485, 0.456, 0.406])\n",
    "    # std = np.array([0.229, 0.224, 0.225])\n",
    "    # inp = std * inp + mean\n",
    "    # inp = np.clip(inp, 0, 1)\n",
    "    return inp\n",
    "\n",
    "# We want to visualize the output of the spatial transformers layer\n",
    "# after the training, we visualize a batch of input images and\n",
    "# the corresponding transformed batch using STN.\n",
    "\n",
    "\n",
    "def visualize_stn():\n",
    "    with torch.no_grad():\n",
    "        # Get a batch of training data\n",
    "        data = next(iter(test_loader))[0].to(device)\n",
    "\n",
    "        input_tensor = data.cpu()\n",
    "        transformed_input_tensor = model.stn(data).cpu()\n",
    "        print(input_tensor.shape, transformed_input_tensor.shape, max(input_tensor.flatten()), max(transformed_input_tensor.flatten()))\n",
    "        in_grid = convert_image_np(\n",
    "            torchvision.utils.make_grid(input_tensor))\n",
    "\n",
    "        out_grid = convert_image_np(\n",
    "            torchvision.utils.make_grid(transformed_input_tensor))\n",
    "\n",
    "        # Plot the results side-by-side\n",
    "        f, axarr = plt.subplots(1, 2)\n",
    "        axarr[0].imshow(in_grid)\n",
    "        axarr[0].set_title('Dataset Images')\n",
    "\n",
    "        axarr[1].imshow(out_grid)\n",
    "        axarr[1].set_title('Transformed Images')\n",
    "\n",
    "train_loss, train_lcnn, train_acc = [],[],[]\n",
    "test_loss, test_lcnn, test_acc = [],[],[]\n",
    "for epoch in range(1, 80 + 1):\n",
    "    train(epoch)\n",
    "    a,b,c = train_conf()\n",
    "    train_loss.append(a)\n",
    "    train_lcnn.append(b)\n",
    "    train_acc.append(c)\n",
    "    a,b,c = test()\n",
    "    test_loss.append(a)\n",
    "    test_lcnn.append(b)\n",
    "    test_acc.append(c)\n",
    "    if epoch == 30 or epoch == 45 or epoch == 60:\n",
    "        path = f'/home/siddhant/data/MedicalSTN/models/lavstnresnetfulllcnnRGB/{epoch}'\n",
    "        if not os.path.exists(path):\n",
    "            os.makedirs(path)\n",
    "        torch.save(model.state_dict(), f'{path}/statedict.pt')\n",
    "        torch.save(model, f'{path}/model.pt')\n",
    "        torch.save(optimizer, f'{path}/optimizer.pt')\n",
    "        state = {\n",
    "            'epoch': epoch,\n",
    "            'state_dict': model.state_dict(),\n",
    "            'optimizer': optimizer.state_dict(),\n",
    "        }\n",
    "        torch.save(state, f'{path}/statedict_full.pt')\n",
    "print(train_loss, train_lcnn, train_acc, test_loss, test_lcnn, test_acc)\n",
    "\n",
    "# Visualize the STN transformation on some input batch\n",
    "visualize_stn()\n",
    "\n",
    "plt.ioff()\n",
    "plt.show()"
   ]
  },
  {
   "cell_type": "code",
   "execution_count": null,
   "id": "bbfcd0c0",
   "metadata": {},
   "outputs": [],
   "source": []
  },
  {
   "cell_type": "code",
   "execution_count": 12,
   "id": "d9edb492",
   "metadata": {},
   "outputs": [
    {
     "name": "stdout",
     "output_type": "stream",
     "text": [
      "42.80078895463511\n"
     ]
    }
   ],
   "source": [
    "print((test_acc)[47])"
   ]
  },
  {
   "cell_type": "code",
   "execution_count": 13,
   "id": "91542e92",
   "metadata": {},
   "outputs": [
    {
     "data": {
      "application/vnd.jupyter.widget-view+json": {
       "model_id": "e1323049af23435f8d196a227a2de2b2",
       "version_major": 2,
       "version_minor": 0
      },
      "text/plain": [
       "  0%|          | 0/8 [00:00<?, ?it/s]"
      ]
     },
     "metadata": {},
     "output_type": "display_data"
    },
    {
     "name": "stdout",
     "output_type": "stream",
     "text": [
      "\n",
      "Test set: Average loss: 2.9193, LCNN Loss: 0.0007, Accuracy: 220/507 (43%)\n",
      "\n",
      "2 4\n",
      "57 59\n",
      "0 1\n",
      "1 3\n",
      "4 17\n",
      "8 12\n",
      "0 4\n",
      "0 3\n",
      "15 20\n",
      "0 4\n",
      "0 1\n",
      "0 1\n",
      "0 3\n",
      "0 1\n",
      "0 1\n",
      "1 4\n",
      "0 0\n",
      "0 2\n",
      "0 2\n",
      "0 3\n",
      "0 1\n",
      "0 1\n",
      "0 1\n",
      "0 4\n",
      "8 12\n",
      "0 1\n",
      "0 2\n",
      "2 5\n",
      "0 11\n",
      "4 18\n",
      "0 0\n",
      "0 1\n",
      "0 0\n",
      "5 21\n",
      "1 4\n",
      "0 1\n",
      "0 1\n",
      "0 1\n",
      "0 1\n",
      "2 7\n",
      "3 5\n",
      "1 7\n",
      "0 1\n",
      "1 3\n",
      "0 0\n",
      "1 2\n",
      "5 18\n",
      "0 1\n",
      "0 4\n",
      "0 1\n",
      "0 2\n",
      "26 44\n",
      "5 35\n",
      "0 0\n",
      "1 4\n",
      "0 1\n",
      "0 1\n",
      "0 1\n",
      "0 1\n",
      "0 2\n",
      "34 55\n",
      "0 1\n",
      "3 8\n",
      "0 0\n",
      "1 1\n",
      "23 46\n",
      "0 0\n",
      "0 1\n",
      "1 2\n",
      "0 1\n",
      "0 1\n",
      "0 1\n",
      "0 1\n",
      "0 0\n",
      "0 0\n",
      "0 1\n",
      "1 4\n",
      "0 1\n",
      "0 1\n",
      "0 1\n",
      "0 0\n",
      "0 1\n",
      "3 4\n",
      "1 1\n",
      "0 0\n",
      "0 1\n",
      "0 1\n",
      "0 0\n",
      "0 2\n"
     ]
    },
    {
     "data": {
      "application/vnd.jupyter.widget-view+json": {
       "model_id": "cae43cefcb6f4de99ed8d653919718e9",
       "version_major": 2,
       "version_minor": 0
      },
      "text/plain": [
       "  0%|          | 0/33 [00:00<?, ?it/s]"
      ]
     },
     "metadata": {},
     "output_type": "display_data"
    },
    {
     "name": "stdout",
     "output_type": "stream",
     "text": [
      "0.011257630190980038\n",
      "tensor(0.0043)\n",
      "\n",
      "Train set: Average loss: 0.0113, LCNN Loss: 0.0043, Accuracy: 2073/2079 (100%)\n",
      "\n",
      "15 16\n",
      "238 238\n",
      "4 4\n",
      "11 11\n",
      "67 67\n",
      "47 47\n",
      "1 1\n",
      "14 14\n",
      "10 10\n",
      "81 81\n",
      "16 16\n",
      "1 1\n",
      "6 6\n",
      "4 4\n",
      "11 11\n",
      "2 2\n",
      "1 1\n",
      "1 1\n",
      "2 2\n",
      "2 2\n",
      "1 1\n",
      "1 1\n",
      "1 1\n",
      "1 1\n",
      "3 3\n",
      "17 17\n",
      "1 1\n",
      "1 1\n",
      "2 2\n",
      "1 1\n",
      "6 6\n",
      "6 6\n",
      "11 11\n",
      "1 1\n",
      "4 4\n",
      "2 2\n",
      "3 3\n",
      "1 1\n",
      "18 18\n",
      "49 49\n",
      "1 1\n",
      "5 5\n",
      "8 8\n",
      "21 21\n",
      "44 44\n",
      "70 70\n",
      "2 2\n",
      "1 1\n",
      "2 2\n",
      "1 1\n",
      "1 1\n",
      "1 1\n",
      "1 1\n",
      "81 82\n",
      "18 18\n",
      "4 4\n",
      "3 3\n",
      "6 6\n",
      "1 1\n",
      "1 1\n",
      "2 2\n",
      "1 1\n",
      "26 26\n",
      "21 21\n",
      "30 30\n",
      "1 1\n",
      "1 1\n",
      "1 1\n",
      "2 2\n",
      "11 12\n",
      "1 1\n",
      "1 1\n",
      "2 2\n",
      "7 7\n",
      "2 2\n",
      "72 72\n",
      "4 4\n",
      "1 1\n",
      "17 17\n",
      "5 5\n",
      "2 2\n",
      "2 2\n",
      "2 2\n",
      "10 10\n",
      "1 1\n",
      "175 175\n",
      "1 1\n",
      "141 142\n",
      "1 1\n",
      "14 14\n",
      "1 1\n",
      "2 2\n",
      "3 3\n",
      "2 2\n",
      "2 2\n",
      "1 1\n",
      "7 7\n",
      "221 221\n",
      "4 4\n",
      "30 30\n",
      "1 1\n",
      "1 1\n",
      "1 1\n",
      "5 5\n",
      "182 183\n",
      "2 2\n",
      "5 5\n",
      "6 6\n",
      "2 2\n",
      "1 1\n",
      "1 1\n",
      "2 2\n",
      "2 2\n",
      "6 6\n",
      "1 1\n",
      "2 2\n",
      "2 2\n",
      "1 1\n",
      "1 1\n",
      "2 2\n",
      "4 4\n",
      "1 1\n",
      "1 1\n",
      "14 14\n",
      "1 1\n",
      "3 3\n",
      "2 2\n",
      "3 3\n",
      "3 3\n",
      "2 2\n",
      "6 6\n",
      "15 15\n",
      "2 2\n",
      "1 1\n",
      "1 1\n",
      "3 4\n",
      "1 1\n",
      "2 2\n",
      "1 1\n",
      "1 1\n",
      "1 1\n",
      "2 2\n",
      "1 1\n",
      "2 2\n",
      "2 2\n",
      "6 6\n"
     ]
    }
   ],
   "source": [
    "with torch.no_grad():\n",
    "    model.eval()\n",
    "    test_loss = 0\n",
    "    lcnn_loss = 0\n",
    "    correct = 0\n",
    "    preds = []\n",
    "    targets = []\n",
    "    for data, target in tqdm(test_loader):\n",
    "        data, target = data.to(device), target.to(device)\n",
    "        output, layer = model(data)\n",
    "\n",
    "        # sum up batch loss\n",
    "        test_loss += F.nll_loss(output, target, size_average=False).item()\n",
    "        lcnn_loss += 0.05*torch.mean(torch.square(layer))\n",
    "        # get the index of the max log-probability\n",
    "        pred = output.max(1, keepdim=True)[1]\n",
    "        # print(pred)\n",
    "        correct += pred.eq(target.view_as(pred)).sum().item()\n",
    "        preds.extend(np.array(pred.cpu()))\n",
    "        targets.extend(np.array(target.cpu()))\n",
    "    from sklearn.metrics import confusion_matrix\n",
    "    conf_mat=confusion_matrix(targets, preds)\n",
    "    a = conf_mat\n",
    "    #TODO make confusion matrix\n",
    "    test_loss /= len(test_loader.dataset)\n",
    "    lcnn_loss /= len(train_loader.dataset)\n",
    "    print('\\nTest set: Average loss: {:.4f}, LCNN Loss: {:.4f}, Accuracy: {}/{} ({:.0f}%)\\n'\n",
    "          .format(test_loss, lcnn_loss, correct, len(test_loader.dataset),\n",
    "                  100. * correct / len(test_loader.dataset)))\n",
    "for i in range(len(a[0])):\n",
    "    print(a[i][i], np.sum(a[i]))\n",
    "with torch.no_grad():\n",
    "    model.eval()\n",
    "    train_loss = 0\n",
    "    lcnn_loss = 0\n",
    "    correct = 0\n",
    "    preds = []\n",
    "    targets = []\n",
    "    for data, target in tqdm(train_loader):\n",
    "        data, target = data.to(device), target.to(device)\n",
    "        output, layer = model(data)\n",
    "        # sum up batch loss\n",
    "        train_loss += F.nll_loss(output, target, size_average=False).item()\n",
    "        lcnn_loss += 0.05*torch.mean(torch.square(layer))\n",
    "        # get the index of the max log-probability\n",
    "        pred = output.max(1, keepdim=True)[1]\n",
    "        # print(pred)\n",
    "        correct += pred.eq(target.view_as(pred)).sum().item()\n",
    "        preds.extend(np.array(pred.cpu()))\n",
    "        targets.extend(np.array(target.cpu()))\n",
    "    from sklearn.metrics import confusion_matrix\n",
    "    conf_mat=confusion_matrix(targets, preds)\n",
    "    a = conf_mat\n",
    "    train_loss /= len(train_loader.dataset)\n",
    "    lcnn_loss /= len(train_loader.dataset)\n",
    "    print(train_loss)\n",
    "    print(lcnn_loss)\n",
    "    print('\\nTrain set: Average loss: {:.4f}, LCNN Loss: {:.4f}, Accuracy: {}/{} ({:.0f}%)\\n'\n",
    "          .format(train_loss, lcnn_loss, correct, len(train_loader.dataset),\n",
    "                  100. * correct / len(train_loader.dataset)))\n",
    "for i in range(len(a[0])):\n",
    "    print(a[i][i], np.sum(a[i]))"
   ]
  },
  {
   "cell_type": "code",
   "execution_count": 14,
   "id": "e05fbcf8",
   "metadata": {},
   "outputs": [
    {
     "name": "stdout",
     "output_type": "stream",
     "text": [
      "torch.Size([64, 3, 512, 512]) torch.Size([64, 3, 512, 512]) tensor(1.) tensor(1.)\n"
     ]
    }
   ],
   "source": [
    "def convert_image_np(inp):\n",
    "    \"\"\"Convert a Tensor to numpy image.\"\"\"\n",
    "    inp = inp.numpy().transpose((1, 2, 0))\n",
    "    # mean = np.array([0.485, 0.456, 0.406])\n",
    "    # std = np.array([0.229, 0.224, 0.225])\n",
    "    # inp = std * inp + mean\n",
    "    # inp = np.clip(inp, 0, 1)\n",
    "    return inp\n",
    "\n",
    "# We want to visualize the output of the spatial transformers layer\n",
    "# after the training, we visualize a batch of input images and\n",
    "# the corresponding transformed batch using STN.\n",
    "\n",
    "\n",
    "def visualize_stn():\n",
    "    with torch.no_grad():\n",
    "        # Get a batch of training data\n",
    "        data = next(iter(test_loader))[0].to(device)\n",
    "\n",
    "        input_tensor = data.cpu()\n",
    "        transformed_input_tensor = model.stn(data).cpu()\n",
    "        print(input_tensor.shape, transformed_input_tensor.shape, max(input_tensor.flatten()), max(transformed_input_tensor.flatten()))\n",
    "        in_grid = convert_image_np(\n",
    "            torchvision.utils.make_grid(input_tensor))\n",
    "\n",
    "        out_grid = convert_image_np(\n",
    "            torchvision.utils.make_grid(transformed_input_tensor))\n",
    "\n",
    "        # Plot the results side-by-side\n",
    "        f, axarr = plt.subplots(1, 2)\n",
    "        axarr[0].imshow(in_grid)\n",
    "        axarr[0].set_title('Dataset Images')\n",
    "\n",
    "        axarr[1].imshow(out_grid)\n",
    "        axarr[1].set_title('Transformed Images')\n",
    "\n",
    "visualize_stn()"
   ]
  },
  {
   "cell_type": "code",
   "execution_count": null,
   "id": "f8b16124",
   "metadata": {},
   "outputs": [],
   "source": []
  },
  {
   "cell_type": "code",
   "execution_count": 15,
   "id": "e006c66e",
   "metadata": {},
   "outputs": [],
   "source": [
    "path = '/home/siddhant/data/MedicalSTN/models/lavstnresnetfulllcnnRGB/'\n",
    "if not os.path.exists(path):\n",
    "    os.makedirs(path)\n",
    "torch.save(model.state_dict(), f'{path}/statedict.pt')\n",
    "torch.save(model, f'{path}/model.pt')\n",
    "torch.save(optimizer, f'{path}/optimizer.pt')\n",
    "state = {\n",
    "    'epoch': epoch,\n",
    "    'state_dict': model.state_dict(),\n",
    "    'optimizer': optimizer.state_dict(),\n",
    "}\n",
    "torch.save(state, f'{path}/statedict_full.pt')"
   ]
  },
  {
   "cell_type": "code",
   "execution_count": 5,
   "id": "67ecf2fa",
   "metadata": {},
   "outputs": [
    {
     "name": "stdout",
     "output_type": "stream",
     "text": [
      "[17  0  8  9  3  3  3  5 16 15]\n",
      "[[51 52 53]\n",
      " [ 0  1  2]\n",
      " [24 25 26]\n",
      " [27 28 29]\n",
      " [ 9 10 11]\n",
      " [ 9 10 11]\n",
      " [ 9 10 11]\n",
      " [15 16 17]\n",
      " [48 49 50]\n",
      " [45 46 47]]\n"
     ]
    }
   ],
   "source": [
    "from itertools import combinations\n",
    "import numpy as np\n",
    "ranNums=np.random.randint(low=0, high=20, size=10)\n",
    "print(ranNums)\n",
    "data_train = np.arange(75).reshape(25,3)\n",
    "data_train_used=data_train[ranNums,:]\n",
    "print(data_train_used)\n",
    "LP = range(data_train_used.shape[0])"
   ]
  },
  {
   "cell_type": "code",
   "execution_count": null,
   "id": "480cf2d9",
   "metadata": {},
   "outputs": [],
   "source": []
  }
 ],
 "metadata": {
  "kernelspec": {
   "display_name": "Python 3 (ipykernel)",
   "language": "python",
   "name": "python3"
  },
  "language_info": {
   "codemirror_mode": {
    "name": "ipython",
    "version": 3
   },
   "file_extension": ".py",
   "mimetype": "text/x-python",
   "name": "python",
   "nbconvert_exporter": "python",
   "pygments_lexer": "ipython3",
   "version": "3.7.4"
  }
 },
 "nbformat": 4,
 "nbformat_minor": 5
}
