{
 "cells": [
  {
   "cell_type": "code",
   "execution_count": 1,
   "id": "5a94ef16",
   "metadata": {},
   "outputs": [],
   "source": [
    "# run it via 5-fold as well\n",
    "# transfer the STN network from kneeRESv2\n",
    "# STN looks better with augmentation (test hypothesis)\n",
    "# in addition to yesterday's conversation.\n",
    "# Fire weighting or Augment \n",
    "    # we can use fire scores to figure out how much to augment (multiplicative factor or something)"
   ]
  },
  {
   "cell_type": "code",
   "execution_count": 2,
   "id": "8e3e40d3",
   "metadata": {},
   "outputs": [
    {
     "data": {
      "text/plain": [
       "<matplotlib.pyplot._IonContext at 0x7ffb340e0a90>"
      ]
     },
     "execution_count": 2,
     "metadata": {},
     "output_type": "execute_result"
    }
   ],
   "source": [
    "from __future__ import print_function\n",
    "%matplotlib inline\n",
    "import warnings\n",
    "warnings.filterwarnings('ignore')\n",
    "import os\n",
    "# os.environ[\"CUDA_VISIBLE_DEVICES\"] = \"5\"\n",
    "import torch\n",
    "import torch.nn as nn\n",
    "import torch.nn.functional as F\n",
    "import torch.optim as optim\n",
    "import torchvision\n",
    "from torchvision import datasets, transforms\n",
    "import matplotlib.pyplot as plt\n",
    "import numpy as np\n",
    "from PIL import Image\n",
    "from tqdm.notebook import tqdm\n",
    "from six.moves import urllib\n",
    "\n",
    "torch.manual_seed(0)\n",
    "plt.ion()  "
   ]
  },
  {
   "cell_type": "code",
   "execution_count": 3,
   "id": "6bf3f239",
   "metadata": {},
   "outputs": [],
   "source": [
    "import random\n",
    "import math\n",
    "import torch.utils.data\n",
    "from collections import defaultdict\n",
    "\n",
    "def stratified_split(dataset : torch.utils.data.Dataset, labels, fraction, random_state=None):\n",
    "#     print('hi')\n",
    "    if random_state: random.seed(random_state)\n",
    "    indices_per_label = defaultdict(list)\n",
    "#     print('hi')\n",
    "    for index, label in enumerate(labels):\n",
    "        indices_per_label[label].append(index)\n",
    "    first_set_indices, second_set_indices = list(), list()\n",
    "    for label, indices in (indices_per_label.items()):\n",
    "        n_samples_for_label = round(len(indices) * fraction)\n",
    "        random_indices_sample = random.sample(indices, n_samples_for_label)\n",
    "        first_set_indices.extend(random_indices_sample)\n",
    "        second_set_indices.extend(set(indices) - set(random_indices_sample))\n",
    "    first_set_inputs = torch.utils.data.Subset(dataset, first_set_indices)\n",
    "    first_set_labels = list(map(labels.__getitem__, first_set_indices))\n",
    "    second_set_inputs = torch.utils.data.Subset(dataset, second_set_indices)\n",
    "    second_set_labels = list(map(labels.__getitem__, second_set_indices))\n",
    "    return first_set_inputs, first_set_labels, second_set_inputs, second_set_labels"
   ]
  },
  {
   "cell_type": "code",
   "execution_count": 4,
   "id": "5aa16ffa",
   "metadata": {},
   "outputs": [],
   "source": [
    "opener = urllib.request.build_opener()\n",
    "opener.addheaders = [('User-agent', 'Mozilla/5.0')]\n",
    "urllib.request.install_opener(opener)\n",
    "\n",
    "device = torch.device(\"cuda:2\" if torch.cuda.is_available() else \"cpu\")\n",
    "device = torch.device(\"cpu\")\n",
    "\n",
    "full_dataset = torchvision.datasets.ImageFolder(root = '/data/siddhant/MedicalSTN/LavinaData', \n",
    "                                     transform=transforms.Compose([\n",
    "                       transforms.ToTensor(),\n",
    "                       transforms.Grayscale(num_output_channels=3),\n",
    "                       transforms.Resize((512,512)),\n",
    "                   ]))\n",
    "train_size = int(0.8 * len(full_dataset))\n",
    "test_size = len(full_dataset) - train_size\n",
    "# train_dataset, test_dataset = torch.utils.data.random_split(full_dataset, [train_size, test_size])\n",
    "\n",
    "train_dataset, _, test_dataset, __ = stratified_split(full_dataset, full_dataset.targets, fraction=0.8, random_state=1)\n",
    "\n",
    "# Training dataset\n",
    "train_loader = torch.utils.data.DataLoader(\n",
    "    train_dataset, \n",
    "    batch_size=64, shuffle=True, num_workers=2)\n",
    "# Test dataset\n",
    "test_loader = torch.utils.data.DataLoader(\n",
    "    test_dataset, \n",
    "    batch_size=64, shuffle=True, num_workers=2)\n",
    "\n",
    "outputlen = len(full_dataset.find_classes('/data/siddhant/MedicalSTN/LavinaData')[0])"
   ]
  },
  {
   "cell_type": "code",
   "execution_count": 5,
   "id": "9064e449",
   "metadata": {},
   "outputs": [
    {
     "data": {
      "text/plain": [
       "(['Acanthosis nigricans',\n",
       "  'Acne',\n",
       "  'Acne Kleidalis nuche',\n",
       "  'Acrochordon or Skin tags',\n",
       "  'Alopecia Areata',\n",
       "  'Androgenetic alopecia',\n",
       "  'Angiofibroma',\n",
       "  'Anogenital warts',\n",
       "  'Atopic dermatitis',\n",
       "  'Basal cell carcinoma',\n",
       "  'Becker_s nevus',\n",
       "  'Bowenoid Papulosis',\n",
       "  'Bowens disease',\n",
       "  'Bullous impetigo',\n",
       "  'Bullous pemphigoid',\n",
       "  'Candidiasis',\n",
       "  'Capillary lymphatic malformation',\n",
       "  'Chicken pox',\n",
       "  'Chronic paronychia',\n",
       "  'Collagenoma',\n",
       "  'Corn',\n",
       "  'Cut horn',\n",
       "  'Cutaneous metastasis',\n",
       "  'Dermatitis cruris pustulosa et atrophicans',\n",
       "  'Dermatofibroma',\n",
       "  'Discoid lupus erythematosus',\n",
       "  'EB pruriginosa',\n",
       "  'Ecythma',\n",
       "  'Epidermoid cyst(sebaceous cyst)',\n",
       "  'Erythroderma',\n",
       "  'Female patterned hair loss',\n",
       "  'Fixed drug eruption',\n",
       "  'Freckles',\n",
       "  'Fric Blister',\n",
       "  'Furuncle',\n",
       "  'Geographic tongue',\n",
       "  'Hailey Hailey disease',\n",
       "  'Henoch schonlein purpura',\n",
       "  'Herpes zoster',\n",
       "  'Hidradenitis suppurativa',\n",
       "  'Hypereosinophilic syndrome',\n",
       "  'Hypertrophic lichen planus',\n",
       "  'Hypertrophic scar',\n",
       "  'Ichthyosis',\n",
       "  'Impetigo and Pyodermas',\n",
       "  'Keloids',\n",
       "  'Keratoderma blenorrhagicum',\n",
       "  'LIPEN',\n",
       "  'Leiomyoma',\n",
       "  'Leukeamia cutis',\n",
       "  'Lichen Niditus',\n",
       "  'Lichen amyloidosis',\n",
       "  'Lichen plano pilaris',\n",
       "  'Lichen planus',\n",
       "  'Lichen planus pigmentosus',\n",
       "  'Lichen sclerosus et atrophicus',\n",
       "  'Lichen striatus',\n",
       "  'Livedoid vasculopathy',\n",
       "  'Lupus vulgaris',\n",
       "  'Mastocytosis',\n",
       "  'Melanocytic nevi or Mole',\n",
       "  'Melanoma',\n",
       "  'Melasma',\n",
       "  'Milia',\n",
       "  'Molluscum contagiosum',\n",
       "  'Mosacisim',\n",
       "  'Nail psoriasis',\n",
       "  'Nevus Spilus',\n",
       "  'Nevus depigmentosus',\n",
       "  'Nuerofibromatosis',\n",
       "  'Nummular dermatitis',\n",
       "  'Oral Apthae',\n",
       "  'Paederus dermatitis',\n",
       "  'Palmoplantar psoriasis',\n",
       "  'Paronychia',\n",
       "  'Pemphigus',\n",
       "  'Periporitis',\n",
       "  'Phrynoderma',\n",
       "  'Pityriasis alba',\n",
       "  'Pityriasis rosea',\n",
       "  'Plantar psoriasis',\n",
       "  'Plantar warts',\n",
       "  'Porokeratosis',\n",
       "  'Port wine stain',\n",
       "  'Pseudoxanthoma elasticum',\n",
       "  'Psoriasis',\n",
       "  'Pyoderma',\n",
       "  'Query',\n",
       "  'Rhinophyma',\n",
       "  'Rosacea',\n",
       "  'SBG Repigmentation',\n",
       "  'Sebo psoriasis',\n",
       "  'Seborrheic dermatitis',\n",
       "  'Senile purpura',\n",
       "  'Stasis eczema',\n",
       "  'Submucous cyst',\n",
       "  'Syringomas',\n",
       "  'Tinea cruris, corporis or faciei',\n",
       "  'Tinea manuum',\n",
       "  'Tinea unguium',\n",
       "  'Trichostasis',\n",
       "  'Trichotillomania',\n",
       "  'Umbilical granuloma',\n",
       "  'Venous malformation',\n",
       "  'Vitiligo or Leucoderma',\n",
       "  'Xanthoma',\n",
       "  'Xeroderma pigmentosum',\n",
       "  'Xerosis',\n",
       "  'Zinc responsive dermatosis',\n",
       "  'alopecia cicatricial',\n",
       "  'cafe au lait macules',\n",
       "  'capillary venous malformation',\n",
       "  'carbuncle',\n",
       "  'epidermolysis bullosa',\n",
       "  'erythema elevatum diutinum',\n",
       "  'erythema multiforme',\n",
       "  'exfoliative cheilitis',\n",
       "  'exogenous ochronosis',\n",
       "  'fissured heels',\n",
       "  'fordyce spots',\n",
       "  'granuloma annulare',\n",
       "  'herpes labialis',\n",
       "  'hirsutism',\n",
       "  'insect bite reaction',\n",
       "  'irritant contact dermatitis',\n",
       "  'lymphangioma circumscriptum',\n",
       "  'miliaria',\n",
       "  'mycosis fungoides',\n",
       "  'neurofirbromatosis-plexiform neurofibroma with scoliosis',\n",
       "  'nodular lepromatous leprosy',\n",
       "  'pigmented purpuric dermatoses',\n",
       "  'polymorphic light eruption',\n",
       "  'post burn',\n",
       "  'post herpetic scar',\n",
       "  'post kala azar dermal leishmaniasis',\n",
       "  'prurigo nodularis',\n",
       "  'purpura fulminans',\n",
       "  'reiters disease',\n",
       "  'scalp folliculitis',\n",
       "  'scar',\n",
       "  'septal perforation',\n",
       "  'topical steroid damaged face',\n",
       "  'traumatic nail',\n",
       "  'trichilemmal cyst',\n",
       "  'varicose veins',\n",
       "  'verrucous epidermal nevus'],\n",
       " {'Acanthosis nigricans': 0,\n",
       "  'Acne': 1,\n",
       "  'Acne Kleidalis nuche': 2,\n",
       "  'Acrochordon or Skin tags': 3,\n",
       "  'Alopecia Areata': 4,\n",
       "  'Androgenetic alopecia': 5,\n",
       "  'Angiofibroma': 6,\n",
       "  'Anogenital warts': 7,\n",
       "  'Atopic dermatitis': 8,\n",
       "  'Basal cell carcinoma': 9,\n",
       "  'Becker_s nevus': 10,\n",
       "  'Bowenoid Papulosis': 11,\n",
       "  'Bowens disease': 12,\n",
       "  'Bullous impetigo': 13,\n",
       "  'Bullous pemphigoid': 14,\n",
       "  'Candidiasis': 15,\n",
       "  'Capillary lymphatic malformation': 16,\n",
       "  'Chicken pox': 17,\n",
       "  'Chronic paronychia': 18,\n",
       "  'Collagenoma': 19,\n",
       "  'Corn': 20,\n",
       "  'Cut horn': 21,\n",
       "  'Cutaneous metastasis': 22,\n",
       "  'Dermatitis cruris pustulosa et atrophicans': 23,\n",
       "  'Dermatofibroma': 24,\n",
       "  'Discoid lupus erythematosus': 25,\n",
       "  'EB pruriginosa': 26,\n",
       "  'Ecythma': 27,\n",
       "  'Epidermoid cyst(sebaceous cyst)': 28,\n",
       "  'Erythroderma': 29,\n",
       "  'Female patterned hair loss': 30,\n",
       "  'Fixed drug eruption': 31,\n",
       "  'Freckles': 32,\n",
       "  'Fric Blister': 33,\n",
       "  'Furuncle': 34,\n",
       "  'Geographic tongue': 35,\n",
       "  'Hailey Hailey disease': 36,\n",
       "  'Henoch schonlein purpura': 37,\n",
       "  'Herpes zoster': 38,\n",
       "  'Hidradenitis suppurativa': 39,\n",
       "  'Hypereosinophilic syndrome': 40,\n",
       "  'Hypertrophic lichen planus': 41,\n",
       "  'Hypertrophic scar': 42,\n",
       "  'Ichthyosis': 43,\n",
       "  'Impetigo and Pyodermas': 44,\n",
       "  'Keloids': 45,\n",
       "  'Keratoderma blenorrhagicum': 46,\n",
       "  'LIPEN': 47,\n",
       "  'Leiomyoma': 48,\n",
       "  'Leukeamia cutis': 49,\n",
       "  'Lichen Niditus': 50,\n",
       "  'Lichen amyloidosis': 51,\n",
       "  'Lichen plano pilaris': 52,\n",
       "  'Lichen planus': 53,\n",
       "  'Lichen planus pigmentosus': 54,\n",
       "  'Lichen sclerosus et atrophicus': 55,\n",
       "  'Lichen striatus': 56,\n",
       "  'Livedoid vasculopathy': 57,\n",
       "  'Lupus vulgaris': 58,\n",
       "  'Mastocytosis': 59,\n",
       "  'Melanocytic nevi or Mole': 60,\n",
       "  'Melanoma': 61,\n",
       "  'Melasma': 62,\n",
       "  'Milia': 63,\n",
       "  'Molluscum contagiosum': 64,\n",
       "  'Mosacisim': 65,\n",
       "  'Nail psoriasis': 66,\n",
       "  'Nevus Spilus': 67,\n",
       "  'Nevus depigmentosus': 68,\n",
       "  'Nuerofibromatosis': 69,\n",
       "  'Nummular dermatitis': 70,\n",
       "  'Oral Apthae': 71,\n",
       "  'Paederus dermatitis': 72,\n",
       "  'Palmoplantar psoriasis': 73,\n",
       "  'Paronychia': 74,\n",
       "  'Pemphigus': 75,\n",
       "  'Periporitis': 76,\n",
       "  'Phrynoderma': 77,\n",
       "  'Pityriasis alba': 78,\n",
       "  'Pityriasis rosea': 79,\n",
       "  'Plantar psoriasis': 80,\n",
       "  'Plantar warts': 81,\n",
       "  'Porokeratosis': 82,\n",
       "  'Port wine stain': 83,\n",
       "  'Pseudoxanthoma elasticum': 84,\n",
       "  'Psoriasis': 85,\n",
       "  'Pyoderma': 86,\n",
       "  'Query': 87,\n",
       "  'Rhinophyma': 88,\n",
       "  'Rosacea': 89,\n",
       "  'SBG Repigmentation': 90,\n",
       "  'Sebo psoriasis': 91,\n",
       "  'Seborrheic dermatitis': 92,\n",
       "  'Senile purpura': 93,\n",
       "  'Stasis eczema': 94,\n",
       "  'Submucous cyst': 95,\n",
       "  'Syringomas': 96,\n",
       "  'Tinea cruris, corporis or faciei': 97,\n",
       "  'Tinea manuum': 98,\n",
       "  'Tinea unguium': 99,\n",
       "  'Trichostasis': 100,\n",
       "  'Trichotillomania': 101,\n",
       "  'Umbilical granuloma': 102,\n",
       "  'Venous malformation': 103,\n",
       "  'Vitiligo or Leucoderma': 104,\n",
       "  'Xanthoma': 105,\n",
       "  'Xeroderma pigmentosum': 106,\n",
       "  'Xerosis': 107,\n",
       "  'Zinc responsive dermatosis': 108,\n",
       "  'alopecia cicatricial': 109,\n",
       "  'cafe au lait macules': 110,\n",
       "  'capillary venous malformation': 111,\n",
       "  'carbuncle': 112,\n",
       "  'epidermolysis bullosa': 113,\n",
       "  'erythema elevatum diutinum': 114,\n",
       "  'erythema multiforme': 115,\n",
       "  'exfoliative cheilitis': 116,\n",
       "  'exogenous ochronosis': 117,\n",
       "  'fissured heels': 118,\n",
       "  'fordyce spots': 119,\n",
       "  'granuloma annulare': 120,\n",
       "  'herpes labialis': 121,\n",
       "  'hirsutism': 122,\n",
       "  'insect bite reaction': 123,\n",
       "  'irritant contact dermatitis': 124,\n",
       "  'lymphangioma circumscriptum': 125,\n",
       "  'miliaria': 126,\n",
       "  'mycosis fungoides': 127,\n",
       "  'neurofirbromatosis-plexiform neurofibroma with scoliosis': 128,\n",
       "  'nodular lepromatous leprosy': 129,\n",
       "  'pigmented purpuric dermatoses': 130,\n",
       "  'polymorphic light eruption': 131,\n",
       "  'post burn': 132,\n",
       "  'post herpetic scar': 133,\n",
       "  'post kala azar dermal leishmaniasis': 134,\n",
       "  'prurigo nodularis': 135,\n",
       "  'purpura fulminans': 136,\n",
       "  'reiters disease': 137,\n",
       "  'scalp folliculitis': 138,\n",
       "  'scar': 139,\n",
       "  'septal perforation': 140,\n",
       "  'topical steroid damaged face': 141,\n",
       "  'traumatic nail': 142,\n",
       "  'trichilemmal cyst': 143,\n",
       "  'varicose veins': 144,\n",
       "  'verrucous epidermal nevus': 145})"
      ]
     },
     "execution_count": 5,
     "metadata": {},
     "output_type": "execute_result"
    }
   ],
   "source": [
    "full_dataset.find_classes('/data/siddhant/MedicalSTN/LavinaData')"
   ]
  },
  {
   "cell_type": "code",
   "execution_count": 6,
   "id": "38282c84",
   "metadata": {},
   "outputs": [],
   "source": [
    "class STNresnet(nn.Module):\n",
    "    def __init__(self):\n",
    "        super(STNresnet, self).__init__()\n",
    "        # Spatial transformer localization-network\n",
    "        self.finalfc = nn.Linear(1000, outputlen)\n",
    "        self.localization = nn.Sequential(\n",
    "            nn.Conv2d(3, 8, kernel_size=7),\n",
    "            nn.MaxPool2d(2, stride=2),\n",
    "            nn.ReLU(True),\n",
    "            nn.Conv2d(8, 10, kernel_size=5),\n",
    "            nn.MaxPool2d(2, stride=2),\n",
    "            nn.ReLU(True)\n",
    "        )\n",
    "\n",
    "        # Regressor for the 3 * 2 affine matrix\n",
    "        self.fc_loc = nn.Sequential(\n",
    "            nn.Linear(10 * 124 * 124, 32),\n",
    "            nn.ReLU(True),\n",
    "            nn.Linear(32, 3 * 2)\n",
    "        )\n",
    "\n",
    "        # Initialize the weights/bias with identity transformation\n",
    "        self.fc_loc[2].weight.data.zero_()\n",
    "        self.fc_loc[2].bias.data.copy_(torch.tensor([1, 0, 0, 0, 1, 0], dtype=torch.float))\n",
    "        self.resnetportion = torchvision.models.resnet18(pretrained = False)\n",
    "    \n",
    "    def stn(self, x):\n",
    "        xs = self.localization(x)\n",
    "        xs = xs.view(x.shape[0], -1) \n",
    "        theta = self.fc_loc(xs)\n",
    "        theta = theta.view(-1, 2, 3)\n",
    "\n",
    "        grid = F.affine_grid(theta, x.size())\n",
    "        x = F.grid_sample(x, grid)\n",
    "\n",
    "        return x\n",
    "    \n",
    "    def forward(self, x):\n",
    "        xs = self.localization(x)\n",
    "        xs = xs.view(x.shape[0], -1) \n",
    "        theta = self.fc_loc(xs)\n",
    "        theta = theta.view(-1, 2, 3)\n",
    "\n",
    "        grid = F.affine_grid(theta, x.size())\n",
    "        x = F.grid_sample(x, grid)\n",
    "        x = self.resnetportion(x)\n",
    "        x = self.finalfc(x)\n",
    "        return F.log_softmax(x, dim=1), x\n"
   ]
  },
  {
   "cell_type": "code",
   "execution_count": 7,
   "id": "8f3c3ed6",
   "metadata": {},
   "outputs": [],
   "source": [
    "class STNnet(nn.Module):\n",
    "    def __init__(self):\n",
    "        super(STNnet, self).__init__()\n",
    "        self.conv1 = nn.Conv2d(3, 10, kernel_size=5)\n",
    "        self.conv2 = nn.Conv2d(10, 20, kernel_size=5)\n",
    "        self.conv2_drop = nn.Dropout2d()\n",
    "        self.fc1 = nn.Linear(20 * 125 * 125, 50)\n",
    "        self.fc2 = nn.Linear(50, outputlen)\n",
    "\n",
    "        # Spatial transformer localization-network\n",
    "        self.localization = nn.Sequential(\n",
    "            nn.Conv2d(3, 8, kernel_size=7),\n",
    "            nn.MaxPool2d(2, stride=2),\n",
    "            nn.ReLU(True),\n",
    "            nn.Conv2d(8, 10, kernel_size=5),\n",
    "            nn.MaxPool2d(2, stride=2),\n",
    "            nn.ReLU(True)\n",
    "        )\n",
    "\n",
    "        # Regressor for the 3 * 2 affine matrix\n",
    "        self.fc_loc = nn.Sequential(\n",
    "            nn.Linear(10 * 124 * 124, 32),\n",
    "            nn.ReLU(True),\n",
    "            nn.Linear(32, 3 * 2)\n",
    "        )\n",
    "\n",
    "        # Initialize the weights/bias with identity transformation\n",
    "        self.fc_loc[2].weight.data.zero_()\n",
    "        self.fc_loc[2].bias.data.copy_(torch.tensor([1, 0, 0, 0, 1, 0], dtype=torch.float))\n",
    "\n",
    "    # Spatial transformer network forward function\n",
    "    def stn(self, x):\n",
    "        xs = self.localization(x)\n",
    "        xs = xs.view(x.shape[0], -1) \n",
    "        theta = self.fc_loc(xs)\n",
    "        theta = theta.view(-1, 2, 3)\n",
    "\n",
    "        grid = F.affine_grid(theta, x.size())\n",
    "        x = F.grid_sample(x, grid)\n",
    "\n",
    "        return x\n",
    "\n",
    "    def forward(self, x):\n",
    "        x = self.stn(x)\n",
    "        x = F.relu(F.max_pool2d(self.conv1(x), 2))\n",
    "        x = F.relu(F.max_pool2d(self.conv2_drop(self.conv2(x)), 2))\n",
    "        x = x.view(x.shape[0], -1)\n",
    "        x = F.relu(self.fc1(x))\n",
    "        x = F.dropout(x, training=self.training)\n",
    "        x = self.fc2(x)\n",
    "        return F.log_softmax(x, dim=1)"
   ]
  },
  {
   "cell_type": "code",
   "execution_count": 8,
   "id": "96a414eb",
   "metadata": {},
   "outputs": [],
   "source": [
    "# model = STNnet().to(device)\n",
    "model = STNresnet().to(device)\n"
   ]
  },
  {
   "cell_type": "code",
   "execution_count": 9,
   "id": "d640cfc6",
   "metadata": {},
   "outputs": [],
   "source": [
    "def train(epoch):\n",
    "    model.train()\n",
    "    for data, target in tqdm(train_loader): \n",
    "        data, target = data.to(device), target.to(device)\n",
    "\n",
    "        optimizer.zero_grad()\n",
    "        output, layer = model(data)\n",
    "        loss = F.nll_loss(output, target) + 0.005*torch.mean(torch.square(layer)) #0.05 earlier\n",
    "        loss.backward()\n",
    "        optimizer.step()\n",
    "#         if batch_idx % 5 == 0:\n",
    "#             print('Train Epoch: {} [{}/{} ({:.0f}%)]\\tLoss: {:.6f}'.format(\n",
    "#                 epoch, batch_idx * len(data), len(train_loader.dataset),\n",
    "#                 100. * batch_idx / len(train_loader), loss.item()))\n",
    "    \n",
    "\n",
    "def test():\n",
    "    with torch.no_grad():\n",
    "        model.eval()\n",
    "        test_loss = 0\n",
    "        lcnn_loss = 0\n",
    "        correct = 0\n",
    "        preds = []\n",
    "        targets = []\n",
    "        for data, target in tqdm(test_loader):\n",
    "            data, target = data.to(device), target.to(device)\n",
    "            output, layer = model(data)\n",
    "\n",
    "            # sum up batch loss\n",
    "            test_loss += F.nll_loss(output, target, size_average=False).item()\n",
    "            lcnn_loss += 0.005*torch.mean(torch.square(layer))\n",
    "            # get the index of the max log-probability\n",
    "            pred = output.max(1, keepdim=True)[1]\n",
    "            # print(pred)\n",
    "            correct += pred.eq(target.view_as(pred)).sum().item()\n",
    "            preds.extend(np.array(pred.cpu()))\n",
    "            targets.extend(np.array(target.cpu()))\n",
    "        from sklearn.metrics import confusion_matrix\n",
    "        conf_mat=confusion_matrix(targets, preds)\n",
    "        print(conf_mat)\n",
    "        #TODO make confusion matrix\n",
    "        test_loss /= len(test_loader.dataset)\n",
    "        print('\\nTest set: Average loss: {:.4f}, LCNN Loss: {:.4f}, Accuracy: {}/{} ({:.0f}%)\\n'\n",
    "              .format(test_loss, lcnn_loss, correct, len(test_loader.dataset),\n",
    "                      100. * correct / len(test_loader.dataset)))\n",
    "        return test_loss, lcnn_loss, 100. * correct / len(test_loader.dataset)\n",
    "\n",
    "def train_conf():\n",
    "    with torch.no_grad():\n",
    "        model.eval()\n",
    "        train_loss = 0\n",
    "        lcnn_loss = 0\n",
    "        correct = 0\n",
    "        preds = []\n",
    "        targets = []\n",
    "        for data, target in tqdm(train_loader):\n",
    "            data, target = data.to(device), target.to(device)\n",
    "            output, layer = model(data)\n",
    "            # sum up batch loss\n",
    "            train_loss += F.nll_loss(output, target, size_average=False).item() \n",
    "            lcnn_loss += 0.005*torch.mean(torch.square(layer))\n",
    "            # get the index of the max log-probability\n",
    "            pred = output.max(1, keepdim=True)[1]\n",
    "            # print(pred)\n",
    "            correct += pred.eq(target.view_as(pred)).sum().item()\n",
    "            preds.extend(np.array(pred.cpu()))\n",
    "            targets.extend(np.array(target.cpu()))\n",
    "        from sklearn.metrics import confusion_matrix\n",
    "        conf_mat=confusion_matrix(targets, preds)\n",
    "        print(conf_mat)\n",
    "        train_loss /= len(train_loader.dataset)\n",
    "        print('\\nTrain set: Average loss: {:.4f}, LCNN Loss: {:.4f}, Accuracy: {}/{} ({:.0f}%)\\n'\n",
    "              .format(train_loss, lcnn_loss, correct, len(train_loader.dataset),\n",
    "                      100. * correct / len(train_loader.dataset)))\n",
    "        return train_loss, lcnn_loss, 100. * correct / len(train_loader.dataset)"
   ]
  },
  {
   "cell_type": "code",
   "execution_count": 10,
   "id": "e543e59f",
   "metadata": {},
   "outputs": [],
   "source": [
    "optimizer = optim.Adam(model.parameters(), lr=0.0001)"
   ]
  },
  {
   "cell_type": "code",
   "execution_count": 11,
   "id": "4240e22c",
   "metadata": {},
   "outputs": [
    {
     "data": {
      "application/vnd.jupyter.widget-view+json": {
       "model_id": "b1790c72c83e45cdbb4e31293704de7c",
       "version_major": 2,
       "version_minor": 0
      },
      "text/plain": [
       "  0%|          | 0/33 [00:00<?, ?it/s]"
      ]
     },
     "metadata": {},
     "output_type": "display_data"
    },
    {
     "data": {
      "application/vnd.jupyter.widget-view+json": {
       "model_id": "f78dda3df6de4821805c6dbb8d658534",
       "version_major": 2,
       "version_minor": 0
      },
      "text/plain": [
       "  0%|          | 0/33 [00:00<?, ?it/s]"
      ]
     },
     "metadata": {},
     "output_type": "display_data"
    },
    {
     "name": "stdout",
     "output_type": "stream",
     "text": [
      "[[0 0 0 ... 0 0 0]\n",
      " [0 3 0 ... 0 0 0]\n",
      " [0 0 0 ... 0 0 0]\n",
      " ...\n",
      " [0 0 0 ... 0 0 0]\n",
      " [0 0 0 ... 0 0 0]\n",
      " [0 0 0 ... 0 0 0]]\n",
      "\n",
      "Train set: Average loss: 4.7165, LCNN Loss: 0.5082, Accuracy: 85/2079 (4%)\n",
      "\n"
     ]
    },
    {
     "data": {
      "application/vnd.jupyter.widget-view+json": {
       "model_id": "a9dad43f0aa14cfaa2bddb2fbdd5cfc1",
       "version_major": 2,
       "version_minor": 0
      },
      "text/plain": [
       "  0%|          | 0/8 [00:00<?, ?it/s]"
      ]
     },
     "metadata": {},
     "output_type": "display_data"
    },
    {
     "name": "stdout",
     "output_type": "stream",
     "text": [
      "[[0 0 0 ... 0 0 0]\n",
      " [0 1 0 ... 0 0 0]\n",
      " [0 0 0 ... 0 0 0]\n",
      " ...\n",
      " [0 0 0 ... 0 0 0]\n",
      " [0 0 0 ... 0 0 0]\n",
      " [0 0 0 ... 0 0 0]]\n",
      "\n",
      "Test set: Average loss: 4.6433, LCNN Loss: 0.1238, Accuracy: 21/507 (4%)\n",
      "\n"
     ]
    },
    {
     "data": {
      "application/vnd.jupyter.widget-view+json": {
       "model_id": "0d77187635594f65a2f1fa95ac39c634",
       "version_major": 2,
       "version_minor": 0
      },
      "text/plain": [
       "  0%|          | 0/33 [00:00<?, ?it/s]"
      ]
     },
     "metadata": {},
     "output_type": "display_data"
    },
    {
     "data": {
      "application/vnd.jupyter.widget-view+json": {
       "model_id": "57015f22f288441eb2536233fc3b27a9",
       "version_major": 2,
       "version_minor": 0
      },
      "text/plain": [
       "  0%|          | 0/33 [00:00<?, ?it/s]"
      ]
     },
     "metadata": {},
     "output_type": "display_data"
    },
    {
     "name": "stdout",
     "output_type": "stream",
     "text": [
      "[[ 0  0  0 ...  0  0  0]\n",
      " [ 0 93  0 ...  0  0  0]\n",
      " [ 0  1  0 ...  0  0  0]\n",
      " ...\n",
      " [ 0  1  0 ...  0  0  0]\n",
      " [ 0  0  0 ...  0  0  0]\n",
      " [ 0  0  0 ...  0  0  0]]\n",
      "\n",
      "Train set: Average loss: 3.4242, LCNN Loss: 0.3267, Accuracy: 319/2079 (15%)\n",
      "\n"
     ]
    },
    {
     "data": {
      "application/vnd.jupyter.widget-view+json": {
       "model_id": "deba4dbd10dc45ee9ea9f98f5a1b847f",
       "version_major": 2,
       "version_minor": 0
      },
      "text/plain": [
       "  0%|          | 0/8 [00:00<?, ?it/s]"
      ]
     },
     "metadata": {},
     "output_type": "display_data"
    },
    {
     "name": "stdout",
     "output_type": "stream",
     "text": [
      "[[ 0  0  0 ...  0  0  0]\n",
      " [ 0 25  0 ...  0  0  0]\n",
      " [ 0  0  0 ...  0  0  0]\n",
      " ...\n",
      " [ 0  0  0 ...  0  0  0]\n",
      " [ 0  0  0 ...  0  0  0]\n",
      " [ 0  0  0 ...  0  0  0]]\n",
      "\n",
      "Test set: Average loss: 3.3971, LCNN Loss: 0.0777, Accuracy: 76/507 (15%)\n",
      "\n"
     ]
    },
    {
     "data": {
      "application/vnd.jupyter.widget-view+json": {
       "model_id": "05aee692acb94f2e82733b4d452d407e",
       "version_major": 2,
       "version_minor": 0
      },
      "text/plain": [
       "  0%|          | 0/33 [00:00<?, ?it/s]"
      ]
     },
     "metadata": {},
     "output_type": "display_data"
    },
    {
     "data": {
      "application/vnd.jupyter.widget-view+json": {
       "model_id": "a8a38094cb954c469ea583b9764b2876",
       "version_major": 2,
       "version_minor": 0
      },
      "text/plain": [
       "  0%|          | 0/33 [00:00<?, ?it/s]"
      ]
     },
     "metadata": {},
     "output_type": "display_data"
    },
    {
     "name": "stdout",
     "output_type": "stream",
     "text": [
      "[[  0   2   0 ...   0   0   0]\n",
      " [  0 127   0 ...   0   0   0]\n",
      " [  0   0   0 ...   0   0   0]\n",
      " ...\n",
      " [  0   0   0 ...   0   0   0]\n",
      " [  0   0   0 ...   0   0   0]\n",
      " [  0   0   0 ...   0   0   0]]\n",
      "\n",
      "Train set: Average loss: 3.4608, LCNN Loss: 0.3949, Accuracy: 390/2079 (19%)\n",
      "\n"
     ]
    },
    {
     "data": {
      "application/vnd.jupyter.widget-view+json": {
       "model_id": "26dda25f93a642efb4586500380fc011",
       "version_major": 2,
       "version_minor": 0
      },
      "text/plain": [
       "  0%|          | 0/8 [00:00<?, ?it/s]"
      ]
     },
     "metadata": {},
     "output_type": "display_data"
    },
    {
     "name": "stdout",
     "output_type": "stream",
     "text": [
      "[[ 0  1  0 ...  0  0  0]\n",
      " [ 0 37  0 ...  0  0  0]\n",
      " [ 0  1  0 ...  0  0  0]\n",
      " ...\n",
      " [ 0  0  0 ...  0  0  0]\n",
      " [ 0  0  0 ...  0  0  0]\n",
      " [ 0  0  0 ...  0  0  0]]\n",
      "\n",
      "Test set: Average loss: 3.4333, LCNN Loss: 0.0958, Accuracy: 95/507 (19%)\n",
      "\n"
     ]
    },
    {
     "data": {
      "application/vnd.jupyter.widget-view+json": {
       "model_id": "c03323264391476195ac7e6068bb94b3",
       "version_major": 2,
       "version_minor": 0
      },
      "text/plain": [
       "  0%|          | 0/33 [00:00<?, ?it/s]"
      ]
     },
     "metadata": {},
     "output_type": "display_data"
    },
    {
     "data": {
      "application/vnd.jupyter.widget-view+json": {
       "model_id": "3d376711ddca452393c5d30ce3d91bb7",
       "version_major": 2,
       "version_minor": 0
      },
      "text/plain": [
       "  0%|          | 0/33 [00:00<?, ?it/s]"
      ]
     },
     "metadata": {},
     "output_type": "display_data"
    },
    {
     "name": "stdout",
     "output_type": "stream",
     "text": [
      "[[  0   0   0 ...   0   0   0]\n",
      " [  0 186   0 ...   0   0   0]\n",
      " [  0   1   0 ...   0   0   0]\n",
      " ...\n",
      " [  0   1   0 ...   0   0   0]\n",
      " [  0   0   0 ...   0   0   0]\n",
      " [  0   0   0 ...   0   0   0]]\n",
      "\n",
      "Train set: Average loss: 3.2558, LCNN Loss: 0.3932, Accuracy: 449/2079 (22%)\n",
      "\n"
     ]
    },
    {
     "data": {
      "application/vnd.jupyter.widget-view+json": {
       "model_id": "b8bb98b27f914ee7bbb04abab350e900",
       "version_major": 2,
       "version_minor": 0
      },
      "text/plain": [
       "  0%|          | 0/8 [00:00<?, ?it/s]"
      ]
     },
     "metadata": {},
     "output_type": "display_data"
    },
    {
     "name": "stdout",
     "output_type": "stream",
     "text": [
      "[[ 0  0  0 ...  0  0  0]\n",
      " [ 0 46  0 ...  0  0  0]\n",
      " [ 0  0  0 ...  0  0  0]\n",
      " ...\n",
      " [ 0  0  0 ...  0  0  0]\n",
      " [ 0  0  0 ...  0  0  0]\n",
      " [ 0  0  0 ...  0  0  0]]\n",
      "\n",
      "Test set: Average loss: 3.2947, LCNN Loss: 0.0940, Accuracy: 105/507 (21%)\n",
      "\n"
     ]
    },
    {
     "data": {
      "application/vnd.jupyter.widget-view+json": {
       "model_id": "265e0a1aca844db987e83744008fc67c",
       "version_major": 2,
       "version_minor": 0
      },
      "text/plain": [
       "  0%|          | 0/33 [00:00<?, ?it/s]"
      ]
     },
     "metadata": {},
     "output_type": "display_data"
    },
    {
     "data": {
      "application/vnd.jupyter.widget-view+json": {
       "model_id": "bf2b26d7cc65466c8ac868461a016254",
       "version_major": 2,
       "version_minor": 0
      },
      "text/plain": [
       "  0%|          | 0/33 [00:00<?, ?it/s]"
      ]
     },
     "metadata": {},
     "output_type": "display_data"
    },
    {
     "name": "stdout",
     "output_type": "stream",
     "text": [
      "[[  0   0   0 ...   0   0   0]\n",
      " [  0 209   0 ...   0   0   0]\n",
      " [  0   3   0 ...   0   0   0]\n",
      " ...\n",
      " [  0   1   0 ...   0   0   0]\n",
      " [  0   0   0 ...   0   0   0]\n",
      " [  0   1   0 ...   0   0   0]]\n",
      "\n",
      "Train set: Average loss: 2.9510, LCNN Loss: 0.3789, Accuracy: 600/2079 (29%)\n",
      "\n"
     ]
    },
    {
     "data": {
      "application/vnd.jupyter.widget-view+json": {
       "model_id": "6dc0c203bab24ca696bdf20c7edc9d03",
       "version_major": 2,
       "version_minor": 0
      },
      "text/plain": [
       "  0%|          | 0/8 [00:00<?, ?it/s]"
      ]
     },
     "metadata": {},
     "output_type": "display_data"
    },
    {
     "name": "stdout",
     "output_type": "stream",
     "text": [
      "[[ 0  0  0 ...  0  0  0]\n",
      " [ 0 53  0 ...  0  0  0]\n",
      " [ 0  1  0 ...  0  0  0]\n",
      " ...\n",
      " [ 0  0  0 ...  0  0  0]\n",
      " [ 0  0  0 ...  0  0  0]\n",
      " [ 0  1  0 ...  0  0  0]]\n",
      "\n",
      "Test set: Average loss: 2.9694, LCNN Loss: 0.0907, Accuracy: 148/507 (29%)\n",
      "\n"
     ]
    },
    {
     "data": {
      "application/vnd.jupyter.widget-view+json": {
       "model_id": "242f6e57c1974891b670b72e3d8e4f5e",
       "version_major": 2,
       "version_minor": 0
      },
      "text/plain": [
       "  0%|          | 0/33 [00:00<?, ?it/s]"
      ]
     },
     "metadata": {},
     "output_type": "display_data"
    },
    {
     "data": {
      "application/vnd.jupyter.widget-view+json": {
       "model_id": "546507919b614c69b2f6df620bb4ac73",
       "version_major": 2,
       "version_minor": 0
      },
      "text/plain": [
       "  0%|          | 0/33 [00:00<?, ?it/s]"
      ]
     },
     "metadata": {},
     "output_type": "display_data"
    },
    {
     "name": "stdout",
     "output_type": "stream",
     "text": [
      "[[ 0  0  0 ...  0  0  0]\n",
      " [ 0 44  0 ...  0  0  0]\n",
      " [ 0  0  0 ...  0  0  0]\n",
      " ...\n",
      " [ 0  0  0 ...  0  0  0]\n",
      " [ 0  0  0 ...  0  0  0]\n",
      " [ 0  0  0 ...  0  0  0]]\n",
      "\n",
      "Train set: Average loss: 4.7493, LCNN Loss: 0.8501, Accuracy: 337/2079 (16%)\n",
      "\n"
     ]
    },
    {
     "data": {
      "application/vnd.jupyter.widget-view+json": {
       "model_id": "f2c9978401574938a418791c263a202f",
       "version_major": 2,
       "version_minor": 0
      },
      "text/plain": [
       "  0%|          | 0/8 [00:00<?, ?it/s]"
      ]
     },
     "metadata": {},
     "output_type": "display_data"
    },
    {
     "name": "stdout",
     "output_type": "stream",
     "text": [
      "[[ 0  0  0 ...  0  0  0]\n",
      " [ 0 11  0 ...  0  0  0]\n",
      " [ 0  0  0 ...  0  0  0]\n",
      " ...\n",
      " [ 0  0  0 ...  0  0  0]\n",
      " [ 0  0  0 ...  0  0  0]\n",
      " [ 0  0  0 ...  0  0  0]]\n",
      "\n",
      "Test set: Average loss: 4.7718, LCNN Loss: 0.2034, Accuracy: 72/507 (14%)\n",
      "\n"
     ]
    },
    {
     "data": {
      "application/vnd.jupyter.widget-view+json": {
       "model_id": "076fcbf94e7e4061bc78190ab6382739",
       "version_major": 2,
       "version_minor": 0
      },
      "text/plain": [
       "  0%|          | 0/33 [00:00<?, ?it/s]"
      ]
     },
     "metadata": {},
     "output_type": "display_data"
    },
    {
     "data": {
      "application/vnd.jupyter.widget-view+json": {
       "model_id": "ec527966026d40fcb7755116dc9bb4e1",
       "version_major": 2,
       "version_minor": 0
      },
      "text/plain": [
       "  0%|          | 0/33 [00:00<?, ?it/s]"
      ]
     },
     "metadata": {},
     "output_type": "display_data"
    },
    {
     "name": "stdout",
     "output_type": "stream",
     "text": [
      "[[  0   8   0 ...   0   0   0]\n",
      " [  0 214   0 ...   0   0   0]\n",
      " [  0   3   0 ...   0   0   0]\n",
      " ...\n",
      " [  0   0   0 ...   0   0   0]\n",
      " [  0   2   0 ...   0   0   0]\n",
      " [  0   3   0 ...   0   0   0]]\n",
      "\n",
      "Train set: Average loss: 3.3246, LCNN Loss: 0.4524, Accuracy: 463/2079 (22%)\n",
      "\n"
     ]
    },
    {
     "data": {
      "application/vnd.jupyter.widget-view+json": {
       "model_id": "f6af4e30b0af49ed919910f06cdae51e",
       "version_major": 2,
       "version_minor": 0
      },
      "text/plain": [
       "  0%|          | 0/8 [00:00<?, ?it/s]"
      ]
     },
     "metadata": {},
     "output_type": "display_data"
    },
    {
     "name": "stdout",
     "output_type": "stream",
     "text": [
      "[[ 0  0  0 ...  0  0  0]\n",
      " [ 0 52  0 ...  0  0  0]\n",
      " [ 0  1  0 ...  0  0  0]\n",
      " ...\n",
      " [ 0  0  0 ...  0  0  0]\n",
      " [ 0  0  0 ...  0  0  0]\n",
      " [ 0  1  0 ...  0  0  0]]\n",
      "\n",
      "Test set: Average loss: 3.4342, LCNN Loss: 0.1091, Accuracy: 110/507 (22%)\n",
      "\n"
     ]
    },
    {
     "data": {
      "application/vnd.jupyter.widget-view+json": {
       "model_id": "e3ca9b6ad93842f48d0c13767a0825db",
       "version_major": 2,
       "version_minor": 0
      },
      "text/plain": [
       "  0%|          | 0/33 [00:00<?, ?it/s]"
      ]
     },
     "metadata": {},
     "output_type": "display_data"
    },
    {
     "data": {
      "application/vnd.jupyter.widget-view+json": {
       "model_id": "439f39bded0d47f29f60fa5e1f47315d",
       "version_major": 2,
       "version_minor": 0
      },
      "text/plain": [
       "  0%|          | 0/33 [00:00<?, ?it/s]"
      ]
     },
     "metadata": {},
     "output_type": "display_data"
    },
    {
     "name": "stdout",
     "output_type": "stream",
     "text": [
      "[[  0  12   0 ...   0   0   0]\n",
      " [  0 228   0 ...   0   0   0]\n",
      " [  0   4   0 ...   0   0   0]\n",
      " ...\n",
      " [  0   1   0 ...   0   0   0]\n",
      " [  0   0   0 ...   0   0   0]\n",
      " [  0   3   0 ...   0   0   0]]\n",
      "\n",
      "Train set: Average loss: 4.5437, LCNN Loss: 0.6565, Accuracy: 355/2079 (17%)\n",
      "\n"
     ]
    },
    {
     "data": {
      "application/vnd.jupyter.widget-view+json": {
       "model_id": "aa38b8944a1e4841a4d1615695e97d23",
       "version_major": 2,
       "version_minor": 0
      },
      "text/plain": [
       "  0%|          | 0/8 [00:00<?, ?it/s]"
      ]
     },
     "metadata": {},
     "output_type": "display_data"
    },
    {
     "name": "stdout",
     "output_type": "stream",
     "text": [
      "[[ 0  2  0 ...  0  0  0]\n",
      " [ 0 56  0 ...  0  0  0]\n",
      " [ 0  1  0 ...  0  0  0]\n",
      " ...\n",
      " [ 0  1  0 ...  0  0  0]\n",
      " [ 0  0  0 ...  0  0  0]\n",
      " [ 0  2  0 ...  0  0  0]]\n",
      "\n",
      "Test set: Average loss: 4.6766, LCNN Loss: 0.1582, Accuracy: 71/507 (14%)\n",
      "\n"
     ]
    },
    {
     "data": {
      "application/vnd.jupyter.widget-view+json": {
       "model_id": "6aade4f35f9e461da1e8db8249ca056a",
       "version_major": 2,
       "version_minor": 0
      },
      "text/plain": [
       "  0%|          | 0/33 [00:00<?, ?it/s]"
      ]
     },
     "metadata": {},
     "output_type": "display_data"
    },
    {
     "data": {
      "application/vnd.jupyter.widget-view+json": {
       "model_id": "68a4df75ee86441f80a9359e0c119986",
       "version_major": 2,
       "version_minor": 0
      },
      "text/plain": [
       "  0%|          | 0/33 [00:00<?, ?it/s]"
      ]
     },
     "metadata": {},
     "output_type": "display_data"
    },
    {
     "name": "stdout",
     "output_type": "stream",
     "text": [
      "[[  1   0   0 ...   0   0   0]\n",
      " [  0 111   0 ...   0   0   0]\n",
      " [  0   0   0 ...   0   0   0]\n",
      " ...\n",
      " [  0   0   0 ...   0   0   0]\n",
      " [  0   0   0 ...   0   0   0]\n",
      " [  0   0   0 ...   0   0   0]]\n",
      "\n",
      "Train set: Average loss: 3.4652, LCNN Loss: 0.5154, Accuracy: 425/2079 (20%)\n",
      "\n"
     ]
    },
    {
     "data": {
      "application/vnd.jupyter.widget-view+json": {
       "model_id": "a62586d4dfa24785914b8e3e33bd27a0",
       "version_major": 2,
       "version_minor": 0
      },
      "text/plain": [
       "  0%|          | 0/8 [00:00<?, ?it/s]"
      ]
     },
     "metadata": {},
     "output_type": "display_data"
    },
    {
     "name": "stdout",
     "output_type": "stream",
     "text": [
      "[[ 0  0  0 ...  0  0  0]\n",
      " [ 0 32  0 ...  0  0  0]\n",
      " [ 0  0  0 ...  0  0  0]\n",
      " ...\n",
      " [ 0  0  0 ...  0  0  0]\n",
      " [ 0  0  0 ...  0  0  0]\n",
      " [ 0  0  0 ...  0  0  0]]\n",
      "\n",
      "Test set: Average loss: 3.6883, LCNN Loss: 0.1258, Accuracy: 101/507 (20%)\n",
      "\n"
     ]
    },
    {
     "data": {
      "application/vnd.jupyter.widget-view+json": {
       "model_id": "7de422295c154f1695257805b1473610",
       "version_major": 2,
       "version_minor": 0
      },
      "text/plain": [
       "  0%|          | 0/33 [00:00<?, ?it/s]"
      ]
     },
     "metadata": {},
     "output_type": "display_data"
    },
    {
     "data": {
      "application/vnd.jupyter.widget-view+json": {
       "model_id": "c1777b1cba6c4fb4a7f0f3ce5dc4c122",
       "version_major": 2,
       "version_minor": 0
      },
      "text/plain": [
       "  0%|          | 0/33 [00:00<?, ?it/s]"
      ]
     },
     "metadata": {},
     "output_type": "display_data"
    },
    {
     "name": "stdout",
     "output_type": "stream",
     "text": [
      "[[  0   1   0 ...   0   0   0]\n",
      " [  0 221   0 ...   0   0   0]\n",
      " [  0   4   0 ...   0   0   0]\n",
      " ...\n",
      " [  0   1   0 ...   0   0   0]\n",
      " [  0   0   0 ...   0   0   0]\n",
      " [  0   1   0 ...   0   0   0]]\n",
      "\n",
      "Train set: Average loss: 2.7215, LCNN Loss: 0.4539, Accuracy: 678/2079 (33%)\n",
      "\n"
     ]
    },
    {
     "data": {
      "application/vnd.jupyter.widget-view+json": {
       "model_id": "cdf51c27a3c04de398620920c6fc3299",
       "version_major": 2,
       "version_minor": 0
      },
      "text/plain": [
       "  0%|          | 0/8 [00:00<?, ?it/s]"
      ]
     },
     "metadata": {},
     "output_type": "display_data"
    },
    {
     "name": "stdout",
     "output_type": "stream",
     "text": [
      "[[ 0  0  0 ...  0  0  0]\n",
      " [ 0 52  0 ...  0  0  0]\n",
      " [ 0  1  0 ...  0  0  0]\n",
      " ...\n",
      " [ 0  1  0 ...  0  0  0]\n",
      " [ 0  0  0 ...  0  0  0]\n",
      " [ 0  1  0 ...  0  0  0]]\n",
      "\n",
      "Test set: Average loss: 3.0082, LCNN Loss: 0.1083, Accuracy: 142/507 (28%)\n",
      "\n"
     ]
    },
    {
     "data": {
      "application/vnd.jupyter.widget-view+json": {
       "model_id": "94832ab308954c9797ec586fbbd2930d",
       "version_major": 2,
       "version_minor": 0
      },
      "text/plain": [
       "  0%|          | 0/33 [00:00<?, ?it/s]"
      ]
     },
     "metadata": {},
     "output_type": "display_data"
    },
    {
     "data": {
      "application/vnd.jupyter.widget-view+json": {
       "model_id": "475fd3dc749d4595a96401caf8312d6e",
       "version_major": 2,
       "version_minor": 0
      },
      "text/plain": [
       "  0%|          | 0/33 [00:00<?, ?it/s]"
      ]
     },
     "metadata": {},
     "output_type": "display_data"
    },
    {
     "name": "stdout",
     "output_type": "stream",
     "text": [
      "[[  0   1   0 ...   0   0   0]\n",
      " [  0 196   0 ...   0   0   0]\n",
      " [  0   0   0 ...   0   0   0]\n",
      " ...\n",
      " [  0   0   0 ...   0   0   0]\n",
      " [  0   0   0 ...   0   0   0]\n",
      " [  0   2   0 ...   0   0   0]]\n",
      "\n",
      "Train set: Average loss: 4.7828, LCNN Loss: 0.8745, Accuracy: 360/2079 (17%)\n",
      "\n"
     ]
    },
    {
     "data": {
      "application/vnd.jupyter.widget-view+json": {
       "model_id": "8b46ea41813e4dbc94a7f71533d36f7b",
       "version_major": 2,
       "version_minor": 0
      },
      "text/plain": [
       "  0%|          | 0/8 [00:00<?, ?it/s]"
      ]
     },
     "metadata": {},
     "output_type": "display_data"
    },
    {
     "name": "stdout",
     "output_type": "stream",
     "text": [
      "[[ 0  0  0 ...  0  0  0]\n",
      " [ 0 49  0 ...  0  0  0]\n",
      " [ 0  0  0 ...  0  0  0]\n",
      " ...\n",
      " [ 0  0  0 ...  0  0  0]\n",
      " [ 0  0  0 ...  0  0  0]\n",
      " [ 0  0  0 ...  0  0  0]]\n",
      "\n",
      "Test set: Average loss: 5.0209, LCNN Loss: 0.2144, Accuracy: 90/507 (18%)\n",
      "\n"
     ]
    },
    {
     "data": {
      "application/vnd.jupyter.widget-view+json": {
       "model_id": "c15156a8bea74a52b283e272f9f5624f",
       "version_major": 2,
       "version_minor": 0
      },
      "text/plain": [
       "  0%|          | 0/33 [00:00<?, ?it/s]"
      ]
     },
     "metadata": {},
     "output_type": "display_data"
    },
    {
     "data": {
      "application/vnd.jupyter.widget-view+json": {
       "model_id": "88d86071b9464cd2ace83c891eae66be",
       "version_major": 2,
       "version_minor": 0
      },
      "text/plain": [
       "  0%|          | 0/33 [00:00<?, ?it/s]"
      ]
     },
     "metadata": {},
     "output_type": "display_data"
    },
    {
     "name": "stdout",
     "output_type": "stream",
     "text": [
      "[[  0   3   0 ...   0   0   0]\n",
      " [  0 214   0 ...   0   0   0]\n",
      " [  0   2   0 ...   0   0   0]\n",
      " ...\n",
      " [  0   1   0 ...   0   0   0]\n",
      " [  0   0   0 ...   0   0   0]\n",
      " [  0   1   0 ...   0   0   0]]\n",
      "\n",
      "Train set: Average loss: 3.2387, LCNN Loss: 0.5703, Accuracy: 509/2079 (24%)\n",
      "\n"
     ]
    },
    {
     "data": {
      "application/vnd.jupyter.widget-view+json": {
       "model_id": "910c5085564e43caa43b9add25608ffc",
       "version_major": 2,
       "version_minor": 0
      },
      "text/plain": [
       "  0%|          | 0/8 [00:00<?, ?it/s]"
      ]
     },
     "metadata": {},
     "output_type": "display_data"
    },
    {
     "name": "stdout",
     "output_type": "stream",
     "text": [
      "[[ 0  0  0 ...  0  0  0]\n",
      " [ 0 52  0 ...  0  0  0]\n",
      " [ 0  1  0 ...  0  0  0]\n",
      " ...\n",
      " [ 0  0  0 ...  0  0  0]\n",
      " [ 0  0  0 ...  0  0  0]\n",
      " [ 0  0  0 ...  0  0  0]]\n",
      "\n",
      "Test set: Average loss: 3.7561, LCNN Loss: 0.1387, Accuracy: 110/507 (22%)\n",
      "\n"
     ]
    },
    {
     "data": {
      "application/vnd.jupyter.widget-view+json": {
       "model_id": "736537771c44477cb5037ce07d83167d",
       "version_major": 2,
       "version_minor": 0
      },
      "text/plain": [
       "  0%|          | 0/33 [00:00<?, ?it/s]"
      ]
     },
     "metadata": {},
     "output_type": "display_data"
    },
    {
     "data": {
      "application/vnd.jupyter.widget-view+json": {
       "model_id": "48857ed346bd45748380e137f032d653",
       "version_major": 2,
       "version_minor": 0
      },
      "text/plain": [
       "  0%|          | 0/33 [00:00<?, ?it/s]"
      ]
     },
     "metadata": {},
     "output_type": "display_data"
    },
    {
     "name": "stdout",
     "output_type": "stream",
     "text": [
      "[[ 10   0   0 ...   0   0   0]\n",
      " [  1 163   0 ...   0   0   0]\n",
      " [  1   0   0 ...   0   0   0]\n",
      " ...\n",
      " [  0   0   0 ...   0   0   0]\n",
      " [  0   0   0 ...   0   0   0]\n",
      " [  0   0   0 ...   0   0   0]]\n",
      "\n",
      "Train set: Average loss: 2.9316, LCNN Loss: 0.6212, Accuracy: 620/2079 (30%)\n",
      "\n"
     ]
    },
    {
     "data": {
      "application/vnd.jupyter.widget-view+json": {
       "model_id": "59fce70544f746469f880a9078b86838",
       "version_major": 2,
       "version_minor": 0
      },
      "text/plain": [
       "  0%|          | 0/8 [00:00<?, ?it/s]"
      ]
     },
     "metadata": {},
     "output_type": "display_data"
    },
    {
     "name": "stdout",
     "output_type": "stream",
     "text": [
      "[[ 3  0  0 ...  0  0  0]\n",
      " [ 0 41  0 ...  0  0  0]\n",
      " [ 0  0  0 ...  0  0  0]\n",
      " ...\n",
      " [ 0  0  0 ...  0  0  0]\n",
      " [ 1  0  0 ...  0  0  0]\n",
      " [ 0  0  0 ...  0  0  0]]\n",
      "\n",
      "Test set: Average loss: 3.3438, LCNN Loss: 0.1515, Accuracy: 125/507 (25%)\n",
      "\n"
     ]
    },
    {
     "data": {
      "application/vnd.jupyter.widget-view+json": {
       "model_id": "4f8a3ade04814d75908e407e3dce30c6",
       "version_major": 2,
       "version_minor": 0
      },
      "text/plain": [
       "  0%|          | 0/33 [00:00<?, ?it/s]"
      ]
     },
     "metadata": {},
     "output_type": "display_data"
    },
    {
     "data": {
      "application/vnd.jupyter.widget-view+json": {
       "model_id": "f8ae0bec4496417ba0c9c5322bdc86cc",
       "version_major": 2,
       "version_minor": 0
      },
      "text/plain": [
       "  0%|          | 0/33 [00:00<?, ?it/s]"
      ]
     },
     "metadata": {},
     "output_type": "display_data"
    },
    {
     "name": "stdout",
     "output_type": "stream",
     "text": [
      "[[ 0  0  0 ...  0  0  0]\n",
      " [ 0 71  0 ...  0  0  0]\n",
      " [ 0  0  0 ...  0  0  0]\n",
      " ...\n",
      " [ 0  0  0 ...  0  0  0]\n",
      " [ 0  0  0 ...  0  0  0]\n",
      " [ 0  0  0 ...  0  0  0]]\n",
      "\n",
      "Train set: Average loss: 3.8404, LCNN Loss: 0.8004, Accuracy: 382/2079 (18%)\n",
      "\n"
     ]
    },
    {
     "data": {
      "application/vnd.jupyter.widget-view+json": {
       "model_id": "4a078ba338ef4dd8be881506d5c8832a",
       "version_major": 2,
       "version_minor": 0
      },
      "text/plain": [
       "  0%|          | 0/8 [00:00<?, ?it/s]"
      ]
     },
     "metadata": {},
     "output_type": "display_data"
    },
    {
     "name": "stdout",
     "output_type": "stream",
     "text": [
      "[[ 0  0  0 ...  0  0  0]\n",
      " [ 0 11  0 ...  0  0  0]\n",
      " [ 0  0  0 ...  0  0  0]\n",
      " ...\n",
      " [ 0  0  0 ...  0  0  0]\n",
      " [ 0  0  0 ...  0  0  0]\n",
      " [ 0  0  0 ...  0  0  0]]\n",
      "\n",
      "Test set: Average loss: 4.3899, LCNN Loss: 0.1975, Accuracy: 69/507 (14%)\n",
      "\n"
     ]
    },
    {
     "data": {
      "application/vnd.jupyter.widget-view+json": {
       "model_id": "ff16d819935f43b2aad2c20222bf084b",
       "version_major": 2,
       "version_minor": 0
      },
      "text/plain": [
       "  0%|          | 0/33 [00:00<?, ?it/s]"
      ]
     },
     "metadata": {},
     "output_type": "display_data"
    },
    {
     "data": {
      "application/vnd.jupyter.widget-view+json": {
       "model_id": "545269ddd7264851944bdfd953395848",
       "version_major": 2,
       "version_minor": 0
      },
      "text/plain": [
       "  0%|          | 0/33 [00:00<?, ?it/s]"
      ]
     },
     "metadata": {},
     "output_type": "display_data"
    },
    {
     "name": "stdout",
     "output_type": "stream",
     "text": [
      "[[ 1  0  0 ...  0  0  0]\n",
      " [ 0 42  0 ...  0  0  0]\n",
      " [ 0  0  0 ...  0  0  0]\n",
      " ...\n",
      " [ 0  0  0 ...  0  0  0]\n",
      " [ 0  0  0 ...  0  0  0]\n",
      " [ 0  0  0 ...  0  0  0]]\n",
      "\n",
      "Train set: Average loss: 3.8673, LCNN Loss: 0.6913, Accuracy: 420/2079 (20%)\n",
      "\n"
     ]
    },
    {
     "data": {
      "application/vnd.jupyter.widget-view+json": {
       "model_id": "99bdc9ef64be456c9c14b299878d16f1",
       "version_major": 2,
       "version_minor": 0
      },
      "text/plain": [
       "  0%|          | 0/8 [00:00<?, ?it/s]"
      ]
     },
     "metadata": {},
     "output_type": "display_data"
    },
    {
     "name": "stdout",
     "output_type": "stream",
     "text": [
      "[[0 0 0 ... 0 0 0]\n",
      " [0 8 0 ... 0 0 0]\n",
      " [0 0 0 ... 0 0 0]\n",
      " ...\n",
      " [0 0 0 ... 0 0 0]\n",
      " [0 0 0 ... 0 0 0]\n",
      " [0 0 0 ... 0 0 0]]\n",
      "\n",
      "Test set: Average loss: 4.5086, LCNN Loss: 0.1687, Accuracy: 82/507 (16%)\n",
      "\n"
     ]
    },
    {
     "data": {
      "application/vnd.jupyter.widget-view+json": {
       "model_id": "d9d806cc2404411894c870b9cce76807",
       "version_major": 2,
       "version_minor": 0
      },
      "text/plain": [
       "  0%|          | 0/33 [00:00<?, ?it/s]"
      ]
     },
     "metadata": {},
     "output_type": "display_data"
    },
    {
     "data": {
      "application/vnd.jupyter.widget-view+json": {
       "model_id": "40a5cb46cef44dcfa8b01746bbb919e9",
       "version_major": 2,
       "version_minor": 0
      },
      "text/plain": [
       "  0%|          | 0/33 [00:00<?, ?it/s]"
      ]
     },
     "metadata": {},
     "output_type": "display_data"
    },
    {
     "name": "stdout",
     "output_type": "stream",
     "text": [
      "[[  0   0   0 ...   0   0   0]\n",
      " [  0 141   0 ...   0   0   0]\n",
      " [  0   0   0 ...   0   0   0]\n",
      " ...\n",
      " [  0   0   0 ...   0   0   0]\n",
      " [  0   0   0 ...   0   0   0]\n",
      " [  0   0   0 ...   0   0   0]]\n",
      "\n",
      "Train set: Average loss: 2.6277, LCNN Loss: 0.7532, Accuracy: 750/2079 (36%)\n",
      "\n"
     ]
    },
    {
     "data": {
      "application/vnd.jupyter.widget-view+json": {
       "model_id": "e36a1880519545a787156cef446e38e2",
       "version_major": 2,
       "version_minor": 0
      },
      "text/plain": [
       "  0%|          | 0/8 [00:00<?, ?it/s]"
      ]
     },
     "metadata": {},
     "output_type": "display_data"
    },
    {
     "name": "stdout",
     "output_type": "stream",
     "text": [
      "[[ 0  0  0 ...  0  0  0]\n",
      " [ 0 27  0 ...  0  0  0]\n",
      " [ 0  0  0 ...  0  0  0]\n",
      " ...\n",
      " [ 0  0  0 ...  0  0  0]\n",
      " [ 0  0  0 ...  0  0  0]\n",
      " [ 0  0  0 ...  0  0  0]]\n",
      "\n",
      "Test set: Average loss: 3.3742, LCNN Loss: 0.1842, Accuracy: 130/507 (26%)\n",
      "\n"
     ]
    },
    {
     "data": {
      "application/vnd.jupyter.widget-view+json": {
       "model_id": "61f13355c5294f84be70190e4c063f6e",
       "version_major": 2,
       "version_minor": 0
      },
      "text/plain": [
       "  0%|          | 0/33 [00:00<?, ?it/s]"
      ]
     },
     "metadata": {},
     "output_type": "display_data"
    },
    {
     "data": {
      "application/vnd.jupyter.widget-view+json": {
       "model_id": "2c2fe9b8c2d44d8ab543be5d7fd95950",
       "version_major": 2,
       "version_minor": 0
      },
      "text/plain": [
       "  0%|          | 0/33 [00:00<?, ?it/s]"
      ]
     },
     "metadata": {},
     "output_type": "display_data"
    },
    {
     "name": "stdout",
     "output_type": "stream",
     "text": [
      "[[ 3  0  0 ...  0  0  0]\n",
      " [ 0 48  0 ...  0  0  0]\n",
      " [ 1  0  0 ...  0  0  0]\n",
      " ...\n",
      " [ 0  0  0 ...  0  0  0]\n",
      " [ 0  0  0 ...  0  0  0]\n",
      " [ 0  0  0 ...  0  0  0]]\n",
      "\n",
      "Train set: Average loss: 3.6173, LCNN Loss: 1.1518, Accuracy: 612/2079 (29%)\n",
      "\n"
     ]
    },
    {
     "data": {
      "application/vnd.jupyter.widget-view+json": {
       "model_id": "33964ae92f074c3899fb92374ba52fcb",
       "version_major": 2,
       "version_minor": 0
      },
      "text/plain": [
       "  0%|          | 0/8 [00:00<?, ?it/s]"
      ]
     },
     "metadata": {},
     "output_type": "display_data"
    },
    {
     "name": "stdout",
     "output_type": "stream",
     "text": [
      "[[ 2  0  0 ...  0  0  0]\n",
      " [ 0 10  0 ...  0  0  0]\n",
      " [ 0  0  0 ...  0  0  0]\n",
      " ...\n",
      " [ 0  0  0 ...  0  0  0]\n",
      " [ 0  0  0 ...  0  0  0]\n",
      " [ 0  0  0 ...  0  0  0]]\n",
      "\n",
      "Test set: Average loss: 4.7184, LCNN Loss: 0.2782, Accuracy: 104/507 (21%)\n",
      "\n"
     ]
    },
    {
     "data": {
      "application/vnd.jupyter.widget-view+json": {
       "model_id": "f9b2dccc8ede4645ba163a95f324f1a0",
       "version_major": 2,
       "version_minor": 0
      },
      "text/plain": [
       "  0%|          | 0/33 [00:00<?, ?it/s]"
      ]
     },
     "metadata": {},
     "output_type": "display_data"
    },
    {
     "data": {
      "application/vnd.jupyter.widget-view+json": {
       "model_id": "b3e02468aed24e9484c976628a3fc46d",
       "version_major": 2,
       "version_minor": 0
      },
      "text/plain": [
       "  0%|          | 0/33 [00:00<?, ?it/s]"
      ]
     },
     "metadata": {},
     "output_type": "display_data"
    },
    {
     "name": "stdout",
     "output_type": "stream",
     "text": [
      "[[  3   1   0 ...   0   0   0]\n",
      " [  0 228   0 ...   0   0   0]\n",
      " [  0   1   0 ...   0   0   0]\n",
      " ...\n",
      " [  0   0   0 ...   0   0   0]\n",
      " [  0   0   0 ...   0   0   0]\n",
      " [  0   0   0 ...   0   0   0]]\n",
      "\n",
      "Train set: Average loss: 2.0138, LCNN Loss: 0.6676, Accuracy: 1009/2079 (49%)\n",
      "\n"
     ]
    },
    {
     "data": {
      "application/vnd.jupyter.widget-view+json": {
       "model_id": "429df70aec57414ba531bc0968733b4f",
       "version_major": 2,
       "version_minor": 0
      },
      "text/plain": [
       "  0%|          | 0/8 [00:00<?, ?it/s]"
      ]
     },
     "metadata": {},
     "output_type": "display_data"
    },
    {
     "name": "stdout",
     "output_type": "stream",
     "text": [
      "[[ 0  0  0 ...  0  0  0]\n",
      " [ 0 53  0 ...  0  0  0]\n",
      " [ 0  0  0 ...  0  0  0]\n",
      " ...\n",
      " [ 0  0  0 ...  0  0  0]\n",
      " [ 0  0  0 ...  0  0  0]\n",
      " [ 0  0  0 ...  0  0  0]]\n",
      "\n",
      "Test set: Average loss: 3.1310, LCNN Loss: 0.1599, Accuracy: 145/507 (29%)\n",
      "\n"
     ]
    },
    {
     "data": {
      "application/vnd.jupyter.widget-view+json": {
       "model_id": "0868a099e1724d568a388c2cbe3bd358",
       "version_major": 2,
       "version_minor": 0
      },
      "text/plain": [
       "  0%|          | 0/33 [00:00<?, ?it/s]"
      ]
     },
     "metadata": {},
     "output_type": "display_data"
    },
    {
     "data": {
      "application/vnd.jupyter.widget-view+json": {
       "model_id": "6d652c5dbd6043a49e005777654eb0a3",
       "version_major": 2,
       "version_minor": 0
      },
      "text/plain": [
       "  0%|          | 0/33 [00:00<?, ?it/s]"
      ]
     },
     "metadata": {},
     "output_type": "display_data"
    },
    {
     "name": "stdout",
     "output_type": "stream",
     "text": [
      "[[  3   1   0 ...   0   0   0]\n",
      " [  0 233   0 ...   0   0   0]\n",
      " [  0   1   0 ...   0   0   0]\n",
      " ...\n",
      " [  0   0   0 ...   0   0   0]\n",
      " [  0   0   0 ...   0   0   0]\n",
      " [  0   0   0 ...   0   0   0]]\n",
      "\n",
      "Train set: Average loss: 2.0581, LCNN Loss: 0.7436, Accuracy: 957/2079 (46%)\n",
      "\n"
     ]
    },
    {
     "data": {
      "application/vnd.jupyter.widget-view+json": {
       "model_id": "4699f520db304f62a0649121c6a69e4c",
       "version_major": 2,
       "version_minor": 0
      },
      "text/plain": [
       "  0%|          | 0/8 [00:00<?, ?it/s]"
      ]
     },
     "metadata": {},
     "output_type": "display_data"
    },
    {
     "name": "stdout",
     "output_type": "stream",
     "text": [
      "[[ 0  0  0 ...  0  0  0]\n",
      " [ 0 50  0 ...  0  0  0]\n",
      " [ 0  0  0 ...  0  0  0]\n",
      " ...\n",
      " [ 0  0  0 ...  0  0  0]\n",
      " [ 0  0  0 ...  0  0  0]\n",
      " [ 0  0  0 ...  0  0  0]]\n",
      "\n",
      "Test set: Average loss: 3.6412, LCNN Loss: 0.1746, Accuracy: 134/507 (26%)\n",
      "\n"
     ]
    },
    {
     "data": {
      "application/vnd.jupyter.widget-view+json": {
       "model_id": "8e2dade7b437448895a9886bb392852b",
       "version_major": 2,
       "version_minor": 0
      },
      "text/plain": [
       "  0%|          | 0/33 [00:00<?, ?it/s]"
      ]
     },
     "metadata": {},
     "output_type": "display_data"
    },
    {
     "data": {
      "application/vnd.jupyter.widget-view+json": {
       "model_id": "db72261c92fc4d65b8deec22ba87d5d7",
       "version_major": 2,
       "version_minor": 0
      },
      "text/plain": [
       "  0%|          | 0/33 [00:00<?, ?it/s]"
      ]
     },
     "metadata": {},
     "output_type": "display_data"
    },
    {
     "name": "stdout",
     "output_type": "stream",
     "text": [
      "[[  5   0   0 ...   0   0   0]\n",
      " [  0 231   0 ...   0   0   0]\n",
      " [  0   1   0 ...   0   0   0]\n",
      " ...\n",
      " [  0   0   0 ...   0   0   0]\n",
      " [  0   0   0 ...   0   0   0]\n",
      " [  0   0   0 ...   0   0   0]]\n",
      "\n",
      "Train set: Average loss: 1.3656, LCNN Loss: 0.7594, Accuracy: 1333/2079 (64%)\n",
      "\n"
     ]
    },
    {
     "data": {
      "application/vnd.jupyter.widget-view+json": {
       "model_id": "c3b044f4d1824aa0bc52952b2dd70e99",
       "version_major": 2,
       "version_minor": 0
      },
      "text/plain": [
       "  0%|          | 0/8 [00:00<?, ?it/s]"
      ]
     },
     "metadata": {},
     "output_type": "display_data"
    },
    {
     "name": "stdout",
     "output_type": "stream",
     "text": [
      "[[ 1  0  0 ...  0  0  0]\n",
      " [ 0 49  0 ...  0  0  0]\n",
      " [ 0  0  0 ...  0  0  0]\n",
      " ...\n",
      " [ 0  0  0 ...  0  0  0]\n",
      " [ 0  0  0 ...  0  0  0]\n",
      " [ 0  0  0 ...  0  0  0]]\n",
      "\n",
      "Test set: Average loss: 3.1123, LCNN Loss: 0.1672, Accuracy: 179/507 (35%)\n",
      "\n"
     ]
    },
    {
     "data": {
      "application/vnd.jupyter.widget-view+json": {
       "model_id": "3a34e93992c640d18af91148cc272df8",
       "version_major": 2,
       "version_minor": 0
      },
      "text/plain": [
       "  0%|          | 0/33 [00:00<?, ?it/s]"
      ]
     },
     "metadata": {},
     "output_type": "display_data"
    },
    {
     "data": {
      "application/vnd.jupyter.widget-view+json": {
       "model_id": "eeb118de45144f4c8020c3cce388c0be",
       "version_major": 2,
       "version_minor": 0
      },
      "text/plain": [
       "  0%|          | 0/33 [00:00<?, ?it/s]"
      ]
     },
     "metadata": {},
     "output_type": "display_data"
    },
    {
     "name": "stdout",
     "output_type": "stream",
     "text": [
      "[[  1   0   0 ...   0   0   0]\n",
      " [  0 230   0 ...   0   0   0]\n",
      " [  0   2   0 ...   0   0   0]\n",
      " ...\n",
      " [  0   0   0 ...   0   0   0]\n",
      " [  0   0   0 ...   0   0   0]\n",
      " [  0   0   0 ...   0   0   0]]\n",
      "\n",
      "Train set: Average loss: 1.2628, LCNN Loss: 0.8013, Accuracy: 1409/2079 (68%)\n",
      "\n"
     ]
    },
    {
     "data": {
      "application/vnd.jupyter.widget-view+json": {
       "model_id": "b5b2b29d3f56407491f303178dbe5b76",
       "version_major": 2,
       "version_minor": 0
      },
      "text/plain": [
       "  0%|          | 0/8 [00:00<?, ?it/s]"
      ]
     },
     "metadata": {},
     "output_type": "display_data"
    },
    {
     "name": "stdout",
     "output_type": "stream",
     "text": [
      "[[ 1  0  0 ...  0  0  0]\n",
      " [ 0 48  0 ...  0  0  0]\n",
      " [ 0  0  0 ...  0  0  0]\n",
      " ...\n",
      " [ 0  0  0 ...  0  0  0]\n",
      " [ 0  0  0 ...  0  0  0]\n",
      " [ 0  0  0 ...  0  0  0]]\n",
      "\n",
      "Test set: Average loss: 3.1066, LCNN Loss: 0.1767, Accuracy: 178/507 (35%)\n",
      "\n"
     ]
    },
    {
     "data": {
      "application/vnd.jupyter.widget-view+json": {
       "model_id": "8aab9a66b465474b998289bda5984ba9",
       "version_major": 2,
       "version_minor": 0
      },
      "text/plain": [
       "  0%|          | 0/33 [00:00<?, ?it/s]"
      ]
     },
     "metadata": {},
     "output_type": "display_data"
    },
    {
     "data": {
      "application/vnd.jupyter.widget-view+json": {
       "model_id": "480656e5b93a4163992fb8757340642c",
       "version_major": 2,
       "version_minor": 0
      },
      "text/plain": [
       "  0%|          | 0/33 [00:00<?, ?it/s]"
      ]
     },
     "metadata": {},
     "output_type": "display_data"
    },
    {
     "name": "stdout",
     "output_type": "stream",
     "text": [
      "[[  5   0   0 ...   0   0   0]\n",
      " [  0 189   0 ...   0   0   0]\n",
      " [  0   0   0 ...   0   0   0]\n",
      " ...\n",
      " [  0   0   0 ...   0   0   0]\n",
      " [  0   0   0 ...   0   0   0]\n",
      " [  0   0   0 ...   0   0   1]]\n",
      "\n",
      "Train set: Average loss: 1.6494, LCNN Loss: 0.9856, Accuracy: 1192/2079 (57%)\n",
      "\n"
     ]
    },
    {
     "data": {
      "application/vnd.jupyter.widget-view+json": {
       "model_id": "93abc354f705486da7e8e08da00bf8eb",
       "version_major": 2,
       "version_minor": 0
      },
      "text/plain": [
       "  0%|          | 0/8 [00:00<?, ?it/s]"
      ]
     },
     "metadata": {},
     "output_type": "display_data"
    },
    {
     "name": "stdout",
     "output_type": "stream",
     "text": [
      "[[ 0  0  0 ...  0  0  0]\n",
      " [ 0 39  0 ...  0  0  0]\n",
      " [ 0  0  0 ...  0  0  0]\n",
      " ...\n",
      " [ 0  0  0 ...  0  0  0]\n",
      " [ 0  0  0 ...  0  0  0]\n",
      " [ 0  0  0 ...  0  0  0]]\n",
      "\n",
      "Test set: Average loss: 3.9367, LCNN Loss: 0.2162, Accuracy: 124/507 (24%)\n",
      "\n"
     ]
    },
    {
     "data": {
      "application/vnd.jupyter.widget-view+json": {
       "model_id": "46602399ec544ae68b3fee8ea17bd96c",
       "version_major": 2,
       "version_minor": 0
      },
      "text/plain": [
       "  0%|          | 0/33 [00:00<?, ?it/s]"
      ]
     },
     "metadata": {},
     "output_type": "display_data"
    },
    {
     "data": {
      "application/vnd.jupyter.widget-view+json": {
       "model_id": "2939950f646e4eb68f63e42f3b248a49",
       "version_major": 2,
       "version_minor": 0
      },
      "text/plain": [
       "  0%|          | 0/33 [00:00<?, ?it/s]"
      ]
     },
     "metadata": {},
     "output_type": "display_data"
    },
    {
     "name": "stdout",
     "output_type": "stream",
     "text": [
      "[[  4   3   0 ...   0   0   0]\n",
      " [  0 236   0 ...   0   0   0]\n",
      " [  0   4   0 ...   0   0   0]\n",
      " ...\n",
      " [  0   1   0 ...   0   0   0]\n",
      " [  0   0   0 ...   0   0   0]\n",
      " [  0   2   0 ...   0   0   0]]\n",
      "\n",
      "Train set: Average loss: 1.4941, LCNN Loss: 0.8751, Accuracy: 1268/2079 (61%)\n",
      "\n"
     ]
    },
    {
     "data": {
      "application/vnd.jupyter.widget-view+json": {
       "model_id": "f1c247139555498597a45c26d756c091",
       "version_major": 2,
       "version_minor": 0
      },
      "text/plain": [
       "  0%|          | 0/8 [00:00<?, ?it/s]"
      ]
     },
     "metadata": {},
     "output_type": "display_data"
    },
    {
     "name": "stdout",
     "output_type": "stream",
     "text": [
      "[[ 1  0  0 ...  0  0  0]\n",
      " [ 0 57  0 ...  0  0  0]\n",
      " [ 0  1  0 ...  0  0  0]\n",
      " ...\n",
      " [ 0  0  0 ...  0  0  0]\n",
      " [ 0  0  0 ...  0  0  0]\n",
      " [ 0  0  0 ...  0  0  0]]\n",
      "\n",
      "Test set: Average loss: 3.7018, LCNN Loss: 0.1989, Accuracy: 148/507 (29%)\n",
      "\n"
     ]
    },
    {
     "data": {
      "application/vnd.jupyter.widget-view+json": {
       "model_id": "f48edbc0054d471289e71aae0bbc3353",
       "version_major": 2,
       "version_minor": 0
      },
      "text/plain": [
       "  0%|          | 0/33 [00:00<?, ?it/s]"
      ]
     },
     "metadata": {},
     "output_type": "display_data"
    },
    {
     "data": {
      "application/vnd.jupyter.widget-view+json": {
       "model_id": "8b028a6b5bb24d7b88b6bcee19a0b0ef",
       "version_major": 2,
       "version_minor": 0
      },
      "text/plain": [
       "  0%|          | 0/33 [00:00<?, ?it/s]"
      ]
     },
     "metadata": {},
     "output_type": "display_data"
    },
    {
     "name": "stdout",
     "output_type": "stream",
     "text": [
      "[[ 13   0   0 ...   0   0   0]\n",
      " [  0 227   0 ...   0   0   0]\n",
      " [  1   0   0 ...   0   0   0]\n",
      " ...\n",
      " [  0   0   0 ...   0   0   0]\n",
      " [  0   0   0 ...   0   2   0]\n",
      " [  0   0   0 ...   0   0   0]]\n",
      "\n",
      "Train set: Average loss: 0.8728, LCNN Loss: 1.0815, Accuracy: 1610/2079 (77%)\n",
      "\n"
     ]
    },
    {
     "data": {
      "application/vnd.jupyter.widget-view+json": {
       "model_id": "65e38c818148411d8987a6b6f13548dc",
       "version_major": 2,
       "version_minor": 0
      },
      "text/plain": [
       "  0%|          | 0/8 [00:00<?, ?it/s]"
      ]
     },
     "metadata": {},
     "output_type": "display_data"
    },
    {
     "name": "stdout",
     "output_type": "stream",
     "text": [
      "[[ 3  0  0 ...  0  0  0]\n",
      " [ 0 40  0 ...  0  0  0]\n",
      " [ 0  0  0 ...  0  0  0]\n",
      " ...\n",
      " [ 0  0  0 ...  0  0  0]\n",
      " [ 0  0  0 ...  0  0  0]\n",
      " [ 0  0  0 ...  0  0  0]]\n",
      "\n",
      "Test set: Average loss: 3.5768, LCNN Loss: 0.2167, Accuracy: 148/507 (29%)\n",
      "\n"
     ]
    },
    {
     "data": {
      "application/vnd.jupyter.widget-view+json": {
       "model_id": "b0ca162f329e4258a8700e35b0c79942",
       "version_major": 2,
       "version_minor": 0
      },
      "text/plain": [
       "  0%|          | 0/33 [00:00<?, ?it/s]"
      ]
     },
     "metadata": {},
     "output_type": "display_data"
    },
    {
     "data": {
      "application/vnd.jupyter.widget-view+json": {
       "model_id": "eeeef6f4d5084a049ba8fab19cfb5f7c",
       "version_major": 2,
       "version_minor": 0
      },
      "text/plain": [
       "  0%|          | 0/33 [00:00<?, ?it/s]"
      ]
     },
     "metadata": {},
     "output_type": "display_data"
    },
    {
     "name": "stdout",
     "output_type": "stream",
     "text": [
      "[[  7   0   0 ...   0   0   0]\n",
      " [  0 235   0 ...   0   0   0]\n",
      " [  0   0   0 ...   0   0   0]\n",
      " ...\n",
      " [  0   0   0 ...   1   0   0]\n",
      " [  0   0   0 ...   0   0   0]\n",
      " [  0   0   0 ...   0   0   0]]\n",
      "\n",
      "Train set: Average loss: 1.1948, LCNN Loss: 1.0351, Accuracy: 1446/2079 (70%)\n",
      "\n"
     ]
    },
    {
     "data": {
      "application/vnd.jupyter.widget-view+json": {
       "model_id": "54513184ed374d2bbbc4f41c1e38243a",
       "version_major": 2,
       "version_minor": 0
      },
      "text/plain": [
       "  0%|          | 0/8 [00:00<?, ?it/s]"
      ]
     },
     "metadata": {},
     "output_type": "display_data"
    },
    {
     "name": "stdout",
     "output_type": "stream",
     "text": [
      "[[ 1  0  0 ...  0  0  0]\n",
      " [ 0 51  0 ...  0  0  0]\n",
      " [ 0  0  0 ...  0  0  0]\n",
      " ...\n",
      " [ 0  0  0 ...  0  0  0]\n",
      " [ 0  0  0 ...  0  0  0]\n",
      " [ 0  0  0 ...  0  0  0]]\n",
      "\n",
      "Test set: Average loss: 3.5801, LCNN Loss: 0.2210, Accuracy: 148/507 (29%)\n",
      "\n"
     ]
    },
    {
     "data": {
      "application/vnd.jupyter.widget-view+json": {
       "model_id": "324e70799ce941b8ab751568de7141a9",
       "version_major": 2,
       "version_minor": 0
      },
      "text/plain": [
       "  0%|          | 0/33 [00:00<?, ?it/s]"
      ]
     },
     "metadata": {},
     "output_type": "display_data"
    },
    {
     "data": {
      "application/vnd.jupyter.widget-view+json": {
       "model_id": "d34c836bd78e4948b9e7c84bc4b6e041",
       "version_major": 2,
       "version_minor": 0
      },
      "text/plain": [
       "  0%|          | 0/33 [00:00<?, ?it/s]"
      ]
     },
     "metadata": {},
     "output_type": "display_data"
    },
    {
     "name": "stdout",
     "output_type": "stream",
     "text": [
      "[[ 12   0   0 ...   0   0   0]\n",
      " [  0 222   0 ...   0   0   0]\n",
      " [  0   0   0 ...   0   0   0]\n",
      " ...\n",
      " [  0   0   0 ...   2   0   0]\n",
      " [  0   0   0 ...   0   0   0]\n",
      " [  0   0   0 ...   0   0   0]]\n",
      "\n",
      "Train set: Average loss: 0.8811, LCNN Loss: 1.0603, Accuracy: 1610/2079 (77%)\n",
      "\n"
     ]
    },
    {
     "data": {
      "application/vnd.jupyter.widget-view+json": {
       "model_id": "6f72687da1b140fbafc84b32ed6286ab",
       "version_major": 2,
       "version_minor": 0
      },
      "text/plain": [
       "  0%|          | 0/8 [00:00<?, ?it/s]"
      ]
     },
     "metadata": {},
     "output_type": "display_data"
    },
    {
     "name": "stdout",
     "output_type": "stream",
     "text": [
      "[[ 2  0  0 ...  0  0  0]\n",
      " [ 0 38  0 ...  0  0  0]\n",
      " [ 0  0  0 ...  0  0  0]\n",
      " ...\n",
      " [ 0  0  0 ...  0  0  0]\n",
      " [ 0  0  0 ...  0  0  0]\n",
      " [ 0  0  0 ...  0  0  0]]\n",
      "\n",
      "Test set: Average loss: 3.8194, LCNN Loss: 0.2171, Accuracy: 141/507 (28%)\n",
      "\n"
     ]
    },
    {
     "data": {
      "application/vnd.jupyter.widget-view+json": {
       "model_id": "4ade157254d7472fb56504d381e7c23e",
       "version_major": 2,
       "version_minor": 0
      },
      "text/plain": [
       "  0%|          | 0/33 [00:00<?, ?it/s]"
      ]
     },
     "metadata": {},
     "output_type": "display_data"
    },
    {
     "data": {
      "application/vnd.jupyter.widget-view+json": {
       "model_id": "211397b6bdeb400f86d7e273ba68e838",
       "version_major": 2,
       "version_minor": 0
      },
      "text/plain": [
       "  0%|          | 0/33 [00:00<?, ?it/s]"
      ]
     },
     "metadata": {},
     "output_type": "display_data"
    },
    {
     "name": "stdout",
     "output_type": "stream",
     "text": [
      "[[ 16   0   0 ...   0   0   0]\n",
      " [  0 217   0 ...   0   0   0]\n",
      " [  1   0   0 ...   0   0   0]\n",
      " ...\n",
      " [  0   0   0 ...   1   0   0]\n",
      " [  0   0   0 ...   0   1   0]\n",
      " [  1   0   0 ...   0   0   0]]\n",
      "\n",
      "Train set: Average loss: 1.1072, LCNN Loss: 1.6248, Accuracy: 1464/2079 (70%)\n",
      "\n"
     ]
    },
    {
     "data": {
      "application/vnd.jupyter.widget-view+json": {
       "model_id": "8796e7b225a24a7185422d092ced666f",
       "version_major": 2,
       "version_minor": 0
      },
      "text/plain": [
       "  0%|          | 0/8 [00:00<?, ?it/s]"
      ]
     },
     "metadata": {},
     "output_type": "display_data"
    },
    {
     "name": "stdout",
     "output_type": "stream",
     "text": [
      "[[ 4  0  0 ...  0  0  0]\n",
      " [ 0 38  0 ...  0  0  0]\n",
      " [ 0  0  0 ...  0  0  0]\n",
      " ...\n",
      " [ 0  0  0 ...  0  0  0]\n",
      " [ 0  0  0 ...  0  0  0]\n",
      " [ 0  0  0 ...  0  0  0]]\n",
      "\n",
      "Test set: Average loss: 4.8301, LCNN Loss: 0.3326, Accuracy: 115/507 (23%)\n",
      "\n"
     ]
    },
    {
     "data": {
      "application/vnd.jupyter.widget-view+json": {
       "model_id": "aa883497d781488583b5a25957ced448",
       "version_major": 2,
       "version_minor": 0
      },
      "text/plain": [
       "  0%|          | 0/33 [00:00<?, ?it/s]"
      ]
     },
     "metadata": {},
     "output_type": "display_data"
    },
    {
     "data": {
      "application/vnd.jupyter.widget-view+json": {
       "model_id": "f7d0c3715c2c4282a5358fa6c5be3e56",
       "version_major": 2,
       "version_minor": 0
      },
      "text/plain": [
       "  0%|          | 0/33 [00:00<?, ?it/s]"
      ]
     },
     "metadata": {},
     "output_type": "display_data"
    },
    {
     "name": "stdout",
     "output_type": "stream",
     "text": [
      "[[ 11   0   0 ...   0   0   0]\n",
      " [  0 209   0 ...   0   0   0]\n",
      " [  0   0   1 ...   0   0   0]\n",
      " ...\n",
      " [  0   0   0 ...   1   0   0]\n",
      " [  0   0   0 ...   0   0   0]\n",
      " [  0   0   0 ...   0   0   5]]\n",
      "\n",
      "Train set: Average loss: 0.9338, LCNN Loss: 1.2636, Accuracy: 1583/2079 (76%)\n",
      "\n"
     ]
    },
    {
     "data": {
      "application/vnd.jupyter.widget-view+json": {
       "model_id": "03d78acfdde64661aff39e99fcd1693a",
       "version_major": 2,
       "version_minor": 0
      },
      "text/plain": [
       "  0%|          | 0/8 [00:00<?, ?it/s]"
      ]
     },
     "metadata": {},
     "output_type": "display_data"
    },
    {
     "name": "stdout",
     "output_type": "stream",
     "text": [
      "[[ 0  0  0 ...  0  0  0]\n",
      " [ 0 40  0 ...  0  0  0]\n",
      " [ 0  0  0 ...  0  0  0]\n",
      " ...\n",
      " [ 0  0  0 ...  0  0  0]\n",
      " [ 0  0  0 ...  0  0  0]\n",
      " [ 0  0  0 ...  0  0  0]]\n",
      "\n",
      "Test set: Average loss: 4.0345, LCNN Loss: 0.2460, Accuracy: 141/507 (28%)\n",
      "\n"
     ]
    },
    {
     "data": {
      "application/vnd.jupyter.widget-view+json": {
       "model_id": "ac8747c0430d4578a07357cdc96c55f1",
       "version_major": 2,
       "version_minor": 0
      },
      "text/plain": [
       "  0%|          | 0/33 [00:00<?, ?it/s]"
      ]
     },
     "metadata": {},
     "output_type": "display_data"
    },
    {
     "data": {
      "application/vnd.jupyter.widget-view+json": {
       "model_id": "9b1f6d82e1be4625877d6f0ca085ec14",
       "version_major": 2,
       "version_minor": 0
      },
      "text/plain": [
       "  0%|          | 0/33 [00:00<?, ?it/s]"
      ]
     },
     "metadata": {},
     "output_type": "display_data"
    },
    {
     "name": "stdout",
     "output_type": "stream",
     "text": [
      "[[ 10   0   0 ...   0   0   0]\n",
      " [  0 234   0 ...   0   0   0]\n",
      " [  0   2   2 ...   0   0   0]\n",
      " ...\n",
      " [  0   0   0 ...   1   0   0]\n",
      " [  0   0   0 ...   0   2   0]\n",
      " [  0   0   0 ...   0   0   6]]\n",
      "\n",
      "Train set: Average loss: 0.4807, LCNN Loss: 1.2554, Accuracy: 1873/2079 (90%)\n",
      "\n"
     ]
    },
    {
     "data": {
      "application/vnd.jupyter.widget-view+json": {
       "model_id": "c10bc902548b45f6964cf2ccbd5fbd1c",
       "version_major": 2,
       "version_minor": 0
      },
      "text/plain": [
       "  0%|          | 0/8 [00:00<?, ?it/s]"
      ]
     },
     "metadata": {},
     "output_type": "display_data"
    },
    {
     "name": "stdout",
     "output_type": "stream",
     "text": [
      "[[ 1  0  0 ...  0  0  0]\n",
      " [ 0 53  0 ...  0  0  0]\n",
      " [ 0  1  0 ...  0  0  0]\n",
      " ...\n",
      " [ 0  0  0 ...  0  0  0]\n",
      " [ 0  0  0 ...  0  0  0]\n",
      " [ 0  0  0 ...  0  0  0]]\n",
      "\n",
      "Test set: Average loss: 3.8074, LCNN Loss: 0.2306, Accuracy: 165/507 (33%)\n",
      "\n"
     ]
    },
    {
     "data": {
      "application/vnd.jupyter.widget-view+json": {
       "model_id": "3ba8ee68bd054cbb90bdb9ed8d6788c1",
       "version_major": 2,
       "version_minor": 0
      },
      "text/plain": [
       "  0%|          | 0/33 [00:00<?, ?it/s]"
      ]
     },
     "metadata": {},
     "output_type": "display_data"
    },
    {
     "data": {
      "application/vnd.jupyter.widget-view+json": {
       "model_id": "75bdc8edddaa4be3b5279af801a25f22",
       "version_major": 2,
       "version_minor": 0
      },
      "text/plain": [
       "  0%|          | 0/33 [00:00<?, ?it/s]"
      ]
     },
     "metadata": {},
     "output_type": "display_data"
    },
    {
     "name": "stdout",
     "output_type": "stream",
     "text": [
      "[[ 13   1   0 ...   0   0   0]\n",
      " [  0 233   0 ...   0   0   0]\n",
      " [  0   4   0 ...   0   0   0]\n",
      " ...\n",
      " [  0   0   0 ...   1   0   0]\n",
      " [  0   0   0 ...   0   0   0]\n",
      " [  0   2   0 ...   0   0   0]]\n",
      "\n",
      "Train set: Average loss: 1.8027, LCNN Loss: 1.3595, Accuracy: 1192/2079 (57%)\n",
      "\n"
     ]
    },
    {
     "data": {
      "application/vnd.jupyter.widget-view+json": {
       "model_id": "5aeaa9b240d1433e815915930c6b01e3",
       "version_major": 2,
       "version_minor": 0
      },
      "text/plain": [
       "  0%|          | 0/8 [00:00<?, ?it/s]"
      ]
     },
     "metadata": {},
     "output_type": "display_data"
    },
    {
     "name": "stdout",
     "output_type": "stream",
     "text": [
      "[[ 2  0  0 ...  0  0  0]\n",
      " [ 0 57  0 ...  0  0  0]\n",
      " [ 0  0  0 ...  0  0  0]\n",
      " ...\n",
      " [ 0  1  0 ...  0  0  0]\n",
      " [ 0  0  0 ...  0  0  0]\n",
      " [ 0  0  0 ...  0  1  0]]\n",
      "\n",
      "Test set: Average loss: 5.1871, LCNN Loss: 0.2847, Accuracy: 125/507 (25%)\n",
      "\n"
     ]
    },
    {
     "data": {
      "application/vnd.jupyter.widget-view+json": {
       "model_id": "fde8bab147ec4f73b92040c05c5b62b6",
       "version_major": 2,
       "version_minor": 0
      },
      "text/plain": [
       "  0%|          | 0/33 [00:00<?, ?it/s]"
      ]
     },
     "metadata": {},
     "output_type": "display_data"
    },
    {
     "data": {
      "application/vnd.jupyter.widget-view+json": {
       "model_id": "8c79c1ef57894eb4b402cbc1c43bb57b",
       "version_major": 2,
       "version_minor": 0
      },
      "text/plain": [
       "  0%|          | 0/33 [00:00<?, ?it/s]"
      ]
     },
     "metadata": {},
     "output_type": "display_data"
    },
    {
     "name": "stdout",
     "output_type": "stream",
     "text": [
      "[[ 15   0   0 ...   0   0   0]\n",
      " [  0 238   0 ...   0   0   0]\n",
      " [  0   0   4 ...   0   0   0]\n",
      " ...\n",
      " [  1   0   0 ...   1   0   0]\n",
      " [  0   0   0 ...   0   2   0]\n",
      " [  0   0   0 ...   0   0   5]]\n",
      "\n",
      "Train set: Average loss: 0.6640, LCNN Loss: 1.3257, Accuracy: 1772/2079 (85%)\n",
      "\n"
     ]
    },
    {
     "data": {
      "application/vnd.jupyter.widget-view+json": {
       "model_id": "7153850db7c4411a8b038926ad53298f",
       "version_major": 2,
       "version_minor": 0
      },
      "text/plain": [
       "  0%|          | 0/8 [00:00<?, ?it/s]"
      ]
     },
     "metadata": {},
     "output_type": "display_data"
    },
    {
     "name": "stdout",
     "output_type": "stream",
     "text": [
      "[[ 2  0  0 ...  0  0  0]\n",
      " [ 0 57  0 ...  0  0  0]\n",
      " [ 0  1  0 ...  0  0  0]\n",
      " ...\n",
      " [ 0  0  0 ...  0  0  0]\n",
      " [ 0  0  0 ...  0  0  0]\n",
      " [ 0  0  0 ...  0  1  0]]\n",
      "\n",
      "Test set: Average loss: 4.1811, LCNN Loss: 0.2593, Accuracy: 142/507 (28%)\n",
      "\n"
     ]
    },
    {
     "data": {
      "application/vnd.jupyter.widget-view+json": {
       "model_id": "3d059c46aa8147c0a5fa97fad1f67949",
       "version_major": 2,
       "version_minor": 0
      },
      "text/plain": [
       "  0%|          | 0/33 [00:00<?, ?it/s]"
      ]
     },
     "metadata": {},
     "output_type": "display_data"
    },
    {
     "data": {
      "application/vnd.jupyter.widget-view+json": {
       "model_id": "b44e2b21468f45f5b59a9c7dacf2b357",
       "version_major": 2,
       "version_minor": 0
      },
      "text/plain": [
       "  0%|          | 0/33 [00:00<?, ?it/s]"
      ]
     },
     "metadata": {},
     "output_type": "display_data"
    },
    {
     "name": "stdout",
     "output_type": "stream",
     "text": [
      "[[ 16   0   0 ...   0   0   0]\n",
      " [  0 196   0 ...   0   0   0]\n",
      " [  0   0   2 ...   0   0   1]\n",
      " ...\n",
      " [  0   0   0 ...   2   0   0]\n",
      " [  0   0   0 ...   0   0   0]\n",
      " [  0   0   0 ...   0   0   6]]\n",
      "\n",
      "Train set: Average loss: 0.4777, LCNN Loss: 1.6144, Accuracy: 1869/2079 (90%)\n",
      "\n"
     ]
    },
    {
     "data": {
      "application/vnd.jupyter.widget-view+json": {
       "model_id": "6fc7330fe16640728fa08b230a5388e1",
       "version_major": 2,
       "version_minor": 0
      },
      "text/plain": [
       "  0%|          | 0/8 [00:00<?, ?it/s]"
      ]
     },
     "metadata": {},
     "output_type": "display_data"
    },
    {
     "name": "stdout",
     "output_type": "stream",
     "text": [
      "[[ 0  0  0 ...  0  0  1]\n",
      " [ 0 24  0 ...  0  0  0]\n",
      " [ 0  0  0 ...  0  0  0]\n",
      " ...\n",
      " [ 0  0  0 ...  0  0  0]\n",
      " [ 0  0  0 ...  0  0  0]\n",
      " [ 0  0  0 ...  0  0  0]]\n",
      "\n",
      "Test set: Average loss: 4.5402, LCNN Loss: 0.2937, Accuracy: 108/507 (21%)\n",
      "\n"
     ]
    },
    {
     "data": {
      "application/vnd.jupyter.widget-view+json": {
       "model_id": "06f6cc65acd94b7e931da15029312e8f",
       "version_major": 2,
       "version_minor": 0
      },
      "text/plain": [
       "  0%|          | 0/33 [00:00<?, ?it/s]"
      ]
     },
     "metadata": {},
     "output_type": "display_data"
    },
    {
     "data": {
      "application/vnd.jupyter.widget-view+json": {
       "model_id": "4d5f895edbb24472bde2cd52d3d703a0",
       "version_major": 2,
       "version_minor": 0
      },
      "text/plain": [
       "  0%|          | 0/33 [00:00<?, ?it/s]"
      ]
     },
     "metadata": {},
     "output_type": "display_data"
    },
    {
     "name": "stdout",
     "output_type": "stream",
     "text": [
      "[[ 14   0   0 ...   0   0   0]\n",
      " [  0 237   0 ...   0   0   0]\n",
      " [  0   0   4 ...   0   0   0]\n",
      " ...\n",
      " [  0   0   0 ...   2   0   0]\n",
      " [  0   0   0 ...   0   2   0]\n",
      " [  0   0   0 ...   0   0   5]]\n",
      "\n",
      "Train set: Average loss: 0.2743, LCNN Loss: 1.8396, Accuracy: 1976/2079 (95%)\n",
      "\n"
     ]
    },
    {
     "data": {
      "application/vnd.jupyter.widget-view+json": {
       "model_id": "114c904e22494968820e1743e3fd96d2",
       "version_major": 2,
       "version_minor": 0
      },
      "text/plain": [
       "  0%|          | 0/8 [00:00<?, ?it/s]"
      ]
     },
     "metadata": {},
     "output_type": "display_data"
    },
    {
     "name": "stdout",
     "output_type": "stream",
     "text": [
      "[[ 1  0  0 ...  0  0  0]\n",
      " [ 0 53  0 ...  0  0  0]\n",
      " [ 0  1  0 ...  0  0  0]\n",
      " ...\n",
      " [ 0  0  0 ...  0  0  0]\n",
      " [ 0  0  0 ...  0  0  0]\n",
      " [ 0  0  0 ...  0  0  0]]\n",
      "\n",
      "Test set: Average loss: 4.4078, LCNN Loss: 0.3276, Accuracy: 145/507 (29%)\n",
      "\n"
     ]
    },
    {
     "data": {
      "application/vnd.jupyter.widget-view+json": {
       "model_id": "eed702509ff548568e7cd1406c1c3ca2",
       "version_major": 2,
       "version_minor": 0
      },
      "text/plain": [
       "  0%|          | 0/33 [00:00<?, ?it/s]"
      ]
     },
     "metadata": {},
     "output_type": "display_data"
    },
    {
     "data": {
      "application/vnd.jupyter.widget-view+json": {
       "model_id": "5c7945821e1f4ed99a6faacbc9b3547b",
       "version_major": 2,
       "version_minor": 0
      },
      "text/plain": [
       "  0%|          | 0/33 [00:00<?, ?it/s]"
      ]
     },
     "metadata": {},
     "output_type": "display_data"
    },
    {
     "name": "stdout",
     "output_type": "stream",
     "text": [
      "[[ 16   0   0 ...   0   0   0]\n",
      " [  0 238   0 ...   0   0   0]\n",
      " [  0   2   2 ...   0   0   0]\n",
      " ...\n",
      " [  0   0   0 ...   2   0   0]\n",
      " [  0   0   0 ...   0   2   0]\n",
      " [  0   0   0 ...   0   0   6]]\n",
      "\n",
      "Train set: Average loss: 0.2059, LCNN Loss: 1.3064, Accuracy: 2019/2079 (97%)\n",
      "\n"
     ]
    },
    {
     "data": {
      "application/vnd.jupyter.widget-view+json": {
       "model_id": "2309678457414226afef286fa7237ff2",
       "version_major": 2,
       "version_minor": 0
      },
      "text/plain": [
       "  0%|          | 0/8 [00:00<?, ?it/s]"
      ]
     },
     "metadata": {},
     "output_type": "display_data"
    },
    {
     "name": "stdout",
     "output_type": "stream",
     "text": [
      "[[ 3  0  0 ...  0  0  0]\n",
      " [ 0 52  0 ...  0  0  0]\n",
      " [ 0  0  0 ...  0  0  0]\n",
      " ...\n",
      " [ 0  0  0 ...  0  0  0]\n",
      " [ 0  0  0 ...  0  0  0]\n",
      " [ 0  0  0 ...  0  0  0]]\n",
      "\n",
      "Test set: Average loss: 3.4205, LCNN Loss: 0.2238, Accuracy: 166/507 (33%)\n",
      "\n"
     ]
    },
    {
     "data": {
      "application/vnd.jupyter.widget-view+json": {
       "model_id": "73928b195c3f4c5887016db96225333f",
       "version_major": 2,
       "version_minor": 0
      },
      "text/plain": [
       "  0%|          | 0/33 [00:00<?, ?it/s]"
      ]
     },
     "metadata": {},
     "output_type": "display_data"
    },
    {
     "data": {
      "application/vnd.jupyter.widget-view+json": {
       "model_id": "12049f55dbf442db8a4b304aa590206c",
       "version_major": 2,
       "version_minor": 0
      },
      "text/plain": [
       "  0%|          | 0/33 [00:00<?, ?it/s]"
      ]
     },
     "metadata": {},
     "output_type": "display_data"
    },
    {
     "name": "stdout",
     "output_type": "stream",
     "text": [
      "[[ 16   0   0 ...   0   0   0]\n",
      " [  0 235   0 ...   0   0   0]\n",
      " [  0   0   4 ...   0   0   0]\n",
      " ...\n",
      " [  0   0   0 ...   2   0   0]\n",
      " [  0   0   0 ...   0   2   0]\n",
      " [  0   0   0 ...   0   0   5]]\n",
      "\n",
      "Train set: Average loss: 0.1657, LCNN Loss: 1.4824, Accuracy: 2045/2079 (98%)\n",
      "\n"
     ]
    },
    {
     "data": {
      "application/vnd.jupyter.widget-view+json": {
       "model_id": "bd319729d96f4acfa14bdb38e6def16b",
       "version_major": 2,
       "version_minor": 0
      },
      "text/plain": [
       "  0%|          | 0/8 [00:00<?, ?it/s]"
      ]
     },
     "metadata": {},
     "output_type": "display_data"
    },
    {
     "name": "stdout",
     "output_type": "stream",
     "text": [
      "[[ 2  0  0 ...  0  0  0]\n",
      " [ 0 45  0 ...  1  0  0]\n",
      " [ 0  0  0 ...  0  0  0]\n",
      " ...\n",
      " [ 0  0  0 ...  0  0  0]\n",
      " [ 0  0  0 ...  0  0  0]\n",
      " [ 0  0  0 ...  0  0  0]]\n",
      "\n",
      "Test set: Average loss: 3.3682, LCNN Loss: 0.2537, Accuracy: 177/507 (35%)\n",
      "\n"
     ]
    },
    {
     "data": {
      "application/vnd.jupyter.widget-view+json": {
       "model_id": "0bd52d12287a4416a9331ac157221ca8",
       "version_major": 2,
       "version_minor": 0
      },
      "text/plain": [
       "  0%|          | 0/33 [00:00<?, ?it/s]"
      ]
     },
     "metadata": {},
     "output_type": "display_data"
    },
    {
     "data": {
      "application/vnd.jupyter.widget-view+json": {
       "model_id": "8ff0c7962aed42a9a2de2c50abdcd05d",
       "version_major": 2,
       "version_minor": 0
      },
      "text/plain": [
       "  0%|          | 0/33 [00:00<?, ?it/s]"
      ]
     },
     "metadata": {},
     "output_type": "display_data"
    },
    {
     "name": "stdout",
     "output_type": "stream",
     "text": [
      "[[ 15   0   0 ...   0   0   0]\n",
      " [  0 238   0 ...   0   0   0]\n",
      " [  0   0   4 ...   0   0   0]\n",
      " ...\n",
      " [  0   0   0 ...   2   0   0]\n",
      " [  0   0   0 ...   0   2   0]\n",
      " [  0   0   0 ...   0   0   6]]\n",
      "\n",
      "Train set: Average loss: 0.1135, LCNN Loss: 1.6840, Accuracy: 2058/2079 (99%)\n",
      "\n"
     ]
    },
    {
     "data": {
      "application/vnd.jupyter.widget-view+json": {
       "model_id": "1abb8a39840943cfbc9c5676ec78aaf4",
       "version_major": 2,
       "version_minor": 0
      },
      "text/plain": [
       "  0%|          | 0/8 [00:00<?, ?it/s]"
      ]
     },
     "metadata": {},
     "output_type": "display_data"
    },
    {
     "name": "stdout",
     "output_type": "stream",
     "text": [
      "[[ 2  0  0 ...  0  0  0]\n",
      " [ 0 46  0 ...  0  0  0]\n",
      " [ 0  0  0 ...  0  0  0]\n",
      " ...\n",
      " [ 0  0  0 ...  0  0  0]\n",
      " [ 0  0  0 ...  0  0  0]\n",
      " [ 0  0  0 ...  0  0  0]]\n",
      "\n",
      "Test set: Average loss: 3.9612, LCNN Loss: 0.2746, Accuracy: 148/507 (29%)\n",
      "\n"
     ]
    },
    {
     "data": {
      "application/vnd.jupyter.widget-view+json": {
       "model_id": "3b3dd6cbe1804837b511271c83e8dc12",
       "version_major": 2,
       "version_minor": 0
      },
      "text/plain": [
       "  0%|          | 0/33 [00:00<?, ?it/s]"
      ]
     },
     "metadata": {},
     "output_type": "display_data"
    },
    {
     "data": {
      "application/vnd.jupyter.widget-view+json": {
       "model_id": "3c9526dc41c14a1eb3b6efedb161dd78",
       "version_major": 2,
       "version_minor": 0
      },
      "text/plain": [
       "  0%|          | 0/33 [00:00<?, ?it/s]"
      ]
     },
     "metadata": {},
     "output_type": "display_data"
    },
    {
     "name": "stdout",
     "output_type": "stream",
     "text": [
      "[[ 14   0   0 ...   0   0   0]\n",
      " [  0 235   0 ...   0   0   0]\n",
      " [  0   0   4 ...   0   0   0]\n",
      " ...\n",
      " [  0   0   0 ...   2   0   0]\n",
      " [  0   0   0 ...   0   1   0]\n",
      " [  0   0   0 ...   0   0   6]]\n",
      "\n",
      "Train set: Average loss: 0.2394, LCNN Loss: 1.3780, Accuracy: 2018/2079 (97%)\n",
      "\n"
     ]
    },
    {
     "data": {
      "application/vnd.jupyter.widget-view+json": {
       "model_id": "44aec46753b349229793b9d33b7392ae",
       "version_major": 2,
       "version_minor": 0
      },
      "text/plain": [
       "  0%|          | 0/8 [00:00<?, ?it/s]"
      ]
     },
     "metadata": {},
     "output_type": "display_data"
    },
    {
     "name": "stdout",
     "output_type": "stream",
     "text": [
      "[[ 1  0  0 ...  0  0  0]\n",
      " [ 0 38  0 ...  0  0  0]\n",
      " [ 0  0  0 ...  0  0  0]\n",
      " ...\n",
      " [ 0  0  0 ...  0  0  0]\n",
      " [ 0  0  0 ...  0  0  0]\n",
      " [ 0  0  0 ...  0  0  0]]\n",
      "\n",
      "Test set: Average loss: 3.8520, LCNN Loss: 0.2324, Accuracy: 155/507 (31%)\n",
      "\n"
     ]
    },
    {
     "data": {
      "application/vnd.jupyter.widget-view+json": {
       "model_id": "f854da51c6c7422f9609a441c297a6e4",
       "version_major": 2,
       "version_minor": 0
      },
      "text/plain": [
       "  0%|          | 0/33 [00:00<?, ?it/s]"
      ]
     },
     "metadata": {},
     "output_type": "display_data"
    },
    {
     "data": {
      "application/vnd.jupyter.widget-view+json": {
       "model_id": "71149a6dabed44b79031237895f52ce4",
       "version_major": 2,
       "version_minor": 0
      },
      "text/plain": [
       "  0%|          | 0/33 [00:00<?, ?it/s]"
      ]
     },
     "metadata": {},
     "output_type": "display_data"
    },
    {
     "name": "stdout",
     "output_type": "stream",
     "text": [
      "[[ 16   0   0 ...   0   0   0]\n",
      " [  0 238   0 ...   0   0   0]\n",
      " [  0   0   4 ...   0   0   0]\n",
      " ...\n",
      " [  0   0   0 ...   2   0   0]\n",
      " [  0   0   0 ...   0   1   0]\n",
      " [  0   0   0 ...   0   0   6]]\n",
      "\n",
      "Train set: Average loss: 0.4635, LCNN Loss: 1.6833, Accuracy: 1859/2079 (89%)\n",
      "\n"
     ]
    },
    {
     "data": {
      "application/vnd.jupyter.widget-view+json": {
       "model_id": "3efdb975460049908e94fae1e92f0de9",
       "version_major": 2,
       "version_minor": 0
      },
      "text/plain": [
       "  0%|          | 0/8 [00:00<?, ?it/s]"
      ]
     },
     "metadata": {},
     "output_type": "display_data"
    },
    {
     "name": "stdout",
     "output_type": "stream",
     "text": [
      "[[ 2  0  0 ...  0  0  0]\n",
      " [ 0 54  0 ...  0  0  0]\n",
      " [ 0  0  0 ...  0  0  0]\n",
      " ...\n",
      " [ 0  0  0 ...  0  0  0]\n",
      " [ 0  0  0 ...  0  0  0]\n",
      " [ 0  0  0 ...  0  0  0]]\n",
      "\n",
      "Test set: Average loss: 4.7641, LCNN Loss: 0.2986, Accuracy: 125/507 (25%)\n",
      "\n"
     ]
    },
    {
     "data": {
      "application/vnd.jupyter.widget-view+json": {
       "model_id": "a406980b0fe843fe94912577c7bc2c4b",
       "version_major": 2,
       "version_minor": 0
      },
      "text/plain": [
       "  0%|          | 0/33 [00:00<?, ?it/s]"
      ]
     },
     "metadata": {},
     "output_type": "display_data"
    },
    {
     "data": {
      "application/vnd.jupyter.widget-view+json": {
       "model_id": "866fc9e9bb3d4252a6c90dc4923cef22",
       "version_major": 2,
       "version_minor": 0
      },
      "text/plain": [
       "  0%|          | 0/33 [00:00<?, ?it/s]"
      ]
     },
     "metadata": {},
     "output_type": "display_data"
    },
    {
     "name": "stdout",
     "output_type": "stream",
     "text": [
      "[[ 13   0   0 ...   0   0   0]\n",
      " [  0 183   0 ...   0   0   0]\n",
      " [  0   0   3 ...   0   0   0]\n",
      " ...\n",
      " [  0   0   0 ...   2   0   0]\n",
      " [  0   0   0 ...   0   2   0]\n",
      " [  0   0   0 ...   0   0   6]]\n",
      "\n",
      "Train set: Average loss: 0.5137, LCNN Loss: 1.7310, Accuracy: 1810/2079 (87%)\n",
      "\n"
     ]
    },
    {
     "data": {
      "application/vnd.jupyter.widget-view+json": {
       "model_id": "08d0e181dcea4fc0a507543f9a5a2110",
       "version_major": 2,
       "version_minor": 0
      },
      "text/plain": [
       "  0%|          | 0/8 [00:00<?, ?it/s]"
      ]
     },
     "metadata": {},
     "output_type": "display_data"
    },
    {
     "name": "stdout",
     "output_type": "stream",
     "text": [
      "[[ 1  0  0 ...  0  0  0]\n",
      " [ 0 37  0 ...  0  0  0]\n",
      " [ 0  0  0 ...  0  0  0]\n",
      " ...\n",
      " [ 0  0  0 ...  0  0  0]\n",
      " [ 0  0  0 ...  0  0  0]\n",
      " [ 0  0  0 ...  0  0  0]]\n",
      "\n",
      "Test set: Average loss: 4.5746, LCNN Loss: 0.3084, Accuracy: 144/507 (28%)\n",
      "\n"
     ]
    },
    {
     "data": {
      "application/vnd.jupyter.widget-view+json": {
       "model_id": "39762c8da28a40748db802029eea80ec",
       "version_major": 2,
       "version_minor": 0
      },
      "text/plain": [
       "  0%|          | 0/33 [00:00<?, ?it/s]"
      ]
     },
     "metadata": {},
     "output_type": "display_data"
    },
    {
     "data": {
      "application/vnd.jupyter.widget-view+json": {
       "model_id": "27818de29a164ca4b9c6d9b8724d3536",
       "version_major": 2,
       "version_minor": 0
      },
      "text/plain": [
       "  0%|          | 0/33 [00:00<?, ?it/s]"
      ]
     },
     "metadata": {},
     "output_type": "display_data"
    },
    {
     "name": "stdout",
     "output_type": "stream",
     "text": [
      "[[ 15   0   0 ...   0   0   0]\n",
      " [  0 238   0 ...   0   0   0]\n",
      " [  0   0   4 ...   0   0   0]\n",
      " ...\n",
      " [  0   0   0 ...   2   0   0]\n",
      " [  0   0   0 ...   0   2   0]\n",
      " [  0   0   0 ...   0   0   6]]\n",
      "\n",
      "Train set: Average loss: 0.0934, LCNN Loss: 1.4109, Accuracy: 2065/2079 (99%)\n",
      "\n"
     ]
    },
    {
     "data": {
      "application/vnd.jupyter.widget-view+json": {
       "model_id": "69f505683b964a819841126634013377",
       "version_major": 2,
       "version_minor": 0
      },
      "text/plain": [
       "  0%|          | 0/8 [00:00<?, ?it/s]"
      ]
     },
     "metadata": {},
     "output_type": "display_data"
    },
    {
     "name": "stdout",
     "output_type": "stream",
     "text": [
      "[[ 2  0  0 ...  0  0  0]\n",
      " [ 0 51  0 ...  0  0  0]\n",
      " [ 0  0  0 ...  0  0  0]\n",
      " ...\n",
      " [ 0  0  0 ...  0  0  0]\n",
      " [ 0  0  0 ...  0  0  0]\n",
      " [ 0  0  0 ...  0  0  0]]\n",
      "\n",
      "Test set: Average loss: 3.6222, LCNN Loss: 0.2268, Accuracy: 167/507 (33%)\n",
      "\n"
     ]
    },
    {
     "data": {
      "application/vnd.jupyter.widget-view+json": {
       "model_id": "ebc10b4b9faa45ce9b4881739ea3e94f",
       "version_major": 2,
       "version_minor": 0
      },
      "text/plain": [
       "  0%|          | 0/33 [00:00<?, ?it/s]"
      ]
     },
     "metadata": {},
     "output_type": "display_data"
    },
    {
     "data": {
      "application/vnd.jupyter.widget-view+json": {
       "model_id": "603c16005b924cf4816e5d3f9bc726b1",
       "version_major": 2,
       "version_minor": 0
      },
      "text/plain": [
       "  0%|          | 0/33 [00:00<?, ?it/s]"
      ]
     },
     "metadata": {},
     "output_type": "display_data"
    },
    {
     "name": "stdout",
     "output_type": "stream",
     "text": [
      "[[ 16   0   0 ...   0   0   0]\n",
      " [  0 238   0 ...   0   0   0]\n",
      " [  0   0   4 ...   0   0   0]\n",
      " ...\n",
      " [  0   0   0 ...   2   0   0]\n",
      " [  0   0   0 ...   0   2   0]\n",
      " [  0   0   0 ...   0   0   6]]\n",
      "\n",
      "Train set: Average loss: 0.0508, LCNN Loss: 1.4751, Accuracy: 2073/2079 (100%)\n",
      "\n"
     ]
    },
    {
     "data": {
      "application/vnd.jupyter.widget-view+json": {
       "model_id": "6f66bd64076d4c7584a022228cd1bf99",
       "version_major": 2,
       "version_minor": 0
      },
      "text/plain": [
       "  0%|          | 0/8 [00:00<?, ?it/s]"
      ]
     },
     "metadata": {},
     "output_type": "display_data"
    },
    {
     "name": "stdout",
     "output_type": "stream",
     "text": [
      "[[ 2  0  0 ...  0  0  0]\n",
      " [ 0 55  0 ...  0  0  0]\n",
      " [ 0  0  0 ...  0  0  0]\n",
      " ...\n",
      " [ 0  0  0 ...  0  0  0]\n",
      " [ 0  0  0 ...  0  0  0]\n",
      " [ 0  0  0 ...  0  0  0]]\n",
      "\n",
      "Test set: Average loss: 3.5008, LCNN Loss: 0.2222, Accuracy: 175/507 (35%)\n",
      "\n"
     ]
    },
    {
     "data": {
      "application/vnd.jupyter.widget-view+json": {
       "model_id": "af4f42e8eae944e7a2b9e151cc2967bb",
       "version_major": 2,
       "version_minor": 0
      },
      "text/plain": [
       "  0%|          | 0/33 [00:00<?, ?it/s]"
      ]
     },
     "metadata": {},
     "output_type": "display_data"
    },
    {
     "data": {
      "application/vnd.jupyter.widget-view+json": {
       "model_id": "b83d3c6f6cb049d49559aa0200a29e4a",
       "version_major": 2,
       "version_minor": 0
      },
      "text/plain": [
       "  0%|          | 0/33 [00:00<?, ?it/s]"
      ]
     },
     "metadata": {},
     "output_type": "display_data"
    },
    {
     "name": "stdout",
     "output_type": "stream",
     "text": [
      "[[ 16   0   0 ...   0   0   0]\n",
      " [  0 238   0 ...   0   0   0]\n",
      " [  0   0   4 ...   0   0   0]\n",
      " ...\n",
      " [  0   0   0 ...   2   0   0]\n",
      " [  0   0   0 ...   0   2   0]\n",
      " [  0   0   0 ...   0   0   6]]\n",
      "\n",
      "Train set: Average loss: 0.0729, LCNN Loss: 1.8184, Accuracy: 2069/2079 (100%)\n",
      "\n"
     ]
    },
    {
     "data": {
      "application/vnd.jupyter.widget-view+json": {
       "model_id": "ec747993722141daa0c37616ebb1e783",
       "version_major": 2,
       "version_minor": 0
      },
      "text/plain": [
       "  0%|          | 0/8 [00:00<?, ?it/s]"
      ]
     },
     "metadata": {},
     "output_type": "display_data"
    },
    {
     "name": "stdout",
     "output_type": "stream",
     "text": [
      "[[ 2  0  0 ...  0  0  0]\n",
      " [ 0 49  0 ...  0  0  0]\n",
      " [ 0  0  0 ...  0  0  0]\n",
      " ...\n",
      " [ 0  0  0 ...  0  0  0]\n",
      " [ 0  0  0 ...  0  0  0]\n",
      " [ 0  0  0 ...  0  0  0]]\n",
      "\n",
      "Test set: Average loss: 4.1029, LCNN Loss: 0.2872, Accuracy: 164/507 (32%)\n",
      "\n"
     ]
    },
    {
     "data": {
      "application/vnd.jupyter.widget-view+json": {
       "model_id": "5620305398ab4bdf87be5c35e904a61a",
       "version_major": 2,
       "version_minor": 0
      },
      "text/plain": [
       "  0%|          | 0/33 [00:00<?, ?it/s]"
      ]
     },
     "metadata": {},
     "output_type": "display_data"
    },
    {
     "data": {
      "application/vnd.jupyter.widget-view+json": {
       "model_id": "da61eaec45a64869bf6c33b378d756e7",
       "version_major": 2,
       "version_minor": 0
      },
      "text/plain": [
       "  0%|          | 0/33 [00:00<?, ?it/s]"
      ]
     },
     "metadata": {},
     "output_type": "display_data"
    },
    {
     "name": "stdout",
     "output_type": "stream",
     "text": [
      "[[ 15   0   0 ...   0   0   0]\n",
      " [  0 238   0 ...   0   0   0]\n",
      " [  0   0   4 ...   0   0   0]\n",
      " ...\n",
      " [  0   0   0 ...   2   0   0]\n",
      " [  0   0   0 ...   0   2   0]\n",
      " [  0   0   0 ...   0   0   6]]\n",
      "\n",
      "Train set: Average loss: 0.0540, LCNN Loss: 1.4254, Accuracy: 2074/2079 (100%)\n",
      "\n"
     ]
    },
    {
     "data": {
      "application/vnd.jupyter.widget-view+json": {
       "model_id": "4dd01efe96ac414c9b892dab43bd4215",
       "version_major": 2,
       "version_minor": 0
      },
      "text/plain": [
       "  0%|          | 0/8 [00:00<?, ?it/s]"
      ]
     },
     "metadata": {},
     "output_type": "display_data"
    },
    {
     "name": "stdout",
     "output_type": "stream",
     "text": [
      "[[ 2  0  0 ...  0  0  0]\n",
      " [ 0 54  0 ...  0  0  0]\n",
      " [ 0  0  0 ...  0  0  0]\n",
      " ...\n",
      " [ 0  0  0 ...  0  0  0]\n",
      " [ 0  0  0 ...  0  0  0]\n",
      " [ 0  0  0 ...  0  0  0]]\n",
      "\n",
      "Test set: Average loss: 3.6862, LCNN Loss: 0.2124, Accuracy: 174/507 (34%)\n",
      "\n"
     ]
    },
    {
     "data": {
      "application/vnd.jupyter.widget-view+json": {
       "model_id": "2203c5cf7b2b4a8bb14f292f6ecffe65",
       "version_major": 2,
       "version_minor": 0
      },
      "text/plain": [
       "  0%|          | 0/33 [00:00<?, ?it/s]"
      ]
     },
     "metadata": {},
     "output_type": "display_data"
    },
    {
     "data": {
      "application/vnd.jupyter.widget-view+json": {
       "model_id": "1f5d22f8e861476fa7e32ca21d18c87b",
       "version_major": 2,
       "version_minor": 0
      },
      "text/plain": [
       "  0%|          | 0/33 [00:00<?, ?it/s]"
      ]
     },
     "metadata": {},
     "output_type": "display_data"
    },
    {
     "name": "stdout",
     "output_type": "stream",
     "text": [
      "[[ 14   0   0 ...   0   0   0]\n",
      " [  0 238   0 ...   0   0   0]\n",
      " [  0   0   4 ...   0   0   0]\n",
      " ...\n",
      " [  0   0   0 ...   2   0   0]\n",
      " [  0   0   0 ...   0   2   0]\n",
      " [  0   0   0 ...   0   0   6]]\n",
      "\n",
      "Train set: Average loss: 0.1099, LCNN Loss: 1.3248, Accuracy: 2055/2079 (99%)\n",
      "\n"
     ]
    },
    {
     "data": {
      "application/vnd.jupyter.widget-view+json": {
       "model_id": "1dad9968f0f34d22ae86be843fbe3163",
       "version_major": 2,
       "version_minor": 0
      },
      "text/plain": [
       "  0%|          | 0/8 [00:00<?, ?it/s]"
      ]
     },
     "metadata": {},
     "output_type": "display_data"
    },
    {
     "name": "stdout",
     "output_type": "stream",
     "text": [
      "[[ 0  0  0 ...  0  0  0]\n",
      " [ 0 48  0 ...  0  0  0]\n",
      " [ 0  0  0 ...  0  0  0]\n",
      " ...\n",
      " [ 0  0  0 ...  0  0  0]\n",
      " [ 0  0  0 ...  0  0  0]\n",
      " [ 0  0  0 ...  0  0  0]]\n",
      "\n",
      "Test set: Average loss: 3.7118, LCNN Loss: 0.2039, Accuracy: 171/507 (34%)\n",
      "\n"
     ]
    },
    {
     "data": {
      "application/vnd.jupyter.widget-view+json": {
       "model_id": "61e841aba27444988fbcde0e1d555849",
       "version_major": 2,
       "version_minor": 0
      },
      "text/plain": [
       "  0%|          | 0/33 [00:00<?, ?it/s]"
      ]
     },
     "metadata": {},
     "output_type": "display_data"
    },
    {
     "data": {
      "application/vnd.jupyter.widget-view+json": {
       "model_id": "a6964bc750b447d5b3ec6c0f7c3d482e",
       "version_major": 2,
       "version_minor": 0
      },
      "text/plain": [
       "  0%|          | 0/33 [00:00<?, ?it/s]"
      ]
     },
     "metadata": {},
     "output_type": "display_data"
    },
    {
     "name": "stdout",
     "output_type": "stream",
     "text": [
      "[[ 15   0   0 ...   0   0   0]\n",
      " [  0 235   0 ...   0   0   0]\n",
      " [  0   0   4 ...   0   0   0]\n",
      " ...\n",
      " [  0   0   0 ...   2   0   0]\n",
      " [  0   0   0 ...   0   2   0]\n",
      " [  0   0   0 ...   0   0   6]]\n",
      "\n",
      "Train set: Average loss: 0.1685, LCNN Loss: 1.2824, Accuracy: 2011/2079 (97%)\n",
      "\n"
     ]
    },
    {
     "data": {
      "application/vnd.jupyter.widget-view+json": {
       "model_id": "5d6eadbb13804ae4af236551c7d78a65",
       "version_major": 2,
       "version_minor": 0
      },
      "text/plain": [
       "  0%|          | 0/8 [00:00<?, ?it/s]"
      ]
     },
     "metadata": {},
     "output_type": "display_data"
    },
    {
     "name": "stdout",
     "output_type": "stream",
     "text": [
      "[[ 2  0  0 ...  0  0  0]\n",
      " [ 0 47  0 ...  0  0  0]\n",
      " [ 0  0  0 ...  0  0  0]\n",
      " ...\n",
      " [ 0  0  0 ...  0  0  0]\n",
      " [ 0  0  0 ...  0  0  0]\n",
      " [ 0  0  0 ...  0  0  0]]\n",
      "\n",
      "Test set: Average loss: 3.6456, LCNN Loss: 0.1969, Accuracy: 168/507 (33%)\n",
      "\n"
     ]
    },
    {
     "data": {
      "application/vnd.jupyter.widget-view+json": {
       "model_id": "021b9ac54eb241fd95f522d24bd43883",
       "version_major": 2,
       "version_minor": 0
      },
      "text/plain": [
       "  0%|          | 0/33 [00:00<?, ?it/s]"
      ]
     },
     "metadata": {},
     "output_type": "display_data"
    },
    {
     "data": {
      "application/vnd.jupyter.widget-view+json": {
       "model_id": "ad811c7b060d4006a831d4e486bb4e9d",
       "version_major": 2,
       "version_minor": 0
      },
      "text/plain": [
       "  0%|          | 0/33 [00:00<?, ?it/s]"
      ]
     },
     "metadata": {},
     "output_type": "display_data"
    },
    {
     "name": "stdout",
     "output_type": "stream",
     "text": [
      "[[ 15   0   0 ...   0   0   0]\n",
      " [  0 238   0 ...   0   0   0]\n",
      " [  0   0   4 ...   0   0   0]\n",
      " ...\n",
      " [  0   0   0 ...   2   0   0]\n",
      " [  0   0   0 ...   0   2   0]\n",
      " [  0   0   0 ...   0   0   6]]\n",
      "\n",
      "Train set: Average loss: 0.0248, LCNN Loss: 1.3734, Accuracy: 2074/2079 (100%)\n",
      "\n"
     ]
    },
    {
     "data": {
      "application/vnd.jupyter.widget-view+json": {
       "model_id": "4bef2ca63f194cc292193f3ca5acfae1",
       "version_major": 2,
       "version_minor": 0
      },
      "text/plain": [
       "  0%|          | 0/8 [00:00<?, ?it/s]"
      ]
     },
     "metadata": {},
     "output_type": "display_data"
    },
    {
     "name": "stdout",
     "output_type": "stream",
     "text": [
      "[[ 2  0  0 ...  0  0  0]\n",
      " [ 0 52  0 ...  0  0  0]\n",
      " [ 0  0  0 ...  0  0  0]\n",
      " ...\n",
      " [ 0  0  0 ...  0  0  0]\n",
      " [ 0  0  0 ...  0  0  0]\n",
      " [ 0  0  0 ...  1  0  0]]\n",
      "\n",
      "Test set: Average loss: 3.4364, LCNN Loss: 0.1798, Accuracy: 183/507 (36%)\n",
      "\n"
     ]
    },
    {
     "data": {
      "application/vnd.jupyter.widget-view+json": {
       "model_id": "4e10bcfd490a49c4a73ef13a52551a3f",
       "version_major": 2,
       "version_minor": 0
      },
      "text/plain": [
       "  0%|          | 0/33 [00:00<?, ?it/s]"
      ]
     },
     "metadata": {},
     "output_type": "display_data"
    },
    {
     "data": {
      "application/vnd.jupyter.widget-view+json": {
       "model_id": "281aace504d0417c90853d27c2353585",
       "version_major": 2,
       "version_minor": 0
      },
      "text/plain": [
       "  0%|          | 0/33 [00:00<?, ?it/s]"
      ]
     },
     "metadata": {},
     "output_type": "display_data"
    },
    {
     "name": "stdout",
     "output_type": "stream",
     "text": [
      "[[ 15   0   0 ...   0   0   0]\n",
      " [  0 238   0 ...   0   0   0]\n",
      " [  0   0   4 ...   0   0   0]\n",
      " ...\n",
      " [  0   0   0 ...   2   0   0]\n",
      " [  0   0   0 ...   0   2   0]\n",
      " [  0   0   0 ...   0   0   6]]\n",
      "\n",
      "Train set: Average loss: 0.0228, LCNN Loss: 1.3228, Accuracy: 2074/2079 (100%)\n",
      "\n"
     ]
    },
    {
     "data": {
      "application/vnd.jupyter.widget-view+json": {
       "model_id": "360d574464244ad49744e12ae96ba975",
       "version_major": 2,
       "version_minor": 0
      },
      "text/plain": [
       "  0%|          | 0/8 [00:00<?, ?it/s]"
      ]
     },
     "metadata": {},
     "output_type": "display_data"
    },
    {
     "name": "stdout",
     "output_type": "stream",
     "text": [
      "[[ 2  0  0 ...  0  0  0]\n",
      " [ 0 51  0 ...  0  0  0]\n",
      " [ 0  0  0 ...  0  0  0]\n",
      " ...\n",
      " [ 0  0  0 ...  0  0  0]\n",
      " [ 0  0  0 ...  0  0  0]\n",
      " [ 0  0  0 ...  0  0  0]]\n",
      "\n",
      "Test set: Average loss: 3.3039, LCNN Loss: 0.1758, Accuracy: 185/507 (36%)\n",
      "\n"
     ]
    },
    {
     "data": {
      "application/vnd.jupyter.widget-view+json": {
       "model_id": "47c57afe9c144d41a6a2a566ac34e626",
       "version_major": 2,
       "version_minor": 0
      },
      "text/plain": [
       "  0%|          | 0/33 [00:00<?, ?it/s]"
      ]
     },
     "metadata": {},
     "output_type": "display_data"
    },
    {
     "data": {
      "application/vnd.jupyter.widget-view+json": {
       "model_id": "64dbe9c6f93e4992befcb5f38e512401",
       "version_major": 2,
       "version_minor": 0
      },
      "text/plain": [
       "  0%|          | 0/33 [00:00<?, ?it/s]"
      ]
     },
     "metadata": {},
     "output_type": "display_data"
    },
    {
     "name": "stdout",
     "output_type": "stream",
     "text": [
      "[[ 15   0   0 ...   0   0   0]\n",
      " [  0 238   0 ...   0   0   0]\n",
      " [  0   0   4 ...   0   0   0]\n",
      " ...\n",
      " [  0   0   0 ...   2   0   0]\n",
      " [  0   0   0 ...   0   2   0]\n",
      " [  0   0   0 ...   0   0   6]]\n",
      "\n",
      "Train set: Average loss: 0.0257, LCNN Loss: 1.2254, Accuracy: 2074/2079 (100%)\n",
      "\n"
     ]
    },
    {
     "data": {
      "application/vnd.jupyter.widget-view+json": {
       "model_id": "3fe7eddd9c8f41b4b7e78875c00fb769",
       "version_major": 2,
       "version_minor": 0
      },
      "text/plain": [
       "  0%|          | 0/8 [00:00<?, ?it/s]"
      ]
     },
     "metadata": {},
     "output_type": "display_data"
    },
    {
     "name": "stdout",
     "output_type": "stream",
     "text": [
      "[[ 2  0  0 ...  0  0  0]\n",
      " [ 0 53  0 ...  0  0  0]\n",
      " [ 0  0  0 ...  0  0  0]\n",
      " ...\n",
      " [ 0  0  0 ...  0  0  0]\n",
      " [ 0  0  0 ...  0  0  0]\n",
      " [ 0  0  0 ...  0  0  0]]\n",
      "\n",
      "Test set: Average loss: 3.3317, LCNN Loss: 0.1607, Accuracy: 172/507 (34%)\n",
      "\n"
     ]
    },
    {
     "data": {
      "application/vnd.jupyter.widget-view+json": {
       "model_id": "03566c845d524e6389f7f067b8c78286",
       "version_major": 2,
       "version_minor": 0
      },
      "text/plain": [
       "  0%|          | 0/33 [00:00<?, ?it/s]"
      ]
     },
     "metadata": {},
     "output_type": "display_data"
    },
    {
     "data": {
      "application/vnd.jupyter.widget-view+json": {
       "model_id": "121b774f727547f2a25048991658238b",
       "version_major": 2,
       "version_minor": 0
      },
      "text/plain": [
       "  0%|          | 0/33 [00:00<?, ?it/s]"
      ]
     },
     "metadata": {},
     "output_type": "display_data"
    },
    {
     "name": "stdout",
     "output_type": "stream",
     "text": [
      "[[ 16   0   0 ...   0   0   0]\n",
      " [  0 238   0 ...   0   0   0]\n",
      " [  0   0   4 ...   0   0   0]\n",
      " ...\n",
      " [  0   0   0 ...   2   0   0]\n",
      " [  0   0   0 ...   0   2   0]\n",
      " [  0   0   0 ...   0   0   6]]\n",
      "\n",
      "Train set: Average loss: 0.0348, LCNN Loss: 1.1644, Accuracy: 2073/2079 (100%)\n",
      "\n"
     ]
    },
    {
     "data": {
      "application/vnd.jupyter.widget-view+json": {
       "model_id": "6f7332b315c641db8e8a45f8b757dfc5",
       "version_major": 2,
       "version_minor": 0
      },
      "text/plain": [
       "  0%|          | 0/8 [00:00<?, ?it/s]"
      ]
     },
     "metadata": {},
     "output_type": "display_data"
    },
    {
     "name": "stdout",
     "output_type": "stream",
     "text": [
      "[[ 2  0  0 ...  0  0  0]\n",
      " [ 0 56  0 ...  0  0  0]\n",
      " [ 0  0  0 ...  0  0  0]\n",
      " ...\n",
      " [ 0  0  0 ...  0  0  0]\n",
      " [ 0  0  0 ...  0  0  0]\n",
      " [ 0  0  0 ...  0  0  0]]\n",
      "\n",
      "Test set: Average loss: 3.2049, LCNN Loss: 0.1611, Accuracy: 195/507 (38%)\n",
      "\n"
     ]
    },
    {
     "data": {
      "application/vnd.jupyter.widget-view+json": {
       "model_id": "be00590d21d6488f8fce699af6065f8c",
       "version_major": 2,
       "version_minor": 0
      },
      "text/plain": [
       "  0%|          | 0/33 [00:00<?, ?it/s]"
      ]
     },
     "metadata": {},
     "output_type": "display_data"
    },
    {
     "data": {
      "application/vnd.jupyter.widget-view+json": {
       "model_id": "36cc310e83c9460294a67d6f86ed4637",
       "version_major": 2,
       "version_minor": 0
      },
      "text/plain": [
       "  0%|          | 0/33 [00:00<?, ?it/s]"
      ]
     },
     "metadata": {},
     "output_type": "display_data"
    },
    {
     "name": "stdout",
     "output_type": "stream",
     "text": [
      "[[ 15   0   0 ...   0   0   0]\n",
      " [  0 238   0 ...   0   0   0]\n",
      " [  0   0   4 ...   0   0   0]\n",
      " ...\n",
      " [  0   0   0 ...   2   0   0]\n",
      " [  0   0   0 ...   0   2   0]\n",
      " [  0   0   0 ...   0   0   6]]\n",
      "\n",
      "Train set: Average loss: 0.0309, LCNN Loss: 1.2812, Accuracy: 2075/2079 (100%)\n",
      "\n"
     ]
    },
    {
     "data": {
      "application/vnd.jupyter.widget-view+json": {
       "model_id": "90fe8cbca3d34a2899bda8eaccdf9884",
       "version_major": 2,
       "version_minor": 0
      },
      "text/plain": [
       "  0%|          | 0/8 [00:00<?, ?it/s]"
      ]
     },
     "metadata": {},
     "output_type": "display_data"
    },
    {
     "name": "stdout",
     "output_type": "stream",
     "text": [
      "[[ 2  0  0 ...  0  0  0]\n",
      " [ 0 54  0 ...  0  0  0]\n",
      " [ 0  0  0 ...  0  0  0]\n",
      " ...\n",
      " [ 0  0  0 ...  0  0  0]\n",
      " [ 0  0  0 ...  0  0  0]\n",
      " [ 0  0  0 ...  0  0  0]]\n",
      "\n",
      "Test set: Average loss: 3.4838, LCNN Loss: 0.1721, Accuracy: 175/507 (35%)\n",
      "\n"
     ]
    },
    {
     "data": {
      "application/vnd.jupyter.widget-view+json": {
       "model_id": "bf441281c9cb482493654c39b2af5e08",
       "version_major": 2,
       "version_minor": 0
      },
      "text/plain": [
       "  0%|          | 0/33 [00:00<?, ?it/s]"
      ]
     },
     "metadata": {},
     "output_type": "display_data"
    },
    {
     "data": {
      "application/vnd.jupyter.widget-view+json": {
       "model_id": "8930629693104703be54fa9dada64db1",
       "version_major": 2,
       "version_minor": 0
      },
      "text/plain": [
       "  0%|          | 0/33 [00:00<?, ?it/s]"
      ]
     },
     "metadata": {},
     "output_type": "display_data"
    },
    {
     "name": "stdout",
     "output_type": "stream",
     "text": [
      "[[ 16   0   0 ...   0   0   0]\n",
      " [  0 238   0 ...   0   0   0]\n",
      " [  0   0   4 ...   0   0   0]\n",
      " ...\n",
      " [  0   0   0 ...   2   0   0]\n",
      " [  0   0   0 ...   0   2   0]\n",
      " [  0   0   0 ...   0   0   6]]\n",
      "\n",
      "Train set: Average loss: 0.0243, LCNN Loss: 1.0942, Accuracy: 2075/2079 (100%)\n",
      "\n"
     ]
    },
    {
     "data": {
      "application/vnd.jupyter.widget-view+json": {
       "model_id": "617ce2d28c674634882e9ade24244228",
       "version_major": 2,
       "version_minor": 0
      },
      "text/plain": [
       "  0%|          | 0/8 [00:00<?, ?it/s]"
      ]
     },
     "metadata": {},
     "output_type": "display_data"
    },
    {
     "name": "stdout",
     "output_type": "stream",
     "text": [
      "[[ 2  0  0 ...  0  0  0]\n",
      " [ 0 57  0 ...  0  0  0]\n",
      " [ 0  0  0 ...  0  0  0]\n",
      " ...\n",
      " [ 0  0  0 ...  0  0  0]\n",
      " [ 0  0  0 ...  0  0  0]\n",
      " [ 0  0  0 ...  0  0  0]]\n",
      "\n",
      "Test set: Average loss: 3.1693, LCNN Loss: 0.1403, Accuracy: 184/507 (36%)\n",
      "\n"
     ]
    },
    {
     "data": {
      "application/vnd.jupyter.widget-view+json": {
       "model_id": "2d0957d650c647529817eb410060cad8",
       "version_major": 2,
       "version_minor": 0
      },
      "text/plain": [
       "  0%|          | 0/33 [00:00<?, ?it/s]"
      ]
     },
     "metadata": {},
     "output_type": "display_data"
    },
    {
     "data": {
      "application/vnd.jupyter.widget-view+json": {
       "model_id": "cd8a50f193644aa7bc9c8c92dc1bfec4",
       "version_major": 2,
       "version_minor": 0
      },
      "text/plain": [
       "  0%|          | 0/33 [00:00<?, ?it/s]"
      ]
     },
     "metadata": {},
     "output_type": "display_data"
    },
    {
     "name": "stdout",
     "output_type": "stream",
     "text": [
      "[[ 16   0   0 ...   0   0   0]\n",
      " [  0 238   0 ...   0   0   0]\n",
      " [  0   0   4 ...   0   0   0]\n",
      " ...\n",
      " [  0   0   0 ...   2   0   0]\n",
      " [  0   0   0 ...   0   2   0]\n",
      " [  0   0   0 ...   0   0   6]]\n",
      "\n",
      "Train set: Average loss: 0.0171, LCNN Loss: 1.1300, Accuracy: 2075/2079 (100%)\n",
      "\n"
     ]
    },
    {
     "data": {
      "application/vnd.jupyter.widget-view+json": {
       "model_id": "3b9ccd09d86b4342b34067892ebe6325",
       "version_major": 2,
       "version_minor": 0
      },
      "text/plain": [
       "  0%|          | 0/8 [00:00<?, ?it/s]"
      ]
     },
     "metadata": {},
     "output_type": "display_data"
    },
    {
     "name": "stdout",
     "output_type": "stream",
     "text": [
      "[[ 2  0  0 ...  0  0  0]\n",
      " [ 0 52  0 ...  0  0  0]\n",
      " [ 0  0  0 ...  0  0  0]\n",
      " ...\n",
      " [ 0  0  0 ...  0  0  0]\n",
      " [ 0  0  0 ...  0  0  0]\n",
      " [ 0  0  0 ...  0  0  0]]\n",
      "\n",
      "Test set: Average loss: 3.1275, LCNN Loss: 0.1407, Accuracy: 187/507 (37%)\n",
      "\n"
     ]
    },
    {
     "data": {
      "application/vnd.jupyter.widget-view+json": {
       "model_id": "b66630894215472e997cd4649a34ec6a",
       "version_major": 2,
       "version_minor": 0
      },
      "text/plain": [
       "  0%|          | 0/33 [00:00<?, ?it/s]"
      ]
     },
     "metadata": {},
     "output_type": "display_data"
    },
    {
     "data": {
      "application/vnd.jupyter.widget-view+json": {
       "model_id": "e0c5d3d19b644ac69877b6005f24e6f3",
       "version_major": 2,
       "version_minor": 0
      },
      "text/plain": [
       "  0%|          | 0/33 [00:00<?, ?it/s]"
      ]
     },
     "metadata": {},
     "output_type": "display_data"
    },
    {
     "name": "stdout",
     "output_type": "stream",
     "text": [
      "[[ 15   0   0 ...   0   0   0]\n",
      " [  0 238   0 ...   0   0   0]\n",
      " [  0   0   4 ...   0   0   0]\n",
      " ...\n",
      " [  0   0   0 ...   2   0   0]\n",
      " [  0   0   0 ...   0   2   0]\n",
      " [  0   0   0 ...   0   0   6]]\n",
      "\n",
      "Train set: Average loss: 0.0215, LCNN Loss: 1.1116, Accuracy: 2075/2079 (100%)\n",
      "\n"
     ]
    },
    {
     "data": {
      "application/vnd.jupyter.widget-view+json": {
       "model_id": "2418d1f5c1ef448781b2140b4ba41208",
       "version_major": 2,
       "version_minor": 0
      },
      "text/plain": [
       "  0%|          | 0/8 [00:00<?, ?it/s]"
      ]
     },
     "metadata": {},
     "output_type": "display_data"
    },
    {
     "name": "stdout",
     "output_type": "stream",
     "text": [
      "[[ 1  0  0 ...  0  0  0]\n",
      " [ 0 54  0 ...  0  0  0]\n",
      " [ 0  0  0 ...  0  0  0]\n",
      " ...\n",
      " [ 0  0  0 ...  0  0  0]\n",
      " [ 0  0  0 ...  0  0  0]\n",
      " [ 0  0  0 ...  0  0  0]]\n",
      "\n",
      "Test set: Average loss: 3.1762, LCNN Loss: 0.1430, Accuracy: 190/507 (37%)\n",
      "\n"
     ]
    },
    {
     "data": {
      "application/vnd.jupyter.widget-view+json": {
       "model_id": "f6e8a12e728349d897c2c2566e1f5a8f",
       "version_major": 2,
       "version_minor": 0
      },
      "text/plain": [
       "  0%|          | 0/33 [00:00<?, ?it/s]"
      ]
     },
     "metadata": {},
     "output_type": "display_data"
    },
    {
     "data": {
      "application/vnd.jupyter.widget-view+json": {
       "model_id": "4593a1d783dd436b810c43476b520ee4",
       "version_major": 2,
       "version_minor": 0
      },
      "text/plain": [
       "  0%|          | 0/33 [00:00<?, ?it/s]"
      ]
     },
     "metadata": {},
     "output_type": "display_data"
    },
    {
     "name": "stdout",
     "output_type": "stream",
     "text": [
      "[[ 15   0   0 ...   0   0   0]\n",
      " [  0 238   0 ...   0   0   0]\n",
      " [  0   0   4 ...   0   0   0]\n",
      " ...\n",
      " [  0   0   0 ...   2   0   0]\n",
      " [  0   0   0 ...   0   2   0]\n",
      " [  0   0   0 ...   0   0   6]]\n",
      "\n",
      "Train set: Average loss: 0.0140, LCNN Loss: 1.2777, Accuracy: 2075/2079 (100%)\n",
      "\n"
     ]
    },
    {
     "data": {
      "application/vnd.jupyter.widget-view+json": {
       "model_id": "415865b4f67c4f67a8e2e1ad5ec794ad",
       "version_major": 2,
       "version_minor": 0
      },
      "text/plain": [
       "  0%|          | 0/8 [00:00<?, ?it/s]"
      ]
     },
     "metadata": {},
     "output_type": "display_data"
    },
    {
     "name": "stdout",
     "output_type": "stream",
     "text": [
      "[[ 1  0  0 ...  0  0  0]\n",
      " [ 0 51  0 ...  0  0  0]\n",
      " [ 0  0  0 ...  0  0  0]\n",
      " ...\n",
      " [ 0  0  0 ...  0  0  0]\n",
      " [ 0  0  0 ...  0  0  0]\n",
      " [ 0  0  0 ...  0  0  0]]\n",
      "\n",
      "Test set: Average loss: 3.3201, LCNN Loss: 0.1544, Accuracy: 182/507 (36%)\n",
      "\n"
     ]
    },
    {
     "data": {
      "application/vnd.jupyter.widget-view+json": {
       "model_id": "d3b29d7376844faf8fb896ac1c262250",
       "version_major": 2,
       "version_minor": 0
      },
      "text/plain": [
       "  0%|          | 0/33 [00:00<?, ?it/s]"
      ]
     },
     "metadata": {},
     "output_type": "display_data"
    },
    {
     "data": {
      "application/vnd.jupyter.widget-view+json": {
       "model_id": "2899d846bead436da0cc411aa9f2f76a",
       "version_major": 2,
       "version_minor": 0
      },
      "text/plain": [
       "  0%|          | 0/33 [00:00<?, ?it/s]"
      ]
     },
     "metadata": {},
     "output_type": "display_data"
    },
    {
     "name": "stdout",
     "output_type": "stream",
     "text": [
      "[[ 16   0   0 ...   0   0   0]\n",
      " [  0 238   0 ...   0   0   0]\n",
      " [  0   0   4 ...   0   0   0]\n",
      " ...\n",
      " [  0   0   0 ...   2   0   0]\n",
      " [  0   0   0 ...   0   2   0]\n",
      " [  0   0   0 ...   0   0   6]]\n",
      "\n",
      "Train set: Average loss: 0.0460, LCNN Loss: 1.2297, Accuracy: 2074/2079 (100%)\n",
      "\n"
     ]
    },
    {
     "data": {
      "application/vnd.jupyter.widget-view+json": {
       "model_id": "633fffb409a04704ad6f608408e694e4",
       "version_major": 2,
       "version_minor": 0
      },
      "text/plain": [
       "  0%|          | 0/8 [00:00<?, ?it/s]"
      ]
     },
     "metadata": {},
     "output_type": "display_data"
    },
    {
     "name": "stdout",
     "output_type": "stream",
     "text": [
      "[[ 2  0  0 ...  0  0  0]\n",
      " [ 0 50  0 ...  0  0  0]\n",
      " [ 0  1  0 ...  0  0  0]\n",
      " ...\n",
      " [ 0  0  0 ...  0  0  0]\n",
      " [ 0  0  0 ...  0  0  0]\n",
      " [ 0  0  0 ...  0  0  0]]\n",
      "\n",
      "Test set: Average loss: 3.7093, LCNN Loss: 0.1708, Accuracy: 175/507 (35%)\n",
      "\n"
     ]
    },
    {
     "data": {
      "application/vnd.jupyter.widget-view+json": {
       "model_id": "75d2ae989d48425da17b5c7ac1bb453b",
       "version_major": 2,
       "version_minor": 0
      },
      "text/plain": [
       "  0%|          | 0/33 [00:00<?, ?it/s]"
      ]
     },
     "metadata": {},
     "output_type": "display_data"
    },
    {
     "data": {
      "application/vnd.jupyter.widget-view+json": {
       "model_id": "6eb868b914534400868dcce35b0bf26d",
       "version_major": 2,
       "version_minor": 0
      },
      "text/plain": [
       "  0%|          | 0/33 [00:00<?, ?it/s]"
      ]
     },
     "metadata": {},
     "output_type": "display_data"
    },
    {
     "name": "stdout",
     "output_type": "stream",
     "text": [
      "[[ 16   0   0 ...   0   0   0]\n",
      " [  0 238   0 ...   0   0   0]\n",
      " [  0   0   4 ...   0   0   0]\n",
      " ...\n",
      " [  0   0   0 ...   2   0   0]\n",
      " [  0   0   0 ...   0   2   0]\n",
      " [  0   0   0 ...   0   0   6]]\n",
      "\n",
      "Train set: Average loss: 0.0192, LCNN Loss: 1.1656, Accuracy: 2075/2079 (100%)\n",
      "\n"
     ]
    },
    {
     "data": {
      "application/vnd.jupyter.widget-view+json": {
       "model_id": "b7d495f28c844b5da4aca1d94205cbb8",
       "version_major": 2,
       "version_minor": 0
      },
      "text/plain": [
       "  0%|          | 0/8 [00:00<?, ?it/s]"
      ]
     },
     "metadata": {},
     "output_type": "display_data"
    },
    {
     "name": "stdout",
     "output_type": "stream",
     "text": [
      "[[ 2  0  0 ...  0  0  0]\n",
      " [ 0 56  0 ...  0  0  0]\n",
      " [ 0  0  0 ...  0  0  0]\n",
      " ...\n",
      " [ 0  0  0 ...  0  0  0]\n",
      " [ 0  0  0 ...  0  0  0]\n",
      " [ 0  0  0 ...  0  0  0]]\n",
      "\n",
      "Test set: Average loss: 3.3587, LCNN Loss: 0.1474, Accuracy: 180/507 (36%)\n",
      "\n"
     ]
    },
    {
     "data": {
      "application/vnd.jupyter.widget-view+json": {
       "model_id": "dfc56ad470364f7f84db7b082fcbb3f6",
       "version_major": 2,
       "version_minor": 0
      },
      "text/plain": [
       "  0%|          | 0/33 [00:00<?, ?it/s]"
      ]
     },
     "metadata": {},
     "output_type": "display_data"
    },
    {
     "data": {
      "application/vnd.jupyter.widget-view+json": {
       "model_id": "c8a3dd0dc9bd440bb48080b994d107f3",
       "version_major": 2,
       "version_minor": 0
      },
      "text/plain": [
       "  0%|          | 0/33 [00:00<?, ?it/s]"
      ]
     },
     "metadata": {},
     "output_type": "display_data"
    },
    {
     "name": "stdout",
     "output_type": "stream",
     "text": [
      "[[ 15   0   0 ...   0   0   0]\n",
      " [  0 238   0 ...   0   0   0]\n",
      " [  0   0   4 ...   0   0   0]\n",
      " ...\n",
      " [  0   0   0 ...   2   0   0]\n",
      " [  0   0   0 ...   0   2   0]\n",
      " [  0   0   0 ...   0   0   6]]\n",
      "\n",
      "Train set: Average loss: 0.0175, LCNN Loss: 1.0803, Accuracy: 2075/2079 (100%)\n",
      "\n"
     ]
    },
    {
     "data": {
      "application/vnd.jupyter.widget-view+json": {
       "model_id": "fb7db7d58a2f4b109cd089efeb8a2991",
       "version_major": 2,
       "version_minor": 0
      },
      "text/plain": [
       "  0%|          | 0/8 [00:00<?, ?it/s]"
      ]
     },
     "metadata": {},
     "output_type": "display_data"
    },
    {
     "name": "stdout",
     "output_type": "stream",
     "text": [
      "[[ 1  0  0 ...  0  0  0]\n",
      " [ 0 53  0 ...  0  0  0]\n",
      " [ 0  0  0 ...  0  0  0]\n",
      " ...\n",
      " [ 0  0  0 ...  0  0  0]\n",
      " [ 0  0  0 ...  0  0  0]\n",
      " [ 0  0  0 ...  0  0  0]]\n",
      "\n",
      "Test set: Average loss: 3.1308, LCNN Loss: 0.1343, Accuracy: 199/507 (39%)\n",
      "\n"
     ]
    },
    {
     "data": {
      "application/vnd.jupyter.widget-view+json": {
       "model_id": "4462894f52b8400cbc9030b14616ac1e",
       "version_major": 2,
       "version_minor": 0
      },
      "text/plain": [
       "  0%|          | 0/33 [00:00<?, ?it/s]"
      ]
     },
     "metadata": {},
     "output_type": "display_data"
    },
    {
     "data": {
      "application/vnd.jupyter.widget-view+json": {
       "model_id": "45f376723ecf4eba95c127c8faa2fd5f",
       "version_major": 2,
       "version_minor": 0
      },
      "text/plain": [
       "  0%|          | 0/33 [00:00<?, ?it/s]"
      ]
     },
     "metadata": {},
     "output_type": "display_data"
    },
    {
     "name": "stdout",
     "output_type": "stream",
     "text": [
      "[[ 15   0   0 ...   0   0   0]\n",
      " [  0 238   0 ...   0   0   0]\n",
      " [  0   0   4 ...   0   0   0]\n",
      " ...\n",
      " [  0   0   0 ...   2   0   0]\n",
      " [  0   0   0 ...   0   2   0]\n",
      " [  0   0   0 ...   0   0   6]]\n",
      "\n",
      "Train set: Average loss: 0.0131, LCNN Loss: 1.1010, Accuracy: 2075/2079 (100%)\n",
      "\n"
     ]
    },
    {
     "data": {
      "application/vnd.jupyter.widget-view+json": {
       "model_id": "d0544668238b466db4f4e560696ca6fc",
       "version_major": 2,
       "version_minor": 0
      },
      "text/plain": [
       "  0%|          | 0/8 [00:00<?, ?it/s]"
      ]
     },
     "metadata": {},
     "output_type": "display_data"
    },
    {
     "name": "stdout",
     "output_type": "stream",
     "text": [
      "[[ 2  0  0 ...  0  0  0]\n",
      " [ 0 53  0 ...  0  0  0]\n",
      " [ 0  0  0 ...  0  0  0]\n",
      " ...\n",
      " [ 0  0  0 ...  0  0  0]\n",
      " [ 0  0  0 ...  0  0  0]\n",
      " [ 0  0  0 ...  0  0  0]]\n",
      "\n",
      "Test set: Average loss: 3.1258, LCNN Loss: 0.1309, Accuracy: 192/507 (38%)\n",
      "\n"
     ]
    },
    {
     "data": {
      "application/vnd.jupyter.widget-view+json": {
       "model_id": "fdda43fd77ac4298bf4a10425f3e4156",
       "version_major": 2,
       "version_minor": 0
      },
      "text/plain": [
       "  0%|          | 0/33 [00:00<?, ?it/s]"
      ]
     },
     "metadata": {},
     "output_type": "display_data"
    },
    {
     "data": {
      "application/vnd.jupyter.widget-view+json": {
       "model_id": "7cbc2118932440968ab6d4eb7e57487e",
       "version_major": 2,
       "version_minor": 0
      },
      "text/plain": [
       "  0%|          | 0/33 [00:00<?, ?it/s]"
      ]
     },
     "metadata": {},
     "output_type": "display_data"
    },
    {
     "name": "stdout",
     "output_type": "stream",
     "text": [
      "[[ 16   0   0 ...   0   0   0]\n",
      " [  0 238   0 ...   0   0   0]\n",
      " [  0   0   4 ...   0   0   0]\n",
      " ...\n",
      " [  0   0   0 ...   2   0   0]\n",
      " [  0   0   0 ...   0   2   0]\n",
      " [  0   0   0 ...   0   0   6]]\n",
      "\n",
      "Train set: Average loss: 0.0224, LCNN Loss: 1.1935, Accuracy: 2075/2079 (100%)\n",
      "\n"
     ]
    },
    {
     "data": {
      "application/vnd.jupyter.widget-view+json": {
       "model_id": "72a4172b8f8a414aa6439d64d810b86c",
       "version_major": 2,
       "version_minor": 0
      },
      "text/plain": [
       "  0%|          | 0/8 [00:00<?, ?it/s]"
      ]
     },
     "metadata": {},
     "output_type": "display_data"
    },
    {
     "name": "stdout",
     "output_type": "stream",
     "text": [
      "[[ 2  0  0 ...  0  0  0]\n",
      " [ 0 56  0 ...  0  0  0]\n",
      " [ 0  0  0 ...  0  0  0]\n",
      " ...\n",
      " [ 0  0  0 ...  0  0  0]\n",
      " [ 0  0  0 ...  0  0  0]\n",
      " [ 0  0  0 ...  0  0  0]]\n",
      "\n",
      "Test set: Average loss: 3.5922, LCNN Loss: 0.1501, Accuracy: 159/507 (31%)\n",
      "\n"
     ]
    },
    {
     "data": {
      "application/vnd.jupyter.widget-view+json": {
       "model_id": "a9f52b64aca344c999f9a1cf0e3c7f50",
       "version_major": 2,
       "version_minor": 0
      },
      "text/plain": [
       "  0%|          | 0/33 [00:00<?, ?it/s]"
      ]
     },
     "metadata": {},
     "output_type": "display_data"
    },
    {
     "data": {
      "application/vnd.jupyter.widget-view+json": {
       "model_id": "68f27a674d24457d8ebbdea9cbbe14a3",
       "version_major": 2,
       "version_minor": 0
      },
      "text/plain": [
       "  0%|          | 0/33 [00:00<?, ?it/s]"
      ]
     },
     "metadata": {},
     "output_type": "display_data"
    },
    {
     "name": "stdout",
     "output_type": "stream",
     "text": [
      "[[ 16   0   0 ...   0   0   0]\n",
      " [  0 238   0 ...   0   0   0]\n",
      " [  0   0   4 ...   0   0   0]\n",
      " ...\n",
      " [  0   0   0 ...   2   0   0]\n",
      " [  0   0   0 ...   0   2   0]\n",
      " [  0   0   0 ...   0   0   6]]\n",
      "\n",
      "Train set: Average loss: 0.0251, LCNN Loss: 1.0629, Accuracy: 2074/2079 (100%)\n",
      "\n"
     ]
    },
    {
     "data": {
      "application/vnd.jupyter.widget-view+json": {
       "model_id": "a88bdedb8f144d46be684c2a29c1b31c",
       "version_major": 2,
       "version_minor": 0
      },
      "text/plain": [
       "  0%|          | 0/8 [00:00<?, ?it/s]"
      ]
     },
     "metadata": {},
     "output_type": "display_data"
    },
    {
     "name": "stdout",
     "output_type": "stream",
     "text": [
      "[[ 2  0  0 ...  0  0  0]\n",
      " [ 0 55  0 ...  0  0  0]\n",
      " [ 0  0  0 ...  0  0  0]\n",
      " ...\n",
      " [ 0  0  0 ...  0  0  0]\n",
      " [ 0  0  0 ...  0  0  0]\n",
      " [ 0  0  0 ...  0  0  0]]\n",
      "\n",
      "Test set: Average loss: 3.3817, LCNN Loss: 0.1357, Accuracy: 185/507 (36%)\n",
      "\n"
     ]
    },
    {
     "data": {
      "application/vnd.jupyter.widget-view+json": {
       "model_id": "bfadf94ce8fa484ab6992a1e20be777c",
       "version_major": 2,
       "version_minor": 0
      },
      "text/plain": [
       "  0%|          | 0/33 [00:00<?, ?it/s]"
      ]
     },
     "metadata": {},
     "output_type": "display_data"
    },
    {
     "data": {
      "application/vnd.jupyter.widget-view+json": {
       "model_id": "645326f7110247439018b639e5c377f5",
       "version_major": 2,
       "version_minor": 0
      },
      "text/plain": [
       "  0%|          | 0/33 [00:00<?, ?it/s]"
      ]
     },
     "metadata": {},
     "output_type": "display_data"
    },
    {
     "name": "stdout",
     "output_type": "stream",
     "text": [
      "[[ 15   0   0 ...   0   0   0]\n",
      " [  0 238   0 ...   0   0   0]\n",
      " [  0   0   4 ...   0   0   0]\n",
      " ...\n",
      " [  0   0   0 ...   2   0   0]\n",
      " [  0   0   0 ...   0   2   0]\n",
      " [  0   0   0 ...   0   0   6]]\n",
      "\n",
      "Train set: Average loss: 0.0447, LCNN Loss: 1.1074, Accuracy: 2073/2079 (100%)\n",
      "\n"
     ]
    },
    {
     "data": {
      "application/vnd.jupyter.widget-view+json": {
       "model_id": "275f19ff792f41c0af8b0bfccd6097a3",
       "version_major": 2,
       "version_minor": 0
      },
      "text/plain": [
       "  0%|          | 0/8 [00:00<?, ?it/s]"
      ]
     },
     "metadata": {},
     "output_type": "display_data"
    },
    {
     "name": "stdout",
     "output_type": "stream",
     "text": [
      "[[ 0  0  0 ...  0  0  0]\n",
      " [ 0 50  0 ...  0  0  0]\n",
      " [ 0  0  0 ...  0  0  0]\n",
      " ...\n",
      " [ 0  0  0 ...  0  0  0]\n",
      " [ 0  0  0 ...  0  0  0]\n",
      " [ 0  0  0 ...  0  0  0]]\n",
      "\n",
      "Test set: Average loss: 3.6581, LCNN Loss: 0.1480, Accuracy: 169/507 (33%)\n",
      "\n"
     ]
    },
    {
     "data": {
      "application/vnd.jupyter.widget-view+json": {
       "model_id": "9bb7966910fa40c2ae1b928ab5a38f94",
       "version_major": 2,
       "version_minor": 0
      },
      "text/plain": [
       "  0%|          | 0/33 [00:00<?, ?it/s]"
      ]
     },
     "metadata": {},
     "output_type": "display_data"
    },
    {
     "data": {
      "application/vnd.jupyter.widget-view+json": {
       "model_id": "bc2f8acb4e3746cf80477254c1f036b0",
       "version_major": 2,
       "version_minor": 0
      },
      "text/plain": [
       "  0%|          | 0/33 [00:00<?, ?it/s]"
      ]
     },
     "metadata": {},
     "output_type": "display_data"
    },
    {
     "name": "stdout",
     "output_type": "stream",
     "text": [
      "[[ 15   0   0 ...   0   0   0]\n",
      " [  0 238   0 ...   0   0   0]\n",
      " [  0   0   4 ...   0   0   0]\n",
      " ...\n",
      " [  0   0   0 ...   2   0   0]\n",
      " [  0   0   0 ...   0   2   0]\n",
      " [  0   0   0 ...   0   0   6]]\n",
      "\n",
      "Train set: Average loss: 0.0135, LCNN Loss: 1.2175, Accuracy: 2075/2079 (100%)\n",
      "\n"
     ]
    },
    {
     "data": {
      "application/vnd.jupyter.widget-view+json": {
       "model_id": "36412024ddf040c08fa9ee51a3ddfd2d",
       "version_major": 2,
       "version_minor": 0
      },
      "text/plain": [
       "  0%|          | 0/8 [00:00<?, ?it/s]"
      ]
     },
     "metadata": {},
     "output_type": "display_data"
    },
    {
     "name": "stdout",
     "output_type": "stream",
     "text": [
      "[[ 2  0  0 ...  0  0  0]\n",
      " [ 0 53  0 ...  0  0  0]\n",
      " [ 0  0  0 ...  0  0  0]\n",
      " ...\n",
      " [ 0  0  0 ...  0  0  0]\n",
      " [ 0  0  0 ...  0  0  0]\n",
      " [ 0  0  0 ...  0  0  0]]\n",
      "\n",
      "Test set: Average loss: 3.5256, LCNN Loss: 0.1462, Accuracy: 181/507 (36%)\n",
      "\n"
     ]
    },
    {
     "data": {
      "application/vnd.jupyter.widget-view+json": {
       "model_id": "804dbd5a4aec4fc1b5e004afe714fe6a",
       "version_major": 2,
       "version_minor": 0
      },
      "text/plain": [
       "  0%|          | 0/33 [00:00<?, ?it/s]"
      ]
     },
     "metadata": {},
     "output_type": "display_data"
    },
    {
     "data": {
      "application/vnd.jupyter.widget-view+json": {
       "model_id": "ea61cb766a154650ac40e94882543d51",
       "version_major": 2,
       "version_minor": 0
      },
      "text/plain": [
       "  0%|          | 0/33 [00:00<?, ?it/s]"
      ]
     },
     "metadata": {},
     "output_type": "display_data"
    },
    {
     "name": "stdout",
     "output_type": "stream",
     "text": [
      "[[ 16   0   0 ...   0   0   0]\n",
      " [  0 238   0 ...   0   0   0]\n",
      " [  0   0   4 ...   0   0   0]\n",
      " ...\n",
      " [  0   0   0 ...   2   0   0]\n",
      " [  0   0   0 ...   0   2   0]\n",
      " [  0   0   0 ...   0   0   6]]\n",
      "\n",
      "Train set: Average loss: 0.0224, LCNN Loss: 0.9675, Accuracy: 2075/2079 (100%)\n",
      "\n"
     ]
    },
    {
     "data": {
      "application/vnd.jupyter.widget-view+json": {
       "model_id": "06d5bc677dd54ffbac9573a256c1ddc7",
       "version_major": 2,
       "version_minor": 0
      },
      "text/plain": [
       "  0%|          | 0/8 [00:00<?, ?it/s]"
      ]
     },
     "metadata": {},
     "output_type": "display_data"
    },
    {
     "name": "stdout",
     "output_type": "stream",
     "text": [
      "[[ 2  0  0 ...  0  0  0]\n",
      " [ 0 55  0 ...  0  0  0]\n",
      " [ 0  0  0 ...  0  0  0]\n",
      " ...\n",
      " [ 0  0  0 ...  0  0  0]\n",
      " [ 0  0  0 ...  0  0  0]\n",
      " [ 0  0  0 ...  0  0  0]]\n",
      "\n",
      "Test set: Average loss: 3.1821, LCNN Loss: 0.1170, Accuracy: 190/507 (37%)\n",
      "\n"
     ]
    },
    {
     "data": {
      "application/vnd.jupyter.widget-view+json": {
       "model_id": "7f0a9c11116542679f732796206df495",
       "version_major": 2,
       "version_minor": 0
      },
      "text/plain": [
       "  0%|          | 0/33 [00:00<?, ?it/s]"
      ]
     },
     "metadata": {},
     "output_type": "display_data"
    },
    {
     "data": {
      "application/vnd.jupyter.widget-view+json": {
       "model_id": "2132a79339cf406b9c7c3e51185d3e5b",
       "version_major": 2,
       "version_minor": 0
      },
      "text/plain": [
       "  0%|          | 0/33 [00:00<?, ?it/s]"
      ]
     },
     "metadata": {},
     "output_type": "display_data"
    },
    {
     "name": "stdout",
     "output_type": "stream",
     "text": [
      "[[ 15   0   0 ...   0   0   0]\n",
      " [  0 238   0 ...   0   0   0]\n",
      " [  0   0   4 ...   0   0   0]\n",
      " ...\n",
      " [  0   0   0 ...   2   0   0]\n",
      " [  0   0   0 ...   0   2   0]\n",
      " [  0   0   0 ...   0   0   6]]\n",
      "\n",
      "Train set: Average loss: 0.0175, LCNN Loss: 1.0092, Accuracy: 2075/2079 (100%)\n",
      "\n"
     ]
    },
    {
     "data": {
      "application/vnd.jupyter.widget-view+json": {
       "model_id": "76e55947765a489a9dbfdfd89c054ec7",
       "version_major": 2,
       "version_minor": 0
      },
      "text/plain": [
       "  0%|          | 0/8 [00:00<?, ?it/s]"
      ]
     },
     "metadata": {},
     "output_type": "display_data"
    },
    {
     "name": "stdout",
     "output_type": "stream",
     "text": [
      "[[ 2  0  0 ...  0  0  0]\n",
      " [ 0 57  0 ...  0  0  0]\n",
      " [ 0  1  0 ...  0  0  0]\n",
      " ...\n",
      " [ 0  0  0 ...  0  0  0]\n",
      " [ 0  0  0 ...  0  0  0]\n",
      " [ 0  0  0 ...  0  0  0]]\n",
      "\n",
      "Test set: Average loss: 3.2453, LCNN Loss: 0.1235, Accuracy: 187/507 (37%)\n",
      "\n"
     ]
    },
    {
     "data": {
      "application/vnd.jupyter.widget-view+json": {
       "model_id": "23f0d2cc692f465ba6de39558a692238",
       "version_major": 2,
       "version_minor": 0
      },
      "text/plain": [
       "  0%|          | 0/33 [00:00<?, ?it/s]"
      ]
     },
     "metadata": {},
     "output_type": "display_data"
    },
    {
     "data": {
      "application/vnd.jupyter.widget-view+json": {
       "model_id": "64d55c0e643a4aeb98f0310c7c55e6d2",
       "version_major": 2,
       "version_minor": 0
      },
      "text/plain": [
       "  0%|          | 0/33 [00:00<?, ?it/s]"
      ]
     },
     "metadata": {},
     "output_type": "display_data"
    },
    {
     "name": "stdout",
     "output_type": "stream",
     "text": [
      "[[ 15   0   0 ...   0   0   0]\n",
      " [  0 238   0 ...   0   0   0]\n",
      " [  0   0   4 ...   0   0   0]\n",
      " ...\n",
      " [  0   0   0 ...   2   0   0]\n",
      " [  0   0   0 ...   0   2   0]\n",
      " [  0   0   0 ...   0   0   6]]\n",
      "\n",
      "Train set: Average loss: 0.0157, LCNN Loss: 0.9547, Accuracy: 2075/2079 (100%)\n",
      "\n"
     ]
    },
    {
     "data": {
      "application/vnd.jupyter.widget-view+json": {
       "model_id": "dd738c555693412fad305fc5c84792a4",
       "version_major": 2,
       "version_minor": 0
      },
      "text/plain": [
       "  0%|          | 0/8 [00:00<?, ?it/s]"
      ]
     },
     "metadata": {},
     "output_type": "display_data"
    },
    {
     "name": "stdout",
     "output_type": "stream",
     "text": [
      "[[ 1  0  0 ...  0  0  0]\n",
      " [ 0 55  0 ...  0  0  0]\n",
      " [ 0  0  0 ...  0  0  0]\n",
      " ...\n",
      " [ 0  0  0 ...  0  0  0]\n",
      " [ 0  0  0 ...  0  0  0]\n",
      " [ 0  0  0 ...  0  0  0]]\n",
      "\n",
      "Test set: Average loss: 3.0723, LCNN Loss: 0.1144, Accuracy: 192/507 (38%)\n",
      "\n"
     ]
    },
    {
     "data": {
      "application/vnd.jupyter.widget-view+json": {
       "model_id": "aca8a3deb4804cdcb35aa37a8aeb880b",
       "version_major": 2,
       "version_minor": 0
      },
      "text/plain": [
       "  0%|          | 0/33 [00:00<?, ?it/s]"
      ]
     },
     "metadata": {},
     "output_type": "display_data"
    },
    {
     "data": {
      "application/vnd.jupyter.widget-view+json": {
       "model_id": "259e5bb27c3144dc8c22dec427499e5a",
       "version_major": 2,
       "version_minor": 0
      },
      "text/plain": [
       "  0%|          | 0/33 [00:00<?, ?it/s]"
      ]
     },
     "metadata": {},
     "output_type": "display_data"
    },
    {
     "name": "stdout",
     "output_type": "stream",
     "text": [
      "[[ 16   0   0 ...   0   0   0]\n",
      " [  0 238   0 ...   0   0   0]\n",
      " [  0   0   4 ...   0   0   0]\n",
      " ...\n",
      " [  0   0   0 ...   2   0   0]\n",
      " [  0   0   0 ...   0   2   0]\n",
      " [  0   0   0 ...   0   0   6]]\n",
      "\n",
      "Train set: Average loss: 0.0169, LCNN Loss: 0.9467, Accuracy: 2075/2079 (100%)\n",
      "\n"
     ]
    },
    {
     "data": {
      "application/vnd.jupyter.widget-view+json": {
       "model_id": "4a307da4cb704d9795992f4e4f627138",
       "version_major": 2,
       "version_minor": 0
      },
      "text/plain": [
       "  0%|          | 0/8 [00:00<?, ?it/s]"
      ]
     },
     "metadata": {},
     "output_type": "display_data"
    },
    {
     "name": "stdout",
     "output_type": "stream",
     "text": [
      "[[ 2  0  0 ...  0  0  0]\n",
      " [ 0 55  0 ...  0  0  0]\n",
      " [ 0  0  0 ...  0  0  0]\n",
      " ...\n",
      " [ 0  0  0 ...  0  0  0]\n",
      " [ 0  0  0 ...  0  0  0]\n",
      " [ 0  0  0 ...  0  0  0]]\n",
      "\n",
      "Test set: Average loss: 3.1814, LCNN Loss: 0.1121, Accuracy: 191/507 (38%)\n",
      "\n"
     ]
    },
    {
     "data": {
      "application/vnd.jupyter.widget-view+json": {
       "model_id": "87bb5d4e31cb4832b078cf2d84659a9f",
       "version_major": 2,
       "version_minor": 0
      },
      "text/plain": [
       "  0%|          | 0/33 [00:00<?, ?it/s]"
      ]
     },
     "metadata": {},
     "output_type": "display_data"
    },
    {
     "data": {
      "application/vnd.jupyter.widget-view+json": {
       "model_id": "86280691d7d34072b5ca11fc0c58f309",
       "version_major": 2,
       "version_minor": 0
      },
      "text/plain": [
       "  0%|          | 0/33 [00:00<?, ?it/s]"
      ]
     },
     "metadata": {},
     "output_type": "display_data"
    },
    {
     "name": "stdout",
     "output_type": "stream",
     "text": [
      "[[ 16   0   0 ...   0   0   0]\n",
      " [  0 238   0 ...   0   0   0]\n",
      " [  0   0   4 ...   0   0   0]\n",
      " ...\n",
      " [  0   0   0 ...   2   0   0]\n",
      " [  0   0   0 ...   0   2   0]\n",
      " [  0   0   0 ...   0   0   6]]\n",
      "\n",
      "Train set: Average loss: 0.0100, LCNN Loss: 1.0840, Accuracy: 2075/2079 (100%)\n",
      "\n"
     ]
    },
    {
     "data": {
      "application/vnd.jupyter.widget-view+json": {
       "model_id": "da82f7761b3d4e3a94320d63a896e04a",
       "version_major": 2,
       "version_minor": 0
      },
      "text/plain": [
       "  0%|          | 0/8 [00:00<?, ?it/s]"
      ]
     },
     "metadata": {},
     "output_type": "display_data"
    },
    {
     "name": "stdout",
     "output_type": "stream",
     "text": [
      "[[ 2  0  0 ...  0  0  0]\n",
      " [ 0 53  0 ...  0  0  0]\n",
      " [ 0  0  0 ...  0  0  0]\n",
      " ...\n",
      " [ 0  0  0 ...  0  0  0]\n",
      " [ 0  0  0 ...  0  0  0]\n",
      " [ 0  0  0 ...  0  0  0]]\n",
      "\n",
      "Test set: Average loss: 3.2936, LCNN Loss: 0.1196, Accuracy: 195/507 (38%)\n",
      "\n"
     ]
    },
    {
     "data": {
      "application/vnd.jupyter.widget-view+json": {
       "model_id": "f6d574a33f8d4c32ab83cb590eb0bbda",
       "version_major": 2,
       "version_minor": 0
      },
      "text/plain": [
       "  0%|          | 0/33 [00:00<?, ?it/s]"
      ]
     },
     "metadata": {},
     "output_type": "display_data"
    },
    {
     "data": {
      "application/vnd.jupyter.widget-view+json": {
       "model_id": "eb4bc2554f0847de93daabd8bcd9cece",
       "version_major": 2,
       "version_minor": 0
      },
      "text/plain": [
       "  0%|          | 0/33 [00:00<?, ?it/s]"
      ]
     },
     "metadata": {},
     "output_type": "display_data"
    },
    {
     "name": "stdout",
     "output_type": "stream",
     "text": [
      "[[ 15   0   0 ...   0   0   0]\n",
      " [  0 231   0 ...   0   0   0]\n",
      " [  0   0   3 ...   0   0   0]\n",
      " ...\n",
      " [  0   0   0 ...   2   0   0]\n",
      " [  0   0   0 ...   0   2   0]\n",
      " [  0   0   0 ...   0   0   6]]\n",
      "\n",
      "Train set: Average loss: 0.3183, LCNN Loss: 0.8376, Accuracy: 1901/2079 (91%)\n",
      "\n"
     ]
    },
    {
     "data": {
      "application/vnd.jupyter.widget-view+json": {
       "model_id": "30130f0ed22a4977b5a32df5caaaf75d",
       "version_major": 2,
       "version_minor": 0
      },
      "text/plain": [
       "  0%|          | 0/8 [00:00<?, ?it/s]"
      ]
     },
     "metadata": {},
     "output_type": "display_data"
    },
    {
     "name": "stdout",
     "output_type": "stream",
     "text": [
      "[[ 1  0  0 ...  0  0  0]\n",
      " [ 0 45  0 ...  0  0  0]\n",
      " [ 0  0  0 ...  0  0  0]\n",
      " ...\n",
      " [ 0  0  0 ...  0  0  0]\n",
      " [ 0  0  0 ...  0  0  0]\n",
      " [ 0  0  0 ...  0  0  0]]\n",
      "\n",
      "Test set: Average loss: 3.5957, LCNN Loss: 0.1396, Accuracy: 148/507 (29%)\n",
      "\n"
     ]
    },
    {
     "data": {
      "application/vnd.jupyter.widget-view+json": {
       "model_id": "e7863584c26f47fa805f32f969c65b74",
       "version_major": 2,
       "version_minor": 0
      },
      "text/plain": [
       "  0%|          | 0/33 [00:00<?, ?it/s]"
      ]
     },
     "metadata": {},
     "output_type": "display_data"
    },
    {
     "data": {
      "application/vnd.jupyter.widget-view+json": {
       "model_id": "2010949beda54053b8ce8920c0e7207a",
       "version_major": 2,
       "version_minor": 0
      },
      "text/plain": [
       "  0%|          | 0/33 [00:00<?, ?it/s]"
      ]
     },
     "metadata": {},
     "output_type": "display_data"
    },
    {
     "name": "stdout",
     "output_type": "stream",
     "text": [
      "[[ 16   0   0 ...   0   0   0]\n",
      " [  0 238   0 ...   0   0   0]\n",
      " [  0   0   4 ...   0   0   0]\n",
      " ...\n",
      " [  0   0   0 ...   2   0   0]\n",
      " [  0   0   0 ...   0   2   0]\n",
      " [  0   0   0 ...   0   0   6]]\n",
      "\n",
      "Train set: Average loss: 0.0164, LCNN Loss: 1.1481, Accuracy: 2075/2079 (100%)\n",
      "\n"
     ]
    },
    {
     "data": {
      "application/vnd.jupyter.widget-view+json": {
       "model_id": "28704439cd604eedb8f29ac99c8813e7",
       "version_major": 2,
       "version_minor": 0
      },
      "text/plain": [
       "  0%|          | 0/8 [00:00<?, ?it/s]"
      ]
     },
     "metadata": {},
     "output_type": "display_data"
    },
    {
     "name": "stdout",
     "output_type": "stream",
     "text": [
      "[[ 2  0  0 ...  0  0  0]\n",
      " [ 0 55  0 ...  0  0  0]\n",
      " [ 0  1  0 ...  0  0  0]\n",
      " ...\n",
      " [ 0  0  0 ...  0  0  0]\n",
      " [ 0  0  0 ...  0  0  0]\n",
      " [ 0  0  0 ...  0  0  0]]\n",
      "\n",
      "Test set: Average loss: 3.4841, LCNN Loss: 0.1459, Accuracy: 175/507 (35%)\n",
      "\n"
     ]
    },
    {
     "data": {
      "application/vnd.jupyter.widget-view+json": {
       "model_id": "5bee6ae440f548b5b17a6b99030b1113",
       "version_major": 2,
       "version_minor": 0
      },
      "text/plain": [
       "  0%|          | 0/33 [00:00<?, ?it/s]"
      ]
     },
     "metadata": {},
     "output_type": "display_data"
    },
    {
     "data": {
      "application/vnd.jupyter.widget-view+json": {
       "model_id": "dcbb65fa63b9443e85de6701eef52b29",
       "version_major": 2,
       "version_minor": 0
      },
      "text/plain": [
       "  0%|          | 0/33 [00:00<?, ?it/s]"
      ]
     },
     "metadata": {},
     "output_type": "display_data"
    },
    {
     "name": "stdout",
     "output_type": "stream",
     "text": [
      "[[ 16   0   0 ...   0   0   0]\n",
      " [  0 238   0 ...   0   0   0]\n",
      " [  0   0   4 ...   0   0   0]\n",
      " ...\n",
      " [  0   0   0 ...   2   0   0]\n",
      " [  0   0   0 ...   0   2   0]\n",
      " [  0   0   0 ...   0   0   6]]\n",
      "\n",
      "Train set: Average loss: 0.0107, LCNN Loss: 1.0925, Accuracy: 2075/2079 (100%)\n",
      "\n"
     ]
    },
    {
     "data": {
      "application/vnd.jupyter.widget-view+json": {
       "model_id": "5e1542ac41024371afb3f7e52e1920d7",
       "version_major": 2,
       "version_minor": 0
      },
      "text/plain": [
       "  0%|          | 0/8 [00:00<?, ?it/s]"
      ]
     },
     "metadata": {},
     "output_type": "display_data"
    },
    {
     "name": "stdout",
     "output_type": "stream",
     "text": [
      "[[ 2  0  0 ...  0  0  0]\n",
      " [ 0 52  0 ...  0  0  0]\n",
      " [ 0  0  0 ...  0  0  0]\n",
      " ...\n",
      " [ 0  0  0 ...  0  0  0]\n",
      " [ 0  0  0 ...  0  0  0]\n",
      " [ 0  0  0 ...  0  0  0]]\n",
      "\n",
      "Test set: Average loss: 3.2796, LCNN Loss: 0.1295, Accuracy: 191/507 (38%)\n",
      "\n"
     ]
    },
    {
     "data": {
      "application/vnd.jupyter.widget-view+json": {
       "model_id": "9f98728df8d74c9393db46ce84da4a74",
       "version_major": 2,
       "version_minor": 0
      },
      "text/plain": [
       "  0%|          | 0/33 [00:00<?, ?it/s]"
      ]
     },
     "metadata": {},
     "output_type": "display_data"
    },
    {
     "data": {
      "application/vnd.jupyter.widget-view+json": {
       "model_id": "23f99e0089ca43ff9717a7676c8cd612",
       "version_major": 2,
       "version_minor": 0
      },
      "text/plain": [
       "  0%|          | 0/33 [00:00<?, ?it/s]"
      ]
     },
     "metadata": {},
     "output_type": "display_data"
    },
    {
     "name": "stdout",
     "output_type": "stream",
     "text": [
      "[[ 16   0   0 ...   0   0   0]\n",
      " [  0 238   0 ...   0   0   0]\n",
      " [  0   0   4 ...   0   0   0]\n",
      " ...\n",
      " [  0   0   0 ...   2   0   0]\n",
      " [  0   0   0 ...   0   2   0]\n",
      " [  0   0   0 ...   0   0   6]]\n",
      "\n",
      "Train set: Average loss: 0.0108, LCNN Loss: 0.9520, Accuracy: 2075/2079 (100%)\n",
      "\n"
     ]
    },
    {
     "data": {
      "application/vnd.jupyter.widget-view+json": {
       "model_id": "62fc1c3f11724f4da21828355cf7f2fb",
       "version_major": 2,
       "version_minor": 0
      },
      "text/plain": [
       "  0%|          | 0/8 [00:00<?, ?it/s]"
      ]
     },
     "metadata": {},
     "output_type": "display_data"
    },
    {
     "name": "stdout",
     "output_type": "stream",
     "text": [
      "[[ 2  0  0 ...  0  0  0]\n",
      " [ 0 53  0 ...  0  0  0]\n",
      " [ 0  0  0 ...  0  0  0]\n",
      " ...\n",
      " [ 0  0  0 ...  0  0  0]\n",
      " [ 0  0  0 ...  0  0  0]\n",
      " [ 0  0  0 ...  0  0  0]]\n",
      "\n",
      "Test set: Average loss: 3.1326, LCNN Loss: 0.1037, Accuracy: 189/507 (37%)\n",
      "\n"
     ]
    },
    {
     "data": {
      "application/vnd.jupyter.widget-view+json": {
       "model_id": "6a0094305ddc4b42a79f1ba9a3683991",
       "version_major": 2,
       "version_minor": 0
      },
      "text/plain": [
       "  0%|          | 0/33 [00:00<?, ?it/s]"
      ]
     },
     "metadata": {},
     "output_type": "display_data"
    },
    {
     "data": {
      "application/vnd.jupyter.widget-view+json": {
       "model_id": "6c4c170cad97498693aabf69f10e4592",
       "version_major": 2,
       "version_minor": 0
      },
      "text/plain": [
       "  0%|          | 0/33 [00:00<?, ?it/s]"
      ]
     },
     "metadata": {},
     "output_type": "display_data"
    },
    {
     "name": "stdout",
     "output_type": "stream",
     "text": [
      "[[ 16   0   0 ...   0   0   0]\n",
      " [  0 238   0 ...   0   0   0]\n",
      " [  0   0   4 ...   0   0   0]\n",
      " ...\n",
      " [  0   0   0 ...   2   0   0]\n",
      " [  0   0   0 ...   0   2   0]\n",
      " [  0   0   0 ...   0   0   6]]\n",
      "\n",
      "Train set: Average loss: 0.0132, LCNN Loss: 0.9810, Accuracy: 2075/2079 (100%)\n",
      "\n"
     ]
    },
    {
     "data": {
      "application/vnd.jupyter.widget-view+json": {
       "model_id": "71b043dcb50d4fc48dd4d82ce7edc00f",
       "version_major": 2,
       "version_minor": 0
      },
      "text/plain": [
       "  0%|          | 0/8 [00:00<?, ?it/s]"
      ]
     },
     "metadata": {},
     "output_type": "display_data"
    },
    {
     "name": "stdout",
     "output_type": "stream",
     "text": [
      "[[ 2  0  0 ...  0  0  0]\n",
      " [ 0 56  0 ...  0  0  0]\n",
      " [ 0  0  0 ...  0  0  0]\n",
      " ...\n",
      " [ 0  0  0 ...  0  0  0]\n",
      " [ 0  0  0 ...  0  0  0]\n",
      " [ 0  0  0 ...  0  0  0]]\n",
      "\n",
      "Test set: Average loss: 3.2128, LCNN Loss: 0.1129, Accuracy: 199/507 (39%)\n",
      "\n"
     ]
    },
    {
     "data": {
      "application/vnd.jupyter.widget-view+json": {
       "model_id": "c7251f14db2343c88f54468d558d3d24",
       "version_major": 2,
       "version_minor": 0
      },
      "text/plain": [
       "  0%|          | 0/33 [00:00<?, ?it/s]"
      ]
     },
     "metadata": {},
     "output_type": "display_data"
    },
    {
     "data": {
      "application/vnd.jupyter.widget-view+json": {
       "model_id": "9a5525ee248e4dcd98f731f91cc361d5",
       "version_major": 2,
       "version_minor": 0
      },
      "text/plain": [
       "  0%|          | 0/33 [00:00<?, ?it/s]"
      ]
     },
     "metadata": {},
     "output_type": "display_data"
    },
    {
     "name": "stdout",
     "output_type": "stream",
     "text": [
      "[[ 16   0   0 ...   0   0   0]\n",
      " [  0 238   0 ...   0   0   0]\n",
      " [  0   0   4 ...   0   0   0]\n",
      " ...\n",
      " [  0   0   0 ...   2   0   0]\n",
      " [  0   0   0 ...   0   2   0]\n",
      " [  0   0   0 ...   0   0   6]]\n",
      "\n",
      "Train set: Average loss: 0.0138, LCNN Loss: 0.8843, Accuracy: 2075/2079 (100%)\n",
      "\n"
     ]
    },
    {
     "data": {
      "application/vnd.jupyter.widget-view+json": {
       "model_id": "5b1b386f9672407bba29f848f1f570c1",
       "version_major": 2,
       "version_minor": 0
      },
      "text/plain": [
       "  0%|          | 0/8 [00:00<?, ?it/s]"
      ]
     },
     "metadata": {},
     "output_type": "display_data"
    },
    {
     "name": "stdout",
     "output_type": "stream",
     "text": [
      "[[ 2  0  0 ...  0  0  0]\n",
      " [ 0 57  0 ...  0  0  0]\n",
      " [ 0  0  0 ...  0  0  0]\n",
      " ...\n",
      " [ 0  0  0 ...  0  0  0]\n",
      " [ 0  0  0 ...  0  0  0]\n",
      " [ 0  0  0 ...  0  0  0]]\n",
      "\n",
      "Test set: Average loss: 3.0535, LCNN Loss: 0.1022, Accuracy: 194/507 (38%)\n",
      "\n"
     ]
    },
    {
     "data": {
      "application/vnd.jupyter.widget-view+json": {
       "model_id": "400fcf44609a4018965e948dc3960f41",
       "version_major": 2,
       "version_minor": 0
      },
      "text/plain": [
       "  0%|          | 0/33 [00:00<?, ?it/s]"
      ]
     },
     "metadata": {},
     "output_type": "display_data"
    },
    {
     "data": {
      "application/vnd.jupyter.widget-view+json": {
       "model_id": "612692767c9e4528bab3da8d5115b6c5",
       "version_major": 2,
       "version_minor": 0
      },
      "text/plain": [
       "  0%|          | 0/33 [00:00<?, ?it/s]"
      ]
     },
     "metadata": {},
     "output_type": "display_data"
    },
    {
     "name": "stdout",
     "output_type": "stream",
     "text": [
      "[[ 16   0   0 ...   0   0   0]\n",
      " [  0 238   0 ...   0   0   0]\n",
      " [  0   0   4 ...   0   0   0]\n",
      " ...\n",
      " [  0   0   0 ...   2   0   0]\n",
      " [  0   0   0 ...   0   2   0]\n",
      " [  0   0   0 ...   0   0   6]]\n",
      "\n",
      "Train set: Average loss: 0.0113, LCNN Loss: 0.8793, Accuracy: 2075/2079 (100%)\n",
      "\n"
     ]
    },
    {
     "data": {
      "application/vnd.jupyter.widget-view+json": {
       "model_id": "6d73af6121464b3a8884278b8e90ed38",
       "version_major": 2,
       "version_minor": 0
      },
      "text/plain": [
       "  0%|          | 0/8 [00:00<?, ?it/s]"
      ]
     },
     "metadata": {},
     "output_type": "display_data"
    },
    {
     "name": "stdout",
     "output_type": "stream",
     "text": [
      "[[ 2  0  0 ...  0  0  0]\n",
      " [ 0 55  0 ...  0  0  0]\n",
      " [ 0  0  0 ...  0  0  0]\n",
      " ...\n",
      " [ 0  0  0 ...  0  0  0]\n",
      " [ 0  0  0 ...  0  0  0]\n",
      " [ 0  0  0 ...  0  0  0]]\n",
      "\n",
      "Test set: Average loss: 3.1521, LCNN Loss: 0.0959, Accuracy: 200/507 (39%)\n",
      "\n"
     ]
    },
    {
     "data": {
      "application/vnd.jupyter.widget-view+json": {
       "model_id": "8c5b0a39da7d4e919b6daac7aae3a2c7",
       "version_major": 2,
       "version_minor": 0
      },
      "text/plain": [
       "  0%|          | 0/33 [00:00<?, ?it/s]"
      ]
     },
     "metadata": {},
     "output_type": "display_data"
    },
    {
     "data": {
      "application/vnd.jupyter.widget-view+json": {
       "model_id": "9286b49e53eb4296a76bcf47468cdb9b",
       "version_major": 2,
       "version_minor": 0
      },
      "text/plain": [
       "  0%|          | 0/33 [00:00<?, ?it/s]"
      ]
     },
     "metadata": {},
     "output_type": "display_data"
    },
    {
     "name": "stdout",
     "output_type": "stream",
     "text": [
      "[[ 16   0   0 ...   0   0   0]\n",
      " [  0 238   0 ...   0   0   0]\n",
      " [  0   0   4 ...   0   0   0]\n",
      " ...\n",
      " [  0   0   0 ...   2   0   0]\n",
      " [  0   0   0 ...   0   2   0]\n",
      " [  0   0   0 ...   0   0   6]]\n",
      "\n",
      "Train set: Average loss: 0.0635, LCNN Loss: 1.3058, Accuracy: 2068/2079 (99%)\n",
      "\n"
     ]
    },
    {
     "data": {
      "application/vnd.jupyter.widget-view+json": {
       "model_id": "c36d3e909f794b75a17ab8eefc822b68",
       "version_major": 2,
       "version_minor": 0
      },
      "text/plain": [
       "  0%|          | 0/8 [00:00<?, ?it/s]"
      ]
     },
     "metadata": {},
     "output_type": "display_data"
    },
    {
     "name": "stdout",
     "output_type": "stream",
     "text": [
      "[[ 1  0  0 ...  0  0  0]\n",
      " [ 0 51  0 ...  0  0  0]\n",
      " [ 0  0  0 ...  0  0  0]\n",
      " ...\n",
      " [ 0  0  0 ...  0  0  0]\n",
      " [ 0  0  0 ...  0  0  0]\n",
      " [ 0  0  0 ...  0  0  0]]\n",
      "\n",
      "Test set: Average loss: 4.2529, LCNN Loss: 0.1706, Accuracy: 156/507 (31%)\n",
      "\n"
     ]
    },
    {
     "data": {
      "application/vnd.jupyter.widget-view+json": {
       "model_id": "76bd6a2176664379921f1ece7737c506",
       "version_major": 2,
       "version_minor": 0
      },
      "text/plain": [
       "  0%|          | 0/33 [00:00<?, ?it/s]"
      ]
     },
     "metadata": {},
     "output_type": "display_data"
    },
    {
     "data": {
      "application/vnd.jupyter.widget-view+json": {
       "model_id": "0e54680cdbf04385aabe25b1df3cf97f",
       "version_major": 2,
       "version_minor": 0
      },
      "text/plain": [
       "  0%|          | 0/33 [00:00<?, ?it/s]"
      ]
     },
     "metadata": {},
     "output_type": "display_data"
    },
    {
     "name": "stdout",
     "output_type": "stream",
     "text": [
      "[[ 16   0   0 ...   0   0   0]\n",
      " [  0 237   0 ...   0   0   0]\n",
      " [  0   0   4 ...   0   0   0]\n",
      " ...\n",
      " [  0   0   0 ...   2   0   0]\n",
      " [  0   0   0 ...   0   2   0]\n",
      " [  0   0   0 ...   0   0   6]]\n",
      "\n",
      "Train set: Average loss: 0.3793, LCNN Loss: 1.2316, Accuracy: 1917/2079 (92%)\n",
      "\n"
     ]
    },
    {
     "data": {
      "application/vnd.jupyter.widget-view+json": {
       "model_id": "c32cde651aff4acb91662e670f2e3a2e",
       "version_major": 2,
       "version_minor": 0
      },
      "text/plain": [
       "  0%|          | 0/8 [00:00<?, ?it/s]"
      ]
     },
     "metadata": {},
     "output_type": "display_data"
    },
    {
     "name": "stdout",
     "output_type": "stream",
     "text": [
      "[[ 1  0  0 ...  0  0  0]\n",
      " [ 0 49  0 ...  0  0  0]\n",
      " [ 0  0  0 ...  0  0  0]\n",
      " ...\n",
      " [ 0  0  0 ...  0  0  0]\n",
      " [ 0  0  0 ...  0  0  0]\n",
      " [ 0  0  0 ...  0  0  0]]\n",
      "\n",
      "Test set: Average loss: 4.5528, LCNN Loss: 0.2124, Accuracy: 126/507 (25%)\n",
      "\n"
     ]
    },
    {
     "data": {
      "application/vnd.jupyter.widget-view+json": {
       "model_id": "460db0959f7f490e853a11866c0b55ae",
       "version_major": 2,
       "version_minor": 0
      },
      "text/plain": [
       "  0%|          | 0/33 [00:00<?, ?it/s]"
      ]
     },
     "metadata": {},
     "output_type": "display_data"
    },
    {
     "data": {
      "application/vnd.jupyter.widget-view+json": {
       "model_id": "ed823f1bdc9c42ca85cf23f2696fa929",
       "version_major": 2,
       "version_minor": 0
      },
      "text/plain": [
       "  0%|          | 0/33 [00:00<?, ?it/s]"
      ]
     },
     "metadata": {},
     "output_type": "display_data"
    },
    {
     "name": "stdout",
     "output_type": "stream",
     "text": [
      "[[  2   0   0 ...   0   0   0]\n",
      " [  0 168   0 ...   0   0   0]\n",
      " [  0   0   0 ...   0   0   0]\n",
      " ...\n",
      " [  0   0   0 ...   0   0   0]\n",
      " [  0   0   0 ...   0   1   0]\n",
      " [  0   0   0 ...   0   0   2]]\n",
      "\n",
      "Train set: Average loss: 1.8952, LCNN Loss: 1.8621, Accuracy: 1200/2079 (58%)\n",
      "\n"
     ]
    },
    {
     "data": {
      "application/vnd.jupyter.widget-view+json": {
       "model_id": "0a12b3d6a4d84f3a9626c0065b7a3068",
       "version_major": 2,
       "version_minor": 0
      },
      "text/plain": [
       "  0%|          | 0/8 [00:00<?, ?it/s]"
      ]
     },
     "metadata": {},
     "output_type": "display_data"
    },
    {
     "name": "stdout",
     "output_type": "stream",
     "text": [
      "[[ 0  0  0 ...  0  0  0]\n",
      " [ 0 32  0 ...  0  0  0]\n",
      " [ 0  0  0 ...  0  0  0]\n",
      " ...\n",
      " [ 0  0  0 ...  0  0  0]\n",
      " [ 0  0  0 ...  0  0  0]\n",
      " [ 0  0  0 ...  0  0  0]]\n",
      "\n",
      "Test set: Average loss: 6.4235, LCNN Loss: 0.4027, Accuracy: 90/507 (18%)\n",
      "\n"
     ]
    },
    {
     "data": {
      "application/vnd.jupyter.widget-view+json": {
       "model_id": "a7db2cf669a348869996262ed871c42f",
       "version_major": 2,
       "version_minor": 0
      },
      "text/plain": [
       "  0%|          | 0/33 [00:00<?, ?it/s]"
      ]
     },
     "metadata": {},
     "output_type": "display_data"
    },
    {
     "data": {
      "application/vnd.jupyter.widget-view+json": {
       "model_id": "2c8d176d9dba43b986c762fdbe9180e9",
       "version_major": 2,
       "version_minor": 0
      },
      "text/plain": [
       "  0%|          | 0/33 [00:00<?, ?it/s]"
      ]
     },
     "metadata": {},
     "output_type": "display_data"
    },
    {
     "name": "stdout",
     "output_type": "stream",
     "text": [
      "[[0 0 0 ... 0 0 0]\n",
      " [0 0 0 ... 0 0 0]\n",
      " [0 0 0 ... 0 0 0]\n",
      " ...\n",
      " [0 0 0 ... 0 0 0]\n",
      " [0 0 0 ... 0 0 0]\n",
      " [0 0 0 ... 0 0 0]]\n",
      "\n",
      "Train set: Average loss: 22.0689, LCNN Loss: 8.1011, Accuracy: 231/2079 (11%)\n",
      "\n"
     ]
    },
    {
     "data": {
      "application/vnd.jupyter.widget-view+json": {
       "model_id": "0333847d46b149369c2d4ab1d151f80e",
       "version_major": 2,
       "version_minor": 0
      },
      "text/plain": [
       "  0%|          | 0/8 [00:00<?, ?it/s]"
      ]
     },
     "metadata": {},
     "output_type": "display_data"
    },
    {
     "name": "stdout",
     "output_type": "stream",
     "text": [
      "[[0 0 0 ... 0 0 0]\n",
      " [0 0 0 ... 0 0 0]\n",
      " [0 0 0 ... 0 0 0]\n",
      " ...\n",
      " [0 0 0 ... 0 0 0]\n",
      " [0 0 0 ... 0 0 0]\n",
      " [0 0 0 ... 0 0 0]]\n",
      "\n",
      "Test set: Average loss: 25.3703, LCNN Loss: 2.0177, Accuracy: 45/507 (9%)\n",
      "\n"
     ]
    },
    {
     "data": {
      "application/vnd.jupyter.widget-view+json": {
       "model_id": "0e12d1767a424663b0954d2d35e961ac",
       "version_major": 2,
       "version_minor": 0
      },
      "text/plain": [
       "  0%|          | 0/33 [00:00<?, ?it/s]"
      ]
     },
     "metadata": {},
     "output_type": "display_data"
    },
    {
     "data": {
      "application/vnd.jupyter.widget-view+json": {
       "model_id": "a0724dcfcc2b43e6a2c89388d558f3b9",
       "version_major": 2,
       "version_minor": 0
      },
      "text/plain": [
       "  0%|          | 0/33 [00:00<?, ?it/s]"
      ]
     },
     "metadata": {},
     "output_type": "display_data"
    },
    {
     "name": "stdout",
     "output_type": "stream",
     "text": [
      "[[0 0 0 ... 0 0 0]\n",
      " [0 0 0 ... 0 0 0]\n",
      " [0 0 0 ... 0 0 0]\n",
      " ...\n",
      " [0 0 0 ... 0 0 0]\n",
      " [0 0 0 ... 0 0 0]\n",
      " [0 0 0 ... 0 0 0]]\n",
      "\n",
      "Train set: Average loss: 10.5433, LCNN Loss: 3.1335, Accuracy: 215/2079 (10%)\n",
      "\n"
     ]
    },
    {
     "data": {
      "application/vnd.jupyter.widget-view+json": {
       "model_id": "2c702e8097ae43e4bdedd29d0c8d6e9a",
       "version_major": 2,
       "version_minor": 0
      },
      "text/plain": [
       "  0%|          | 0/8 [00:00<?, ?it/s]"
      ]
     },
     "metadata": {},
     "output_type": "display_data"
    },
    {
     "name": "stdout",
     "output_type": "stream",
     "text": [
      "[[0 0 0 ... 0 0 0]\n",
      " [0 0 0 ... 0 0 0]\n",
      " [0 0 0 ... 0 0 0]\n",
      " ...\n",
      " [0 0 0 ... 0 0 0]\n",
      " [0 0 0 ... 0 0 0]\n",
      " [0 0 0 ... 0 0 0]]\n",
      "\n",
      "Test set: Average loss: 12.7783, LCNN Loss: 0.7825, Accuracy: 37/507 (7%)\n",
      "\n"
     ]
    },
    {
     "data": {
      "application/vnd.jupyter.widget-view+json": {
       "model_id": "3745de52fe9344c0a473793b54cb92b4",
       "version_major": 2,
       "version_minor": 0
      },
      "text/plain": [
       "  0%|          | 0/33 [00:00<?, ?it/s]"
      ]
     },
     "metadata": {},
     "output_type": "display_data"
    },
    {
     "data": {
      "application/vnd.jupyter.widget-view+json": {
       "model_id": "02ad58a7173549f091d144a72a5f1eac",
       "version_major": 2,
       "version_minor": 0
      },
      "text/plain": [
       "  0%|          | 0/33 [00:00<?, ?it/s]"
      ]
     },
     "metadata": {},
     "output_type": "display_data"
    },
    {
     "name": "stdout",
     "output_type": "stream",
     "text": [
      "[[  2   0   0 ...   0   0   0]\n",
      " [  0 106   0 ...   0   0   0]\n",
      " [  0   0   1 ...   0   0   0]\n",
      " ...\n",
      " [  0   0   0 ...   0   0   0]\n",
      " [  0   0   0 ...   0   0   0]\n",
      " [  0   0   0 ...   0   0   0]]\n",
      "\n",
      "Train set: Average loss: 5.7931, LCNN Loss: 4.0720, Accuracy: 589/2079 (28%)\n",
      "\n"
     ]
    },
    {
     "data": {
      "application/vnd.jupyter.widget-view+json": {
       "model_id": "13dfb2cf364a49b9a88a6a72c1574994",
       "version_major": 2,
       "version_minor": 0
      },
      "text/plain": [
       "  0%|          | 0/8 [00:00<?, ?it/s]"
      ]
     },
     "metadata": {},
     "output_type": "display_data"
    },
    {
     "name": "stdout",
     "output_type": "stream",
     "text": [
      "[[ 0  0  0 ...  0  0  0]\n",
      " [ 0 21  0 ...  0  0  0]\n",
      " [ 0  0  0 ...  0  0  0]\n",
      " ...\n",
      " [ 0  0  0 ...  0  0  0]\n",
      " [ 0  0  0 ...  0  0  0]\n",
      " [ 0  0  0 ...  0  0  0]]\n",
      "\n",
      "Test set: Average loss: 9.6392, LCNN Loss: 0.9538, Accuracy: 55/507 (11%)\n",
      "\n",
      "[4.716516521356609, 3.4241886331577494, 3.460777359779435, 3.255759084608877, 2.9509902007308013, 4.749302051685475, 3.3246372621067444, 4.543650437685777, 3.4651910507547106, 2.721467216752251, 4.782814976342198, 3.238717619073454, 2.931570632002456, 3.8403635469980686, 3.8673062491955923, 2.6277246736688875, 3.6172579663943187, 2.0138354941363974, 2.058069997019582, 1.365577745460558, 1.262801142367335, 1.649371106329877, 1.494050492455949, 0.8728022949233429, 1.1947746662178425, 0.8810725943752067, 1.1072357704342415, 0.9338028023826669, 0.48069560063349737, 1.8026753123303112, 0.664003110723234, 0.4777237441231277, 0.274339556636691, 0.20592721991380744, 0.16567695823181358, 0.11350507011431923, 0.23935144529026137, 0.46346905209686734, 0.5137078825128142, 0.09338875582953265, 0.05081258799491908, 0.07294774410987256, 0.05402598064527195, 0.10990850405947643, 0.16846194090666594, 0.024844060527871237, 0.02276344047595011, 0.02565362944862142, 0.0347984140454834, 0.030885914101401103, 0.02425762361606306, 0.017072750863804158, 0.021543320883002745, 0.014011357160587044, 0.04602867379218354, 0.019241947775680668, 0.017523691151335927, 0.013127249800396286, 0.022370275366243232, 0.02510435444165331, 0.04470619655332065, 0.01353958432579224, 0.02239963893938546, 0.01746845500523107, 0.015658847052297552, 0.01693910128110415, 0.010004425490344013, 0.3182775218536098, 0.01637108282093362, 0.010670699154086387, 0.010846964617140194, 0.01319302802707439, 0.013802316453721788, 0.011254299992893452, 0.0635308015799511, 0.3792537259849119, 1.8952013578135098, 22.068891517011632, 10.543280105627518, 5.793064075229602] [tensor(0.5082), tensor(0.3267), tensor(0.3949), tensor(0.3932), tensor(0.3789), tensor(0.8501), tensor(0.4524), tensor(0.6565), tensor(0.5154), tensor(0.4539), tensor(0.8745), tensor(0.5703), tensor(0.6212), tensor(0.8004), tensor(0.6913), tensor(0.7532), tensor(1.1518), tensor(0.6676), tensor(0.7436), tensor(0.7594), tensor(0.8013), tensor(0.9856), tensor(0.8751), tensor(1.0815), tensor(1.0351), tensor(1.0603), tensor(1.6248), tensor(1.2636), tensor(1.2554), tensor(1.3595), tensor(1.3257), tensor(1.6144), tensor(1.8396), tensor(1.3064), tensor(1.4824), tensor(1.6840), tensor(1.3780), tensor(1.6833), tensor(1.7310), tensor(1.4109), tensor(1.4751), tensor(1.8184), tensor(1.4254), tensor(1.3248), tensor(1.2824), tensor(1.3734), tensor(1.3228), tensor(1.2254), tensor(1.1644), tensor(1.2812), tensor(1.0942), tensor(1.1300), tensor(1.1116), tensor(1.2777), tensor(1.2297), tensor(1.1656), tensor(1.0803), tensor(1.1010), tensor(1.1935), tensor(1.0629), tensor(1.1074), tensor(1.2175), tensor(0.9675), tensor(1.0092), tensor(0.9547), tensor(0.9467), tensor(1.0840), tensor(0.8376), tensor(1.1481), tensor(1.0925), tensor(0.9520), tensor(0.9810), tensor(0.8843), tensor(0.8793), tensor(1.3058), tensor(1.2316), tensor(1.8621), tensor(8.1011), tensor(3.1335), tensor(4.0720)] [4.088504088504089, 15.343915343915343, 18.75901875901876, 21.596921596921597, 28.86002886002886, 16.20971620971621, 22.27032227032227, 17.075517075517077, 20.442520442520443, 32.61183261183261, 17.316017316017316, 24.48292448292448, 29.822029822029823, 18.374218374218373, 20.2020202020202, 36.075036075036074, 29.437229437229437, 48.53294853294853, 46.03174603174603, 64.11736411736412, 67.77296777296777, 57.33525733525734, 60.99086099086099, 77.44107744107744, 69.55266955266956, 77.44107744107744, 70.41847041847042, 76.14237614237614, 90.0913900913901, 57.33525733525734, 85.23328523328523, 89.8989898989899, 95.04569504569504, 97.11399711399712, 98.36459836459836, 98.98989898989899, 97.06589706589706, 89.41798941798942, 87.06108706108706, 99.32659932659932, 99.71139971139971, 99.51899951899952, 99.75949975949976, 98.84559884559884, 96.72919672919673, 99.75949975949976, 99.75949975949976, 99.75949975949976, 99.71139971139971, 99.80759980759981, 99.80759980759981, 99.80759980759981, 99.80759980759981, 99.80759980759981, 99.75949975949976, 99.80759980759981, 99.80759980759981, 99.80759980759981, 99.80759980759981, 99.75949975949976, 99.71139971139971, 99.80759980759981, 99.80759980759981, 99.80759980759981, 99.80759980759981, 99.80759980759981, 99.80759980759981, 91.43819143819144, 99.80759980759981, 99.80759980759981, 99.80759980759981, 99.80759980759981, 99.80759980759981, 99.80759980759981, 99.47089947089947, 92.20779220779221, 57.72005772005772, 11.11111111111111, 10.341510341510341, 28.33092833092833] [4.6432970035710985, 3.397099692440597, 3.433298927322177, 3.2946868234367295, 2.9694178654597354, 4.771819165472448, 3.4341975706803964, 4.676591861882859, 3.688251924232618, 3.008189966927854, 5.020871856508876, 3.756110467854336, 3.343769050914155, 4.389903593345506, 4.508632712580513, 3.374189990041759, 4.718362059583796, 3.1309659156573595, 3.6412277673123152, 3.1123459193363225, 3.106552725948055, 3.936733719865246, 3.701764499882504, 3.576838295840653, 3.580079509426621, 3.8193929397613102, 4.830065665160411, 4.034528322238659, 3.8073731371636925, 5.1870655910032974, 4.18114457892243, 4.540240917920596, 4.4077905056744635, 3.4205401117749936, 3.368175077720507, 3.9612224511140903, 3.8519582654362363, 4.764062223114676, 4.574601212902182, 3.622221546060235, 3.50076209675866, 4.102941539395726, 3.686169505824704, 3.711779953695143, 3.6455561470468134, 3.4364040457520493, 3.303920948999168, 3.3317116280279215, 3.204858452610716, 3.483774219038924, 3.1692985820582162, 3.1275354268753084, 3.1762108736959904, 3.320074499006102, 3.7093029135077664, 3.358731331909902, 3.13078013162406, 3.1258381198378946, 3.592184875608666, 3.3817333093526565, 3.6581274028830744, 3.5255836020324827, 3.182102662336662, 3.245282566288754, 3.072310378095337, 3.1813649736212555, 3.293620483879977, 3.5957132975260415, 3.484051345132982, 3.279632297493297, 3.132599809936283, 3.212837926499707, 3.0535479363134863, 3.152132113304364, 4.252854597403923, 4.552794206307015, 6.423535348865878, 25.370250573995314, 12.778301652836847, 9.639249120708518] [tensor(0.1238), tensor(0.0777), tensor(0.0958), tensor(0.0940), tensor(0.0907), tensor(0.2034), tensor(0.1091), tensor(0.1582), tensor(0.1258), tensor(0.1083), tensor(0.2144), tensor(0.1387), tensor(0.1515), tensor(0.1975), tensor(0.1687), tensor(0.1842), tensor(0.2782), tensor(0.1599), tensor(0.1746), tensor(0.1672), tensor(0.1767), tensor(0.2162), tensor(0.1989), tensor(0.2167), tensor(0.2210), tensor(0.2171), tensor(0.3326), tensor(0.2460), tensor(0.2306), tensor(0.2847), tensor(0.2593), tensor(0.2937), tensor(0.3276), tensor(0.2238), tensor(0.2537), tensor(0.2746), tensor(0.2324), tensor(0.2986), tensor(0.3084), tensor(0.2268), tensor(0.2222), tensor(0.2872), tensor(0.2124), tensor(0.2039), tensor(0.1969), tensor(0.1798), tensor(0.1758), tensor(0.1607), tensor(0.1611), tensor(0.1721), tensor(0.1403), tensor(0.1407), tensor(0.1430), tensor(0.1544), tensor(0.1708), tensor(0.1474), tensor(0.1343), tensor(0.1309), tensor(0.1501), tensor(0.1357), tensor(0.1480), tensor(0.1462), tensor(0.1170), tensor(0.1235), tensor(0.1144), tensor(0.1121), tensor(0.1196), tensor(0.1396), tensor(0.1459), tensor(0.1295), tensor(0.1037), tensor(0.1129), tensor(0.1022), tensor(0.0959), tensor(0.1706), tensor(0.2124), tensor(0.4027), tensor(2.0177), tensor(0.7825), tensor(0.9538)] [4.1420118343195265, 14.990138067061144, 18.73767258382643, 20.71005917159763, 29.191321499013807, 14.201183431952662, 21.696252465483234, 14.003944773175542, 19.921104536489153, 28.007889546351084, 17.75147928994083, 21.696252465483234, 24.65483234714004, 13.609467455621301, 16.173570019723865, 25.641025641025642, 20.512820512820515, 28.599605522682445, 26.429980276134124, 35.30571992110453, 35.108481262327416, 24.45759368836292, 29.191321499013807, 29.191321499013807, 29.191321499013807, 27.810650887573964, 22.682445759368836, 27.810650887573964, 32.544378698224854, 24.65483234714004, 28.007889546351084, 21.301775147928993, 28.599605522682445, 32.74161735700197, 34.9112426035503, 29.191321499013807, 30.57199211045365, 24.65483234714004, 28.402366863905325, 32.938856015779095, 34.51676528599606, 32.34714003944773, 34.319526627218934, 33.72781065088758, 33.13609467455621, 36.094674556213015, 36.489151873767256, 33.92504930966469, 38.46153846153846, 34.51676528599606, 36.29191321499014, 36.883629191321496, 37.47534516765286, 35.8974358974359, 34.51676528599606, 35.50295857988166, 39.25049309664694, 37.8698224852071, 31.36094674556213, 36.489151873767256, 33.333333333333336, 35.700197238658774, 37.47534516765286, 36.883629191321496, 37.8698224852071, 37.67258382642998, 38.46153846153846, 29.191321499013807, 34.51676528599606, 37.67258382642998, 37.27810650887574, 39.25049309664694, 38.26429980276134, 39.447731755424066, 30.76923076923077, 24.85207100591716, 17.75147928994083, 8.875739644970414, 7.297830374753452, 10.848126232741617]\n"
     ]
    },
    {
     "name": "stdout",
     "output_type": "stream",
     "text": [
      "torch.Size([64, 3, 512, 512]) torch.Size([64, 3, 512, 512]) tensor(0.9999) tensor(0.9999)\n"
     ]
    },
    {
     "data": {
      "image/png": "[encoded data removed]",
      "text/plain": [
       "<Figure size 640x480 with 2 Axes>"
      ]
     },
     "metadata": {},
     "output_type": "display_data"
    }
   ],
   "source": [
    "def convert_image_np(inp):\n",
    "    \"\"\"Convert a Tensor to numpy image.\"\"\"\n",
    "    inp = inp.numpy().transpose((1, 2, 0))\n",
    "    # mean = np.array([0.485, 0.456, 0.406])\n",
    "    # std = np.array([0.229, 0.224, 0.225])\n",
    "    # inp = std * inp + mean\n",
    "    # inp = np.clip(inp, 0, 1)\n",
    "    return inp\n",
    "\n",
    "# We want to visualize the output of the spatial transformers layer\n",
    "# after the training, we visualize a batch of input images and\n",
    "# the corresponding transformed batch using STN.\n",
    "\n",
    "\n",
    "def visualize_stn():\n",
    "    with torch.no_grad():\n",
    "        # Get a batch of training data\n",
    "        data = next(iter(test_loader))[0].to(device)\n",
    "\n",
    "        input_tensor = data.cpu()\n",
    "        transformed_input_tensor = model.stn(data).cpu()\n",
    "        print(input_tensor.shape, transformed_input_tensor.shape, max(input_tensor.flatten()), max(transformed_input_tensor.flatten()))\n",
    "        in_grid = convert_image_np(\n",
    "            torchvision.utils.make_grid(input_tensor))\n",
    "\n",
    "        out_grid = convert_image_np(\n",
    "            torchvision.utils.make_grid(transformed_input_tensor))\n",
    "\n",
    "        # Plot the results side-by-side\n",
    "        f, axarr = plt.subplots(1, 2)\n",
    "        axarr[0].imshow(in_grid)\n",
    "        axarr[0].set_title('Dataset Images')\n",
    "\n",
    "        axarr[1].imshow(out_grid)\n",
    "        axarr[1].set_title('Transformed Images')\n",
    "train_loss, train_lcnn, train_acc = [],[],[]\n",
    "test_loss, test_lcnn, test_acc = [],[],[]\n",
    "for epoch in range(1, 80 + 1):\n",
    "    train(epoch)\n",
    "    a,b,c = train_conf()\n",
    "    train_loss.append(a)\n",
    "    train_lcnn.append(b)\n",
    "    train_acc.append(c)\n",
    "    a,b,c = test()\n",
    "    test_loss.append(a)\n",
    "    test_lcnn.append(b)\n",
    "    test_acc.append(c)\n",
    "    if epoch == 30 or epoch == 45 or epoch == 60:\n",
    "        path = f'/home/siddhant/data/MedicalSTN/models/lavstnresnetfulllcnn/{epoch}'\n",
    "        if not os.path.exists(path):\n",
    "            os.makedirs(path)\n",
    "        torch.save(model.state_dict(), f'{path}/statedict.pt')\n",
    "        torch.save(model, f'{path}/model.pt')\n",
    "        torch.save(optimizer, f'{path}/optimizer.pt')\n",
    "        state = {\n",
    "            'epoch': epoch,\n",
    "            'state_dict': model.state_dict(),\n",
    "            'optimizer': optimizer.state_dict(),\n",
    "        }\n",
    "        torch.save(state, f'{path}/statedict_full.pt')\n",
    "print(train_loss, train_lcnn, train_acc, test_loss, test_lcnn, test_acc)\n",
    "# Visualize the STN transformation on some input batch\n",
    "visualize_stn()\n",
    "\n",
    "plt.ioff()\n",
    "plt.show()"
   ]
  },
  {
   "cell_type": "code",
   "execution_count": 12,
   "id": "a89b0dcd",
   "metadata": {},
   "outputs": [
    {
     "name": "stdout",
     "output_type": "stream",
     "text": [
      "36.489151873767256\n"
     ]
    }
   ],
   "source": [
    "print((test_acc)[46])"
   ]
  },
  {
   "cell_type": "code",
   "execution_count": 13,
   "id": "91542e92",
   "metadata": {},
   "outputs": [
    {
     "data": {
      "application/vnd.jupyter.widget-view+json": {
       "model_id": "0fc44052f06941799845989b86052696",
       "version_major": 2,
       "version_minor": 0
      },
      "text/plain": [
       "  0%|          | 0/8 [00:00<?, ?it/s]"
      ]
     },
     "metadata": {},
     "output_type": "display_data"
    },
    {
     "name": "stdout",
     "output_type": "stream",
     "text": [
      "\n",
      "Test set: Average loss: 9.6392, LCNN Loss: 0.0046, Accuracy: 55/507 (11%)\n",
      "\n",
      "0 4\n",
      "21 59\n",
      "0 1\n",
      "0 3\n",
      "6 17\n",
      "1 12\n",
      "0 4\n",
      "0 3\n",
      "0 20\n",
      "1 4\n",
      "0 1\n",
      "0 1\n",
      "0 3\n",
      "0 1\n",
      "0 1\n",
      "0 4\n",
      "0 2\n",
      "0 2\n",
      "0 3\n",
      "0 1\n",
      "0 1\n",
      "0 1\n",
      "0 4\n",
      "0 12\n",
      "0 1\n",
      "0 2\n",
      "0 5\n",
      "0 11\n",
      "0 18\n",
      "0 1\n",
      "0 21\n",
      "0 4\n",
      "0 1\n",
      "0 1\n",
      "0 1\n",
      "0 1\n",
      "0 7\n",
      "0 5\n",
      "0 7\n",
      "0 1\n",
      "0 3\n",
      "0 2\n",
      "0 18\n",
      "0 1\n",
      "0 4\n",
      "0 1\n",
      "0 2\n",
      "6 44\n",
      "1 35\n",
      "0 4\n",
      "0 1\n",
      "0 1\n",
      "0 1\n",
      "0 1\n",
      "0 2\n",
      "1 55\n",
      "0 1\n",
      "0 8\n",
      "0 1\n",
      "18 46\n",
      "0 1\n",
      "0 2\n",
      "0 1\n",
      "0 1\n",
      "0 1\n",
      "0 1\n",
      "0 1\n",
      "0 4\n",
      "0 1\n",
      "0 1\n",
      "0 1\n",
      "0 1\n",
      "0 4\n",
      "0 1\n",
      "0 1\n",
      "0 1\n",
      "0 2\n"
     ]
    },
    {
     "data": {
      "application/vnd.jupyter.widget-view+json": {
       "model_id": "7599b7973b1a490b9fa3210e697219db",
       "version_major": 2,
       "version_minor": 0
      },
      "text/plain": [
       "  0%|          | 0/33 [00:00<?, ?it/s]"
      ]
     },
     "metadata": {},
     "output_type": "display_data"
    },
    {
     "name": "stdout",
     "output_type": "stream",
     "text": [
      "\n",
      "Train set: Average loss: 5.7931, LCNN Loss: 0.0196, Accuracy: 589/2079 (28%)\n",
      "\n",
      "2 16\n",
      "106 238\n",
      "1 4\n",
      "0 11\n",
      "58 67\n",
      "13 47\n",
      "0 1\n",
      "0 14\n",
      "6 10\n",
      "6 81\n",
      "13 16\n",
      "0 1\n",
      "0 6\n",
      "0 4\n",
      "0 11\n",
      "0 2\n",
      "0 1\n",
      "0 1\n",
      "0 2\n",
      "0 2\n",
      "0 1\n",
      "0 1\n",
      "0 1\n",
      "0 1\n",
      "0 3\n",
      "2 17\n",
      "0 1\n",
      "0 1\n",
      "0 2\n",
      "1 1\n",
      "0 6\n",
      "6 6\n",
      "0 11\n",
      "0 1\n",
      "0 4\n",
      "0 2\n",
      "0 3\n",
      "0 1\n",
      "1 18\n",
      "3 49\n",
      "0 1\n",
      "4 5\n",
      "0 8\n",
      "5 21\n",
      "2 44\n",
      "1 70\n",
      "0 2\n",
      "0 1\n",
      "0 2\n",
      "0 1\n",
      "0 1\n",
      "0 1\n",
      "0 1\n",
      "6 82\n",
      "0 18\n",
      "0 4\n",
      "0 3\n",
      "0 6\n",
      "0 1\n",
      "0 1\n",
      "0 2\n",
      "0 1\n",
      "0 26\n",
      "0 21\n",
      "2 30\n",
      "0 1\n",
      "0 1\n",
      "0 1\n",
      "1 2\n",
      "3 12\n",
      "0 1\n",
      "0 1\n",
      "0 2\n",
      "0 7\n",
      "0 2\n",
      "1 72\n",
      "0 4\n",
      "0 1\n",
      "8 17\n",
      "0 5\n",
      "0 2\n",
      "0 2\n",
      "0 2\n",
      "3 10\n",
      "0 1\n",
      "92 175\n",
      "0 1\n",
      "40 142\n",
      "0 1\n",
      "3 14\n",
      "0 1\n",
      "0 2\n",
      "0 3\n",
      "0 2\n",
      "1 2\n",
      "0 1\n",
      "0 7\n",
      "29 221\n",
      "1 4\n",
      "2 30\n",
      "0 1\n",
      "0 1\n",
      "0 1\n",
      "1 5\n",
      "152 183\n",
      "0 2\n",
      "0 5\n",
      "0 6\n",
      "0 2\n",
      "0 1\n",
      "0 1\n",
      "0 2\n",
      "0 2\n",
      "0 6\n",
      "0 1\n",
      "0 2\n",
      "0 2\n",
      "0 1\n",
      "0 1\n",
      "0 2\n",
      "0 4\n",
      "0 1\n",
      "0 1\n",
      "7 14\n",
      "0 1\n",
      "0 3\n",
      "1 2\n",
      "0 3\n",
      "3 3\n",
      "0 2\n",
      "0 6\n",
      "1 15\n",
      "0 2\n",
      "0 1\n",
      "0 1\n",
      "0 4\n",
      "0 1\n",
      "0 2\n",
      "1 1\n",
      "0 1\n",
      "0 1\n",
      "0 2\n",
      "1 1\n",
      "0 2\n",
      "0 2\n",
      "0 6\n"
     ]
    }
   ],
   "source": [
    "with torch.no_grad():\n",
    "    model.eval()\n",
    "    test_loss = 0\n",
    "    lcnn_loss = 0\n",
    "    correct = 0\n",
    "    preds = []\n",
    "    targets = []\n",
    "    for data, target in tqdm(test_loader):\n",
    "        data, target = data.to(device), target.to(device)\n",
    "        output, layer = model(data)\n",
    "\n",
    "        # sum up batch loss\n",
    "        test_loss += F.nll_loss(output, target, size_average=False).item()\n",
    "        lcnn_loss += 0.05*torch.mean(torch.square(layer))\n",
    "        # get the index of the max log-probability\n",
    "        pred = output.max(1, keepdim=True)[1]\n",
    "        # print(pred)\n",
    "        correct += pred.eq(target.view_as(pred)).sum().item()\n",
    "        preds.extend(np.array(pred.cpu()))\n",
    "        targets.extend(np.array(target.cpu()))\n",
    "    from sklearn.metrics import confusion_matrix\n",
    "    conf_mat=confusion_matrix(targets, preds)\n",
    "    a = conf_mat\n",
    "    #TODO make confusion matrix\n",
    "    test_loss /= len(test_loader.dataset)\n",
    "    lcnn_loss /= len(train_loader.dataset)\n",
    "    print('\\nTest set: Average loss: {:.4f}, LCNN Loss: {:.4f}, Accuracy: {}/{} ({:.0f}%)\\n'\n",
    "          .format(test_loss, lcnn_loss, correct, len(test_loader.dataset),\n",
    "                  100. * correct / len(test_loader.dataset)))\n",
    "for i in range(len(a[0])):\n",
    "    print(a[i][i], np.sum(a[i]))\n",
    "with torch.no_grad():\n",
    "    model.eval()\n",
    "    train_loss = 0\n",
    "    lcnn_loss = 0\n",
    "    correct = 0\n",
    "    preds = []\n",
    "    targets = []\n",
    "    for data, target in tqdm(train_loader):\n",
    "        data, target = data.to(device), target.to(device)\n",
    "        output, layer = model(data)\n",
    "        # sum up batch loss\n",
    "        train_loss += F.nll_loss(output, target, size_average=False).item()\n",
    "        lcnn_loss += 0.05*torch.mean(torch.square(layer))\n",
    "        # get the index of the max log-probability\n",
    "        pred = output.max(1, keepdim=True)[1]\n",
    "        # print(pred)\n",
    "        correct += pred.eq(target.view_as(pred)).sum().item()\n",
    "        preds.extend(np.array(pred.cpu()))\n",
    "        targets.extend(np.array(target.cpu()))\n",
    "    from sklearn.metrics import confusion_matrix\n",
    "    conf_mat=confusion_matrix(targets, preds)\n",
    "    a = conf_mat\n",
    "    train_loss /= len(train_loader.dataset)\n",
    "    lcnn_loss /= len(train_loader.dataset)\n",
    "#     print(train_loss)\n",
    "#     print(lcnn_loss)\n",
    "    print('\\nTrain set: Average loss: {:.4f}, LCNN Loss: {:.4f}, Accuracy: {}/{} ({:.0f}%)\\n'\n",
    "          .format(train_loss, lcnn_loss, correct, len(train_loader.dataset),\n",
    "                  100. * correct / len(train_loader.dataset)))\n",
    "for i in range(len(a[0])):\n",
    "    print(a[i][i], np.sum(a[i]))"
   ]
  },
  {
   "cell_type": "code",
   "execution_count": 14,
   "id": "e05fbcf8",
   "metadata": {},
   "outputs": [
    {
     "name": "stdout",
     "output_type": "stream",
     "text": [
      "torch.Size([64, 3, 512, 512]) torch.Size([64, 3, 512, 512]) tensor(0.9999) tensor(0.9999)\n"
     ]
    }
   ],
   "source": [
    "def convert_image_np(inp):\n",
    "    \"\"\"Convert a Tensor to numpy image.\"\"\"\n",
    "    inp = inp.numpy().transpose((1, 2, 0))\n",
    "    # mean = np.array([0.485, 0.456, 0.406])\n",
    "    # std = np.array([0.229, 0.224, 0.225])\n",
    "    # inp = std * inp + mean\n",
    "    # inp = np.clip(inp, 0, 1)\n",
    "    return inp\n",
    "\n",
    "# We want to visualize the output of the spatial transformers layer\n",
    "# after the training, we visualize a batch of input images and\n",
    "# the corresponding transformed batch using STN.\n",
    "\n",
    "\n",
    "def visualize_stn():\n",
    "    with torch.no_grad():\n",
    "        # Get a batch of training data\n",
    "        data = next(iter(test_loader))[0].to(device)\n",
    "\n",
    "        input_tensor = data.cpu()\n",
    "        transformed_input_tensor = model.stn(data).cpu()\n",
    "        print(input_tensor.shape, transformed_input_tensor.shape, max(input_tensor.flatten()), max(transformed_input_tensor.flatten()))\n",
    "        in_grid = convert_image_np(\n",
    "            torchvision.utils.make_grid(input_tensor))\n",
    "\n",
    "        out_grid = convert_image_np(\n",
    "            torchvision.utils.make_grid(transformed_input_tensor))\n",
    "\n",
    "        # Plot the results side-by-side\n",
    "        f, axarr = plt.subplots(1, 2)\n",
    "        axarr[0].imshow(in_grid)\n",
    "        axarr[0].set_title('Dataset Images')\n",
    "\n",
    "        axarr[1].imshow(out_grid)\n",
    "        axarr[1].set_title('Transformed Images')\n",
    "\n",
    "visualize_stn()"
   ]
  },
  {
   "cell_type": "code",
   "execution_count": null,
   "id": "f8b16124",
   "metadata": {},
   "outputs": [],
   "source": []
  },
  {
   "cell_type": "code",
   "execution_count": 15,
   "id": "e006c66e",
   "metadata": {},
   "outputs": [],
   "source": [
    "path = '/home/siddhant/data/MedicalSTN/models/lavstnresnetfulllcnn/'\n",
    "if not os.path.exists(path):\n",
    "    os.makedirs(path)\n",
    "torch.save(model.state_dict(), f'{path}/statedict.pt')\n",
    "torch.save(model, f'{path}/model.pt')\n",
    "torch.save(optimizer, f'{path}/optimizer.pt')\n",
    "state = {\n",
    "    'epoch': epoch,\n",
    "    'state_dict': model.state_dict(),\n",
    "    'optimizer': optimizer.state_dict(),\n",
    "}\n",
    "torch.save(state, f'{path}/statedict_full.pt')"
   ]
  },
  {
   "cell_type": "code",
   "execution_count": null,
   "id": "67ecf2fa",
   "metadata": {},
   "outputs": [],
   "source": []
  }
 ],
 "metadata": {
  "kernelspec": {
   "display_name": "Python 3 (ipykernel)",
   "language": "python",
   "name": "python3"
  },
  "language_info": {
   "codemirror_mode": {
    "name": "ipython",
    "version": 3
   },
   "file_extension": ".py",
   "mimetype": "text/x-python",
   "name": "python",
   "nbconvert_exporter": "python",
   "pygments_lexer": "ipython3",
   "version": "3.7.4"
  }
 },
 "nbformat": 4,
 "nbformat_minor": 5
}
