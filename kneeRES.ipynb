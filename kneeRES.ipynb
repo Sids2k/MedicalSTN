{
 "cells": [
  {
   "cell_type": "code",
   "execution_count": 166,
   "id": "8e3e40d3",
   "metadata": {},
   "outputs": [
    {
     "data": {
      "text/plain": [
       "<matplotlib.pyplot._IonContext at 0x7f919b5dff10>"
      ]
     },
     "execution_count": 166,
     "metadata": {},
     "output_type": "execute_result"
    }
   ],
   "source": [
    "from __future__ import print_function\n",
    "%matplotlib inline\n",
    "import warnings\n",
    "warnings.filterwarnings('ignore')\n",
    "import os\n",
    "os.environ[\"CUDA_VISIBLE_DEVICES\"] = \"4,5\"\n",
    "import torch\n",
    "import torch.nn as nn\n",
    "import torch.nn.functional as F\n",
    "import torch.optim as optim\n",
    "import torchvision\n",
    "from torchvision import datasets, transforms\n",
    "import matplotlib.pyplot as plt\n",
    "import numpy as np\n",
    "from PIL import Image\n",
    "from tqdm.notebook import tqdm\n",
    "from six.moves import urllib\n",
    "\n",
    "torch.manual_seed(0)\n",
    "plt.ion()  "
   ]
  },
  {
   "cell_type": "code",
   "execution_count": 167,
   "id": "5aa16ffa",
   "metadata": {},
   "outputs": [],
   "source": [
    "opener = urllib.request.build_opener()\n",
    "opener.addheaders = [('User-agent', 'Mozilla/5.0')]\n",
    "urllib.request.install_opener(opener)\n",
    "\n",
    "device = torch.device(\"cuda\" if torch.cuda.is_available() else \"cpu\")\n",
    "device = torch.device(\"cpu\")\n",
    "\n",
    "full_dataset = torchvision.datasets.ImageFolder(root = '/data/siddhant/MedicalSTN/DrVineetData/Knee_AP', \n",
    "                                     transform=transforms.Compose([\n",
    "                       transforms.ToTensor(),\n",
    "                       transforms.Resize((512,512)),\n",
    "#                         transforms.Normalize(mean=[0.485, 0.456, 0.406], std=[0.229, 0.224, 0.225])\n",
    "                   ]))\n",
    "train_size = int(0.8 * len(full_dataset))\n",
    "test_size = len(full_dataset) - train_size\n",
    "train_dataset, test_dataset = torch.utils.data.random_split(full_dataset, [train_size, test_size])\n",
    "\n",
    "# Training dataset\n",
    "train_loader = torch.utils.data.DataLoader(\n",
    "    train_dataset, \n",
    "    batch_size=64, shuffle=True, num_workers=2)\n",
    "# Test dataset\n",
    "#TODO find a better test/train split\n",
    "test_loader = torch.utils.data.DataLoader(\n",
    "    test_dataset, \n",
    "    batch_size=64, shuffle=True, num_workers=2)"
   ]
  },
  {
   "cell_type": "code",
   "execution_count": 193,
   "id": "dd10ec96",
   "metadata": {},
   "outputs": [],
   "source": [
    "class STNresnet(nn.Module):\n",
    "    def __init__(self):\n",
    "        super(STNresnet, self).__init__()\n",
    "        # Spatial transformer localization-network\n",
    "        self.finalfc = nn.Linear(1000, 10)\n",
    "        self.localization = nn.Sequential(\n",
    "            nn.Conv2d(3, 8, kernel_size=7),\n",
    "            nn.MaxPool2d(2, stride=2),\n",
    "            nn.ReLU(True),\n",
    "            nn.Conv2d(8, 10, kernel_size=5),\n",
    "            nn.MaxPool2d(2, stride=2),\n",
    "            nn.ReLU(True)\n",
    "        )\n",
    "\n",
    "        # Regressor for the 3 * 2 affine matrix\n",
    "        self.fc_loc = nn.Sequential(\n",
    "            nn.Linear(10 * 124 * 124, 32),\n",
    "            nn.ReLU(True),\n",
    "            nn.Linear(32, 3 * 2)\n",
    "        )\n",
    "\n",
    "        # Initialize the weights/bias with identity transformation\n",
    "        self.fc_loc[2].weight.data.zero_()\n",
    "        self.fc_loc[2].bias.data.copy_(torch.tensor([1, 0, 0, 0, 1, 0], dtype=torch.float))\n",
    "        self.resnetportion = torchvision.models.resnet18(pretrained = False)\n",
    "    \n",
    "    def stn(self, x):\n",
    "        xs = self.localization(x)\n",
    "        xs = xs.view(x.shape[0], -1) \n",
    "        theta = self.fc_loc(xs)\n",
    "        theta = theta.view(-1, 2, 3)\n",
    "\n",
    "        grid = F.affine_grid(theta, x.size())\n",
    "        x = F.grid_sample(x, grid)\n",
    "\n",
    "        return x\n",
    "    \n",
    "    def forward(self, x):\n",
    "        xs = self.localization(x)\n",
    "        xs = xs.view(x.shape[0], -1) \n",
    "        theta = self.fc_loc(xs)\n",
    "        theta = theta.view(-1, 2, 3)\n",
    "\n",
    "        grid = F.affine_grid(theta, x.size())\n",
    "        x = F.grid_sample(x, grid)\n",
    "        x = self.resnetportion(x)\n",
    "        x = self.finalfc(x)\n",
    "        return F.log_softmax(x, dim=1)\n"
   ]
  },
  {
   "cell_type": "code",
   "execution_count": 194,
   "id": "de600674",
   "metadata": {},
   "outputs": [],
   "source": [
    "class STNnet(nn.Module):\n",
    "    def __init__(self):\n",
    "        super(STNnet, self).__init__()\n",
    "        self.conv1 = nn.Conv2d(3, 10, kernel_size=5)\n",
    "        self.conv2 = nn.Conv2d(10, 20, kernel_size=5)\n",
    "        self.conv2_drop = nn.Dropout2d()\n",
    "        self.fc1 = nn.Linear(20 * 125 * 125, 50)\n",
    "        self.fc2 = nn.Linear(50, 10)\n",
    "\n",
    "        # Spatial transformer localization-network\n",
    "        self.localization = nn.Sequential(\n",
    "            nn.Conv2d(3, 8, kernel_size=7),\n",
    "            nn.MaxPool2d(2, stride=2),\n",
    "            nn.ReLU(True),\n",
    "            nn.Conv2d(8, 10, kernel_size=5),\n",
    "            nn.MaxPool2d(2, stride=2),\n",
    "            nn.ReLU(True)\n",
    "        )\n",
    "\n",
    "        # Regressor for the 3 * 2 affine matrix\n",
    "        self.fc_loc = nn.Sequential(\n",
    "            nn.Linear(10 * 124 * 124, 32),\n",
    "            nn.ReLU(True),\n",
    "            nn.Linear(32, 3 * 2)\n",
    "        )\n",
    "\n",
    "        # Initialize the weights/bias with identity transformation\n",
    "        self.fc_loc[2].weight.data.zero_()\n",
    "        self.fc_loc[2].bias.data.copy_(torch.tensor([1, 0, 0, 0, 1, 0], dtype=torch.float))\n",
    "\n",
    "    # Spatial transformer network forward function\n",
    "    def stn(self, x):\n",
    "        xs = self.localization(x)\n",
    "        xs = xs.view(x.shape[0], -1) \n",
    "        theta = self.fc_loc(xs)\n",
    "        theta = theta.view(-1, 2, 3)\n",
    "\n",
    "        grid = F.affine_grid(theta, x.size())\n",
    "        x = F.grid_sample(x, grid)\n",
    "\n",
    "        return x\n",
    "\n",
    "    def forward(self, x):\n",
    "        x = self.stn(x)\n",
    "        x = F.relu(F.max_pool2d(self.conv1(x), 2))\n",
    "        x = F.relu(F.max_pool2d(self.conv2_drop(self.conv2(x)), 2))\n",
    "        x = x.view(x.shape[0], -1)\n",
    "        x = F.relu(self.fc1(x))\n",
    "        x = F.dropout(x, training=self.training)\n",
    "        x = self.fc2(x)\n",
    "        return F.log_softmax(x, dim=1)"
   ]
  },
  {
   "cell_type": "code",
   "execution_count": 195,
   "id": "ecbfba92",
   "metadata": {},
   "outputs": [],
   "source": [
    "# model = STNnet().to(device)\n",
    "model = STNresnet().to(device)\n",
    "optimizer = optim.SGD(model.parameters(), lr=0.01)"
   ]
  },
  {
   "cell_type": "code",
   "execution_count": 196,
   "id": "fd5dcf6e",
   "metadata": {},
   "outputs": [],
   "source": [
    "def train(epoch):\n",
    "    model.train()\n",
    "    for data, target in tqdm(train_loader): \n",
    "        data, target = data.to(device), target.to(device)\n",
    "\n",
    "        optimizer.zero_grad()\n",
    "        output = model(data)\n",
    "        loss = F.nll_loss(output, target)\n",
    "        loss.backward()\n",
    "        optimizer.step()\n",
    "#         if batch_idx % 5 == 0:\n",
    "#             print('Train Epoch: {} [{}/{} ({:.0f}%)]\\tLoss: {:.6f}'.format(\n",
    "#                 epoch, batch_idx * len(data), len(train_loader.dataset),\n",
    "#                 100. * batch_idx / len(train_loader), loss.item()))\n",
    "\n",
    "\n",
    "def test():\n",
    "    with torch.no_grad():\n",
    "        model.eval()\n",
    "        test_loss = 0\n",
    "        correct = 0\n",
    "        preds = []\n",
    "        targets = []\n",
    "        for data, target in tqdm(test_loader):\n",
    "            data, target = data.to(device), target.to(device)\n",
    "            output = model(data)\n",
    "\n",
    "            # sum up batch loss\n",
    "            test_loss += F.nll_loss(output, target, size_average=False).item()\n",
    "            # get the index of the max log-probability\n",
    "#             print(output)\n",
    "            pred = output.max(1, keepdim=True)[1]\n",
    "            # print(pred)\n",
    "            correct += pred.eq(target.view_as(pred)).sum().item()\n",
    "            preds.extend(np.array(pred.cpu()))\n",
    "            targets.extend(np.array(target.cpu()))\n",
    "        from sklearn.metrics import confusion_matrix\n",
    "        conf_mat=confusion_matrix(targets, preds)\n",
    "        print(conf_mat)\n",
    "        #TODO make confusion matrix\n",
    "        test_loss /= len(test_loader.dataset)\n",
    "        print('\\nTest set: Average loss: {:.4f}, Accuracy: {}/{} ({:.0f}%)\\n'\n",
    "              .format(test_loss, correct, len(test_loader.dataset),\n",
    "                      100. * correct / len(test_loader.dataset)))\n",
    "\n",
    "def train_conf():\n",
    "    with torch.no_grad():\n",
    "        model.eval()\n",
    "        train_loss = 0\n",
    "        correct = 0\n",
    "        preds = []\n",
    "        targets = []\n",
    "        for data, target in tqdm(train_loader):\n",
    "            data, target = data.to(device), target.to(device)\n",
    "            output = model(data)\n",
    "            # sum up batch loss\n",
    "            train_loss += F.nll_loss(output, target, size_average=False).item()\n",
    "            # get the index of the max log-probability\n",
    "            pred = output.max(1, keepdim=True)[1]\n",
    "            # print(pred)\n",
    "            correct += pred.eq(target.view_as(pred)).sum().item()\n",
    "            preds.extend(np.array(pred.cpu()))\n",
    "            targets.extend(np.array(target.cpu()))\n",
    "        from sklearn.metrics import confusion_matrix\n",
    "        conf_mat=confusion_matrix(targets, preds)\n",
    "        print(conf_mat)\n",
    "        train_loss /= len(train_loader.dataset)\n",
    "        print('\\nTrain set: Average loss: {:.4f}, Accuracy: {}/{} ({:.0f}%)\\n'\n",
    "              .format(train_loss, correct, len(train_loader.dataset),\n",
    "                      100. * correct / len(train_loader.dataset)))"
   ]
  },
  {
   "cell_type": "code",
   "execution_count": null,
   "id": "2e109d15",
   "metadata": {},
   "outputs": [
    {
     "data": {
      "application/vnd.jupyter.widget-view+json": {
       "model_id": "aa5303a6444149ea957ddbcc65d8dbb5",
       "version_major": 2,
       "version_minor": 0
      },
      "text/plain": [
       "  0%|          | 0/8 [00:00<?, ?it/s]"
      ]
     },
     "metadata": {},
     "output_type": "display_data"
    },
    {
     "data": {
      "application/vnd.jupyter.widget-view+json": {
       "model_id": "a8781ad4322849c68c114e70760efcbf",
       "version_major": 2,
       "version_minor": 0
      },
      "text/plain": [
       "  0%|          | 0/8 [00:00<?, ?it/s]"
      ]
     },
     "metadata": {},
     "output_type": "display_data"
    },
    {
     "name": "stdout",
     "output_type": "stream",
     "text": [
      "[[  0   0   0  48  29]\n",
      " [  0   0   0  63  17]\n",
      " [  0   0   0  82   5]\n",
      " [  0   0   0 136   0]\n",
      " [  0   0   0  90  42]]\n",
      "\n",
      "Test set: Average loss: 1.9266, Accuracy: 178/512 (35%)\n",
      "\n"
     ]
    },
    {
     "data": {
      "application/vnd.jupyter.widget-view+json": {
       "model_id": "b794e46664784194a57f25823850338c",
       "version_major": 2,
       "version_minor": 0
      },
      "text/plain": [
       "  0%|          | 0/2 [00:00<?, ?it/s]"
      ]
     },
     "metadata": {},
     "output_type": "display_data"
    },
    {
     "name": "stdout",
     "output_type": "stream",
     "text": [
      "[[ 0  0  0 19  7]\n",
      " [ 0  0  0 17  3]\n",
      " [ 0  0  0 14  0]\n",
      " [ 0  0  0 31  0]\n",
      " [ 0  0  0 22 15]]\n",
      "\n",
      "Test set: Average loss: 1.9247, Accuracy: 46/128 (36%)\n",
      "\n"
     ]
    },
    {
     "data": {
      "application/vnd.jupyter.widget-view+json": {
       "model_id": "378512b5a8374bde9b97fbfc019ae503",
       "version_major": 2,
       "version_minor": 0
      },
      "text/plain": [
       "  0%|          | 0/8 [00:00<?, ?it/s]"
      ]
     },
     "metadata": {},
     "output_type": "display_data"
    },
    {
     "data": {
      "application/vnd.jupyter.widget-view+json": {
       "model_id": "fa5e3d210b014e4388e79725e7f92960",
       "version_major": 2,
       "version_minor": 0
      },
      "text/plain": [
       "  0%|          | 0/8 [00:00<?, ?it/s]"
      ]
     },
     "metadata": {},
     "output_type": "display_data"
    },
    {
     "name": "stdout",
     "output_type": "stream",
     "text": [
      "[[  1   0   1   2  73]\n",
      " [  0   0   0   0  80]\n",
      " [  0   0   2   1  84]\n",
      " [  0   0   0 136   0]\n",
      " [  0   0   0  54  78]]\n",
      "\n",
      "Test set: Average loss: 1.6652, Accuracy: 217/512 (42%)\n",
      "\n"
     ]
    },
    {
     "data": {
      "application/vnd.jupyter.widget-view+json": {
       "model_id": "fb7554ffd8b541789594e70f7e7bfa8b",
       "version_major": 2,
       "version_minor": 0
      },
      "text/plain": [
       "  0%|          | 0/2 [00:00<?, ?it/s]"
      ]
     },
     "metadata": {},
     "output_type": "display_data"
    },
    {
     "name": "stdout",
     "output_type": "stream",
     "text": [
      "[[ 0  0  0  1 25]\n",
      " [ 0  0  0  0 20]\n",
      " [ 0  0  0  0 14]\n",
      " [ 0  0  0 31  0]\n",
      " [ 0  0  0 17 20]]\n",
      "\n",
      "Test set: Average loss: 1.6763, Accuracy: 51/128 (40%)\n",
      "\n"
     ]
    },
    {
     "data": {
      "application/vnd.jupyter.widget-view+json": {
       "model_id": "9aac8bd8afdb480fa4cb112ff14e873c",
       "version_major": 2,
       "version_minor": 0
      },
      "text/plain": [
       "  0%|          | 0/8 [00:00<?, ?it/s]"
      ]
     },
     "metadata": {},
     "output_type": "display_data"
    },
    {
     "data": {
      "application/vnd.jupyter.widget-view+json": {
       "model_id": "842c6c4fde7f432cb0e0085facf8aa32",
       "version_major": 2,
       "version_minor": 0
      },
      "text/plain": [
       "  0%|          | 0/8 [00:00<?, ?it/s]"
      ]
     },
     "metadata": {},
     "output_type": "display_data"
    },
    {
     "name": "stdout",
     "output_type": "stream",
     "text": [
      "[[  0   0   0   2  75]\n",
      " [  0   0   0   0  80]\n",
      " [  0   0   0   0  87]\n",
      " [  0   0   0 136   0]\n",
      " [  1   0   0  52  79]]\n",
      "\n",
      "Test set: Average loss: 1.4501, Accuracy: 215/512 (42%)\n",
      "\n"
     ]
    },
    {
     "data": {
      "application/vnd.jupyter.widget-view+json": {
       "model_id": "0391cbe9b70c4a3995e7d7fd36336714",
       "version_major": 2,
       "version_minor": 0
      },
      "text/plain": [
       "  0%|          | 0/2 [00:00<?, ?it/s]"
      ]
     },
     "metadata": {},
     "output_type": "display_data"
    },
    {
     "name": "stdout",
     "output_type": "stream",
     "text": [
      "[[ 0  0  0  0 26]\n",
      " [ 0  0  0  0 20]\n",
      " [ 0  0  0  0 14]\n",
      " [ 0  0  0 31  0]\n",
      " [ 1  0  0 17 19]]\n",
      "\n",
      "Test set: Average loss: 1.4638, Accuracy: 50/128 (39%)\n",
      "\n"
     ]
    },
    {
     "data": {
      "application/vnd.jupyter.widget-view+json": {
       "model_id": "7a19a0d7cee94e2bb503f5f2b99ca6c6",
       "version_major": 2,
       "version_minor": 0
      },
      "text/plain": [
       "  0%|          | 0/8 [00:00<?, ?it/s]"
      ]
     },
     "metadata": {},
     "output_type": "display_data"
    },
    {
     "data": {
      "application/vnd.jupyter.widget-view+json": {
       "model_id": "46c6c88a77dc42879a112e29e7f1499d",
       "version_major": 2,
       "version_minor": 0
      },
      "text/plain": [
       "  0%|          | 0/8 [00:00<?, ?it/s]"
      ]
     },
     "metadata": {},
     "output_type": "display_data"
    },
    {
     "name": "stdout",
     "output_type": "stream",
     "text": [
      "[[ 13   0   0   3  61]\n",
      " [  1   0   0   0  79]\n",
      " [  0   0   0   7  80]\n",
      " [  0   0   0 136   0]\n",
      " [  1   0   0  51  80]]\n",
      "\n",
      "Test set: Average loss: 1.3102, Accuracy: 229/512 (45%)\n",
      "\n"
     ]
    },
    {
     "data": {
      "application/vnd.jupyter.widget-view+json": {
       "model_id": "2cad61907ef24c0791dc547e44ab0ca9",
       "version_major": 2,
       "version_minor": 0
      },
      "text/plain": [
       "  0%|          | 0/2 [00:00<?, ?it/s]"
      ]
     },
     "metadata": {},
     "output_type": "display_data"
    },
    {
     "name": "stdout",
     "output_type": "stream",
     "text": [
      "[[ 3  0  0  1 22]\n",
      " [ 0  0  0  0 20]\n",
      " [ 0  0  1  0 13]\n",
      " [ 0  0  0 31  0]\n",
      " [ 1  0  0 17 19]]\n",
      "\n",
      "Test set: Average loss: 1.3223, Accuracy: 54/128 (42%)\n",
      "\n"
     ]
    },
    {
     "data": {
      "application/vnd.jupyter.widget-view+json": {
       "model_id": "3e2e9ed30cec4a07901ea1351ac0fa06",
       "version_major": 2,
       "version_minor": 0
      },
      "text/plain": [
       "  0%|          | 0/8 [00:00<?, ?it/s]"
      ]
     },
     "metadata": {},
     "output_type": "display_data"
    },
    {
     "data": {
      "application/vnd.jupyter.widget-view+json": {
       "model_id": "5766cb6542be4ddc847d3853298c70cb",
       "version_major": 2,
       "version_minor": 0
      },
      "text/plain": [
       "  0%|          | 0/8 [00:00<?, ?it/s]"
      ]
     },
     "metadata": {},
     "output_type": "display_data"
    },
    {
     "name": "stdout",
     "output_type": "stream",
     "text": [
      "[[ 12   5   5   0  55]\n",
      " [  1  14   2   0  63]\n",
      " [  0   1  13   0  73]\n",
      " [  0   0   0 135   1]\n",
      " [  1   3   5  51  72]]\n",
      "\n",
      "Test set: Average loss: 1.1463, Accuracy: 246/512 (48%)\n",
      "\n"
     ]
    },
    {
     "data": {
      "application/vnd.jupyter.widget-view+json": {
       "model_id": "29d30b2502e44d46a71de73056dca48e",
       "version_major": 2,
       "version_minor": 0
      },
      "text/plain": [
       "  0%|          | 0/2 [00:00<?, ?it/s]"
      ]
     },
     "metadata": {},
     "output_type": "display_data"
    },
    {
     "name": "stdout",
     "output_type": "stream",
     "text": [
      "[[ 3  3  4  0 16]\n",
      " [ 0  5  0  0 15]\n",
      " [ 0  1  1  0 12]\n",
      " [ 0  0  0 31  0]\n",
      " [ 1  1  0 17 18]]\n",
      "\n",
      "Test set: Average loss: 1.1590, Accuracy: 58/128 (45%)\n",
      "\n"
     ]
    },
    {
     "data": {
      "application/vnd.jupyter.widget-view+json": {
       "model_id": "385162136d4541859f3f0260b56f0785",
       "version_major": 2,
       "version_minor": 0
      },
      "text/plain": [
       "  0%|          | 0/8 [00:00<?, ?it/s]"
      ]
     },
     "metadata": {},
     "output_type": "display_data"
    },
    {
     "data": {
      "application/vnd.jupyter.widget-view+json": {
       "model_id": "6b8d31f75600498282a889363e690a64",
       "version_major": 2,
       "version_minor": 0
      },
      "text/plain": [
       "  0%|          | 0/8 [00:00<?, ?it/s]"
      ]
     },
     "metadata": {},
     "output_type": "display_data"
    },
    {
     "name": "stdout",
     "output_type": "stream",
     "text": [
      "[[ 30   2  18   0  27]\n",
      " [ 11   1   7   0  61]\n",
      " [ 11   0  39   0  37]\n",
      " [  0   0   0 127   9]\n",
      " [ 14   0  15  46  57]]\n",
      "\n",
      "Test set: Average loss: 1.1451, Accuracy: 254/512 (50%)\n",
      "\n"
     ]
    },
    {
     "data": {
      "application/vnd.jupyter.widget-view+json": {
       "model_id": "ec35cbd3a8ac4c46ad48ee63e3a274dd",
       "version_major": 2,
       "version_minor": 0
      },
      "text/plain": [
       "  0%|          | 0/2 [00:00<?, ?it/s]"
      ]
     },
     "metadata": {},
     "output_type": "display_data"
    },
    {
     "name": "stdout",
     "output_type": "stream",
     "text": [
      "[[12  0  5  0  9]\n",
      " [ 6  0  2  0 12]\n",
      " [ 0  0  7  0  7]\n",
      " [ 0  0  0 29  2]\n",
      " [ 3  0  0 17 17]]\n",
      "\n",
      "Test set: Average loss: 1.1431, Accuracy: 65/128 (51%)\n",
      "\n"
     ]
    },
    {
     "data": {
      "application/vnd.jupyter.widget-view+json": {
       "model_id": "0af0238d0b89427896d0c99f22d7ce04",
       "version_major": 2,
       "version_minor": 0
      },
      "text/plain": [
       "  0%|          | 0/8 [00:00<?, ?it/s]"
      ]
     },
     "metadata": {},
     "output_type": "display_data"
    },
    {
     "data": {
      "application/vnd.jupyter.widget-view+json": {
       "model_id": "141e0d32d5aa48df8f4e0c221ea99b02",
       "version_major": 2,
       "version_minor": 0
      },
      "text/plain": [
       "  0%|          | 0/8 [00:00<?, ?it/s]"
      ]
     },
     "metadata": {},
     "output_type": "display_data"
    },
    {
     "name": "stdout",
     "output_type": "stream",
     "text": [
      "[[ 41   1  12   0  23]\n",
      " [ 20   1   1   0  58]\n",
      " [ 17   0  37   0  33]\n",
      " [  0   0   0 118  18]\n",
      " [ 19   0   8  45  60]]\n",
      "\n",
      "Test set: Average loss: 1.1261, Accuracy: 257/512 (50%)\n",
      "\n"
     ]
    },
    {
     "data": {
      "application/vnd.jupyter.widget-view+json": {
       "model_id": "d5c8331258a141da8e44703a66ca31b5",
       "version_major": 2,
       "version_minor": 0
      },
      "text/plain": [
       "  0%|          | 0/2 [00:00<?, ?it/s]"
      ]
     },
     "metadata": {},
     "output_type": "display_data"
    },
    {
     "name": "stdout",
     "output_type": "stream",
     "text": [
      "[[11  0  4  0 11]\n",
      " [ 7  0  1  0 12]\n",
      " [ 3  0  5  0  6]\n",
      " [ 0  0  0 30  1]\n",
      " [ 4  0  0 17 16]]\n",
      "\n",
      "Test set: Average loss: 1.1026, Accuracy: 62/128 (48%)\n",
      "\n"
     ]
    },
    {
     "data": {
      "application/vnd.jupyter.widget-view+json": {
       "model_id": "a3e9a158a3d64799ab2c2fdf17435ef7",
       "version_major": 2,
       "version_minor": 0
      },
      "text/plain": [
       "  0%|          | 0/8 [00:00<?, ?it/s]"
      ]
     },
     "metadata": {},
     "output_type": "display_data"
    },
    {
     "data": {
      "application/vnd.jupyter.widget-view+json": {
       "model_id": "4bfb12b33f654a3c9260cc581b5d0de4",
       "version_major": 2,
       "version_minor": 0
      },
      "text/plain": [
       "  0%|          | 0/8 [00:00<?, ?it/s]"
      ]
     },
     "metadata": {},
     "output_type": "display_data"
    },
    {
     "name": "stdout",
     "output_type": "stream",
     "text": [
      "[[ 19   9   3   0  46]\n",
      " [  0  47   0   0  33]\n",
      " [  1   0  17   0  69]\n",
      " [  0   0   0 136   0]\n",
      " [  2  10   2  49  69]]\n",
      "\n",
      "Test set: Average loss: 0.9968, Accuracy: 288/512 (56%)\n",
      "\n"
     ]
    },
    {
     "data": {
      "application/vnd.jupyter.widget-view+json": {
       "model_id": "77506812a9c34960bbcb47002b25baaa",
       "version_major": 2,
       "version_minor": 0
      },
      "text/plain": [
       "  0%|          | 0/2 [00:00<?, ?it/s]"
      ]
     },
     "metadata": {},
     "output_type": "display_data"
    },
    {
     "name": "stdout",
     "output_type": "stream",
     "text": [
      "[[ 5  2  0  0 19]\n",
      " [ 1  7  0  0 12]\n",
      " [ 0  0  3  0 11]\n",
      " [ 0  0  0 30  1]\n",
      " [ 1  2  0 17 17]]\n",
      "\n",
      "Test set: Average loss: 1.0488, Accuracy: 62/128 (48%)\n",
      "\n"
     ]
    },
    {
     "data": {
      "application/vnd.jupyter.widget-view+json": {
       "model_id": "280f139ee656441dba770579f5a3ef80",
       "version_major": 2,
       "version_minor": 0
      },
      "text/plain": [
       "  0%|          | 0/8 [00:00<?, ?it/s]"
      ]
     },
     "metadata": {},
     "output_type": "display_data"
    },
    {
     "data": {
      "application/vnd.jupyter.widget-view+json": {
       "model_id": "ce21f7f22eb147d1b00d6c346a768965",
       "version_major": 2,
       "version_minor": 0
      },
      "text/plain": [
       "  0%|          | 0/8 [00:00<?, ?it/s]"
      ]
     },
     "metadata": {},
     "output_type": "display_data"
    },
    {
     "name": "stdout",
     "output_type": "stream",
     "text": [
      "[[69  1  2  0  5]\n",
      " [44  8  0  0 28]\n",
      " [63  0 18  0  6]\n",
      " [ 4  0  0 40 92]\n",
      " [32  3  4 20 73]]\n",
      "\n",
      "Test set: Average loss: 1.1584, Accuracy: 208/512 (41%)\n",
      "\n"
     ]
    },
    {
     "data": {
      "application/vnd.jupyter.widget-view+json": {
       "model_id": "7febf44259ab4c6e9bf679e3406745ff",
       "version_major": 2,
       "version_minor": 0
      },
      "text/plain": [
       "  0%|          | 0/2 [00:00<?, ?it/s]"
      ]
     },
     "metadata": {},
     "output_type": "display_data"
    },
    {
     "name": "stdout",
     "output_type": "stream",
     "text": [
      "[[23  0  0  0  3]\n",
      " [11  0  0  0  9]\n",
      " [ 9  0  4  0  1]\n",
      " [ 1  0  0 10 20]\n",
      " [ 7  1  0  7 22]]\n",
      "\n",
      "Test set: Average loss: 1.0784, Accuracy: 59/128 (46%)\n",
      "\n"
     ]
    },
    {
     "data": {
      "application/vnd.jupyter.widget-view+json": {
       "model_id": "80d75ed32111406094216b3d97e8f28d",
       "version_major": 2,
       "version_minor": 0
      },
      "text/plain": [
       "  0%|          | 0/8 [00:00<?, ?it/s]"
      ]
     },
     "metadata": {},
     "output_type": "display_data"
    },
    {
     "data": {
      "application/vnd.jupyter.widget-view+json": {
       "model_id": "dbc2d67055454f919eacb27d9cc5532a",
       "version_major": 2,
       "version_minor": 0
      },
      "text/plain": [
       "  0%|          | 0/8 [00:00<?, ?it/s]"
      ]
     },
     "metadata": {},
     "output_type": "display_data"
    },
    {
     "name": "stdout",
     "output_type": "stream",
     "text": [
      "[[ 24  10  18   0  25]\n",
      " [  3  32   9   0  36]\n",
      " [  7   0  60   0  20]\n",
      " [  0   0   0 120  16]\n",
      " [  8   4  17  44  59]]\n",
      "\n",
      "Test set: Average loss: 0.9699, Accuracy: 295/512 (58%)\n",
      "\n"
     ]
    },
    {
     "data": {
      "application/vnd.jupyter.widget-view+json": {
       "model_id": "ab51a201fe2f4db88b65189e828a3a6b",
       "version_major": 2,
       "version_minor": 0
      },
      "text/plain": [
       "  0%|          | 0/2 [00:00<?, ?it/s]"
      ]
     },
     "metadata": {},
     "output_type": "display_data"
    },
    {
     "name": "stdout",
     "output_type": "stream",
     "text": [
      "[[ 8  2  8  0  8]\n",
      " [ 2  4  3  0 11]\n",
      " [ 2  0  8  0  4]\n",
      " [ 0  0  0 28  3]\n",
      " [ 1  2  1 16 17]]\n",
      "\n",
      "Test set: Average loss: 0.9955, Accuracy: 65/128 (51%)\n",
      "\n"
     ]
    },
    {
     "data": {
      "application/vnd.jupyter.widget-view+json": {
       "model_id": "cf8541ff91914efea77469510df953ff",
       "version_major": 2,
       "version_minor": 0
      },
      "text/plain": [
       "  0%|          | 0/8 [00:00<?, ?it/s]"
      ]
     },
     "metadata": {},
     "output_type": "display_data"
    },
    {
     "data": {
      "application/vnd.jupyter.widget-view+json": {
       "model_id": "7473dc68f764434ab4498d423079e23c",
       "version_major": 2,
       "version_minor": 0
      },
      "text/plain": [
       "  0%|          | 0/8 [00:00<?, ?it/s]"
      ]
     },
     "metadata": {},
     "output_type": "display_data"
    },
    {
     "name": "stdout",
     "output_type": "stream",
     "text": [
      "[[ 42   1   0   0  34]\n",
      " [ 16  13   0   0  51]\n",
      " [  8   0   2   0  77]\n",
      " [  0   0   0   1 135]\n",
      " [ 11   0   1   1 119]]\n",
      "\n",
      "Test set: Average loss: 1.1316, Accuracy: 177/512 (35%)\n",
      "\n"
     ]
    },
    {
     "data": {
      "application/vnd.jupyter.widget-view+json": {
       "model_id": "b6402f71bacc425fb5d006f5ac2884f4",
       "version_major": 2,
       "version_minor": 0
      },
      "text/plain": [
       "  0%|          | 0/2 [00:00<?, ?it/s]"
      ]
     },
     "metadata": {},
     "output_type": "display_data"
    },
    {
     "name": "stdout",
     "output_type": "stream",
     "text": [
      "[[16  0  0  0 10]\n",
      " [ 3  2  0  0 15]\n",
      " [ 2  0  2  0 10]\n",
      " [ 0  0  0  0 31]\n",
      " [ 1  0  0  0 36]]\n",
      "\n",
      "Test set: Average loss: 1.0611, Accuracy: 56/128 (44%)\n",
      "\n"
     ]
    },
    {
     "data": {
      "application/vnd.jupyter.widget-view+json": {
       "model_id": "bbbae84a7a8a40c89d6f83a85475b582",
       "version_major": 2,
       "version_minor": 0
      },
      "text/plain": [
       "  0%|          | 0/8 [00:00<?, ?it/s]"
      ]
     },
     "metadata": {},
     "output_type": "display_data"
    },
    {
     "data": {
      "application/vnd.jupyter.widget-view+json": {
       "model_id": "605e10f8108e49249481c7dc592bd56d",
       "version_major": 2,
       "version_minor": 0
      },
      "text/plain": [
       "  0%|          | 0/8 [00:00<?, ?it/s]"
      ]
     },
     "metadata": {},
     "output_type": "display_data"
    },
    {
     "name": "stdout",
     "output_type": "stream",
     "text": [
      "[[ 37   1  10   2  27]\n",
      " [  7  10   6   0  57]\n",
      " [  7   1  32   6  41]\n",
      " [  0   0   0 136   0]\n",
      " [ 12   3   7  53  57]]\n",
      "\n",
      "Test set: Average loss: 1.0905, Accuracy: 272/512 (53%)\n",
      "\n"
     ]
    },
    {
     "data": {
      "application/vnd.jupyter.widget-view+json": {
       "model_id": "b711aabd1b7f4a34b8f8e7c41145ae8a",
       "version_major": 2,
       "version_minor": 0
      },
      "text/plain": [
       "  0%|          | 0/2 [00:00<?, ?it/s]"
      ]
     },
     "metadata": {},
     "output_type": "display_data"
    },
    {
     "name": "stdout",
     "output_type": "stream",
     "text": [
      "[[11  0  5  1  9]\n",
      " [ 2  2  2  0 14]\n",
      " [ 2  0  3  0  9]\n",
      " [ 0  0  0 31  0]\n",
      " [ 2  0  0 17 18]]\n",
      "\n",
      "Test set: Average loss: 1.1170, Accuracy: 65/128 (51%)\n",
      "\n"
     ]
    },
    {
     "data": {
      "application/vnd.jupyter.widget-view+json": {
       "model_id": "606214ca87804f91af4850a3225cf29a",
       "version_major": 2,
       "version_minor": 0
      },
      "text/plain": [
       "  0%|          | 0/8 [00:00<?, ?it/s]"
      ]
     },
     "metadata": {},
     "output_type": "display_data"
    },
    {
     "data": {
      "application/vnd.jupyter.widget-view+json": {
       "model_id": "351102cca7674527a157522f162b6495",
       "version_major": 2,
       "version_minor": 0
      },
      "text/plain": [
       "  0%|          | 0/8 [00:00<?, ?it/s]"
      ]
     },
     "metadata": {},
     "output_type": "display_data"
    },
    {
     "name": "stdout",
     "output_type": "stream",
     "text": [
      "[[56  4  2  0 15]\n",
      " [19 19  0  0 42]\n",
      " [58  0 14  0 15]\n",
      " [ 0  0  0 70 66]\n",
      " [19  0  6 28 79]]\n",
      "\n",
      "Test set: Average loss: 1.0272, Accuracy: 238/512 (46%)\n",
      "\n"
     ]
    },
    {
     "data": {
      "application/vnd.jupyter.widget-view+json": {
       "model_id": "55f154c2f8574b93813f668adea04978",
       "version_major": 2,
       "version_minor": 0
      },
      "text/plain": [
       "  0%|          | 0/2 [00:00<?, ?it/s]"
      ]
     },
     "metadata": {},
     "output_type": "display_data"
    },
    {
     "name": "stdout",
     "output_type": "stream",
     "text": [
      "[[18  1  1  0  6]\n",
      " [ 4  3  0  0 13]\n",
      " [ 9  0  2  0  3]\n",
      " [ 0  0  0 14 17]\n",
      " [ 1  0  0 10 26]]\n",
      "\n",
      "Test set: Average loss: 0.9732, Accuracy: 63/128 (49%)\n",
      "\n"
     ]
    },
    {
     "data": {
      "application/vnd.jupyter.widget-view+json": {
       "model_id": "11a0fb6827c9476eb051075654c7d286",
       "version_major": 2,
       "version_minor": 0
      },
      "text/plain": [
       "  0%|          | 0/8 [00:00<?, ?it/s]"
      ]
     },
     "metadata": {},
     "output_type": "display_data"
    },
    {
     "data": {
      "application/vnd.jupyter.widget-view+json": {
       "model_id": "af47a575220941bca767e2a95d60ab4e",
       "version_major": 2,
       "version_minor": 0
      },
      "text/plain": [
       "  0%|          | 0/8 [00:00<?, ?it/s]"
      ]
     },
     "metadata": {},
     "output_type": "display_data"
    },
    {
     "name": "stdout",
     "output_type": "stream",
     "text": [
      "[[ 55  10   4   1   7]\n",
      " [ 13  59   1   0   7]\n",
      " [ 23   9  46   0   9]\n",
      " [  0   0   0 135   1]\n",
      " [ 17  14  12  49  40]]\n",
      "\n",
      "Test set: Average loss: 0.8310, Accuracy: 335/512 (65%)\n",
      "\n"
     ]
    },
    {
     "data": {
      "application/vnd.jupyter.widget-view+json": {
       "model_id": "56bb194dd53b45dcbc671e6c8c11b377",
       "version_major": 2,
       "version_minor": 0
      },
      "text/plain": [
       "  0%|          | 0/2 [00:00<?, ?it/s]"
      ]
     },
     "metadata": {},
     "output_type": "display_data"
    },
    {
     "name": "stdout",
     "output_type": "stream",
     "text": [
      "[[20  2  2  0  2]\n",
      " [ 5 14  0  0  1]\n",
      " [ 3  1  6  0  4]\n",
      " [ 0  0  0 31  0]\n",
      " [ 5  3  1 17 11]]\n",
      "\n",
      "Test set: Average loss: 0.8557, Accuracy: 82/128 (64%)\n",
      "\n"
     ]
    },
    {
     "data": {
      "application/vnd.jupyter.widget-view+json": {
       "model_id": "9c6d16802f734676b06ef3a9e1231874",
       "version_major": 2,
       "version_minor": 0
      },
      "text/plain": [
       "  0%|          | 0/8 [00:00<?, ?it/s]"
      ]
     },
     "metadata": {},
     "output_type": "display_data"
    },
    {
     "data": {
      "application/vnd.jupyter.widget-view+json": {
       "model_id": "780da676a1d2489c8c7629666e5608e1",
       "version_major": 2,
       "version_minor": 0
      },
      "text/plain": [
       "  0%|          | 0/8 [00:00<?, ?it/s]"
      ]
     },
     "metadata": {},
     "output_type": "display_data"
    },
    {
     "name": "stdout",
     "output_type": "stream",
     "text": [
      "[[ 28   8  18   2  21]\n",
      " [  3  41   9   0  27]\n",
      " [  4   1  64   1  17]\n",
      " [  0   0   0 136   0]\n",
      " [  8   1  15  51  57]]\n",
      "\n",
      "Test set: Average loss: 0.8526, Accuracy: 326/512 (64%)\n",
      "\n"
     ]
    },
    {
     "data": {
      "application/vnd.jupyter.widget-view+json": {
       "model_id": "7a90b9d8f36f4846ad7b67ad62de3d57",
       "version_major": 2,
       "version_minor": 0
      },
      "text/plain": [
       "  0%|          | 0/2 [00:00<?, ?it/s]"
      ]
     },
     "metadata": {},
     "output_type": "display_data"
    },
    {
     "name": "stdout",
     "output_type": "stream",
     "text": [
      "[[ 6  2 11  0  7]\n",
      " [ 1  5  2  0 12]\n",
      " [ 2  0  8  0  4]\n",
      " [ 0  0  0 31  0]\n",
      " [ 2  1  1 17 16]]\n",
      "\n",
      "Test set: Average loss: 0.9786, Accuracy: 66/128 (52%)\n",
      "\n"
     ]
    },
    {
     "data": {
      "application/vnd.jupyter.widget-view+json": {
       "model_id": "f6c71fb2e51342b8928f05d2f3f60dbf",
       "version_major": 2,
       "version_minor": 0
      },
      "text/plain": [
       "  0%|          | 0/8 [00:00<?, ?it/s]"
      ]
     },
     "metadata": {},
     "output_type": "display_data"
    },
    {
     "data": {
      "application/vnd.jupyter.widget-view+json": {
       "model_id": "00ff8ba4d48e47329a3a0ad6231cc909",
       "version_major": 2,
       "version_minor": 0
      },
      "text/plain": [
       "  0%|          | 0/8 [00:00<?, ?it/s]"
      ]
     },
     "metadata": {},
     "output_type": "display_data"
    },
    {
     "name": "stdout",
     "output_type": "stream",
     "text": [
      "[[ 25  48   0   1   3]\n",
      " [  4  75   0   0   1]\n",
      " [  5  70   3   0   9]\n",
      " [  0   2   0 119  15]\n",
      " [  9  42   3  46  32]]\n",
      "\n",
      "Test set: Average loss: 1.2483, Accuracy: 254/512 (50%)\n",
      "\n"
     ]
    },
    {
     "data": {
      "application/vnd.jupyter.widget-view+json": {
       "model_id": "455208e660434e75a036b10ba73dbbc8",
       "version_major": 2,
       "version_minor": 0
      },
      "text/plain": [
       "  0%|          | 0/2 [00:00<?, ?it/s]"
      ]
     },
     "metadata": {},
     "output_type": "display_data"
    },
    {
     "name": "stdout",
     "output_type": "stream",
     "text": [
      "[[ 8 16  1  0  1]\n",
      " [ 0 19  0  0  1]\n",
      " [ 2 11  1  0  0]\n",
      " [ 0  1  0 29  1]\n",
      " [ 3  8  0 16 10]]\n",
      "\n",
      "Test set: Average loss: 1.1057, Accuracy: 67/128 (52%)\n",
      "\n"
     ]
    },
    {
     "data": {
      "application/vnd.jupyter.widget-view+json": {
       "model_id": "1a92c4bdbf3e4c30b87b6d81442df915",
       "version_major": 2,
       "version_minor": 0
      },
      "text/plain": [
       "  0%|          | 0/8 [00:00<?, ?it/s]"
      ]
     },
     "metadata": {},
     "output_type": "display_data"
    },
    {
     "data": {
      "application/vnd.jupyter.widget-view+json": {
       "model_id": "4bec04dd46954b37b4de800e16f6d498",
       "version_major": 2,
       "version_minor": 0
      },
      "text/plain": [
       "  0%|          | 0/8 [00:00<?, ?it/s]"
      ]
     },
     "metadata": {},
     "output_type": "display_data"
    },
    {
     "name": "stdout",
     "output_type": "stream",
     "text": [
      "[[ 18   3  19   2  35]\n",
      " [  1   4   8   0  67]\n",
      " [  0   1  51   1  34]\n",
      " [  0   0   0 136   0]\n",
      " [  1   1  10  51  69]]\n",
      "\n",
      "Test set: Average loss: 1.0125, Accuracy: 278/512 (54%)\n",
      "\n"
     ]
    },
    {
     "data": {
      "application/vnd.jupyter.widget-view+json": {
       "model_id": "52d7cb26f6264bd9b9c1d9c07e8a13c6",
       "version_major": 2,
       "version_minor": 0
      },
      "text/plain": [
       "  0%|          | 0/2 [00:00<?, ?it/s]"
      ]
     },
     "metadata": {},
     "output_type": "display_data"
    },
    {
     "name": "stdout",
     "output_type": "stream",
     "text": [
      "[[ 4  1  9  0 12]\n",
      " [ 1  1  2  0 16]\n",
      " [ 0  0  5  0  9]\n",
      " [ 0  0  0 31  0]\n",
      " [ 1  0  1 17 18]]\n",
      "\n",
      "Test set: Average loss: 1.1404, Accuracy: 59/128 (46%)\n",
      "\n"
     ]
    },
    {
     "data": {
      "application/vnd.jupyter.widget-view+json": {
       "model_id": "f6862eaee7714e3c9f7b654294456a15",
       "version_major": 2,
       "version_minor": 0
      },
      "text/plain": [
       "  0%|          | 0/8 [00:00<?, ?it/s]"
      ]
     },
     "metadata": {},
     "output_type": "display_data"
    },
    {
     "data": {
      "application/vnd.jupyter.widget-view+json": {
       "model_id": "f2037a8169f34c2a9c567462060432d3",
       "version_major": 2,
       "version_minor": 0
      },
      "text/plain": [
       "  0%|          | 0/8 [00:00<?, ?it/s]"
      ]
     },
     "metadata": {},
     "output_type": "display_data"
    },
    {
     "name": "stdout",
     "output_type": "stream",
     "text": [
      "[[ 34  26   3   0  14]\n",
      " [  4  58   1   0  17]\n",
      " [  7  34  10   0  36]\n",
      " [  7   1   0   7 121]\n",
      " [  9  13   2   3 105]]\n",
      "\n",
      "Test set: Average loss: 1.2542, Accuracy: 214/512 (42%)\n",
      "\n"
     ]
    },
    {
     "data": {
      "application/vnd.jupyter.widget-view+json": {
       "model_id": "6785732fb52242988324c3209db6feb6",
       "version_major": 2,
       "version_minor": 0
      },
      "text/plain": [
       "  0%|          | 0/2 [00:00<?, ?it/s]"
      ]
     },
     "metadata": {},
     "output_type": "display_data"
    },
    {
     "name": "stdout",
     "output_type": "stream",
     "text": [
      "[[ 8  8  2  0  8]\n",
      " [ 2 11  3  0  4]\n",
      " [ 2  4  1  0  7]\n",
      " [ 1  1  0  0 29]\n",
      " [ 1  2  0  1 33]]\n",
      "\n",
      "Test set: Average loss: 1.1524, Accuracy: 53/128 (41%)\n",
      "\n"
     ]
    },
    {
     "data": {
      "application/vnd.jupyter.widget-view+json": {
       "model_id": "24ee736b8b954d46ba354472af63cee2",
       "version_major": 2,
       "version_minor": 0
      },
      "text/plain": [
       "  0%|          | 0/8 [00:00<?, ?it/s]"
      ]
     },
     "metadata": {},
     "output_type": "display_data"
    },
    {
     "data": {
      "application/vnd.jupyter.widget-view+json": {
       "model_id": "4d1ec5c8610943b4b921176b1c22ae23",
       "version_major": 2,
       "version_minor": 0
      },
      "text/plain": [
       "  0%|          | 0/8 [00:00<?, ?it/s]"
      ]
     },
     "metadata": {},
     "output_type": "display_data"
    },
    {
     "name": "stdout",
     "output_type": "stream",
     "text": [
      "[[ 50   1   1   0  25]\n",
      " [  8   8   0   0  64]\n",
      " [ 10   0  14   0  63]\n",
      " [  2   0   0  33 101]\n",
      " [ 10   0   3  16 103]]\n",
      "\n",
      "Test set: Average loss: 1.1209, Accuracy: 208/512 (41%)\n",
      "\n"
     ]
    },
    {
     "data": {
      "application/vnd.jupyter.widget-view+json": {
       "model_id": "b55cd6bb73f54bfd9f6b9db2dc98e518",
       "version_major": 2,
       "version_minor": 0
      },
      "text/plain": [
       "  0%|          | 0/2 [00:00<?, ?it/s]"
      ]
     },
     "metadata": {},
     "output_type": "display_data"
    },
    {
     "name": "stdout",
     "output_type": "stream",
     "text": [
      "[[13  0  0  0 13]\n",
      " [ 2  0  0  0 18]\n",
      " [ 3  0  1  0 10]\n",
      " [ 0  0  0 10 21]\n",
      " [ 1  0  0  4 32]]\n",
      "\n",
      "Test set: Average loss: 1.1367, Accuracy: 56/128 (44%)\n",
      "\n"
     ]
    },
    {
     "data": {
      "application/vnd.jupyter.widget-view+json": {
       "model_id": "3d425d8f6fc04a7483b7a5e1286c813f",
       "version_major": 2,
       "version_minor": 0
      },
      "text/plain": [
       "  0%|          | 0/8 [00:00<?, ?it/s]"
      ]
     },
     "metadata": {},
     "output_type": "display_data"
    },
    {
     "data": {
      "application/vnd.jupyter.widget-view+json": {
       "model_id": "76fc92a508cc4e4bb7d00c6f8881fb66",
       "version_major": 2,
       "version_minor": 0
      },
      "text/plain": [
       "  0%|          | 0/8 [00:00<?, ?it/s]"
      ]
     },
     "metadata": {},
     "output_type": "display_data"
    },
    {
     "name": "stdout",
     "output_type": "stream",
     "text": [
      "[[ 73   1   0   1   2]\n",
      " [ 21  58   0   0   1]\n",
      " [ 49   7  20   0  11]\n",
      " [  0   0   0 136   0]\n",
      " [ 34   9   5  51  33]]\n",
      "\n",
      "Test set: Average loss: 0.9488, Accuracy: 320/512 (62%)\n",
      "\n"
     ]
    },
    {
     "data": {
      "application/vnd.jupyter.widget-view+json": {
       "model_id": "f691344667e34d81a781c3a8fa481f8b",
       "version_major": 2,
       "version_minor": 0
      },
      "text/plain": [
       "  0%|          | 0/2 [00:00<?, ?it/s]"
      ]
     },
     "metadata": {},
     "output_type": "display_data"
    },
    {
     "name": "stdout",
     "output_type": "stream",
     "text": [
      "[[24  0  1  0  1]\n",
      " [ 7 12  0  0  1]\n",
      " [ 7  1  2  0  4]\n",
      " [ 0  0  0 31  0]\n",
      " [ 6  3  0 17 11]]\n",
      "\n",
      "Test set: Average loss: 0.8939, Accuracy: 80/128 (62%)\n",
      "\n"
     ]
    },
    {
     "data": {
      "application/vnd.jupyter.widget-view+json": {
       "model_id": "9f928979f8a148cc8d267858fb3e6029",
       "version_major": 2,
       "version_minor": 0
      },
      "text/plain": [
       "  0%|          | 0/8 [00:00<?, ?it/s]"
      ]
     },
     "metadata": {},
     "output_type": "display_data"
    },
    {
     "data": {
      "application/vnd.jupyter.widget-view+json": {
       "model_id": "36c2cce7523b4264a5024c6221ca8b03",
       "version_major": 2,
       "version_minor": 0
      },
      "text/plain": [
       "  0%|          | 0/8 [00:00<?, ?it/s]"
      ]
     },
     "metadata": {},
     "output_type": "display_data"
    },
    {
     "name": "stdout",
     "output_type": "stream",
     "text": [
      "[[ 36   5   9   0  27]\n",
      " [  4  48   6   0  22]\n",
      " [  4   2  33   0  48]\n",
      " [  0   0   0 129   7]\n",
      " [  6   3  10  47  66]]\n",
      "\n",
      "Test set: Average loss: 0.8506, Accuracy: 312/512 (61%)\n",
      "\n"
     ]
    },
    {
     "data": {
      "application/vnd.jupyter.widget-view+json": {
       "model_id": "0a356a281d794c7d921ff49751eca90a",
       "version_major": 2,
       "version_minor": 0
      },
      "text/plain": [
       "  0%|          | 0/2 [00:00<?, ?it/s]"
      ]
     },
     "metadata": {},
     "output_type": "display_data"
    },
    {
     "name": "stdout",
     "output_type": "stream",
     "text": [
      "[[ 8  3  6  0  9]\n",
      " [ 1 10  3  0  6]\n",
      " [ 2  0  5  0  7]\n",
      " [ 0  0  0 30  1]\n",
      " [ 1  1  1 17 17]]\n",
      "\n",
      "Test set: Average loss: 0.9450, Accuracy: 70/128 (55%)\n",
      "\n"
     ]
    },
    {
     "data": {
      "application/vnd.jupyter.widget-view+json": {
       "model_id": "913e3023057d42e8b5dcc94961c3d8b7",
       "version_major": 2,
       "version_minor": 0
      },
      "text/plain": [
       "  0%|          | 0/8 [00:00<?, ?it/s]"
      ]
     },
     "metadata": {},
     "output_type": "display_data"
    },
    {
     "data": {
      "application/vnd.jupyter.widget-view+json": {
       "model_id": "617c7be98e974b28b6b5635583885981",
       "version_major": 2,
       "version_minor": 0
      },
      "text/plain": [
       "  0%|          | 0/8 [00:00<?, ?it/s]"
      ]
     },
     "metadata": {},
     "output_type": "display_data"
    },
    {
     "name": "stdout",
     "output_type": "stream",
     "text": [
      "[[ 45  14   0   0  18]\n",
      " [ 18  29   0   0  33]\n",
      " [ 15  12   5   0  55]\n",
      " [  2   0   0 120  14]\n",
      " [ 11   4   3  44  70]]\n",
      "\n",
      "Test set: Average loss: 1.0630, Accuracy: 269/512 (53%)\n",
      "\n"
     ]
    },
    {
     "data": {
      "application/vnd.jupyter.widget-view+json": {
       "model_id": "36b1be0f28754122a51d7006135c4ca0",
       "version_major": 2,
       "version_minor": 0
      },
      "text/plain": [
       "  0%|          | 0/2 [00:00<?, ?it/s]"
      ]
     },
     "metadata": {},
     "output_type": "display_data"
    },
    {
     "name": "stdout",
     "output_type": "stream",
     "text": [
      "[[13  2  1  0 10]\n",
      " [ 3  7  0  0 10]\n",
      " [ 4  1  0  0  9]\n",
      " [ 0  0  0 29  2]\n",
      " [ 1  0  0 16 20]]\n",
      "\n",
      "Test set: Average loss: 1.0132, Accuracy: 69/128 (54%)\n",
      "\n"
     ]
    },
    {
     "data": {
      "application/vnd.jupyter.widget-view+json": {
       "model_id": "cf05c5114c1049ca98e618588fe8ab50",
       "version_major": 2,
       "version_minor": 0
      },
      "text/plain": [
       "  0%|          | 0/8 [00:00<?, ?it/s]"
      ]
     },
     "metadata": {},
     "output_type": "display_data"
    },
    {
     "data": {
      "application/vnd.jupyter.widget-view+json": {
       "model_id": "197906ab1f2742daafaa43ef367e6517",
       "version_major": 2,
       "version_minor": 0
      },
      "text/plain": [
       "  0%|          | 0/8 [00:00<?, ?it/s]"
      ]
     },
     "metadata": {},
     "output_type": "display_data"
    },
    {
     "name": "stdout",
     "output_type": "stream",
     "text": [
      "[[ 77   0   0   0   0]\n",
      " [ 75   0   2   0   3]\n",
      " [ 80   0   7   0   0]\n",
      " [  0   0   0 134   2]\n",
      " [ 67   0   2  50  13]]\n",
      "\n",
      "Test set: Average loss: 1.6429, Accuracy: 231/512 (45%)\n",
      "\n"
     ]
    },
    {
     "data": {
      "application/vnd.jupyter.widget-view+json": {
       "model_id": "da92c31bf5a448bf87ca0353573efa10",
       "version_major": 2,
       "version_minor": 0
      },
      "text/plain": [
       "  0%|          | 0/2 [00:00<?, ?it/s]"
      ]
     },
     "metadata": {},
     "output_type": "display_data"
    },
    {
     "name": "stdout",
     "output_type": "stream",
     "text": [
      "[[25  0  1  0  0]\n",
      " [14  0  3  0  3]\n",
      " [13  0  1  0  0]\n",
      " [ 0  0  0 31  0]\n",
      " [16  0  0 17  4]]\n",
      "\n",
      "Test set: Average loss: 1.6172, Accuracy: 61/128 (48%)\n",
      "\n"
     ]
    },
    {
     "data": {
      "application/vnd.jupyter.widget-view+json": {
       "model_id": "7f2e9d93a29e4f099074bd0d71c534e5",
       "version_major": 2,
       "version_minor": 0
      },
      "text/plain": [
       "  0%|          | 0/8 [00:00<?, ?it/s]"
      ]
     },
     "metadata": {},
     "output_type": "display_data"
    },
    {
     "data": {
      "application/vnd.jupyter.widget-view+json": {
       "model_id": "d571d2341c4949f09cf6a8c20a183ed3",
       "version_major": 2,
       "version_minor": 0
      },
      "text/plain": [
       "  0%|          | 0/8 [00:00<?, ?it/s]"
      ]
     },
     "metadata": {},
     "output_type": "display_data"
    },
    {
     "name": "stdout",
     "output_type": "stream",
     "text": [
      "[[ 40  33   1   0   3]\n",
      " [  5  74   0   0   1]\n",
      " [ 12  51  11   0  13]\n",
      " [  3   1   0 120  12]\n",
      " [ 16  31   3  43  39]]\n",
      "\n",
      "Test set: Average loss: 1.1978, Accuracy: 284/512 (55%)\n",
      "\n"
     ]
    },
    {
     "data": {
      "application/vnd.jupyter.widget-view+json": {
       "model_id": "8bc8646f802543f29d2f732356281fe8",
       "version_major": 2,
       "version_minor": 0
      },
      "text/plain": [
       "  0%|          | 0/2 [00:00<?, ?it/s]"
      ]
     },
     "metadata": {},
     "output_type": "display_data"
    },
    {
     "name": "stdout",
     "output_type": "stream",
     "text": [
      "[[15 10  0  0  1]\n",
      " [ 3 16  0  0  1]\n",
      " [ 3  5  1  0  5]\n",
      " [ 1  1  0 28  1]\n",
      " [ 4  7  0 16 10]]\n",
      "\n",
      "Test set: Average loss: 1.0951, Accuracy: 70/128 (55%)\n",
      "\n"
     ]
    },
    {
     "data": {
      "application/vnd.jupyter.widget-view+json": {
       "model_id": "305e52a5f467439da6c19bebb24985a1",
       "version_major": 2,
       "version_minor": 0
      },
      "text/plain": [
       "  0%|          | 0/8 [00:00<?, ?it/s]"
      ]
     },
     "metadata": {},
     "output_type": "display_data"
    },
    {
     "data": {
      "application/vnd.jupyter.widget-view+json": {
       "model_id": "7f5681fb742a466cac6be3d5bc325dc2",
       "version_major": 2,
       "version_minor": 0
      },
      "text/plain": [
       "  0%|          | 0/8 [00:00<?, ?it/s]"
      ]
     },
     "metadata": {},
     "output_type": "display_data"
    },
    {
     "name": "stdout",
     "output_type": "stream",
     "text": [
      "[[ 31   2  18   2  24]\n",
      " [  9  26  10   0  35]\n",
      " [  2   0  63   1  21]\n",
      " [  0   0   0 136   0]\n",
      " [  2   2  14  51  63]]\n",
      "\n",
      "Test set: Average loss: 0.8272, Accuracy: 319/512 (62%)\n",
      "\n"
     ]
    },
    {
     "data": {
      "application/vnd.jupyter.widget-view+json": {
       "model_id": "93d5974c89a6428581a06ff3adf94c3f",
       "version_major": 2,
       "version_minor": 0
      },
      "text/plain": [
       "  0%|          | 0/2 [00:00<?, ?it/s]"
      ]
     },
     "metadata": {},
     "output_type": "display_data"
    },
    {
     "name": "stdout",
     "output_type": "stream",
     "text": [
      "[[ 9  1  8  0  8]\n",
      " [ 2  4  0  0 14]\n",
      " [ 1  0  8  0  5]\n",
      " [ 0  0  0 31  0]\n",
      " [ 1  0  1 17 18]]\n",
      "\n",
      "Test set: Average loss: 0.9582, Accuracy: 70/128 (55%)\n",
      "\n"
     ]
    },
    {
     "data": {
      "application/vnd.jupyter.widget-view+json": {
       "model_id": "4869db81fb3046d0b67d9682fc339c2d",
       "version_major": 2,
       "version_minor": 0
      },
      "text/plain": [
       "  0%|          | 0/8 [00:00<?, ?it/s]"
      ]
     },
     "metadata": {},
     "output_type": "display_data"
    },
    {
     "data": {
      "application/vnd.jupyter.widget-view+json": {
       "model_id": "31bd712966f043a7bfd4a67f16abe374",
       "version_major": 2,
       "version_minor": 0
      },
      "text/plain": [
       "  0%|          | 0/8 [00:00<?, ?it/s]"
      ]
     },
     "metadata": {},
     "output_type": "display_data"
    },
    {
     "name": "stdout",
     "output_type": "stream",
     "text": [
      "[[ 77   0   0   0   0]\n",
      " [ 67  13   0   0   0]\n",
      " [ 84   2   0   0   1]\n",
      " [ 15   0   0 121   0]\n",
      " [ 77   7   0  47   1]]\n",
      "\n",
      "Test set: Average loss: 3.3059, Accuracy: 212/512 (41%)\n",
      "\n"
     ]
    },
    {
     "data": {
      "application/vnd.jupyter.widget-view+json": {
       "model_id": "ec048bb4d58d442bafcc45f73c8200f4",
       "version_major": 2,
       "version_minor": 0
      },
      "text/plain": [
       "  0%|          | 0/2 [00:00<?, ?it/s]"
      ]
     },
     "metadata": {},
     "output_type": "display_data"
    },
    {
     "name": "stdout",
     "output_type": "stream",
     "text": [
      "[[26  0  0  0  0]\n",
      " [15  5  0  0  0]\n",
      " [14  0  0  0  0]\n",
      " [ 2  0  0 29  0]\n",
      " [20  1  0 16  0]]\n",
      "\n",
      "Test set: Average loss: 3.0010, Accuracy: 60/128 (47%)\n",
      "\n"
     ]
    },
    {
     "data": {
      "application/vnd.jupyter.widget-view+json": {
       "model_id": "49f8749a8a0342988649626869e6d5dc",
       "version_major": 2,
       "version_minor": 0
      },
      "text/plain": [
       "  0%|          | 0/8 [00:00<?, ?it/s]"
      ]
     },
     "metadata": {},
     "output_type": "display_data"
    },
    {
     "data": {
      "application/vnd.jupyter.widget-view+json": {
       "model_id": "e5d8f0c4e18049cea95f0269080b1640",
       "version_major": 2,
       "version_minor": 0
      },
      "text/plain": [
       "  0%|          | 0/8 [00:00<?, ?it/s]"
      ]
     },
     "metadata": {},
     "output_type": "display_data"
    },
    {
     "name": "stdout",
     "output_type": "stream",
     "text": [
      "[[ 66   1   6   2   2]\n",
      " [ 22  41   0   0  17]\n",
      " [ 42   0  42   0   3]\n",
      " [  0   0   0 136   0]\n",
      " [ 27   6   7  52  40]]\n",
      "\n",
      "Test set: Average loss: 0.8368, Accuracy: 325/512 (63%)\n",
      "\n"
     ]
    },
    {
     "data": {
      "application/vnd.jupyter.widget-view+json": {
       "model_id": "5c2c96e0c5c648de809389cfd7bf5f11",
       "version_major": 2,
       "version_minor": 0
      },
      "text/plain": [
       "  0%|          | 0/2 [00:00<?, ?it/s]"
      ]
     },
     "metadata": {},
     "output_type": "display_data"
    },
    {
     "name": "stdout",
     "output_type": "stream",
     "text": [
      "[[23  1  1  0  1]\n",
      " [ 8  6  1  0  5]\n",
      " [ 8  0  6  0  0]\n",
      " [ 0  0  0 31  0]\n",
      " [ 5  3  0 17 12]]\n",
      "\n",
      "Test set: Average loss: 0.8380, Accuracy: 78/128 (61%)\n",
      "\n"
     ]
    },
    {
     "data": {
      "application/vnd.jupyter.widget-view+json": {
       "model_id": "8cac4c27f9864e1cb4cbc4d8cd380904",
       "version_major": 2,
       "version_minor": 0
      },
      "text/plain": [
       "  0%|          | 0/8 [00:00<?, ?it/s]"
      ]
     },
     "metadata": {},
     "output_type": "display_data"
    },
    {
     "data": {
      "application/vnd.jupyter.widget-view+json": {
       "model_id": "6dc71f271efd4ff09eb3ad88582060d7",
       "version_major": 2,
       "version_minor": 0
      },
      "text/plain": [
       "  0%|          | 0/8 [00:00<?, ?it/s]"
      ]
     },
     "metadata": {},
     "output_type": "display_data"
    },
    {
     "name": "stdout",
     "output_type": "stream",
     "text": [
      "[[ 66   3   1   2   5]\n",
      " [  7  65   0   0   8]\n",
      " [ 22   5  32   0  28]\n",
      " [  0   0   0 136   0]\n",
      " [ 17   9   7  51  48]]\n",
      "\n",
      "Test set: Average loss: 0.8071, Accuracy: 347/512 (68%)\n",
      "\n"
     ]
    },
    {
     "data": {
      "application/vnd.jupyter.widget-view+json": {
       "model_id": "dac84e988091461f84d00ee551fc8d95",
       "version_major": 2,
       "version_minor": 0
      },
      "text/plain": [
       "  0%|          | 0/2 [00:00<?, ?it/s]"
      ]
     },
     "metadata": {},
     "output_type": "display_data"
    },
    {
     "name": "stdout",
     "output_type": "stream",
     "text": [
      "[[22  2  1  0  1]\n",
      " [ 3 13  0  0  4]\n",
      " [ 4  0  3  0  7]\n",
      " [ 0  0  0 31  0]\n",
      " [ 3  3  0 17 14]]\n",
      "\n",
      "Test set: Average loss: 0.8179, Accuracy: 83/128 (65%)\n",
      "\n"
     ]
    },
    {
     "data": {
      "application/vnd.jupyter.widget-view+json": {
       "model_id": "1336370dac79475a9751c10c01ebd0c4",
       "version_major": 2,
       "version_minor": 0
      },
      "text/plain": [
       "  0%|          | 0/8 [00:00<?, ?it/s]"
      ]
     },
     "metadata": {},
     "output_type": "display_data"
    },
    {
     "data": {
      "application/vnd.jupyter.widget-view+json": {
       "model_id": "0ce9ac0588714298b2bff4fe5b49188f",
       "version_major": 2,
       "version_minor": 0
      },
      "text/plain": [
       "  0%|          | 0/8 [00:00<?, ?it/s]"
      ]
     },
     "metadata": {},
     "output_type": "display_data"
    },
    {
     "name": "stdout",
     "output_type": "stream",
     "text": [
      "[[ 47   0  20   0  10]\n",
      " [ 23  15  15   0  27]\n",
      " [  3   0  77   0   7]\n",
      " [  0   0   0 136   0]\n",
      " [  8   0  17  49  58]]\n",
      "\n",
      "Test set: Average loss: 0.8089, Accuracy: 333/512 (65%)\n",
      "\n"
     ]
    },
    {
     "data": {
      "application/vnd.jupyter.widget-view+json": {
       "model_id": "682297f24a3d410caca41f1a8a136c3a",
       "version_major": 2,
       "version_minor": 0
      },
      "text/plain": [
       "  0%|          | 0/2 [00:00<?, ?it/s]"
      ]
     },
     "metadata": {},
     "output_type": "display_data"
    },
    {
     "name": "stdout",
     "output_type": "stream",
     "text": [
      "[[13  0  7  0  6]\n",
      " [ 5  2  2  0 11]\n",
      " [ 1  0 11  0  2]\n",
      " [ 0  0  0 31  0]\n",
      " [ 2  0  1 17 17]]\n",
      "\n",
      "Test set: Average loss: 0.9090, Accuracy: 74/128 (58%)\n",
      "\n"
     ]
    },
    {
     "data": {
      "application/vnd.jupyter.widget-view+json": {
       "model_id": "98a30957d27a4dbda44f7693c7c5950a",
       "version_major": 2,
       "version_minor": 0
      },
      "text/plain": [
       "  0%|          | 0/8 [00:00<?, ?it/s]"
      ]
     },
     "metadata": {},
     "output_type": "display_data"
    },
    {
     "data": {
      "application/vnd.jupyter.widget-view+json": {
       "model_id": "7875986322e1417da59703f56351eddd",
       "version_major": 2,
       "version_minor": 0
      },
      "text/plain": [
       "  0%|          | 0/8 [00:00<?, ?it/s]"
      ]
     },
     "metadata": {},
     "output_type": "display_data"
    },
    {
     "name": "stdout",
     "output_type": "stream",
     "text": [
      "[[ 57   0   9   0  11]\n",
      " [ 16  27   8   0  29]\n",
      " [  7   0  73   0   7]\n",
      " [  2   0   0 129   5]\n",
      " [ 11   0  14  46  61]]\n",
      "\n",
      "Test set: Average loss: 0.7521, Accuracy: 347/512 (68%)\n",
      "\n"
     ]
    },
    {
     "data": {
      "application/vnd.jupyter.widget-view+json": {
       "model_id": "0b9bbf33a20549eeacbd66dc7fd88d4a",
       "version_major": 2,
       "version_minor": 0
      },
      "text/plain": [
       "  0%|          | 0/2 [00:00<?, ?it/s]"
      ]
     },
     "metadata": {},
     "output_type": "display_data"
    },
    {
     "name": "stdout",
     "output_type": "stream",
     "text": [
      "[[15  0  6  0  5]\n",
      " [ 3  4  3  0 10]\n",
      " [ 1  0 13  0  0]\n",
      " [ 0  0  0 29  2]\n",
      " [ 1  0  1 17 18]]\n",
      "\n",
      "Test set: Average loss: 0.8769, Accuracy: 79/128 (62%)\n",
      "\n"
     ]
    },
    {
     "data": {
      "application/vnd.jupyter.widget-view+json": {
       "model_id": "7f4e885141464274b081daa5ab4529cd",
       "version_major": 2,
       "version_minor": 0
      },
      "text/plain": [
       "  0%|          | 0/8 [00:00<?, ?it/s]"
      ]
     },
     "metadata": {},
     "output_type": "display_data"
    },
    {
     "data": {
      "application/vnd.jupyter.widget-view+json": {
       "model_id": "c9f787a337c34c969aa3419eb1271255",
       "version_major": 2,
       "version_minor": 0
      },
      "text/plain": [
       "  0%|          | 0/8 [00:00<?, ?it/s]"
      ]
     },
     "metadata": {},
     "output_type": "display_data"
    },
    {
     "name": "stdout",
     "output_type": "stream",
     "text": [
      "[[ 67   4   1   1   4]\n",
      " [ 34  33   0   0  13]\n",
      " [ 66   2  15   0   4]\n",
      " [  0   0   0 135   1]\n",
      " [ 23  10   7  49  43]]\n",
      "\n",
      "Test set: Average loss: 1.0717, Accuracy: 293/512 (57%)\n",
      "\n"
     ]
    },
    {
     "data": {
      "application/vnd.jupyter.widget-view+json": {
       "model_id": "8c2c1c8702594cc697e2fa7b1df62b44",
       "version_major": 2,
       "version_minor": 0
      },
      "text/plain": [
       "  0%|          | 0/2 [00:00<?, ?it/s]"
      ]
     },
     "metadata": {},
     "output_type": "display_data"
    },
    {
     "name": "stdout",
     "output_type": "stream",
     "text": [
      "[[22  2  1  0  1]\n",
      " [11  5  0  0  4]\n",
      " [10  1  3  0  0]\n",
      " [ 0  0  0 30  1]\n",
      " [ 5  2  0 17 13]]\n",
      "\n",
      "Test set: Average loss: 0.9115, Accuracy: 73/128 (57%)\n",
      "\n"
     ]
    },
    {
     "data": {
      "application/vnd.jupyter.widget-view+json": {
       "model_id": "a70c70cc612d4ce4b088505d18116113",
       "version_major": 2,
       "version_minor": 0
      },
      "text/plain": [
       "  0%|          | 0/8 [00:00<?, ?it/s]"
      ]
     },
     "metadata": {},
     "output_type": "display_data"
    },
    {
     "data": {
      "application/vnd.jupyter.widget-view+json": {
       "model_id": "6df044d8070c4b0cb0ac107d8e2896a6",
       "version_major": 2,
       "version_minor": 0
      },
      "text/plain": [
       "  0%|          | 0/8 [00:00<?, ?it/s]"
      ]
     },
     "metadata": {},
     "output_type": "display_data"
    },
    {
     "name": "stdout",
     "output_type": "stream",
     "text": [
      "[[12  7 29  1 28]\n",
      " [ 0 37 16  0 27]\n",
      " [ 0  0 60  0 27]\n",
      " [ 0  0  0 91 45]\n",
      " [ 1  1 19 31 80]]\n",
      "\n",
      "Test set: Average loss: 0.9684, Accuracy: 280/512 (55%)\n",
      "\n"
     ]
    },
    {
     "data": {
      "application/vnd.jupyter.widget-view+json": {
       "model_id": "9b38805a7e0e456581a231cb31157c18",
       "version_major": 2,
       "version_minor": 0
      },
      "text/plain": [
       "  0%|          | 0/2 [00:00<?, ?it/s]"
      ]
     },
     "metadata": {},
     "output_type": "display_data"
    },
    {
     "name": "stdout",
     "output_type": "stream",
     "text": [
      "[[ 4  2 11  0  9]\n",
      " [ 0  5  4  0 11]\n",
      " [ 0  0  8  0  6]\n",
      " [ 0  0  0 23  8]\n",
      " [ 1  1  2 10 23]]\n",
      "\n",
      "Test set: Average loss: 1.2194, Accuracy: 63/128 (49%)\n",
      "\n"
     ]
    },
    {
     "data": {
      "application/vnd.jupyter.widget-view+json": {
       "model_id": "2030ab003e3b4cb1a68c11a8052af120",
       "version_major": 2,
       "version_minor": 0
      },
      "text/plain": [
       "  0%|          | 0/8 [00:00<?, ?it/s]"
      ]
     },
     "metadata": {},
     "output_type": "display_data"
    },
    {
     "data": {
      "application/vnd.jupyter.widget-view+json": {
       "model_id": "9509037524ea4d52b8fff1caf97e0b49",
       "version_major": 2,
       "version_minor": 0
      },
      "text/plain": [
       "  0%|          | 0/8 [00:00<?, ?it/s]"
      ]
     },
     "metadata": {},
     "output_type": "display_data"
    },
    {
     "name": "stdout",
     "output_type": "stream",
     "text": [
      "[[ 53  14   2   1   7]\n",
      " [  3  72   2   0   3]\n",
      " [ 15  12  45   0  15]\n",
      " [  2   0   0 134   0]\n",
      " [  7  24   9  51  41]]\n",
      "\n",
      "Test set: Average loss: 0.7582, Accuracy: 345/512 (67%)\n",
      "\n"
     ]
    },
    {
     "data": {
      "application/vnd.jupyter.widget-view+json": {
       "model_id": "961a784cec3c43b6a3dd78c064b32222",
       "version_major": 2,
       "version_minor": 0
      },
      "text/plain": [
       "  0%|          | 0/2 [00:00<?, ?it/s]"
      ]
     },
     "metadata": {},
     "output_type": "display_data"
    },
    {
     "name": "stdout",
     "output_type": "stream",
     "text": [
      "[[15  6  1  0  4]\n",
      " [ 2 17  0  0  1]\n",
      " [ 3  2  7  0  2]\n",
      " [ 0  0  0 31  0]\n",
      " [ 1  4  1 17 14]]\n",
      "\n",
      "Test set: Average loss: 0.8369, Accuracy: 84/128 (66%)\n",
      "\n"
     ]
    },
    {
     "data": {
      "application/vnd.jupyter.widget-view+json": {
       "model_id": "f3919443aa5e48058f97e5be8a5b151f",
       "version_major": 2,
       "version_minor": 0
      },
      "text/plain": [
       "  0%|          | 0/8 [00:00<?, ?it/s]"
      ]
     },
     "metadata": {},
     "output_type": "display_data"
    },
    {
     "data": {
      "application/vnd.jupyter.widget-view+json": {
       "model_id": "d00146ece71e41d8aa642d4ed280ab7d",
       "version_major": 2,
       "version_minor": 0
      },
      "text/plain": [
       "  0%|          | 0/8 [00:00<?, ?it/s]"
      ]
     },
     "metadata": {},
     "output_type": "display_data"
    },
    {
     "name": "stdout",
     "output_type": "stream",
     "text": [
      "[[ 25  30  14   1   7]\n",
      " [  0  78   0   0   2]\n",
      " [  1  16  64   0   6]\n",
      " [  1   0   0 106  29]\n",
      " [  3  30  11  38  50]]\n",
      "\n",
      "Test set: Average loss: 0.8176, Accuracy: 323/512 (63%)\n",
      "\n"
     ]
    },
    {
     "data": {
      "application/vnd.jupyter.widget-view+json": {
       "model_id": "aae36bde783a45b7af59aee5baaf5c31",
       "version_major": 2,
       "version_minor": 0
      },
      "text/plain": [
       "  0%|          | 0/2 [00:00<?, ?it/s]"
      ]
     },
     "metadata": {},
     "output_type": "display_data"
    },
    {
     "name": "stdout",
     "output_type": "stream",
     "text": [
      "[[ 6 15  3  0  2]\n",
      " [ 0 18  0  0  2]\n",
      " [ 1  2  7  0  4]\n",
      " [ 0  0  0 26  5]\n",
      " [ 1  6  0 14 16]]\n",
      "\n",
      "Test set: Average loss: 0.9097, Accuracy: 73/128 (57%)\n",
      "\n"
     ]
    },
    {
     "data": {
      "application/vnd.jupyter.widget-view+json": {
       "model_id": "30a3f48c7b7a494d9de58cd5a0da8622",
       "version_major": 2,
       "version_minor": 0
      },
      "text/plain": [
       "  0%|          | 0/8 [00:00<?, ?it/s]"
      ]
     },
     "metadata": {},
     "output_type": "display_data"
    },
    {
     "data": {
      "application/vnd.jupyter.widget-view+json": {
       "model_id": "1eefdaa5f97c433780f29542a2930faa",
       "version_major": 2,
       "version_minor": 0
      },
      "text/plain": [
       "  0%|          | 0/8 [00:00<?, ?it/s]"
      ]
     },
     "metadata": {},
     "output_type": "display_data"
    },
    {
     "name": "stdout",
     "output_type": "stream",
     "text": [
      "[[ 76   0   1   0   0]\n",
      " [ 41  38   0   0   1]\n",
      " [ 71   0  16   0   0]\n",
      " [  2   0   0 134   0]\n",
      " [ 54   8   2  50  18]]\n",
      "\n",
      "Test set: Average loss: 1.4048, Accuracy: 282/512 (55%)\n",
      "\n"
     ]
    },
    {
     "data": {
      "application/vnd.jupyter.widget-view+json": {
       "model_id": "0cb767d53d9c49eab3e2db4f429b97a2",
       "version_major": 2,
       "version_minor": 0
      },
      "text/plain": [
       "  0%|          | 0/2 [00:00<?, ?it/s]"
      ]
     },
     "metadata": {},
     "output_type": "display_data"
    },
    {
     "name": "stdout",
     "output_type": "stream",
     "text": [
      "[[26  0  0  0  0]\n",
      " [10 10  0  0  0]\n",
      " [12  0  2  0  0]\n",
      " [ 0  0  0 31  0]\n",
      " [12  2  0 17  6]]\n",
      "\n",
      "Test set: Average loss: 1.3552, Accuracy: 75/128 (59%)\n",
      "\n"
     ]
    },
    {
     "data": {
      "application/vnd.jupyter.widget-view+json": {
       "model_id": "5c8c644fda174ab28dcbd065584c4ee2",
       "version_major": 2,
       "version_minor": 0
      },
      "text/plain": [
       "  0%|          | 0/8 [00:00<?, ?it/s]"
      ]
     },
     "metadata": {},
     "output_type": "display_data"
    },
    {
     "data": {
      "application/vnd.jupyter.widget-view+json": {
       "model_id": "db458aea736f40a29443b8bb4396cef3",
       "version_major": 2,
       "version_minor": 0
      },
      "text/plain": [
       "  0%|          | 0/8 [00:00<?, ?it/s]"
      ]
     },
     "metadata": {},
     "output_type": "display_data"
    },
    {
     "name": "stdout",
     "output_type": "stream",
     "text": [
      "[[ 66   7   2   0   2]\n",
      " [ 12  67   0   0   1]\n",
      " [ 19  11  57   0   0]\n",
      " [  2   0   0 131   3]\n",
      " [ 17  20  10  49  36]]\n",
      "\n",
      "Test set: Average loss: 0.7104, Accuracy: 357/512 (70%)\n",
      "\n"
     ]
    },
    {
     "data": {
      "application/vnd.jupyter.widget-view+json": {
       "model_id": "ff0d0f567bb442abbaf53bf6832ef524",
       "version_major": 2,
       "version_minor": 0
      },
      "text/plain": [
       "  0%|          | 0/2 [00:00<?, ?it/s]"
      ]
     },
     "metadata": {},
     "output_type": "display_data"
    },
    {
     "name": "stdout",
     "output_type": "stream",
     "text": [
      "[[21  3  0  0  2]\n",
      " [ 5 14  1  0  0]\n",
      " [ 4  2  6  0  2]\n",
      " [ 0  0  0 30  1]\n",
      " [ 3  4  1 17 12]]\n",
      "\n",
      "Test set: Average loss: 0.8428, Accuracy: 83/128 (65%)\n",
      "\n"
     ]
    },
    {
     "data": {
      "application/vnd.jupyter.widget-view+json": {
       "model_id": "5296db179640441f9b0fdff73814d8d5",
       "version_major": 2,
       "version_minor": 0
      },
      "text/plain": [
       "  0%|          | 0/8 [00:00<?, ?it/s]"
      ]
     },
     "metadata": {},
     "output_type": "display_data"
    },
    {
     "data": {
      "application/vnd.jupyter.widget-view+json": {
       "model_id": "2783948edf0f42d7acef9f2054c2d12e",
       "version_major": 2,
       "version_minor": 0
      },
      "text/plain": [
       "  0%|          | 0/8 [00:00<?, ?it/s]"
      ]
     },
     "metadata": {},
     "output_type": "display_data"
    },
    {
     "name": "stdout",
     "output_type": "stream",
     "text": [
      "[[ 70   0   4   2   1]\n",
      " [ 22  32   9   0  17]\n",
      " [ 13   0  61   0  13]\n",
      " [  0   0   0 136   0]\n",
      " [ 15   0  16  52  49]]\n",
      "\n",
      "Test set: Average loss: 0.7889, Accuracy: 348/512 (68%)\n",
      "\n"
     ]
    },
    {
     "data": {
      "application/vnd.jupyter.widget-view+json": {
       "model_id": "865bfa199acb4a67a73cd879221d0c47",
       "version_major": 2,
       "version_minor": 0
      },
      "text/plain": [
       "  0%|          | 0/2 [00:00<?, ?it/s]"
      ]
     },
     "metadata": {},
     "output_type": "display_data"
    },
    {
     "name": "stdout",
     "output_type": "stream",
     "text": [
      "[[16  1  6  0  3]\n",
      " [ 7  1  7  0  5]\n",
      " [ 3  0  8  0  3]\n",
      " [ 0  0  0 31  0]\n",
      " [ 3  0  1 17 16]]\n",
      "\n",
      "Test set: Average loss: 1.0087, Accuracy: 72/128 (56%)\n",
      "\n"
     ]
    },
    {
     "data": {
      "application/vnd.jupyter.widget-view+json": {
       "model_id": "022754dcdd824edfa5d9075267ac71fa",
       "version_major": 2,
       "version_minor": 0
      },
      "text/plain": [
       "  0%|          | 0/8 [00:00<?, ?it/s]"
      ]
     },
     "metadata": {},
     "output_type": "display_data"
    },
    {
     "data": {
      "application/vnd.jupyter.widget-view+json": {
       "model_id": "75c1e4341aa14c7f970001d441716ffc",
       "version_major": 2,
       "version_minor": 0
      },
      "text/plain": [
       "  0%|          | 0/8 [00:00<?, ?it/s]"
      ]
     },
     "metadata": {},
     "output_type": "display_data"
    },
    {
     "name": "stdout",
     "output_type": "stream",
     "text": [
      "[[ 31   8  22   2  14]\n",
      " [  2  50  15   0  13]\n",
      " [  0   1  63   0  23]\n",
      " [  0   0   0 136   0]\n",
      " [  1   5  20  51  55]]\n",
      "\n",
      "Test set: Average loss: 0.7480, Accuracy: 335/512 (65%)\n",
      "\n"
     ]
    },
    {
     "data": {
      "application/vnd.jupyter.widget-view+json": {
       "model_id": "24cadd17295e46378b803d09fc334886",
       "version_major": 2,
       "version_minor": 0
      },
      "text/plain": [
       "  0%|          | 0/2 [00:00<?, ?it/s]"
      ]
     },
     "metadata": {},
     "output_type": "display_data"
    },
    {
     "name": "stdout",
     "output_type": "stream",
     "text": [
      "[[10  1 10  0  5]\n",
      " [ 1  5  4  0 10]\n",
      " [ 0  0  9  0  5]\n",
      " [ 0  0  0 31  0]\n",
      " [ 1  2  1 17 16]]\n",
      "\n",
      "Test set: Average loss: 0.9792, Accuracy: 71/128 (55%)\n",
      "\n"
     ]
    },
    {
     "data": {
      "application/vnd.jupyter.widget-view+json": {
       "model_id": "f984eec208b9445b8a6120c18d891935",
       "version_major": 2,
       "version_minor": 0
      },
      "text/plain": [
       "  0%|          | 0/8 [00:00<?, ?it/s]"
      ]
     },
     "metadata": {},
     "output_type": "display_data"
    },
    {
     "data": {
      "application/vnd.jupyter.widget-view+json": {
       "model_id": "0e3832dfdbdc4b02a8d2566f9558b50e",
       "version_major": 2,
       "version_minor": 0
      },
      "text/plain": [
       "  0%|          | 0/8 [00:00<?, ?it/s]"
      ]
     },
     "metadata": {},
     "output_type": "display_data"
    },
    {
     "name": "stdout",
     "output_type": "stream",
     "text": [
      "[[ 16  11  23   0  27]\n",
      " [  0  49   8   0  23]\n",
      " [  0   1  80   0   6]\n",
      " [  0   0   3   1 132]\n",
      " [  1   1  19   0 111]]\n",
      "\n",
      "Test set: Average loss: 0.9450, Accuracy: 257/512 (50%)\n",
      "\n"
     ]
    },
    {
     "data": {
      "application/vnd.jupyter.widget-view+json": {
       "model_id": "868f660f240645d585fc734ff9a91677",
       "version_major": 2,
       "version_minor": 0
      },
      "text/plain": [
       "  0%|          | 0/2 [00:00<?, ?it/s]"
      ]
     },
     "metadata": {},
     "output_type": "display_data"
    },
    {
     "name": "stdout",
     "output_type": "stream",
     "text": [
      "[[ 3  4 10  0  9]\n",
      " [ 0  8  2  0 10]\n",
      " [ 0  0 12  0  2]\n",
      " [ 0  0  0  0 31]\n",
      " [ 1  0  1  0 35]]\n",
      "\n",
      "Test set: Average loss: 1.1145, Accuracy: 58/128 (45%)\n",
      "\n"
     ]
    },
    {
     "data": {
      "application/vnd.jupyter.widget-view+json": {
       "model_id": "8c2e7cac01dd4914b289db3639d5e2d9",
       "version_major": 2,
       "version_minor": 0
      },
      "text/plain": [
       "  0%|          | 0/8 [00:00<?, ?it/s]"
      ]
     },
     "metadata": {},
     "output_type": "display_data"
    },
    {
     "data": {
      "application/vnd.jupyter.widget-view+json": {
       "model_id": "ee2ce7fa8c8a4a3ca228eefec221b018",
       "version_major": 2,
       "version_minor": 0
      },
      "text/plain": [
       "  0%|          | 0/8 [00:00<?, ?it/s]"
      ]
     },
     "metadata": {},
     "output_type": "display_data"
    },
    {
     "name": "stdout",
     "output_type": "stream",
     "text": [
      "[[ 75   0   0   0   2]\n",
      " [ 30  21   0   0  29]\n",
      " [ 66   0   4   0  17]\n",
      " [  2   0   0 122  12]\n",
      " [ 27   0   1  40  64]]\n",
      "\n",
      "Test set: Average loss: 1.2260, Accuracy: 286/512 (56%)\n",
      "\n"
     ]
    },
    {
     "data": {
      "application/vnd.jupyter.widget-view+json": {
       "model_id": "2459e2c95d7d421da4421537b0b5a70d",
       "version_major": 2,
       "version_minor": 0
      },
      "text/plain": [
       "  0%|          | 0/2 [00:00<?, ?it/s]"
      ]
     },
     "metadata": {},
     "output_type": "display_data"
    },
    {
     "name": "stdout",
     "output_type": "stream",
     "text": [
      "[[24  0  0  0  2]\n",
      " [10  0  1  0  9]\n",
      " [11  0  0  0  3]\n",
      " [ 0  0  0 28  3]\n",
      " [ 5  0  0 16 16]]\n",
      "\n",
      "Test set: Average loss: 1.2359, Accuracy: 68/128 (53%)\n",
      "\n"
     ]
    },
    {
     "data": {
      "application/vnd.jupyter.widget-view+json": {
       "model_id": "7c768f2403304ec8bd729e989e0eac70",
       "version_major": 2,
       "version_minor": 0
      },
      "text/plain": [
       "  0%|          | 0/8 [00:00<?, ?it/s]"
      ]
     },
     "metadata": {},
     "output_type": "display_data"
    },
    {
     "data": {
      "application/vnd.jupyter.widget-view+json": {
       "model_id": "61ef86c1872944cd8a3a0ceba8309c54",
       "version_major": 2,
       "version_minor": 0
      },
      "text/plain": [
       "  0%|          | 0/8 [00:00<?, ?it/s]"
      ]
     },
     "metadata": {},
     "output_type": "display_data"
    },
    {
     "name": "stdout",
     "output_type": "stream",
     "text": [
      "[[ 71   1   2   1   2]\n",
      " [ 19  55   1   0   5]\n",
      " [ 31  22  22   0  12]\n",
      " [  1   0   0 135   0]\n",
      " [ 20  13   3  51  45]]\n",
      "\n",
      "Test set: Average loss: 0.9897, Accuracy: 328/512 (64%)\n",
      "\n"
     ]
    },
    {
     "data": {
      "application/vnd.jupyter.widget-view+json": {
       "model_id": "e161ae39d9b0417aac87b62dff587848",
       "version_major": 2,
       "version_minor": 0
      },
      "text/plain": [
       "  0%|          | 0/2 [00:00<?, ?it/s]"
      ]
     },
     "metadata": {},
     "output_type": "display_data"
    },
    {
     "name": "stdout",
     "output_type": "stream",
     "text": [
      "[[19  0  3  0  4]\n",
      " [ 4 11  3  0  2]\n",
      " [ 5  3  3  0  3]\n",
      " [ 0  0  0 31  0]\n",
      " [ 4  4  1 17 11]]\n",
      "\n",
      "Test set: Average loss: 1.0073, Accuracy: 75/128 (59%)\n",
      "\n"
     ]
    },
    {
     "data": {
      "application/vnd.jupyter.widget-view+json": {
       "model_id": "e6a0d3c716d343328951e41e543a8800",
       "version_major": 2,
       "version_minor": 0
      },
      "text/plain": [
       "  0%|          | 0/8 [00:00<?, ?it/s]"
      ]
     },
     "metadata": {},
     "output_type": "display_data"
    },
    {
     "data": {
      "application/vnd.jupyter.widget-view+json": {
       "model_id": "8d75af86152d47a28a456088a6a5634a",
       "version_major": 2,
       "version_minor": 0
      },
      "text/plain": [
       "  0%|          | 0/8 [00:00<?, ?it/s]"
      ]
     },
     "metadata": {},
     "output_type": "display_data"
    },
    {
     "name": "stdout",
     "output_type": "stream",
     "text": [
      "[[ 77   0   0   0   0]\n",
      " [ 80   0   0   0   0]\n",
      " [ 87   0   0   0   0]\n",
      " [ 24   0   0 112   0]\n",
      " [ 80   0   0  41  11]]\n",
      "\n",
      "Test set: Average loss: 3.6546, Accuracy: 200/512 (39%)\n",
      "\n"
     ]
    },
    {
     "data": {
      "application/vnd.jupyter.widget-view+json": {
       "model_id": "dfd25f77af0248a78e6a6a1cad652f5d",
       "version_major": 2,
       "version_minor": 0
      },
      "text/plain": [
       "  0%|          | 0/2 [00:00<?, ?it/s]"
      ]
     },
     "metadata": {},
     "output_type": "display_data"
    },
    {
     "name": "stdout",
     "output_type": "stream",
     "text": [
      "[[26  0  0  0  0]\n",
      " [20  0  0  0  0]\n",
      " [13  0  1  0  0]\n",
      " [ 4  0  0 27  0]\n",
      " [17  0  0 16  4]]\n",
      "\n",
      "Test set: Average loss: 2.9009, Accuracy: 58/128 (45%)\n",
      "\n"
     ]
    },
    {
     "data": {
      "application/vnd.jupyter.widget-view+json": {
       "model_id": "1d312f28fe5740a2aa38bbd2faa87c64",
       "version_major": 2,
       "version_minor": 0
      },
      "text/plain": [
       "  0%|          | 0/8 [00:00<?, ?it/s]"
      ]
     },
     "metadata": {},
     "output_type": "display_data"
    },
    {
     "data": {
      "application/vnd.jupyter.widget-view+json": {
       "model_id": "d5392b7d70c944ccbf5c2f00f12737ed",
       "version_major": 2,
       "version_minor": 0
      },
      "text/plain": [
       "  0%|          | 0/8 [00:00<?, ?it/s]"
      ]
     },
     "metadata": {},
     "output_type": "display_data"
    },
    {
     "name": "stdout",
     "output_type": "stream",
     "text": [
      "[[ 52  12   3   1   9]\n",
      " [  1  70   2   0   7]\n",
      " [  7  34  33   0  13]\n",
      " [  0   0   0 136   0]\n",
      " [  8  17   5  51  51]]\n",
      "\n",
      "Test set: Average loss: 0.8204, Accuracy: 342/512 (67%)\n",
      "\n"
     ]
    },
    {
     "data": {
      "application/vnd.jupyter.widget-view+json": {
       "model_id": "37429e80d8c84ddcb71a77c1d7e362b3",
       "version_major": 2,
       "version_minor": 0
      },
      "text/plain": [
       "  0%|          | 0/2 [00:00<?, ?it/s]"
      ]
     },
     "metadata": {},
     "output_type": "display_data"
    },
    {
     "name": "stdout",
     "output_type": "stream",
     "text": [
      "[[11  6  3  0  6]\n",
      " [ 0 15  3  0  2]\n",
      " [ 2  3  5  0  4]\n",
      " [ 0  0  0 31  0]\n",
      " [ 2  4  1 17 13]]\n",
      "\n",
      "Test set: Average loss: 0.9313, Accuracy: 75/128 (59%)\n",
      "\n"
     ]
    },
    {
     "data": {
      "application/vnd.jupyter.widget-view+json": {
       "model_id": "28503d7a33a84bbf80cb81ed0cbbb4b4",
       "version_major": 2,
       "version_minor": 0
      },
      "text/plain": [
       "  0%|          | 0/8 [00:00<?, ?it/s]"
      ]
     },
     "metadata": {},
     "output_type": "display_data"
    },
    {
     "data": {
      "application/vnd.jupyter.widget-view+json": {
       "model_id": "34cc7a30194145ea9ed37f7bf274b83d",
       "version_major": 2,
       "version_minor": 0
      },
      "text/plain": [
       "  0%|          | 0/8 [00:00<?, ?it/s]"
      ]
     },
     "metadata": {},
     "output_type": "display_data"
    },
    {
     "name": "stdout",
     "output_type": "stream",
     "text": [
      "[[ 18  21  13   2  23]\n",
      " [  0  45   3   0  32]\n",
      " [  0   3  75   0   9]\n",
      " [  0   0   0 136   0]\n",
      " [  1  12  16  52  51]]\n",
      "\n",
      "Test set: Average loss: 0.7771, Accuracy: 325/512 (63%)\n",
      "\n"
     ]
    },
    {
     "data": {
      "application/vnd.jupyter.widget-view+json": {
       "model_id": "09460bd50066415aa97e499ce734187d",
       "version_major": 2,
       "version_minor": 0
      },
      "text/plain": [
       "  0%|          | 0/2 [00:00<?, ?it/s]"
      ]
     },
     "metadata": {},
     "output_type": "display_data"
    },
    {
     "name": "stdout",
     "output_type": "stream",
     "text": [
      "[[ 5  8  5  0  8]\n",
      " [ 0  9  0  0 11]\n",
      " [ 0  0 12  0  2]\n",
      " [ 0  0  0 31  0]\n",
      " [ 1  2  1 17 16]]\n",
      "\n",
      "Test set: Average loss: 1.0043, Accuracy: 73/128 (57%)\n",
      "\n"
     ]
    },
    {
     "data": {
      "application/vnd.jupyter.widget-view+json": {
       "model_id": "48deaba68dd74e379171155017c21b2e",
       "version_major": 2,
       "version_minor": 0
      },
      "text/plain": [
       "  0%|          | 0/8 [00:00<?, ?it/s]"
      ]
     },
     "metadata": {},
     "output_type": "display_data"
    },
    {
     "data": {
      "application/vnd.jupyter.widget-view+json": {
       "model_id": "cee93b1bda65432cad3dc6e6a963931b",
       "version_major": 2,
       "version_minor": 0
      },
      "text/plain": [
       "  0%|          | 0/8 [00:00<?, ?it/s]"
      ]
     },
     "metadata": {},
     "output_type": "display_data"
    },
    {
     "name": "stdout",
     "output_type": "stream",
     "text": [
      "[[ 64   9   1   2   1]\n",
      " [  9  70   0   0   1]\n",
      " [ 24  13  42   0   8]\n",
      " [  0   0   0 136   0]\n",
      " [ 15  23   8  52  34]]\n",
      "\n",
      "Test set: Average loss: 0.7495, Accuracy: 346/512 (68%)\n",
      "\n"
     ]
    },
    {
     "data": {
      "application/vnd.jupyter.widget-view+json": {
       "model_id": "a7b6f3d07098471c96bfe921992ebf7c",
       "version_major": 2,
       "version_minor": 0
      },
      "text/plain": [
       "  0%|          | 0/2 [00:00<?, ?it/s]"
      ]
     },
     "metadata": {},
     "output_type": "display_data"
    },
    {
     "name": "stdout",
     "output_type": "stream",
     "text": [
      "[[18  6  1  0  1]\n",
      " [ 3 16  0  0  1]\n",
      " [ 5  2  6  0  1]\n",
      " [ 0  0  0 31  0]\n",
      " [ 1  7  0 17 12]]\n",
      "\n",
      "Test set: Average loss: 0.7614, Accuracy: 83/128 (65%)\n",
      "\n"
     ]
    },
    {
     "data": {
      "application/vnd.jupyter.widget-view+json": {
       "model_id": "33130bcc083148b892ba16665168035a",
       "version_major": 2,
       "version_minor": 0
      },
      "text/plain": [
       "  0%|          | 0/8 [00:00<?, ?it/s]"
      ]
     },
     "metadata": {},
     "output_type": "display_data"
    },
    {
     "data": {
      "application/vnd.jupyter.widget-view+json": {
       "model_id": "60d741f08714433b8c6788d80d459717",
       "version_major": 2,
       "version_minor": 0
      },
      "text/plain": [
       "  0%|          | 0/8 [00:00<?, ?it/s]"
      ]
     },
     "metadata": {},
     "output_type": "display_data"
    },
    {
     "name": "stdout",
     "output_type": "stream",
     "text": [
      "[[ 70   0   2   0   5]\n",
      " [ 19  12  25   0  24]\n",
      " [ 25   0  34   0  28]\n",
      " [  0   0   0 119  17]\n",
      " [ 21   3  11  43  54]]\n",
      "\n",
      "Test set: Average loss: 1.0980, Accuracy: 289/512 (56%)\n",
      "\n"
     ]
    },
    {
     "data": {
      "application/vnd.jupyter.widget-view+json": {
       "model_id": "711584a22d354cb4a111f15355a6756d",
       "version_major": 2,
       "version_minor": 0
      },
      "text/plain": [
       "  0%|          | 0/2 [00:00<?, ?it/s]"
      ]
     },
     "metadata": {},
     "output_type": "display_data"
    },
    {
     "name": "stdout",
     "output_type": "stream",
     "text": [
      "[[22  0  1  0  3]\n",
      " [ 8  1  3  0  8]\n",
      " [ 6  0  4  0  4]\n",
      " [ 0  0  0 27  4]\n",
      " [ 3  1  3 14 16]]\n",
      "\n",
      "Test set: Average loss: 1.1580, Accuracy: 70/128 (55%)\n",
      "\n"
     ]
    },
    {
     "data": {
      "application/vnd.jupyter.widget-view+json": {
       "model_id": "eb0303391c1549fcb45c74a4b684a460",
       "version_major": 2,
       "version_minor": 0
      },
      "text/plain": [
       "  0%|          | 0/8 [00:00<?, ?it/s]"
      ]
     },
     "metadata": {},
     "output_type": "display_data"
    },
    {
     "data": {
      "application/vnd.jupyter.widget-view+json": {
       "model_id": "ae3ff333e84b47fdb44c9992ebe7b737",
       "version_major": 2,
       "version_minor": 0
      },
      "text/plain": [
       "  0%|          | 0/8 [00:00<?, ?it/s]"
      ]
     },
     "metadata": {},
     "output_type": "display_data"
    },
    {
     "name": "stdout",
     "output_type": "stream",
     "text": [
      "[[ 66   6   0   0   5]\n",
      " [ 15  64   0   0   1]\n",
      " [ 35   5  27   0  20]\n",
      " [ 11   0   0 125   0]\n",
      " [ 18  23   3  47  41]]\n",
      "\n",
      "Test set: Average loss: 0.9550, Accuracy: 323/512 (63%)\n",
      "\n"
     ]
    },
    {
     "data": {
      "application/vnd.jupyter.widget-view+json": {
       "model_id": "3057fbb8cfeb41bca5e0221f4ce8ff79",
       "version_major": 2,
       "version_minor": 0
      },
      "text/plain": [
       "  0%|          | 0/2 [00:00<?, ?it/s]"
      ]
     },
     "metadata": {},
     "output_type": "display_data"
    },
    {
     "name": "stdout",
     "output_type": "stream",
     "text": [
      "[[20  4  0  0  2]\n",
      " [ 3 15  0  0  2]\n",
      " [ 6  1  1  0  6]\n",
      " [ 2  0  0 29  0]\n",
      " [ 5  5  0 16 11]]\n",
      "\n",
      "Test set: Average loss: 0.9915, Accuracy: 76/128 (59%)\n",
      "\n"
     ]
    },
    {
     "data": {
      "application/vnd.jupyter.widget-view+json": {
       "model_id": "f3d2c04912dc4506926f7493273cc17d",
       "version_major": 2,
       "version_minor": 0
      },
      "text/plain": [
       "  0%|          | 0/8 [00:00<?, ?it/s]"
      ]
     },
     "metadata": {},
     "output_type": "display_data"
    },
    {
     "data": {
      "application/vnd.jupyter.widget-view+json": {
       "model_id": "5f632c7b4c8e412d9fed7809ebe22ee2",
       "version_major": 2,
       "version_minor": 0
      },
      "text/plain": [
       "  0%|          | 0/8 [00:00<?, ?it/s]"
      ]
     },
     "metadata": {},
     "output_type": "display_data"
    },
    {
     "name": "stdout",
     "output_type": "stream",
     "text": [
      "[[ 75   0   1   1   0]\n",
      " [ 32  46   2   0   0]\n",
      " [ 27   0  60   0   0]\n",
      " [  0   0   0 136   0]\n",
      " [ 38   5   7  51  31]]\n",
      "\n",
      "Test set: Average loss: 0.8080, Accuracy: 348/512 (68%)\n",
      "\n"
     ]
    },
    {
     "data": {
      "application/vnd.jupyter.widget-view+json": {
       "model_id": "4b9cff8f252244b7a286fc95854a879f",
       "version_major": 2,
       "version_minor": 0
      },
      "text/plain": [
       "  0%|          | 0/2 [00:00<?, ?it/s]"
      ]
     },
     "metadata": {},
     "output_type": "display_data"
    },
    {
     "name": "stdout",
     "output_type": "stream",
     "text": [
      "[[24  1  1  0  0]\n",
      " [10  7  2  0  1]\n",
      " [ 4  0 10  0  0]\n",
      " [ 0  0  0 31  0]\n",
      " [ 8  1  1 17 10]]\n",
      "\n",
      "Test set: Average loss: 0.9043, Accuracy: 82/128 (64%)\n",
      "\n"
     ]
    },
    {
     "data": {
      "application/vnd.jupyter.widget-view+json": {
       "model_id": "87007afecff44b9e9a19b617744c5c2b",
       "version_major": 2,
       "version_minor": 0
      },
      "text/plain": [
       "  0%|          | 0/8 [00:00<?, ?it/s]"
      ]
     },
     "metadata": {},
     "output_type": "display_data"
    },
    {
     "data": {
      "application/vnd.jupyter.widget-view+json": {
       "model_id": "750ee1b208e842e38ec40e3b7fc5c385",
       "version_major": 2,
       "version_minor": 0
      },
      "text/plain": [
       "  0%|          | 0/8 [00:00<?, ?it/s]"
      ]
     },
     "metadata": {},
     "output_type": "display_data"
    },
    {
     "name": "stdout",
     "output_type": "stream",
     "text": [
      "[[ 74   0   0   1   2]\n",
      " [ 37  35   0   0   8]\n",
      " [ 52   0  26   0   9]\n",
      " [  0   0   0 136   0]\n",
      " [ 24   5   5  52  46]]\n",
      "\n",
      "Test set: Average loss: 0.9315, Accuracy: 317/512 (62%)\n",
      "\n"
     ]
    },
    {
     "data": {
      "application/vnd.jupyter.widget-view+json": {
       "model_id": "b290f4da92fe48c887718bdd14301c0d",
       "version_major": 2,
       "version_minor": 0
      },
      "text/plain": [
       "  0%|          | 0/2 [00:00<?, ?it/s]"
      ]
     },
     "metadata": {},
     "output_type": "display_data"
    },
    {
     "name": "stdout",
     "output_type": "stream",
     "text": [
      "[[25  0  0  0  1]\n",
      " [ 9  6  0  0  5]\n",
      " [ 9  0  1  0  4]\n",
      " [ 0  0  0 31  0]\n",
      " [ 4  2  0 17 14]]\n",
      "\n",
      "Test set: Average loss: 0.9421, Accuracy: 77/128 (60%)\n",
      "\n"
     ]
    },
    {
     "data": {
      "application/vnd.jupyter.widget-view+json": {
       "model_id": "2a73f36a0b97418c80eb7087f4cb9c89",
       "version_major": 2,
       "version_minor": 0
      },
      "text/plain": [
       "  0%|          | 0/8 [00:00<?, ?it/s]"
      ]
     },
     "metadata": {},
     "output_type": "display_data"
    },
    {
     "data": {
      "application/vnd.jupyter.widget-view+json": {
       "model_id": "7fb368eb6cc64eacb1e51841e26159de",
       "version_major": 2,
       "version_minor": 0
      },
      "text/plain": [
       "  0%|          | 0/8 [00:00<?, ?it/s]"
      ]
     },
     "metadata": {},
     "output_type": "display_data"
    },
    {
     "name": "stdout",
     "output_type": "stream",
     "text": [
      "[[ 53   9  11   1   3]\n",
      " [  2  71   4   0   3]\n",
      " [ 11  13  53   0  10]\n",
      " [  0   0   0 136   0]\n",
      " [ 11  14   9  51  47]]\n",
      "\n",
      "Test set: Average loss: 0.7358, Accuracy: 360/512 (70%)\n",
      "\n"
     ]
    },
    {
     "data": {
      "application/vnd.jupyter.widget-view+json": {
       "model_id": "13ea226bf39b4daf97ebd865c8ad0f1c",
       "version_major": 2,
       "version_minor": 0
      },
      "text/plain": [
       "  0%|          | 0/2 [00:00<?, ?it/s]"
      ]
     },
     "metadata": {},
     "output_type": "display_data"
    },
    {
     "name": "stdout",
     "output_type": "stream",
     "text": [
      "[[16  6  2  0  2]\n",
      " [ 3 14  1  0  2]\n",
      " [ 4  2  6  0  2]\n",
      " [ 0  0  0 31  0]\n",
      " [ 3  3  0 17 14]]\n",
      "\n",
      "Test set: Average loss: 0.8009, Accuracy: 81/128 (63%)\n",
      "\n"
     ]
    },
    {
     "data": {
      "application/vnd.jupyter.widget-view+json": {
       "model_id": "bcfcdbf038df438fa7a8f58377af58ba",
       "version_major": 2,
       "version_minor": 0
      },
      "text/plain": [
       "  0%|          | 0/8 [00:00<?, ?it/s]"
      ]
     },
     "metadata": {},
     "output_type": "display_data"
    },
    {
     "data": {
      "application/vnd.jupyter.widget-view+json": {
       "model_id": "3246d052507f44d2975d5b61efbc7903",
       "version_major": 2,
       "version_minor": 0
      },
      "text/plain": [
       "  0%|          | 0/8 [00:00<?, ?it/s]"
      ]
     },
     "metadata": {},
     "output_type": "display_data"
    },
    {
     "name": "stdout",
     "output_type": "stream",
     "text": [
      "[[ 44  15   1   1  16]\n",
      " [  1  65   0   0  14]\n",
      " [  2   3  44   0  38]\n",
      " [  0   0   0 136   0]\n",
      " [  4   9   4  51  64]]\n",
      "\n",
      "Test set: Average loss: 0.7412, Accuracy: 353/512 (69%)\n",
      "\n"
     ]
    },
    {
     "data": {
      "application/vnd.jupyter.widget-view+json": {
       "model_id": "cc53d92c8ee844d9bc4d7669e25ce0dc",
       "version_major": 2,
       "version_minor": 0
      },
      "text/plain": [
       "  0%|          | 0/2 [00:00<?, ?it/s]"
      ]
     },
     "metadata": {},
     "output_type": "display_data"
    },
    {
     "name": "stdout",
     "output_type": "stream",
     "text": [
      "[[ 8  7  1  0 10]\n",
      " [ 0 12  0  0  8]\n",
      " [ 1  0  7  0  6]\n",
      " [ 0  0  0 31  0]\n",
      " [ 0  2  0 17 18]]\n",
      "\n",
      "Test set: Average loss: 0.9914, Accuracy: 76/128 (59%)\n",
      "\n"
     ]
    },
    {
     "data": {
      "application/vnd.jupyter.widget-view+json": {
       "model_id": "34dba6cd0e6f45bfa20fd67ea5b088ca",
       "version_major": 2,
       "version_minor": 0
      },
      "text/plain": [
       "  0%|          | 0/8 [00:00<?, ?it/s]"
      ]
     },
     "metadata": {},
     "output_type": "display_data"
    },
    {
     "data": {
      "application/vnd.jupyter.widget-view+json": {
       "model_id": "d6f3b5f0657c489c8bfce3ef73f08a4c",
       "version_major": 2,
       "version_minor": 0
      },
      "text/plain": [
       "  0%|          | 0/8 [00:00<?, ?it/s]"
      ]
     },
     "metadata": {},
     "output_type": "display_data"
    },
    {
     "name": "stdout",
     "output_type": "stream",
     "text": [
      "[[ 53   3   6   1  14]\n",
      " [  2  65   1   0  12]\n",
      " [  2   2  75   0   8]\n",
      " [  0   0   0 136   0]\n",
      " [  1   7  16  52  56]]\n",
      "\n",
      "Test set: Average loss: 0.6212, Accuracy: 385/512 (75%)\n",
      "\n"
     ]
    },
    {
     "data": {
      "application/vnd.jupyter.widget-view+json": {
       "model_id": "30ebf6c78cd94a32925395f0ec881010",
       "version_major": 2,
       "version_minor": 0
      },
      "text/plain": [
       "  0%|          | 0/2 [00:00<?, ?it/s]"
      ]
     },
     "metadata": {},
     "output_type": "display_data"
    },
    {
     "name": "stdout",
     "output_type": "stream",
     "text": [
      "[[11  1  7  0  7]\n",
      " [ 1 10  1  0  8]\n",
      " [ 0  2 11  0  1]\n",
      " [ 0  0  0 31  0]\n",
      " [ 0  3  1 17 16]]\n",
      "\n",
      "Test set: Average loss: 0.8451, Accuracy: 79/128 (62%)\n",
      "\n"
     ]
    },
    {
     "data": {
      "application/vnd.jupyter.widget-view+json": {
       "model_id": "08a64886cf1245c493126a04b49eae6b",
       "version_major": 2,
       "version_minor": 0
      },
      "text/plain": [
       "  0%|          | 0/8 [00:00<?, ?it/s]"
      ]
     },
     "metadata": {},
     "output_type": "display_data"
    },
    {
     "data": {
      "application/vnd.jupyter.widget-view+json": {
       "model_id": "68e231aff06c4e8d85c034270bca4aa8",
       "version_major": 2,
       "version_minor": 0
      },
      "text/plain": [
       "  0%|          | 0/8 [00:00<?, ?it/s]"
      ]
     },
     "metadata": {},
     "output_type": "display_data"
    },
    {
     "name": "stdout",
     "output_type": "stream",
     "text": [
      "[[ 71   0   4   0   2]\n",
      " [  5  71   1   0   3]\n",
      " [  6   1  76   0   4]\n",
      " [  0   0   0 136   0]\n",
      " [  7   8   8  51  58]]\n",
      "\n",
      "Test set: Average loss: 0.4947, Accuracy: 412/512 (80%)\n",
      "\n"
     ]
    },
    {
     "data": {
      "application/vnd.jupyter.widget-view+json": {
       "model_id": "428bd241355d4eeda5515bd3b7e483ee",
       "version_major": 2,
       "version_minor": 0
      },
      "text/plain": [
       "  0%|          | 0/2 [00:00<?, ?it/s]"
      ]
     },
     "metadata": {},
     "output_type": "display_data"
    },
    {
     "name": "stdout",
     "output_type": "stream",
     "text": [
      "[[18  2  3  0  3]\n",
      " [ 3 15  1  0  1]\n",
      " [ 1  1 11  0  1]\n",
      " [ 0  0  0 31  0]\n",
      " [ 2  3  1 17 14]]\n",
      "\n",
      "Test set: Average loss: 0.7294, Accuracy: 89/128 (70%)\n",
      "\n"
     ]
    },
    {
     "data": {
      "application/vnd.jupyter.widget-view+json": {
       "model_id": "d86053203aad4371b95d53a384173131",
       "version_major": 2,
       "version_minor": 0
      },
      "text/plain": [
       "  0%|          | 0/8 [00:00<?, ?it/s]"
      ]
     },
     "metadata": {},
     "output_type": "display_data"
    },
    {
     "data": {
      "application/vnd.jupyter.widget-view+json": {
       "model_id": "0db32ab7289049dbb7c43a1c5dca181b",
       "version_major": 2,
       "version_minor": 0
      },
      "text/plain": [
       "  0%|          | 0/8 [00:00<?, ?it/s]"
      ]
     },
     "metadata": {},
     "output_type": "display_data"
    },
    {
     "name": "stdout",
     "output_type": "stream",
     "text": [
      "[[ 77   0   0   0   0]\n",
      " [ 64  16   0   0   0]\n",
      " [ 74   0  11   0   2]\n",
      " [ 18   0   0 118   0]\n",
      " [ 62   5   2  44  19]]\n",
      "\n",
      "Test set: Average loss: 1.9138, Accuracy: 241/512 (47%)\n",
      "\n"
     ]
    },
    {
     "data": {
      "application/vnd.jupyter.widget-view+json": {
       "model_id": "5886741b421f4efda54a4535fab21665",
       "version_major": 2,
       "version_minor": 0
      },
      "text/plain": [
       "  0%|          | 0/2 [00:00<?, ?it/s]"
      ]
     },
     "metadata": {},
     "output_type": "display_data"
    },
    {
     "name": "stdout",
     "output_type": "stream",
     "text": [
      "[[26  0  0  0  0]\n",
      " [14  5  0  0  1]\n",
      " [12  0  1  0  1]\n",
      " [ 3  0  0 28  0]\n",
      " [10  2  0 16  9]]\n",
      "\n",
      "Test set: Average loss: 1.5944, Accuracy: 69/128 (54%)\n",
      "\n"
     ]
    },
    {
     "data": {
      "application/vnd.jupyter.widget-view+json": {
       "model_id": "0960e41cc36a4f32bbd4d62c9681adfd",
       "version_major": 2,
       "version_minor": 0
      },
      "text/plain": [
       "  0%|          | 0/8 [00:00<?, ?it/s]"
      ]
     },
     "metadata": {},
     "output_type": "display_data"
    },
    {
     "data": {
      "application/vnd.jupyter.widget-view+json": {
       "model_id": "05b4b4240c9f4c988978919f420d6980",
       "version_major": 2,
       "version_minor": 0
      },
      "text/plain": [
       "  0%|          | 0/8 [00:00<?, ?it/s]"
      ]
     },
     "metadata": {},
     "output_type": "display_data"
    },
    {
     "name": "stdout",
     "output_type": "stream",
     "text": [
      "[[ 74   0   0   0   3]\n",
      " [ 13  65   0   0   2]\n",
      " [ 31  21  24   0  11]\n",
      " [ 12   0   0 124   0]\n",
      " [ 32  14   3  47  36]]\n",
      "\n",
      "Test set: Average loss: 1.2718, Accuracy: 323/512 (63%)\n",
      "\n"
     ]
    },
    {
     "data": {
      "application/vnd.jupyter.widget-view+json": {
       "model_id": "c1eb0f875cd94b7080c6e5b7a6088f69",
       "version_major": 2,
       "version_minor": 0
      },
      "text/plain": [
       "  0%|          | 0/2 [00:00<?, ?it/s]"
      ]
     },
     "metadata": {},
     "output_type": "display_data"
    },
    {
     "name": "stdout",
     "output_type": "stream",
     "text": [
      "[[24  1  0  0  1]\n",
      " [ 4 15  0  0  1]\n",
      " [ 6  2  3  0  3]\n",
      " [ 1  0  0 30  0]\n",
      " [ 7  3  1 17  9]]\n",
      "\n",
      "Test set: Average loss: 1.2242, Accuracy: 81/128 (63%)\n",
      "\n"
     ]
    },
    {
     "data": {
      "application/vnd.jupyter.widget-view+json": {
       "model_id": "a44217c0162744369401c9de164bbb68",
       "version_major": 2,
       "version_minor": 0
      },
      "text/plain": [
       "  0%|          | 0/8 [00:00<?, ?it/s]"
      ]
     },
     "metadata": {},
     "output_type": "display_data"
    },
    {
     "data": {
      "application/vnd.jupyter.widget-view+json": {
       "model_id": "9652f425a8064200b8d351e3dce86ee9",
       "version_major": 2,
       "version_minor": 0
      },
      "text/plain": [
       "  0%|          | 0/8 [00:00<?, ?it/s]"
      ]
     },
     "metadata": {},
     "output_type": "display_data"
    },
    {
     "name": "stdout",
     "output_type": "stream",
     "text": [
      "[[ 27  36   3   1  10]\n",
      " [  0  76   1   0   3]\n",
      " [  0  50  37   0   0]\n",
      " [  3   0   0 133   0]\n",
      " [  2  32   8  49  41]]\n",
      "\n",
      "Test set: Average loss: 1.0032, Accuracy: 314/512 (61%)\n",
      "\n"
     ]
    },
    {
     "data": {
      "application/vnd.jupyter.widget-view+json": {
       "model_id": "0f07af01236f4ab7bc0e53b2757d04f6",
       "version_major": 2,
       "version_minor": 0
      },
      "text/plain": [
       "  0%|          | 0/2 [00:00<?, ?it/s]"
      ]
     },
     "metadata": {},
     "output_type": "display_data"
    },
    {
     "name": "stdout",
     "output_type": "stream",
     "text": [
      "[[ 6 13  3  0  4]\n",
      " [ 0 17  2  0  1]\n",
      " [ 1  6  6  0  1]\n",
      " [ 0  0  0 31  0]\n",
      " [ 1  8  1 17 10]]\n",
      "\n",
      "Test set: Average loss: 1.0987, Accuracy: 70/128 (55%)\n",
      "\n"
     ]
    },
    {
     "data": {
      "application/vnd.jupyter.widget-view+json": {
       "model_id": "7f86a0c546f5480ea05319a9c2fe7608",
       "version_major": 2,
       "version_minor": 0
      },
      "text/plain": [
       "  0%|          | 0/8 [00:00<?, ?it/s]"
      ]
     },
     "metadata": {},
     "output_type": "display_data"
    },
    {
     "data": {
      "application/vnd.jupyter.widget-view+json": {
       "model_id": "616cf76b541d44e8931b00df5c0d8a3c",
       "version_major": 2,
       "version_minor": 0
      },
      "text/plain": [
       "  0%|          | 0/8 [00:00<?, ?it/s]"
      ]
     },
     "metadata": {},
     "output_type": "display_data"
    },
    {
     "name": "stdout",
     "output_type": "stream",
     "text": [
      "[[ 76   0   1   0   0]\n",
      " [ 58   4  12   0   6]\n",
      " [ 44   0  43   0   0]\n",
      " [  2   0   0 130   4]\n",
      " [ 51   0   8  48  25]]\n",
      "\n",
      "Test set: Average loss: 1.4956, Accuracy: 278/512 (54%)\n",
      "\n"
     ]
    },
    {
     "data": {
      "application/vnd.jupyter.widget-view+json": {
       "model_id": "e89327e8edbe40398e146a37a053b48c",
       "version_major": 2,
       "version_minor": 0
      },
      "text/plain": [
       "  0%|          | 0/2 [00:00<?, ?it/s]"
      ]
     },
     "metadata": {},
     "output_type": "display_data"
    },
    {
     "name": "stdout",
     "output_type": "stream",
     "text": [
      "[[25  0  1  0  0]\n",
      " [13  0  4  0  3]\n",
      " [10  0  4  0  0]\n",
      " [ 0  0  0 28  3]\n",
      " [ 9  0  1 17 10]]\n",
      "\n",
      "Test set: Average loss: 1.5238, Accuracy: 67/128 (52%)\n",
      "\n"
     ]
    },
    {
     "data": {
      "application/vnd.jupyter.widget-view+json": {
       "model_id": "eb892287601a47efb4fe09464a513e11",
       "version_major": 2,
       "version_minor": 0
      },
      "text/plain": [
       "  0%|          | 0/8 [00:00<?, ?it/s]"
      ]
     },
     "metadata": {},
     "output_type": "display_data"
    },
    {
     "data": {
      "application/vnd.jupyter.widget-view+json": {
       "model_id": "849d0253fcb14df49a663e334e4b12a0",
       "version_major": 2,
       "version_minor": 0
      },
      "text/plain": [
       "  0%|          | 0/8 [00:00<?, ?it/s]"
      ]
     },
     "metadata": {},
     "output_type": "display_data"
    },
    {
     "name": "stdout",
     "output_type": "stream",
     "text": [
      "[[ 28  10  17   1  21]\n",
      " [  0  50   6   0  24]\n",
      " [  0   2  70   0  15]\n",
      " [  0   0   0 121  15]\n",
      " [  0   2  20  40  70]]\n",
      "\n",
      "Test set: Average loss: 0.7799, Accuracy: 339/512 (66%)\n",
      "\n"
     ]
    },
    {
     "data": {
      "application/vnd.jupyter.widget-view+json": {
       "model_id": "92b9ad2f07ec48fdb1a7c2cfff1bf209",
       "version_major": 2,
       "version_minor": 0
      },
      "text/plain": [
       "  0%|          | 0/2 [00:00<?, ?it/s]"
      ]
     },
     "metadata": {},
     "output_type": "display_data"
    },
    {
     "name": "stdout",
     "output_type": "stream",
     "text": [
      "[[ 7  4  8  0  7]\n",
      " [ 0  8  6  0  6]\n",
      " [ 0  0 10  0  4]\n",
      " [ 0  0  0 26  5]\n",
      " [ 2  1  1 16 17]]\n",
      "\n",
      "Test set: Average loss: 1.0337, Accuracy: 68/128 (53%)\n",
      "\n"
     ]
    },
    {
     "data": {
      "application/vnd.jupyter.widget-view+json": {
       "model_id": "f78d7d7b639b4ca4b43c198608ea98f4",
       "version_major": 2,
       "version_minor": 0
      },
      "text/plain": [
       "  0%|          | 0/8 [00:00<?, ?it/s]"
      ]
     },
     "metadata": {},
     "output_type": "display_data"
    },
    {
     "data": {
      "application/vnd.jupyter.widget-view+json": {
       "model_id": "7085d9bc35364b0c9ead37e8a5fe60d1",
       "version_major": 2,
       "version_minor": 0
      },
      "text/plain": [
       "  0%|          | 0/8 [00:00<?, ?it/s]"
      ]
     },
     "metadata": {},
     "output_type": "display_data"
    },
    {
     "name": "stdout",
     "output_type": "stream",
     "text": [
      "[[76  0  1  0  0]\n",
      " [42 38  0  0  0]\n",
      " [66  1 17  0  3]\n",
      " [41  0  0 92  3]\n",
      " [69 13  3 31 16]]\n",
      "\n",
      "Test set: Average loss: 2.3664, Accuracy: 239/512 (47%)\n",
      "\n"
     ]
    },
    {
     "data": {
      "application/vnd.jupyter.widget-view+json": {
       "model_id": "0c2a61a216f449f4b1e42bb3d194a4f1",
       "version_major": 2,
       "version_minor": 0
      },
      "text/plain": [
       "  0%|          | 0/2 [00:00<?, ?it/s]"
      ]
     },
     "metadata": {},
     "output_type": "display_data"
    },
    {
     "name": "stdout",
     "output_type": "stream",
     "text": [
      "[[25  0  0  0  1]\n",
      " [ 9 11  0  0  0]\n",
      " [11  0  2  0  1]\n",
      " [ 5  0  0 25  1]\n",
      " [19  2  0 11  5]]\n",
      "\n",
      "Test set: Average loss: 2.0734, Accuracy: 68/128 (53%)\n",
      "\n"
     ]
    },
    {
     "data": {
      "application/vnd.jupyter.widget-view+json": {
       "model_id": "92b4ea12ecc5443a94a212e465beb976",
       "version_major": 2,
       "version_minor": 0
      },
      "text/plain": [
       "  0%|          | 0/8 [00:00<?, ?it/s]"
      ]
     },
     "metadata": {},
     "output_type": "display_data"
    },
    {
     "data": {
      "application/vnd.jupyter.widget-view+json": {
       "model_id": "837c37a9a4ef4df4b95b95b6a21aecea",
       "version_major": 2,
       "version_minor": 0
      },
      "text/plain": [
       "  0%|          | 0/8 [00:00<?, ?it/s]"
      ]
     },
     "metadata": {},
     "output_type": "display_data"
    },
    {
     "name": "stdout",
     "output_type": "stream",
     "text": [
      "[[ 23  43   0   0  11]\n",
      " [  0  77   0   0   3]\n",
      " [  0  51  32   0   4]\n",
      " [  1   2   0 133   0]\n",
      " [  1  32   8  49  42]]\n",
      "\n",
      "Test set: Average loss: 0.8851, Accuracy: 307/512 (60%)\n",
      "\n"
     ]
    },
    {
     "data": {
      "application/vnd.jupyter.widget-view+json": {
       "model_id": "2fff0896bc3e4125bc651ef603469543",
       "version_major": 2,
       "version_minor": 0
      },
      "text/plain": [
       "  0%|          | 0/2 [00:00<?, ?it/s]"
      ]
     },
     "metadata": {},
     "output_type": "display_data"
    },
    {
     "name": "stdout",
     "output_type": "stream",
     "text": [
      "[[ 6 16  0  0  4]\n",
      " [ 0 19  0  0  1]\n",
      " [ 0  7  6  0  1]\n",
      " [ 0  1  0 30  0]\n",
      " [ 0  5  0 17 15]]\n",
      "\n",
      "Test set: Average loss: 0.9526, Accuracy: 76/128 (59%)\n",
      "\n"
     ]
    },
    {
     "data": {
      "application/vnd.jupyter.widget-view+json": {
       "model_id": "f5b638f0adf142f5977aeeab9324ab9e",
       "version_major": 2,
       "version_minor": 0
      },
      "text/plain": [
       "  0%|          | 0/8 [00:00<?, ?it/s]"
      ]
     },
     "metadata": {},
     "output_type": "display_data"
    },
    {
     "data": {
      "application/vnd.jupyter.widget-view+json": {
       "model_id": "4d9dfa07352346e8ba637af2132b416e",
       "version_major": 2,
       "version_minor": 0
      },
      "text/plain": [
       "  0%|          | 0/8 [00:00<?, ?it/s]"
      ]
     },
     "metadata": {},
     "output_type": "display_data"
    },
    {
     "name": "stdout",
     "output_type": "stream",
     "text": [
      "[[ 71   1   2   0   3]\n",
      " [  5  69   0   0   6]\n",
      " [ 10   0  73   0   4]\n",
      " [  0   0   0 130   6]\n",
      " [ 14   4   7  47  60]]\n",
      "\n",
      "Test set: Average loss: 0.5520, Accuracy: 403/512 (79%)\n",
      "\n"
     ]
    },
    {
     "data": {
      "application/vnd.jupyter.widget-view+json": {
       "model_id": "d5f1743033924f2288f7406645d394b6",
       "version_major": 2,
       "version_minor": 0
      },
      "text/plain": [
       "  0%|          | 0/2 [00:00<?, ?it/s]"
      ]
     },
     "metadata": {},
     "output_type": "display_data"
    },
    {
     "name": "stdout",
     "output_type": "stream",
     "text": [
      "[[21  2  1  0  2]\n",
      " [ 5 11  1  0  3]\n",
      " [ 2  0 10  0  2]\n",
      " [ 0  0  0 29  2]\n",
      " [ 2  1  1 16 17]]\n",
      "\n",
      "Test set: Average loss: 0.7642, Accuracy: 88/128 (69%)\n",
      "\n"
     ]
    },
    {
     "data": {
      "application/vnd.jupyter.widget-view+json": {
       "model_id": "fdb7f53919d843f3a947858e8886431e",
       "version_major": 2,
       "version_minor": 0
      },
      "text/plain": [
       "  0%|          | 0/8 [00:00<?, ?it/s]"
      ]
     },
     "metadata": {},
     "output_type": "display_data"
    },
    {
     "data": {
      "application/vnd.jupyter.widget-view+json": {
       "model_id": "9b22b01c18e246e9bc88adde30349f23",
       "version_major": 2,
       "version_minor": 0
      },
      "text/plain": [
       "  0%|          | 0/8 [00:00<?, ?it/s]"
      ]
     },
     "metadata": {},
     "output_type": "display_data"
    },
    {
     "name": "stdout",
     "output_type": "stream",
     "text": [
      "[[ 37  32   3   0   5]\n",
      " [  0  79   1   0   0]\n",
      " [  0  16  63   0   8]\n",
      " [  1   0   0 132   3]\n",
      " [  0  19  11  46  56]]\n",
      "\n",
      "Test set: Average loss: 0.6860, Accuracy: 367/512 (72%)\n",
      "\n"
     ]
    },
    {
     "data": {
      "application/vnd.jupyter.widget-view+json": {
       "model_id": "93ae661a774e4bababfa679622b772fc",
       "version_major": 2,
       "version_minor": 0
      },
      "text/plain": [
       "  0%|          | 0/2 [00:00<?, ?it/s]"
      ]
     },
     "metadata": {},
     "output_type": "display_data"
    },
    {
     "name": "stdout",
     "output_type": "stream",
     "text": [
      "[[ 6 15  2  0  3]\n",
      " [ 0 19  1  0  0]\n",
      " [ 0  2  9  0  3]\n",
      " [ 0  0  0 30  1]\n",
      " [ 0  4  1 17 15]]\n",
      "\n",
      "Test set: Average loss: 0.9007, Accuracy: 79/128 (62%)\n",
      "\n"
     ]
    },
    {
     "data": {
      "application/vnd.jupyter.widget-view+json": {
       "model_id": "73a5c69dd1c249af84112cb7da6837cc",
       "version_major": 2,
       "version_minor": 0
      },
      "text/plain": [
       "  0%|          | 0/8 [00:00<?, ?it/s]"
      ]
     },
     "metadata": {},
     "output_type": "display_data"
    },
    {
     "data": {
      "application/vnd.jupyter.widget-view+json": {
       "model_id": "087a41b01c504edea7741eb0ede1b5ca",
       "version_major": 2,
       "version_minor": 0
      },
      "text/plain": [
       "  0%|          | 0/8 [00:00<?, ?it/s]"
      ]
     },
     "metadata": {},
     "output_type": "display_data"
    },
    {
     "name": "stdout",
     "output_type": "stream",
     "text": [
      "[[ 72   0   4   0   1]\n",
      " [ 48  16   7   0   9]\n",
      " [ 14   0  65   0   8]\n",
      " [  2   0   4   8 122]\n",
      " [ 23   0   9   1  99]]\n",
      "\n",
      "Test set: Average loss: 1.0178, Accuracy: 260/512 (51%)\n",
      "\n"
     ]
    },
    {
     "data": {
      "application/vnd.jupyter.widget-view+json": {
       "model_id": "e4514fc9831e4e919342d8d18947c641",
       "version_major": 2,
       "version_minor": 0
      },
      "text/plain": [
       "  0%|          | 0/2 [00:00<?, ?it/s]"
      ]
     },
     "metadata": {},
     "output_type": "display_data"
    },
    {
     "name": "stdout",
     "output_type": "stream",
     "text": [
      "[[22  0  2  0  2]\n",
      " [ 9  2  4  0  5]\n",
      " [ 1  0  9  0  4]\n",
      " [ 0  0  0  1 30]\n",
      " [ 3  0  1  0 33]]\n",
      "\n",
      "Test set: Average loss: 1.1831, Accuracy: 67/128 (52%)\n",
      "\n"
     ]
    },
    {
     "data": {
      "application/vnd.jupyter.widget-view+json": {
       "model_id": "81189434a31b4e7385d286fe369386d3",
       "version_major": 2,
       "version_minor": 0
      },
      "text/plain": [
       "  0%|          | 0/8 [00:00<?, ?it/s]"
      ]
     },
     "metadata": {},
     "output_type": "display_data"
    },
    {
     "data": {
      "application/vnd.jupyter.widget-view+json": {
       "model_id": "7d39907a89db4949ba287a5b944b6eb8",
       "version_major": 2,
       "version_minor": 0
      },
      "text/plain": [
       "  0%|          | 0/8 [00:00<?, ?it/s]"
      ]
     },
     "metadata": {},
     "output_type": "display_data"
    },
    {
     "name": "stdout",
     "output_type": "stream",
     "text": [
      "[[ 50   1  10   2  14]\n",
      " [  0  64   6   0  10]\n",
      " [  0   1  85   0   1]\n",
      " [  0   0   0 136   0]\n",
      " [  1   3  12  52  64]]\n",
      "\n",
      "Test set: Average loss: 0.5628, Accuracy: 399/512 (78%)\n",
      "\n"
     ]
    },
    {
     "data": {
      "application/vnd.jupyter.widget-view+json": {
       "model_id": "27d05c8763ed4e8794809d5327dc4e2c",
       "version_major": 2,
       "version_minor": 0
      },
      "text/plain": [
       "  0%|          | 0/2 [00:00<?, ?it/s]"
      ]
     },
     "metadata": {},
     "output_type": "display_data"
    },
    {
     "name": "stdout",
     "output_type": "stream",
     "text": [
      "[[11  1  6  0  8]\n",
      " [ 0 10  2  0  8]\n",
      " [ 0  0 13  0  1]\n",
      " [ 0  0  0 31  0]\n",
      " [ 1  0  1 17 18]]\n",
      "\n",
      "Test set: Average loss: 0.8650, Accuracy: 83/128 (65%)\n",
      "\n"
     ]
    },
    {
     "data": {
      "application/vnd.jupyter.widget-view+json": {
       "model_id": "eeac234f6fb8416eb67f847a4f0933b1",
       "version_major": 2,
       "version_minor": 0
      },
      "text/plain": [
       "  0%|          | 0/8 [00:00<?, ?it/s]"
      ]
     },
     "metadata": {},
     "output_type": "display_data"
    },
    {
     "data": {
      "application/vnd.jupyter.widget-view+json": {
       "model_id": "87638d99a01f4fd6b82250e7b40ef183",
       "version_major": 2,
       "version_minor": 0
      },
      "text/plain": [
       "  0%|          | 0/8 [00:00<?, ?it/s]"
      ]
     },
     "metadata": {},
     "output_type": "display_data"
    },
    {
     "name": "stdout",
     "output_type": "stream",
     "text": [
      "[[ 64   2   3   1   7]\n",
      " [ 21  41   1   0  17]\n",
      " [ 11   0  59   0  17]\n",
      " [  0   0   0 133   3]\n",
      " [  8   2   9  48  65]]\n",
      "\n",
      "Test set: Average loss: 0.6700, Accuracy: 362/512 (71%)\n",
      "\n"
     ]
    },
    {
     "data": {
      "application/vnd.jupyter.widget-view+json": {
       "model_id": "eea17d3f9cf44ad895fccff586cb3c72",
       "version_major": 2,
       "version_minor": 0
      },
      "text/plain": [
       "  0%|          | 0/2 [00:00<?, ?it/s]"
      ]
     },
     "metadata": {},
     "output_type": "display_data"
    },
    {
     "name": "stdout",
     "output_type": "stream",
     "text": [
      "[[16  2  3  0  5]\n",
      " [ 3  5  3  0  9]\n",
      " [ 2  0  7  0  5]\n",
      " [ 0  0  0 30  1]\n",
      " [ 1  1  1 17 17]]\n",
      "\n",
      "Test set: Average loss: 0.8428, Accuracy: 75/128 (59%)\n",
      "\n"
     ]
    },
    {
     "data": {
      "application/vnd.jupyter.widget-view+json": {
       "model_id": "0f1ec9cb6a76492c900358bc4750b75c",
       "version_major": 2,
       "version_minor": 0
      },
      "text/plain": [
       "  0%|          | 0/8 [00:00<?, ?it/s]"
      ]
     },
     "metadata": {},
     "output_type": "display_data"
    },
    {
     "data": {
      "application/vnd.jupyter.widget-view+json": {
       "model_id": "2bca3e0e0a6c42529cfcf4785146b500",
       "version_major": 2,
       "version_minor": 0
      },
      "text/plain": [
       "  0%|          | 0/8 [00:00<?, ?it/s]"
      ]
     },
     "metadata": {},
     "output_type": "display_data"
    },
    {
     "name": "stdout",
     "output_type": "stream",
     "text": [
      "[[ 61   0   4   1  11]\n",
      " [  7  28  10   0  35]\n",
      " [  5   0  59   0  23]\n",
      " [  0   0   0 124  12]\n",
      " [  4   1   9  41  77]]\n",
      "\n",
      "Test set: Average loss: 0.7868, Accuracy: 349/512 (68%)\n",
      "\n"
     ]
    },
    {
     "data": {
      "application/vnd.jupyter.widget-view+json": {
       "model_id": "384fcc9ea79646bb9ad69ba5de7a3735",
       "version_major": 2,
       "version_minor": 0
      },
      "text/plain": [
       "  0%|          | 0/2 [00:00<?, ?it/s]"
      ]
     },
     "metadata": {},
     "output_type": "display_data"
    },
    {
     "name": "stdout",
     "output_type": "stream",
     "text": [
      "[[15  1  4  0  6]\n",
      " [ 2  4  3  0 11]\n",
      " [ 1  0  8  0  5]\n",
      " [ 0  0  0 28  3]\n",
      " [ 2  1  1 16 17]]\n",
      "\n",
      "Test set: Average loss: 0.9685, Accuracy: 72/128 (56%)\n",
      "\n"
     ]
    },
    {
     "data": {
      "application/vnd.jupyter.widget-view+json": {
       "model_id": "ed789061d9694449bfbae61afcbd5c0b",
       "version_major": 2,
       "version_minor": 0
      },
      "text/plain": [
       "  0%|          | 0/8 [00:00<?, ?it/s]"
      ]
     },
     "metadata": {},
     "output_type": "display_data"
    },
    {
     "data": {
      "application/vnd.jupyter.widget-view+json": {
       "model_id": "f3883033d54845c1a6b0144c99870f04",
       "version_major": 2,
       "version_minor": 0
      },
      "text/plain": [
       "  0%|          | 0/8 [00:00<?, ?it/s]"
      ]
     },
     "metadata": {},
     "output_type": "display_data"
    },
    {
     "name": "stdout",
     "output_type": "stream",
     "text": [
      "[[ 66   0   5   1   5]\n",
      " [ 15  42   4   0  19]\n",
      " [ 12   0  54   0  21]\n",
      " [  0   0   0 136   0]\n",
      " [ 11   3   8  51  59]]\n",
      "\n",
      "Test set: Average loss: 0.7114, Accuracy: 357/512 (70%)\n",
      "\n"
     ]
    },
    {
     "data": {
      "application/vnd.jupyter.widget-view+json": {
       "model_id": "464c18e21cf2465ca9d7e7c39eefa630",
       "version_major": 2,
       "version_minor": 0
      },
      "text/plain": [
       "  0%|          | 0/2 [00:00<?, ?it/s]"
      ]
     },
     "metadata": {},
     "output_type": "display_data"
    },
    {
     "name": "stdout",
     "output_type": "stream",
     "text": [
      "[[19  0  4  0  3]\n",
      " [ 6  5  2  0  7]\n",
      " [ 2  0  7  0  5]\n",
      " [ 0  0  0 30  1]\n",
      " [ 3  1  0 17 16]]\n",
      "\n",
      "Test set: Average loss: 0.9287, Accuracy: 77/128 (60%)\n",
      "\n"
     ]
    },
    {
     "data": {
      "application/vnd.jupyter.widget-view+json": {
       "model_id": "62a45b6aa61a4bffa10163c990b6f5a0",
       "version_major": 2,
       "version_minor": 0
      },
      "text/plain": [
       "  0%|          | 0/8 [00:00<?, ?it/s]"
      ]
     },
     "metadata": {},
     "output_type": "display_data"
    },
    {
     "data": {
      "application/vnd.jupyter.widget-view+json": {
       "model_id": "9ca57a8f788549aaa7e4b3b69ea10465",
       "version_major": 2,
       "version_minor": 0
      },
      "text/plain": [
       "  0%|          | 0/8 [00:00<?, ?it/s]"
      ]
     },
     "metadata": {},
     "output_type": "display_data"
    },
    {
     "name": "stdout",
     "output_type": "stream",
     "text": [
      "[[ 75   2   0   0   0]\n",
      " [ 35  45   0   0   0]\n",
      " [ 72  12   2   0   1]\n",
      " [ 19   1   0 113   3]\n",
      " [ 47  12   2  45  26]]\n",
      "\n",
      "Test set: Average loss: 1.9317, Accuracy: 261/512 (51%)\n",
      "\n"
     ]
    },
    {
     "data": {
      "application/vnd.jupyter.widget-view+json": {
       "model_id": "a162f3edbb8c43178214864474da5342",
       "version_major": 2,
       "version_minor": 0
      },
      "text/plain": [
       "  0%|          | 0/2 [00:00<?, ?it/s]"
      ]
     },
     "metadata": {},
     "output_type": "display_data"
    },
    {
     "name": "stdout",
     "output_type": "stream",
     "text": [
      "[[26  0  0  0  0]\n",
      " [10 10  0  0  0]\n",
      " [11  2  0  0  1]\n",
      " [ 2  0  0 26  3]\n",
      " [ 9  2  0 16 10]]\n",
      "\n",
      "Test set: Average loss: 1.6502, Accuracy: 72/128 (56%)\n",
      "\n"
     ]
    },
    {
     "data": {
      "application/vnd.jupyter.widget-view+json": {
       "model_id": "31f4dfa10e964196800106324666d254",
       "version_major": 2,
       "version_minor": 0
      },
      "text/plain": [
       "  0%|          | 0/8 [00:00<?, ?it/s]"
      ]
     },
     "metadata": {},
     "output_type": "display_data"
    },
    {
     "data": {
      "application/vnd.jupyter.widget-view+json": {
       "model_id": "bb1d35868bff4a3d906739762b04651d",
       "version_major": 2,
       "version_minor": 0
      },
      "text/plain": [
       "  0%|          | 0/8 [00:00<?, ?it/s]"
      ]
     },
     "metadata": {},
     "output_type": "display_data"
    },
    {
     "name": "stdout",
     "output_type": "stream",
     "text": [
      "[[ 56   0   9   1  11]\n",
      " [ 13  43  11   0  13]\n",
      " [  4   0  79   0   4]\n",
      " [  1   0   0 135   0]\n",
      " [  6   0  13  51  62]]\n",
      "\n",
      "Test set: Average loss: 0.6811, Accuracy: 375/512 (73%)\n",
      "\n"
     ]
    },
    {
     "data": {
      "application/vnd.jupyter.widget-view+json": {
       "model_id": "aaa9674678ba438e9754e86a61ed0dab",
       "version_major": 2,
       "version_minor": 0
      },
      "text/plain": [
       "  0%|          | 0/2 [00:00<?, ?it/s]"
      ]
     },
     "metadata": {},
     "output_type": "display_data"
    },
    {
     "name": "stdout",
     "output_type": "stream",
     "text": [
      "[[16  1  3  0  6]\n",
      " [ 1  9  5  0  5]\n",
      " [ 2  0 11  0  1]\n",
      " [ 0  0  0 31  0]\n",
      " [ 1  1  1 17 17]]\n",
      "\n",
      "Test set: Average loss: 0.9968, Accuracy: 84/128 (66%)\n",
      "\n"
     ]
    },
    {
     "data": {
      "application/vnd.jupyter.widget-view+json": {
       "model_id": "94a3e2c3427e46fcbf129aa6cc3a5073",
       "version_major": 2,
       "version_minor": 0
      },
      "text/plain": [
       "  0%|          | 0/8 [00:00<?, ?it/s]"
      ]
     },
     "metadata": {},
     "output_type": "display_data"
    },
    {
     "data": {
      "application/vnd.jupyter.widget-view+json": {
       "model_id": "6a2a31381e69416290cb3e6f2502f0ec",
       "version_major": 2,
       "version_minor": 0
      },
      "text/plain": [
       "  0%|          | 0/8 [00:00<?, ?it/s]"
      ]
     },
     "metadata": {},
     "output_type": "display_data"
    },
    {
     "name": "stdout",
     "output_type": "stream",
     "text": [
      "[[ 75   0   1   1   0]\n",
      " [ 24  39   8   0   9]\n",
      " [ 41   0  37   0   9]\n",
      " [  0   0   0 132   4]\n",
      " [ 32  11   7  49  33]]\n",
      "\n",
      "Test set: Average loss: 1.0715, Accuracy: 316/512 (62%)\n",
      "\n"
     ]
    },
    {
     "data": {
      "application/vnd.jupyter.widget-view+json": {
       "model_id": "53c1b945acfc4eeabbf65f0d4420d488",
       "version_major": 2,
       "version_minor": 0
      },
      "text/plain": [
       "  0%|          | 0/2 [00:00<?, ?it/s]"
      ]
     },
     "metadata": {},
     "output_type": "display_data"
    },
    {
     "name": "stdout",
     "output_type": "stream",
     "text": [
      "[[25  0  0  0  1]\n",
      " [ 8  8  2  0  2]\n",
      " [ 7  0  6  0  1]\n",
      " [ 0  0  0 29  2]\n",
      " [ 7  3  2 17  8]]\n",
      "\n",
      "Test set: Average loss: 1.1095, Accuracy: 76/128 (59%)\n",
      "\n"
     ]
    },
    {
     "data": {
      "application/vnd.jupyter.widget-view+json": {
       "model_id": "fab2bdf080e04307bf9b0e5a3f28a6f8",
       "version_major": 2,
       "version_minor": 0
      },
      "text/plain": [
       "  0%|          | 0/8 [00:00<?, ?it/s]"
      ]
     },
     "metadata": {},
     "output_type": "display_data"
    },
    {
     "data": {
      "application/vnd.jupyter.widget-view+json": {
       "model_id": "3c7dcf31513445e68b9721f48c260a4b",
       "version_major": 2,
       "version_minor": 0
      },
      "text/plain": [
       "  0%|          | 0/8 [00:00<?, ?it/s]"
      ]
     },
     "metadata": {},
     "output_type": "display_data"
    },
    {
     "name": "stdout",
     "output_type": "stream",
     "text": [
      "[[ 71   3   1   0   2]\n",
      " [  7  70   0   0   3]\n",
      " [  6  21  53   0   7]\n",
      " [  1   0   0 135   0]\n",
      " [  8  10   7  52  55]]\n",
      "\n",
      "Test set: Average loss: 0.6248, Accuracy: 384/512 (75%)\n",
      "\n"
     ]
    },
    {
     "data": {
      "application/vnd.jupyter.widget-view+json": {
       "model_id": "ffa8ff35d2c34a4b83b7ae008a42ada8",
       "version_major": 2,
       "version_minor": 0
      },
      "text/plain": [
       "  0%|          | 0/2 [00:00<?, ?it/s]"
      ]
     },
     "metadata": {},
     "output_type": "display_data"
    },
    {
     "name": "stdout",
     "output_type": "stream",
     "text": [
      "[[21  2  1  0  2]\n",
      " [ 2 16  0  0  2]\n",
      " [ 4  2  5  0  3]\n",
      " [ 0  0  0 31  0]\n",
      " [ 2  3  1 17 14]]\n",
      "\n",
      "Test set: Average loss: 0.8239, Accuracy: 87/128 (68%)\n",
      "\n"
     ]
    },
    {
     "data": {
      "application/vnd.jupyter.widget-view+json": {
       "model_id": "60cbe07702cf4bb2b866416b8c83444c",
       "version_major": 2,
       "version_minor": 0
      },
      "text/plain": [
       "  0%|          | 0/8 [00:00<?, ?it/s]"
      ]
     },
     "metadata": {},
     "output_type": "display_data"
    },
    {
     "data": {
      "application/vnd.jupyter.widget-view+json": {
       "model_id": "bc485984956a418b9a7b2c8cdd7bb7d4",
       "version_major": 2,
       "version_minor": 0
      },
      "text/plain": [
       "  0%|          | 0/8 [00:00<?, ?it/s]"
      ]
     },
     "metadata": {},
     "output_type": "display_data"
    },
    {
     "name": "stdout",
     "output_type": "stream",
     "text": [
      "[[ 76   0   0   1   0]\n",
      " [ 28  51   1   0   0]\n",
      " [  6   0  78   0   3]\n",
      " [  0   0   0 136   0]\n",
      " [ 18   1  11  52  50]]\n",
      "\n",
      "Test set: Average loss: 0.5600, Accuracy: 391/512 (76%)\n",
      "\n"
     ]
    },
    {
     "data": {
      "application/vnd.jupyter.widget-view+json": {
       "model_id": "3dfe53c24c1a425a9958f5f74dc46425",
       "version_major": 2,
       "version_minor": 0
      },
      "text/plain": [
       "  0%|          | 0/2 [00:00<?, ?it/s]"
      ]
     },
     "metadata": {},
     "output_type": "display_data"
    },
    {
     "name": "stdout",
     "output_type": "stream",
     "text": [
      "[[23  1  0  0  2]\n",
      " [ 9  9  2  0  0]\n",
      " [ 2  0 12  0  0]\n",
      " [ 0  0  0 31  0]\n",
      " [ 4  2  1 17 13]]\n",
      "\n",
      "Test set: Average loss: 0.7828, Accuracy: 88/128 (69%)\n",
      "\n"
     ]
    },
    {
     "data": {
      "application/vnd.jupyter.widget-view+json": {
       "model_id": "fad4697e927b44b7aca3350f07902e30",
       "version_major": 2,
       "version_minor": 0
      },
      "text/plain": [
       "  0%|          | 0/8 [00:00<?, ?it/s]"
      ]
     },
     "metadata": {},
     "output_type": "display_data"
    },
    {
     "data": {
      "application/vnd.jupyter.widget-view+json": {
       "model_id": "4b0b6132cdd1430888708eca3a37dd5d",
       "version_major": 2,
       "version_minor": 0
      },
      "text/plain": [
       "  0%|          | 0/8 [00:00<?, ?it/s]"
      ]
     },
     "metadata": {},
     "output_type": "display_data"
    },
    {
     "name": "stdout",
     "output_type": "stream",
     "text": [
      "[[ 17  34  11   2  13]\n",
      " [  0  80   0   0   0]\n",
      " [  0   5  82   0   0]\n",
      " [  0   0   0 136   0]\n",
      " [  0  22  15  51  44]]\n",
      "\n",
      "Test set: Average loss: 0.7031, Accuracy: 359/512 (70%)\n",
      "\n"
     ]
    },
    {
     "data": {
      "application/vnd.jupyter.widget-view+json": {
       "model_id": "938e54d964c940378f724e2511822762",
       "version_major": 2,
       "version_minor": 0
      },
      "text/plain": [
       "  0%|          | 0/2 [00:00<?, ?it/s]"
      ]
     },
     "metadata": {},
     "output_type": "display_data"
    },
    {
     "name": "stdout",
     "output_type": "stream",
     "text": [
      "[[ 4 12  6  0  4]\n",
      " [ 0 19  0  0  1]\n",
      " [ 0  0 14  0  0]\n",
      " [ 0  0  0 31  0]\n",
      " [ 0  5  1 17 14]]\n",
      "\n",
      "Test set: Average loss: 1.0762, Accuracy: 82/128 (64%)\n",
      "\n"
     ]
    },
    {
     "data": {
      "application/vnd.jupyter.widget-view+json": {
       "model_id": "fdbbe19c0d8b466b8613a15eaf5a355c",
       "version_major": 2,
       "version_minor": 0
      },
      "text/plain": [
       "  0%|          | 0/8 [00:00<?, ?it/s]"
      ]
     },
     "metadata": {},
     "output_type": "display_data"
    },
    {
     "data": {
      "application/vnd.jupyter.widget-view+json": {
       "model_id": "7334d78e2b16420bb2a2866510ba3b13",
       "version_major": 2,
       "version_minor": 0
      },
      "text/plain": [
       "  0%|          | 0/8 [00:00<?, ?it/s]"
      ]
     },
     "metadata": {},
     "output_type": "display_data"
    },
    {
     "name": "stdout",
     "output_type": "stream",
     "text": [
      "[[ 48   0  21   1   7]\n",
      " [  4  30  16   0  30]\n",
      " [  1   0  83   0   3]\n",
      " [  0   0   0 109  27]\n",
      " [  3   0  19  32  78]]\n",
      "\n",
      "Test set: Average loss: 0.7128, Accuracy: 348/512 (68%)\n",
      "\n"
     ]
    },
    {
     "data": {
      "application/vnd.jupyter.widget-view+json": {
       "model_id": "3f7652de860c44949c3cfa99270f69bd",
       "version_major": 2,
       "version_minor": 0
      },
      "text/plain": [
       "  0%|          | 0/2 [00:00<?, ?it/s]"
      ]
     },
     "metadata": {},
     "output_type": "display_data"
    },
    {
     "name": "stdout",
     "output_type": "stream",
     "text": [
      "[[13  1  8  0  4]\n",
      " [ 0  4  9  0  7]\n",
      " [ 0  0 14  0  0]\n",
      " [ 0  0  0 22  9]\n",
      " [ 2  1  2 11 21]]\n",
      "\n",
      "Test set: Average loss: 1.0369, Accuracy: 74/128 (58%)\n",
      "\n"
     ]
    },
    {
     "data": {
      "application/vnd.jupyter.widget-view+json": {
       "model_id": "9fea85fa011c484cae739e3ff6229b1c",
       "version_major": 2,
       "version_minor": 0
      },
      "text/plain": [
       "  0%|          | 0/8 [00:00<?, ?it/s]"
      ]
     },
     "metadata": {},
     "output_type": "display_data"
    },
    {
     "data": {
      "application/vnd.jupyter.widget-view+json": {
       "model_id": "c508beadfd5340d9be6f7ca97791d1fb",
       "version_major": 2,
       "version_minor": 0
      },
      "text/plain": [
       "  0%|          | 0/8 [00:00<?, ?it/s]"
      ]
     },
     "metadata": {},
     "output_type": "display_data"
    },
    {
     "name": "stdout",
     "output_type": "stream",
     "text": [
      "[[ 29  24  13   0  11]\n",
      " [  0  76   1   0   3]\n",
      " [  0   4  78   0   5]\n",
      " [  0   0   0 120  16]\n",
      " [  0  18  11  34  69]]\n",
      "\n",
      "Test set: Average loss: 0.6900, Accuracy: 372/512 (73%)\n",
      "\n"
     ]
    },
    {
     "data": {
      "application/vnd.jupyter.widget-view+json": {
       "model_id": "a6a3b51a58a54915b1a09f7c208b2674",
       "version_major": 2,
       "version_minor": 0
      },
      "text/plain": [
       "  0%|          | 0/2 [00:00<?, ?it/s]"
      ]
     },
     "metadata": {},
     "output_type": "display_data"
    },
    {
     "name": "stdout",
     "output_type": "stream",
     "text": [
      "[[ 5 10  5  0  6]\n",
      " [ 0 16  2  0  2]\n",
      " [ 0  0 13  0  1]\n",
      " [ 0  0  0 23  8]\n",
      " [ 1  4  1 13 18]]\n",
      "\n",
      "Test set: Average loss: 1.0596, Accuracy: 75/128 (59%)\n",
      "\n"
     ]
    },
    {
     "data": {
      "application/vnd.jupyter.widget-view+json": {
       "model_id": "db9b5a69ca694d8d9d9e52e587d9ced9",
       "version_major": 2,
       "version_minor": 0
      },
      "text/plain": [
       "  0%|          | 0/8 [00:00<?, ?it/s]"
      ]
     },
     "metadata": {},
     "output_type": "display_data"
    },
    {
     "data": {
      "application/vnd.jupyter.widget-view+json": {
       "model_id": "b0f7b07bdb51497ba13b8799f1c07146",
       "version_major": 2,
       "version_minor": 0
      },
      "text/plain": [
       "  0%|          | 0/8 [00:00<?, ?it/s]"
      ]
     },
     "metadata": {},
     "output_type": "display_data"
    },
    {
     "name": "stdout",
     "output_type": "stream",
     "text": [
      "[[ 57  10   5   0   5]\n",
      " [  4  75   0   0   1]\n",
      " [  2   5  70   0  10]\n",
      " [  2   0   1 133   0]\n",
      " [  2  14   7  48  61]]\n",
      "\n",
      "Test set: Average loss: 0.5694, Accuracy: 396/512 (77%)\n",
      "\n"
     ]
    },
    {
     "data": {
      "application/vnd.jupyter.widget-view+json": {
       "model_id": "caf091465f254527982ee49859bef471",
       "version_major": 2,
       "version_minor": 0
      },
      "text/plain": [
       "  0%|          | 0/2 [00:00<?, ?it/s]"
      ]
     },
     "metadata": {},
     "output_type": "display_data"
    },
    {
     "name": "stdout",
     "output_type": "stream",
     "text": [
      "[[15  6  2  0  3]\n",
      " [ 1 15  0  0  4]\n",
      " [ 2  0 10  0  2]\n",
      " [ 0  0  1 30  0]\n",
      " [ 0  4  0 17 16]]\n",
      "\n",
      "Test set: Average loss: 0.7664, Accuracy: 86/128 (67%)\n",
      "\n"
     ]
    },
    {
     "data": {
      "application/vnd.jupyter.widget-view+json": {
       "model_id": "2f773eca4c89497aaafa8d743bc2e62c",
       "version_major": 2,
       "version_minor": 0
      },
      "text/plain": [
       "  0%|          | 0/8 [00:00<?, ?it/s]"
      ]
     },
     "metadata": {},
     "output_type": "display_data"
    },
    {
     "data": {
      "application/vnd.jupyter.widget-view+json": {
       "model_id": "d4fef338b3344be89dc2cbe8726a76bf",
       "version_major": 2,
       "version_minor": 0
      },
      "text/plain": [
       "  0%|          | 0/8 [00:00<?, ?it/s]"
      ]
     },
     "metadata": {},
     "output_type": "display_data"
    },
    {
     "name": "stdout",
     "output_type": "stream",
     "text": [
      "[[ 63  11   1   0   2]\n",
      " [  2  75   0   0   3]\n",
      " [  6  24  35   0  22]\n",
      " [  0   0   0 128   8]\n",
      " [  8  18   3  41  62]]\n",
      "\n",
      "Test set: Average loss: 0.7105, Accuracy: 363/512 (71%)\n",
      "\n"
     ]
    },
    {
     "data": {
      "application/vnd.jupyter.widget-view+json": {
       "model_id": "a7eb009d7b3d4cb58151307370768c30",
       "version_major": 2,
       "version_minor": 0
      },
      "text/plain": [
       "  0%|          | 0/2 [00:00<?, ?it/s]"
      ]
     },
     "metadata": {},
     "output_type": "display_data"
    },
    {
     "name": "stdout",
     "output_type": "stream",
     "text": [
      "[[15  6  1  0  4]\n",
      " [ 1 17  0  0  2]\n",
      " [ 3  2  3  0  6]\n",
      " [ 0  0  0 25  6]\n",
      " [ 1  4  1 13 18]]\n",
      "\n",
      "Test set: Average loss: 0.9503, Accuracy: 78/128 (61%)\n",
      "\n"
     ]
    },
    {
     "data": {
      "application/vnd.jupyter.widget-view+json": {
       "model_id": "d0443ba84b514c2fa69e597c925d3fe9",
       "version_major": 2,
       "version_minor": 0
      },
      "text/plain": [
       "  0%|          | 0/8 [00:00<?, ?it/s]"
      ]
     },
     "metadata": {},
     "output_type": "display_data"
    },
    {
     "data": {
      "application/vnd.jupyter.widget-view+json": {
       "model_id": "f52e2c05eb5e4d0294995c910ce415b3",
       "version_major": 2,
       "version_minor": 0
      },
      "text/plain": [
       "  0%|          | 0/8 [00:00<?, ?it/s]"
      ]
     },
     "metadata": {},
     "output_type": "display_data"
    },
    {
     "name": "stdout",
     "output_type": "stream",
     "text": [
      "[[ 74   0   2   0   1]\n",
      " [  7  69   3   0   1]\n",
      " [  7   2  75   0   3]\n",
      " [  1   0   0 135   0]\n",
      " [ 12   5   6  51  58]]\n",
      "\n",
      "Test set: Average loss: 0.4853, Accuracy: 411/512 (80%)\n",
      "\n"
     ]
    },
    {
     "data": {
      "application/vnd.jupyter.widget-view+json": {
       "model_id": "75fa2b1114ec4188ad13f5f17e79601d",
       "version_major": 2,
       "version_minor": 0
      },
      "text/plain": [
       "  0%|          | 0/2 [00:00<?, ?it/s]"
      ]
     },
     "metadata": {},
     "output_type": "display_data"
    },
    {
     "name": "stdout",
     "output_type": "stream",
     "text": [
      "[[18  3  2  0  3]\n",
      " [ 3 11  2  0  4]\n",
      " [ 2  0 11  0  1]\n",
      " [ 0  0  0 31  0]\n",
      " [ 2  1  1 17 16]]\n",
      "\n",
      "Test set: Average loss: 0.7059, Accuracy: 87/128 (68%)\n",
      "\n"
     ]
    },
    {
     "data": {
      "application/vnd.jupyter.widget-view+json": {
       "model_id": "f7af14179f8045dcb5736ccdc0b0e153",
       "version_major": 2,
       "version_minor": 0
      },
      "text/plain": [
       "  0%|          | 0/8 [00:00<?, ?it/s]"
      ]
     },
     "metadata": {},
     "output_type": "display_data"
    },
    {
     "data": {
      "application/vnd.jupyter.widget-view+json": {
       "model_id": "b9c2558c4e7541e1886328c4cad84067",
       "version_major": 2,
       "version_minor": 0
      },
      "text/plain": [
       "  0%|          | 0/8 [00:00<?, ?it/s]"
      ]
     },
     "metadata": {},
     "output_type": "display_data"
    },
    {
     "name": "stdout",
     "output_type": "stream",
     "text": [
      "[[ 15  30  11   1  20]\n",
      " [  5  73   1   0   1]\n",
      " [  0   6  75   0   6]\n",
      " [  3   0   0 132   1]\n",
      " [  1  11  11  47  62]]\n",
      "\n",
      "Test set: Average loss: 0.8398, Accuracy: 357/512 (70%)\n",
      "\n"
     ]
    },
    {
     "data": {
      "application/vnd.jupyter.widget-view+json": {
       "model_id": "1012c106a3434e0e9b9416a3df65dd4d",
       "version_major": 2,
       "version_minor": 0
      },
      "text/plain": [
       "  0%|          | 0/2 [00:00<?, ?it/s]"
      ]
     },
     "metadata": {},
     "output_type": "display_data"
    },
    {
     "name": "stdout",
     "output_type": "stream",
     "text": [
      "[[ 6 10  3  0  7]\n",
      " [ 1 14  3  0  2]\n",
      " [ 0  0 12  0  2]\n",
      " [ 1  0  0 29  1]\n",
      " [ 0  4  1 17 15]]\n",
      "\n",
      "Test set: Average loss: 1.1820, Accuracy: 76/128 (59%)\n",
      "\n"
     ]
    },
    {
     "data": {
      "application/vnd.jupyter.widget-view+json": {
       "model_id": "7ff7f5f80c4247a9afbe1a0ec69e280d",
       "version_major": 2,
       "version_minor": 0
      },
      "text/plain": [
       "  0%|          | 0/8 [00:00<?, ?it/s]"
      ]
     },
     "metadata": {},
     "output_type": "display_data"
    },
    {
     "data": {
      "application/vnd.jupyter.widget-view+json": {
       "model_id": "611c1193d9e44ee9b3c69a0faae4bee0",
       "version_major": 2,
       "version_minor": 0
      },
      "text/plain": [
       "  0%|          | 0/8 [00:00<?, ?it/s]"
      ]
     },
     "metadata": {},
     "output_type": "display_data"
    },
    {
     "name": "stdout",
     "output_type": "stream",
     "text": [
      "[[ 63   0   1   0  13]\n",
      " [  5  55   1   0  19]\n",
      " [  1   1  70   0  15]\n",
      " [  2   0   0 134   0]\n",
      " [  2   0   5  50  75]]\n",
      "\n",
      "Test set: Average loss: 0.5765, Accuracy: 397/512 (78%)\n",
      "\n"
     ]
    },
    {
     "data": {
      "application/vnd.jupyter.widget-view+json": {
       "model_id": "b5c0b3cdde4d4b61988dac2e0dc7e554",
       "version_major": 2,
       "version_minor": 0
      },
      "text/plain": [
       "  0%|          | 0/2 [00:00<?, ?it/s]"
      ]
     },
     "metadata": {},
     "output_type": "display_data"
    },
    {
     "name": "stdout",
     "output_type": "stream",
     "text": [
      "[[12  1  3  0 10]\n",
      " [ 2  8  1  0  9]\n",
      " [ 0  1  7  0  6]\n",
      " [ 1  0  0 30  0]\n",
      " [ 0  1  0 17 19]]\n",
      "\n",
      "Test set: Average loss: 1.0421, Accuracy: 76/128 (59%)\n",
      "\n"
     ]
    },
    {
     "data": {
      "application/vnd.jupyter.widget-view+json": {
       "model_id": "29bbf79a155c4b93bb31bb5e40588975",
       "version_major": 2,
       "version_minor": 0
      },
      "text/plain": [
       "  0%|          | 0/8 [00:00<?, ?it/s]"
      ]
     },
     "metadata": {},
     "output_type": "display_data"
    },
    {
     "data": {
      "application/vnd.jupyter.widget-view+json": {
       "model_id": "8a18117a7f10499e8ecce7d0a185e812",
       "version_major": 2,
       "version_minor": 0
      },
      "text/plain": [
       "  0%|          | 0/8 [00:00<?, ?it/s]"
      ]
     },
     "metadata": {},
     "output_type": "display_data"
    },
    {
     "name": "stdout",
     "output_type": "stream",
     "text": [
      "[[ 58   3   7   1   8]\n",
      " [  3  76   1   0   0]\n",
      " [  0   2  85   0   0]\n",
      " [  0   0   0 136   0]\n",
      " [  5   9  15  50  53]]\n",
      "\n",
      "Test set: Average loss: 0.4852, Accuracy: 408/512 (80%)\n",
      "\n"
     ]
    },
    {
     "data": {
      "application/vnd.jupyter.widget-view+json": {
       "model_id": "4303d6bd83c24ecabb58c68ac32ac45c",
       "version_major": 2,
       "version_minor": 0
      },
      "text/plain": [
       "  0%|          | 0/2 [00:00<?, ?it/s]"
      ]
     },
     "metadata": {},
     "output_type": "display_data"
    },
    {
     "name": "stdout",
     "output_type": "stream",
     "text": [
      "[[15  3  5  0  3]\n",
      " [ 0 18  2  0  0]\n",
      " [ 0  0 12  0  2]\n",
      " [ 0  0  0 31  0]\n",
      " [ 2  5  3 17 10]]\n",
      "\n",
      "Test set: Average loss: 0.7939, Accuracy: 86/128 (67%)\n",
      "\n"
     ]
    },
    {
     "data": {
      "application/vnd.jupyter.widget-view+json": {
       "model_id": "eff3365d32344eb3854125df8ba5b558",
       "version_major": 2,
       "version_minor": 0
      },
      "text/plain": [
       "  0%|          | 0/8 [00:00<?, ?it/s]"
      ]
     },
     "metadata": {},
     "output_type": "display_data"
    },
    {
     "data": {
      "application/vnd.jupyter.widget-view+json": {
       "model_id": "26d244eba374415e9fb2fb68a1306065",
       "version_major": 2,
       "version_minor": 0
      },
      "text/plain": [
       "  0%|          | 0/8 [00:00<?, ?it/s]"
      ]
     },
     "metadata": {},
     "output_type": "display_data"
    },
    {
     "name": "stdout",
     "output_type": "stream",
     "text": [
      "[[ 52   0   8   0  17]\n",
      " [  4  13  37   0  26]\n",
      " [  3   0  66   0  18]\n",
      " [  0   0   0  13 123]\n",
      " [  2   0  20   0 110]]\n",
      "\n",
      "Test set: Average loss: 1.2961, Accuracy: 254/512 (50%)\n",
      "\n"
     ]
    },
    {
     "data": {
      "application/vnd.jupyter.widget-view+json": {
       "model_id": "0823f855ff684d0e84c9548d71e81f61",
       "version_major": 2,
       "version_minor": 0
      },
      "text/plain": [
       "  0%|          | 0/2 [00:00<?, ?it/s]"
      ]
     },
     "metadata": {},
     "output_type": "display_data"
    },
    {
     "name": "stdout",
     "output_type": "stream",
     "text": [
      "[[13  0  7  0  6]\n",
      " [ 1  2  9  0  8]\n",
      " [ 2  0  8  0  4]\n",
      " [ 0  0  0  2 29]\n",
      " [ 1  0  5  0 31]]\n",
      "\n",
      "Test set: Average loss: 1.4123, Accuracy: 56/128 (44%)\n",
      "\n"
     ]
    },
    {
     "data": {
      "application/vnd.jupyter.widget-view+json": {
       "model_id": "0f1bdf688eed4cff807d4ca15685e9ef",
       "version_major": 2,
       "version_minor": 0
      },
      "text/plain": [
       "  0%|          | 0/8 [00:00<?, ?it/s]"
      ]
     },
     "metadata": {},
     "output_type": "display_data"
    },
    {
     "data": {
      "application/vnd.jupyter.widget-view+json": {
       "model_id": "843f889f980249d1a1ba6bcc1fad7225",
       "version_major": 2,
       "version_minor": 0
      },
      "text/plain": [
       "  0%|          | 0/8 [00:00<?, ?it/s]"
      ]
     },
     "metadata": {},
     "output_type": "display_data"
    },
    {
     "name": "stdout",
     "output_type": "stream",
     "text": [
      "[[ 43   9  19   1   5]\n",
      " [  1  76   2   0   1]\n",
      " [  0   0  87   0   0]\n",
      " [  0   0   0 134   2]\n",
      " [  1  11  20  48  52]]\n",
      "\n",
      "Test set: Average loss: 0.6177, Accuracy: 392/512 (77%)\n",
      "\n"
     ]
    },
    {
     "data": {
      "application/vnd.jupyter.widget-view+json": {
       "model_id": "0fc80aa44d09431f835649b0342c396c",
       "version_major": 2,
       "version_minor": 0
      },
      "text/plain": [
       "  0%|          | 0/2 [00:00<?, ?it/s]"
      ]
     },
     "metadata": {},
     "output_type": "display_data"
    },
    {
     "name": "stdout",
     "output_type": "stream",
     "text": [
      "[[11  5  7  0  3]\n",
      " [ 0 14  5  0  1]\n",
      " [ 0  0 14  0  0]\n",
      " [ 0  0  0 29  2]\n",
      " [ 0  4  1 17 15]]\n",
      "\n",
      "Test set: Average loss: 0.8314, Accuracy: 83/128 (65%)\n",
      "\n"
     ]
    },
    {
     "data": {
      "application/vnd.jupyter.widget-view+json": {
       "model_id": "5d656327b0f948598c0d5e89708def31",
       "version_major": 2,
       "version_minor": 0
      },
      "text/plain": [
       "  0%|          | 0/8 [00:00<?, ?it/s]"
      ]
     },
     "metadata": {},
     "output_type": "display_data"
    },
    {
     "data": {
      "application/vnd.jupyter.widget-view+json": {
       "model_id": "11093d9e37f14db9b25ae1b00e3252e0",
       "version_major": 2,
       "version_minor": 0
      },
      "text/plain": [
       "  0%|          | 0/8 [00:00<?, ?it/s]"
      ]
     },
     "metadata": {},
     "output_type": "display_data"
    },
    {
     "name": "stdout",
     "output_type": "stream",
     "text": [
      "[[ 70   0   1   2   4]\n",
      " [ 14  30   3   0  33]\n",
      " [ 14   2  54   0  17]\n",
      " [  0   0   0 132   4]\n",
      " [ 14   2   7  47  62]]\n",
      "\n",
      "Test set: Average loss: 0.7234, Accuracy: 348/512 (68%)\n",
      "\n"
     ]
    },
    {
     "data": {
      "application/vnd.jupyter.widget-view+json": {
       "model_id": "a63caa8ec87e49918fe413de448fe713",
       "version_major": 2,
       "version_minor": 0
      },
      "text/plain": [
       "  0%|          | 0/2 [00:00<?, ?it/s]"
      ]
     },
     "metadata": {},
     "output_type": "display_data"
    },
    {
     "name": "stdout",
     "output_type": "stream",
     "text": [
      "[[22  0  0  0  4]\n",
      " [ 2  7  1  0 10]\n",
      " [ 2  0 11  0  1]\n",
      " [ 0  0  0 28  3]\n",
      " [ 2  0  1 16 18]]\n",
      "\n",
      "Test set: Average loss: 0.8317, Accuracy: 86/128 (67%)\n",
      "\n"
     ]
    },
    {
     "data": {
      "application/vnd.jupyter.widget-view+json": {
       "model_id": "31069c445bc943c790e8701a87e6907a",
       "version_major": 2,
       "version_minor": 0
      },
      "text/plain": [
       "  0%|          | 0/8 [00:00<?, ?it/s]"
      ]
     },
     "metadata": {},
     "output_type": "display_data"
    },
    {
     "data": {
      "application/vnd.jupyter.widget-view+json": {
       "model_id": "f8d1c2f6f08247aa9f4dcab09a8e2784",
       "version_major": 2,
       "version_minor": 0
      },
      "text/plain": [
       "  0%|          | 0/8 [00:00<?, ?it/s]"
      ]
     },
     "metadata": {},
     "output_type": "display_data"
    },
    {
     "name": "stdout",
     "output_type": "stream",
     "text": [
      "[[ 71   1   0   0   5]\n",
      " [ 33  43   0   0   4]\n",
      " [ 61   0  15   0  11]\n",
      " [  9   0   0 127   0]\n",
      " [ 28   3   5  48  48]]\n",
      "\n",
      "Test set: Average loss: 1.5383, Accuracy: 304/512 (59%)\n",
      "\n"
     ]
    },
    {
     "data": {
      "application/vnd.jupyter.widget-view+json": {
       "model_id": "cdc1e14246fb43409d9866f4f36874c9",
       "version_major": 2,
       "version_minor": 0
      },
      "text/plain": [
       "  0%|          | 0/2 [00:00<?, ?it/s]"
      ]
     },
     "metadata": {},
     "output_type": "display_data"
    },
    {
     "name": "stdout",
     "output_type": "stream",
     "text": [
      "[[22  1  0  0  3]\n",
      " [ 5 11  0  0  4]\n",
      " [ 9  0  2  0  3]\n",
      " [ 2  0  0 29  0]\n",
      " [ 6  1  0 17 13]]\n",
      "\n",
      "Test set: Average loss: 1.3778, Accuracy: 77/128 (60%)\n",
      "\n"
     ]
    },
    {
     "data": {
      "application/vnd.jupyter.widget-view+json": {
       "model_id": "ff290c1029e94393ace24cb37ae96faa",
       "version_major": 2,
       "version_minor": 0
      },
      "text/plain": [
       "  0%|          | 0/8 [00:00<?, ?it/s]"
      ]
     },
     "metadata": {},
     "output_type": "display_data"
    },
    {
     "data": {
      "application/vnd.jupyter.widget-view+json": {
       "model_id": "6d0d954319f147abb4379f999d62e334",
       "version_major": 2,
       "version_minor": 0
      },
      "text/plain": [
       "  0%|          | 0/8 [00:00<?, ?it/s]"
      ]
     },
     "metadata": {},
     "output_type": "display_data"
    },
    {
     "name": "stdout",
     "output_type": "stream",
     "text": [
      "[[ 65   1   1   1   9]\n",
      " [  9  61   3   0   7]\n",
      " [  7   2  74   0   4]\n",
      " [  0   0   0 136   0]\n",
      " [  7   3  11  52  59]]\n",
      "\n",
      "Test set: Average loss: 0.5059, Accuracy: 395/512 (77%)\n",
      "\n"
     ]
    },
    {
     "data": {
      "application/vnd.jupyter.widget-view+json": {
       "model_id": "42a6acc5ce8a4c5c9785407b3372ddec",
       "version_major": 2,
       "version_minor": 0
      },
      "text/plain": [
       "  0%|          | 0/2 [00:00<?, ?it/s]"
      ]
     },
     "metadata": {},
     "output_type": "display_data"
    },
    {
     "name": "stdout",
     "output_type": "stream",
     "text": [
      "[[14  2  4  0  6]\n",
      " [ 1 13  2  0  4]\n",
      " [ 2  0 11  0  1]\n",
      " [ 0  0  0 31  0]\n",
      " [ 0  3  0 17 17]]\n",
      "\n",
      "Test set: Average loss: 0.7665, Accuracy: 86/128 (67%)\n",
      "\n"
     ]
    },
    {
     "data": {
      "application/vnd.jupyter.widget-view+json": {
       "model_id": "abf396454da44ff2a44eca07ec2eec48",
       "version_major": 2,
       "version_minor": 0
      },
      "text/plain": [
       "  0%|          | 0/8 [00:00<?, ?it/s]"
      ]
     },
     "metadata": {},
     "output_type": "display_data"
    },
    {
     "data": {
      "application/vnd.jupyter.widget-view+json": {
       "model_id": "82c9a756ea1945a281059e834b975e33",
       "version_major": 2,
       "version_minor": 0
      },
      "text/plain": [
       "  0%|          | 0/8 [00:00<?, ?it/s]"
      ]
     },
     "metadata": {},
     "output_type": "display_data"
    },
    {
     "name": "stdout",
     "output_type": "stream",
     "text": [
      "[[ 59   0   1   0  17]\n",
      " [ 40   7   0   0  33]\n",
      " [ 45   0  23   0  19]\n",
      " [ 10   0   0 126   0]\n",
      " [ 11   0   5  44  72]]\n",
      "\n",
      "Test set: Average loss: 1.8094, Accuracy: 287/512 (56%)\n",
      "\n"
     ]
    },
    {
     "data": {
      "application/vnd.jupyter.widget-view+json": {
       "model_id": "b4d655ac9245447e9ea2e7193a80bc05",
       "version_major": 2,
       "version_minor": 0
      },
      "text/plain": [
       "  0%|          | 0/2 [00:00<?, ?it/s]"
      ]
     },
     "metadata": {},
     "output_type": "display_data"
    },
    {
     "name": "stdout",
     "output_type": "stream",
     "text": [
      "[[16  0  2  0  8]\n",
      " [ 7  1  0  0 12]\n",
      " [ 8  0  4  0  2]\n",
      " [ 1  0  0 30  0]\n",
      " [ 1  0  0 17 19]]\n",
      "\n",
      "Test set: Average loss: 1.9308, Accuracy: 70/128 (55%)\n",
      "\n"
     ]
    },
    {
     "data": {
      "application/vnd.jupyter.widget-view+json": {
       "model_id": "ba8e82805a354817914d6d99b4766dc2",
       "version_major": 2,
       "version_minor": 0
      },
      "text/plain": [
       "  0%|          | 0/8 [00:00<?, ?it/s]"
      ]
     },
     "metadata": {},
     "output_type": "display_data"
    },
    {
     "data": {
      "application/vnd.jupyter.widget-view+json": {
       "model_id": "9ec78d33ce264614a2c2197c14f8ca86",
       "version_major": 2,
       "version_minor": 0
      },
      "text/plain": [
       "  0%|          | 0/8 [00:00<?, ?it/s]"
      ]
     },
     "metadata": {},
     "output_type": "display_data"
    },
    {
     "name": "stdout",
     "output_type": "stream",
     "text": [
      "[[ 67   1   0   1   8]\n",
      " [  8  64   0   0   8]\n",
      " [  9   2  20   0  56]\n",
      " [  0   0   0 136   0]\n",
      " [  5   5   0  49  73]]\n",
      "\n",
      "Test set: Average loss: 0.8651, Accuracy: 360/512 (70%)\n",
      "\n"
     ]
    },
    {
     "data": {
      "application/vnd.jupyter.widget-view+json": {
       "model_id": "f6c88def0ba34af189e75c6fd53d3388",
       "version_major": 2,
       "version_minor": 0
      },
      "text/plain": [
       "  0%|          | 0/2 [00:00<?, ?it/s]"
      ]
     },
     "metadata": {},
     "output_type": "display_data"
    },
    {
     "name": "stdout",
     "output_type": "stream",
     "text": [
      "[[16  2  0  0  8]\n",
      " [ 1 12  0  0  7]\n",
      " [ 3  0  1  0 10]\n",
      " [ 0  0  0 31  0]\n",
      " [ 3  1  0 17 16]]\n",
      "\n",
      "Test set: Average loss: 1.0372, Accuracy: 76/128 (59%)\n",
      "\n"
     ]
    },
    {
     "data": {
      "application/vnd.jupyter.widget-view+json": {
       "model_id": "707b6cad9c5a4634af29f37c7af30d7c",
       "version_major": 2,
       "version_minor": 0
      },
      "text/plain": [
       "  0%|          | 0/8 [00:00<?, ?it/s]"
      ]
     },
     "metadata": {},
     "output_type": "display_data"
    },
    {
     "data": {
      "application/vnd.jupyter.widget-view+json": {
       "model_id": "7bb863c4251e4ae8a56909268ab4ec84",
       "version_major": 2,
       "version_minor": 0
      },
      "text/plain": [
       "  0%|          | 0/8 [00:00<?, ?it/s]"
      ]
     },
     "metadata": {},
     "output_type": "display_data"
    },
    {
     "name": "stdout",
     "output_type": "stream",
     "text": [
      "[[ 41  10  14   1  11]\n",
      " [  1  73   1   0   5]\n",
      " [  1   4  78   0   4]\n",
      " [  0   0   0 133   3]\n",
      " [  2  10  12  51  57]]\n",
      "\n",
      "Test set: Average loss: 0.6077, Accuracy: 382/512 (75%)\n",
      "\n"
     ]
    },
    {
     "data": {
      "application/vnd.jupyter.widget-view+json": {
       "model_id": "c36b99b1f7334b3095461e0d5d2d002a",
       "version_major": 2,
       "version_minor": 0
      },
      "text/plain": [
       "  0%|          | 0/2 [00:00<?, ?it/s]"
      ]
     },
     "metadata": {},
     "output_type": "display_data"
    },
    {
     "name": "stdout",
     "output_type": "stream",
     "text": [
      "[[ 5  7  4  0 10]\n",
      " [ 0 16  1  0  3]\n",
      " [ 0  1 11  0  2]\n",
      " [ 0  0  0 29  2]\n",
      " [ 0  5  1 16 15]]\n",
      "\n",
      "Test set: Average loss: 0.9381, Accuracy: 76/128 (59%)\n",
      "\n"
     ]
    },
    {
     "data": {
      "application/vnd.jupyter.widget-view+json": {
       "model_id": "90ccd3653c5442aa985493d890f993ea",
       "version_major": 2,
       "version_minor": 0
      },
      "text/plain": [
       "  0%|          | 0/8 [00:00<?, ?it/s]"
      ]
     },
     "metadata": {},
     "output_type": "display_data"
    },
    {
     "data": {
      "application/vnd.jupyter.widget-view+json": {
       "model_id": "128c838a06fc42ccbe4e93c3ccbd0779",
       "version_major": 2,
       "version_minor": 0
      },
      "text/plain": [
       "  0%|          | 0/8 [00:00<?, ?it/s]"
      ]
     },
     "metadata": {},
     "output_type": "display_data"
    },
    {
     "name": "stdout",
     "output_type": "stream",
     "text": [
      "[[ 11  39  24   1   2]\n",
      " [  0  80   0   0   0]\n",
      " [  0   8  79   0   0]\n",
      " [  0   0   0 136   0]\n",
      " [  0  32  17  51  32]]\n",
      "\n",
      "Test set: Average loss: 0.9314, Accuracy: 338/512 (66%)\n",
      "\n"
     ]
    },
    {
     "data": {
      "application/vnd.jupyter.widget-view+json": {
       "model_id": "6d71db02af3c4b4d8cb4c49ab37fe415",
       "version_major": 2,
       "version_minor": 0
      },
      "text/plain": [
       "  0%|          | 0/2 [00:00<?, ?it/s]"
      ]
     },
     "metadata": {},
     "output_type": "display_data"
    },
    {
     "name": "stdout",
     "output_type": "stream",
     "text": [
      "[[ 4 16  5  0  1]\n",
      " [ 0 19  1  0  0]\n",
      " [ 0  1 13  0  0]\n",
      " [ 0  0  0 31  0]\n",
      " [ 0 10  1 17  9]]\n",
      "\n",
      "Test set: Average loss: 1.3008, Accuracy: 76/128 (59%)\n",
      "\n"
     ]
    },
    {
     "data": {
      "application/vnd.jupyter.widget-view+json": {
       "model_id": "3a568e1fc40747ec84555514537329df",
       "version_major": 2,
       "version_minor": 0
      },
      "text/plain": [
       "  0%|          | 0/8 [00:00<?, ?it/s]"
      ]
     },
     "metadata": {},
     "output_type": "display_data"
    },
    {
     "data": {
      "application/vnd.jupyter.widget-view+json": {
       "model_id": "94b4bb2b7e47412d8ecdc2e0223a5bd9",
       "version_major": 2,
       "version_minor": 0
      },
      "text/plain": [
       "  0%|          | 0/8 [00:00<?, ?it/s]"
      ]
     },
     "metadata": {},
     "output_type": "display_data"
    },
    {
     "name": "stdout",
     "output_type": "stream",
     "text": [
      "[[ 70   0   0   0   7]\n",
      " [ 15  11  17   0  37]\n",
      " [ 44   0  36   0   7]\n",
      " [  7   0   0 129   0]\n",
      " [ 13   0   5  50  64]]\n",
      "\n",
      "Test set: Average loss: 1.4050, Accuracy: 310/512 (61%)\n",
      "\n"
     ]
    },
    {
     "data": {
      "application/vnd.jupyter.widget-view+json": {
       "model_id": "5783fe87407d4a698cda3b90f7bd7212",
       "version_major": 2,
       "version_minor": 0
      },
      "text/plain": [
       "  0%|          | 0/2 [00:00<?, ?it/s]"
      ]
     },
     "metadata": {},
     "output_type": "display_data"
    },
    {
     "name": "stdout",
     "output_type": "stream",
     "text": [
      "[[20  0  0  0  6]\n",
      " [ 7  1  3  0  9]\n",
      " [ 8  0  5  0  1]\n",
      " [ 1  0  0 30  0]\n",
      " [ 2  0  4 17 14]]\n",
      "\n",
      "Test set: Average loss: 1.5720, Accuracy: 70/128 (55%)\n",
      "\n"
     ]
    },
    {
     "data": {
      "application/vnd.jupyter.widget-view+json": {
       "model_id": "906bdd5b80084c35b614cee24d394665",
       "version_major": 2,
       "version_minor": 0
      },
      "text/plain": [
       "  0%|          | 0/8 [00:00<?, ?it/s]"
      ]
     },
     "metadata": {},
     "output_type": "display_data"
    },
    {
     "data": {
      "application/vnd.jupyter.widget-view+json": {
       "model_id": "735cc24fe013480fb431b81c8c8ae926",
       "version_major": 2,
       "version_minor": 0
      },
      "text/plain": [
       "  0%|          | 0/8 [00:00<?, ?it/s]"
      ]
     },
     "metadata": {},
     "output_type": "display_data"
    },
    {
     "name": "stdout",
     "output_type": "stream",
     "text": [
      "[[ 72   0   4   0   1]\n",
      " [ 10  58   4   0   8]\n",
      " [  2   0  83   0   2]\n",
      " [  0   0   0 133   3]\n",
      " [  7   0   8  43  74]]\n",
      "\n",
      "Test set: Average loss: 0.4639, Accuracy: 420/512 (82%)\n",
      "\n"
     ]
    },
    {
     "data": {
      "application/vnd.jupyter.widget-view+json": {
       "model_id": "644ba556d62945b590203d526925ac87",
       "version_major": 2,
       "version_minor": 0
      },
      "text/plain": [
       "  0%|          | 0/2 [00:00<?, ?it/s]"
      ]
     },
     "metadata": {},
     "output_type": "display_data"
    },
    {
     "name": "stdout",
     "output_type": "stream",
     "text": [
      "[[19  1  2  0  4]\n",
      " [ 2  8  3  0  7]\n",
      " [ 2  0 11  0  1]\n",
      " [ 0  0  1 27  3]\n",
      " [ 2  1  1 14 19]]\n",
      "\n",
      "Test set: Average loss: 0.7628, Accuracy: 84/128 (66%)\n",
      "\n"
     ]
    },
    {
     "data": {
      "application/vnd.jupyter.widget-view+json": {
       "model_id": "e904b87c011f42cb95faf02eed333d58",
       "version_major": 2,
       "version_minor": 0
      },
      "text/plain": [
       "  0%|          | 0/8 [00:00<?, ?it/s]"
      ]
     },
     "metadata": {},
     "output_type": "display_data"
    },
    {
     "data": {
      "application/vnd.jupyter.widget-view+json": {
       "model_id": "e3314ac1cfa24f12b392885c93b571f5",
       "version_major": 2,
       "version_minor": 0
      },
      "text/plain": [
       "  0%|          | 0/8 [00:00<?, ?it/s]"
      ]
     },
     "metadata": {},
     "output_type": "display_data"
    },
    {
     "name": "stdout",
     "output_type": "stream",
     "text": [
      "[[19 16 34  0  8]\n",
      " [ 2 70  5  0  3]\n",
      " [ 6  0 80  0  1]\n",
      " [ 0  0  0 42 94]\n",
      " [ 1  7 27  0 97]]\n",
      "\n",
      "Test set: Average loss: 0.9067, Accuracy: 308/512 (60%)\n",
      "\n"
     ]
    },
    {
     "data": {
      "application/vnd.jupyter.widget-view+json": {
       "model_id": "f690197ec4ea48eb9973dab950e9fdd7",
       "version_major": 2,
       "version_minor": 0
      },
      "text/plain": [
       "  0%|          | 0/2 [00:00<?, ?it/s]"
      ]
     },
     "metadata": {},
     "output_type": "display_data"
    },
    {
     "name": "stdout",
     "output_type": "stream",
     "text": [
      "[[ 7  2 15  0  2]\n",
      " [ 2 11  4  0  3]\n",
      " [ 0  0 13  0  1]\n",
      " [ 0  0  0  8 23]\n",
      " [ 0  4  4  0 29]]\n",
      "\n",
      "Test set: Average loss: 1.2059, Accuracy: 68/128 (53%)\n",
      "\n"
     ]
    },
    {
     "data": {
      "application/vnd.jupyter.widget-view+json": {
       "model_id": "ab075f558b654c6c90c0f380a496f9db",
       "version_major": 2,
       "version_minor": 0
      },
      "text/plain": [
       "  0%|          | 0/8 [00:00<?, ?it/s]"
      ]
     },
     "metadata": {},
     "output_type": "display_data"
    },
    {
     "data": {
      "application/vnd.jupyter.widget-view+json": {
       "model_id": "9bd53b134368469c8e833d0b8a9e0d57",
       "version_major": 2,
       "version_minor": 0
      },
      "text/plain": [
       "  0%|          | 0/8 [00:00<?, ?it/s]"
      ]
     },
     "metadata": {},
     "output_type": "display_data"
    },
    {
     "name": "stdout",
     "output_type": "stream",
     "text": [
      "[[ 75   0   1   0   1]\n",
      " [  4  75   0   0   1]\n",
      " [  7   2  77   0   1]\n",
      " [  0   0   0 135   1]\n",
      " [ 20  16   5  50  41]]\n",
      "\n",
      "Test set: Average loss: 0.4544, Accuracy: 403/512 (79%)\n",
      "\n"
     ]
    },
    {
     "data": {
      "application/vnd.jupyter.widget-view+json": {
       "model_id": "f4d122619a67431488127194b37bc18e",
       "version_major": 2,
       "version_minor": 0
      },
      "text/plain": [
       "  0%|          | 0/2 [00:00<?, ?it/s]"
      ]
     },
     "metadata": {},
     "output_type": "display_data"
    },
    {
     "name": "stdout",
     "output_type": "stream",
     "text": [
      "[[22  1  2  0  1]\n",
      " [ 1 17  0  0  2]\n",
      " [ 3  0 10  0  1]\n",
      " [ 0  0  0 30  1]\n",
      " [ 2  4  0 16 15]]\n",
      "\n",
      "Test set: Average loss: 0.7869, Accuracy: 94/128 (73%)\n",
      "\n"
     ]
    },
    {
     "data": {
      "application/vnd.jupyter.widget-view+json": {
       "model_id": "e3d049f9d8e24495b38cdacdae160ec7",
       "version_major": 2,
       "version_minor": 0
      },
      "text/plain": [
       "  0%|          | 0/8 [00:00<?, ?it/s]"
      ]
     },
     "metadata": {},
     "output_type": "display_data"
    },
    {
     "data": {
      "application/vnd.jupyter.widget-view+json": {
       "model_id": "5d0bca3ab1f243938eabcdf778a3606a",
       "version_major": 2,
       "version_minor": 0
      },
      "text/plain": [
       "  0%|          | 0/8 [00:00<?, ?it/s]"
      ]
     },
     "metadata": {},
     "output_type": "display_data"
    },
    {
     "name": "stdout",
     "output_type": "stream",
     "text": [
      "[[ 55   3   8   2   9]\n",
      " [  4  46   3   0  27]\n",
      " [  5   1  68   0  13]\n",
      " [  0   0   0 135   1]\n",
      " [  5   0  13  51  63]]\n",
      "\n",
      "Test set: Average loss: 0.6205, Accuracy: 367/512 (72%)\n",
      "\n"
     ]
    },
    {
     "data": {
      "application/vnd.jupyter.widget-view+json": {
       "model_id": "a4dc4be52fcd49b78c34d1d93afc9732",
       "version_major": 2,
       "version_minor": 0
      },
      "text/plain": [
       "  0%|          | 0/2 [00:00<?, ?it/s]"
      ]
     },
     "metadata": {},
     "output_type": "display_data"
    },
    {
     "name": "stdout",
     "output_type": "stream",
     "text": [
      "[[15  2  3  0  6]\n",
      " [ 1  7  2  0 10]\n",
      " [ 1  0 12  0  1]\n",
      " [ 0  0  0 29  2]\n",
      " [ 1  0  0 16 20]]\n",
      "\n",
      "Test set: Average loss: 0.9182, Accuracy: 83/128 (65%)\n",
      "\n"
     ]
    },
    {
     "data": {
      "application/vnd.jupyter.widget-view+json": {
       "model_id": "54347f06bee049c4bd8b5bd050889afd",
       "version_major": 2,
       "version_minor": 0
      },
      "text/plain": [
       "  0%|          | 0/8 [00:00<?, ?it/s]"
      ]
     },
     "metadata": {},
     "output_type": "display_data"
    },
    {
     "data": {
      "application/vnd.jupyter.widget-view+json": {
       "model_id": "35e5ffa388a1428e982a6fdaf3a0cbdf",
       "version_major": 2,
       "version_minor": 0
      },
      "text/plain": [
       "  0%|          | 0/8 [00:00<?, ?it/s]"
      ]
     },
     "metadata": {},
     "output_type": "display_data"
    },
    {
     "name": "stdout",
     "output_type": "stream",
     "text": [
      "[[ 64   0   2   0  11]\n",
      " [  6  54   1   0  19]\n",
      " [  9   0  72   0   6]\n",
      " [  0   0   0 133   3]\n",
      " [ 10   0   3  42  77]]\n",
      "\n",
      "Test set: Average loss: 0.4675, Accuracy: 400/512 (78%)\n",
      "\n"
     ]
    },
    {
     "data": {
      "application/vnd.jupyter.widget-view+json": {
       "model_id": "b03c3fec8fb74ebe9e1798bd9625a1b4",
       "version_major": 2,
       "version_minor": 0
      },
      "text/plain": [
       "  0%|          | 0/2 [00:00<?, ?it/s]"
      ]
     },
     "metadata": {},
     "output_type": "display_data"
    },
    {
     "name": "stdout",
     "output_type": "stream",
     "text": [
      "[[19  1  2  0  4]\n",
      " [ 1  6  2  0 11]\n",
      " [ 4  0  8  0  2]\n",
      " [ 0  0  0 28  3]\n",
      " [ 2  2  0 15 18]]\n",
      "\n",
      "Test set: Average loss: 0.8314, Accuracy: 79/128 (62%)\n",
      "\n"
     ]
    },
    {
     "data": {
      "application/vnd.jupyter.widget-view+json": {
       "model_id": "68bf498783894eb1a18d60c9ad4764da",
       "version_major": 2,
       "version_minor": 0
      },
      "text/plain": [
       "  0%|          | 0/8 [00:00<?, ?it/s]"
      ]
     },
     "metadata": {},
     "output_type": "display_data"
    },
    {
     "data": {
      "application/vnd.jupyter.widget-view+json": {
       "model_id": "6b6a9092a67a467c8a30ea3f35fb0f46",
       "version_major": 2,
       "version_minor": 0
      },
      "text/plain": [
       "  0%|          | 0/8 [00:00<?, ?it/s]"
      ]
     },
     "metadata": {},
     "output_type": "display_data"
    },
    {
     "name": "stdout",
     "output_type": "stream",
     "text": [
      "[[ 70   0   1   2   4]\n",
      " [  6  56   0   0  18]\n",
      " [ 11   0  66   0  10]\n",
      " [  0   0   0 136   0]\n",
      " [  9   0   4  52  67]]\n",
      "\n",
      "Test set: Average loss: 0.6168, Accuracy: 395/512 (77%)\n",
      "\n"
     ]
    },
    {
     "data": {
      "application/vnd.jupyter.widget-view+json": {
       "model_id": "e281769b78474ea39dad5acac174d591",
       "version_major": 2,
       "version_minor": 0
      },
      "text/plain": [
       "  0%|          | 0/2 [00:00<?, ?it/s]"
      ]
     },
     "metadata": {},
     "output_type": "display_data"
    },
    {
     "name": "stdout",
     "output_type": "stream",
     "text": [
      "[[18  2  2  0  4]\n",
      " [ 2 11  0  0  7]\n",
      " [ 4  0  7  0  3]\n",
      " [ 0  0  0 31  0]\n",
      " [ 2  3  0 17 15]]\n",
      "\n",
      "Test set: Average loss: 1.0020, Accuracy: 82/128 (64%)\n",
      "\n"
     ]
    },
    {
     "data": {
      "application/vnd.jupyter.widget-view+json": {
       "model_id": "38c90c61da1245b1a492d4346bc2f217",
       "version_major": 2,
       "version_minor": 0
      },
      "text/plain": [
       "  0%|          | 0/8 [00:00<?, ?it/s]"
      ]
     },
     "metadata": {},
     "output_type": "display_data"
    },
    {
     "data": {
      "application/vnd.jupyter.widget-view+json": {
       "model_id": "e5ed57cc39a8489f8700fc3b516f951e",
       "version_major": 2,
       "version_minor": 0
      },
      "text/plain": [
       "  0%|          | 0/8 [00:00<?, ?it/s]"
      ]
     },
     "metadata": {},
     "output_type": "display_data"
    },
    {
     "name": "stdout",
     "output_type": "stream",
     "text": [
      "[[ 44   1  28   1   3]\n",
      " [  0  39  14   0  27]\n",
      " [  0   0  80   0   7]\n",
      " [  0   0   0 113  23]\n",
      " [  1   0  19  24  88]]\n",
      "\n",
      "Test set: Average loss: 0.7013, Accuracy: 364/512 (71%)\n",
      "\n"
     ]
    },
    {
     "data": {
      "application/vnd.jupyter.widget-view+json": {
       "model_id": "a674b56be28f486085dcbe8aa19630ad",
       "version_major": 2,
       "version_minor": 0
      },
      "text/plain": [
       "  0%|          | 0/2 [00:00<?, ?it/s]"
      ]
     },
     "metadata": {},
     "output_type": "display_data"
    },
    {
     "name": "stdout",
     "output_type": "stream",
     "text": [
      "[[ 7  2 11  0  6]\n",
      " [ 0  4  6  0 10]\n",
      " [ 0  0 12  0  2]\n",
      " [ 0  0  0 24  7]\n",
      " [ 2  1  2  7 25]]\n",
      "\n",
      "Test set: Average loss: 1.2416, Accuracy: 72/128 (56%)\n",
      "\n"
     ]
    },
    {
     "data": {
      "application/vnd.jupyter.widget-view+json": {
       "model_id": "e2abafe4364d4730a9b5f20dc605bc82",
       "version_major": 2,
       "version_minor": 0
      },
      "text/plain": [
       "  0%|          | 0/8 [00:00<?, ?it/s]"
      ]
     },
     "metadata": {},
     "output_type": "display_data"
    },
    {
     "data": {
      "application/vnd.jupyter.widget-view+json": {
       "model_id": "f2263aaf0d3f45d2b093b5c34787dc47",
       "version_major": 2,
       "version_minor": 0
      },
      "text/plain": [
       "  0%|          | 0/8 [00:00<?, ?it/s]"
      ]
     },
     "metadata": {},
     "output_type": "display_data"
    },
    {
     "name": "stdout",
     "output_type": "stream",
     "text": [
      "[[ 69   5   1   0   2]\n",
      " [  2  78   0   0   0]\n",
      " [  5   7  69   0   6]\n",
      " [  1   0   0 133   2]\n",
      " [  8  18   9  48  49]]\n",
      "\n",
      "Test set: Average loss: 0.5179, Accuracy: 398/512 (78%)\n",
      "\n"
     ]
    },
    {
     "data": {
      "application/vnd.jupyter.widget-view+json": {
       "model_id": "f382b7ec52ef4c5b865546c9658f930b",
       "version_major": 2,
       "version_minor": 0
      },
      "text/plain": [
       "  0%|          | 0/2 [00:00<?, ?it/s]"
      ]
     },
     "metadata": {},
     "output_type": "display_data"
    },
    {
     "name": "stdout",
     "output_type": "stream",
     "text": [
      "[[18  6  1  0  1]\n",
      " [ 0 19  1  0  0]\n",
      " [ 4  1  7  0  2]\n",
      " [ 0  0  0 29  2]\n",
      " [ 4  5  0 15 13]]\n",
      "\n",
      "Test set: Average loss: 0.7919, Accuracy: 86/128 (67%)\n",
      "\n"
     ]
    },
    {
     "data": {
      "application/vnd.jupyter.widget-view+json": {
       "model_id": "83712c37117744559f62a55989fd6b9c",
       "version_major": 2,
       "version_minor": 0
      },
      "text/plain": [
       "  0%|          | 0/8 [00:00<?, ?it/s]"
      ]
     },
     "metadata": {},
     "output_type": "display_data"
    },
    {
     "data": {
      "application/vnd.jupyter.widget-view+json": {
       "model_id": "934a790ace1f4301a58ff3f039c0027f",
       "version_major": 2,
       "version_minor": 0
      },
      "text/plain": [
       "  0%|          | 0/8 [00:00<?, ?it/s]"
      ]
     },
     "metadata": {},
     "output_type": "display_data"
    },
    {
     "name": "stdout",
     "output_type": "stream",
     "text": [
      "[[ 40   0   7   2  28]\n",
      " [ 33  13   1   0  33]\n",
      " [ 18   0  32   0  37]\n",
      " [  0   0   0 131   5]\n",
      " [  3   0   7  45  77]]\n",
      "\n",
      "Test set: Average loss: 1.3368, Accuracy: 293/512 (57%)\n",
      "\n"
     ]
    },
    {
     "data": {
      "application/vnd.jupyter.widget-view+json": {
       "model_id": "7fc604d7c17e4fd98c2635a998304826",
       "version_major": 2,
       "version_minor": 0
      },
      "text/plain": [
       "  0%|          | 0/2 [00:00<?, ?it/s]"
      ]
     },
     "metadata": {},
     "output_type": "display_data"
    },
    {
     "name": "stdout",
     "output_type": "stream",
     "text": [
      "[[12  0  1  0 13]\n",
      " [ 5  3  0  0 12]\n",
      " [ 4  0  4  0  6]\n",
      " [ 0  0  0 29  2]\n",
      " [ 0  0  0 16 21]]\n",
      "\n",
      "Test set: Average loss: 1.6268, Accuracy: 69/128 (54%)\n",
      "\n"
     ]
    },
    {
     "data": {
      "application/vnd.jupyter.widget-view+json": {
       "model_id": "ccb0f626426f4694b1a097996e600bf9",
       "version_major": 2,
       "version_minor": 0
      },
      "text/plain": [
       "  0%|          | 0/8 [00:00<?, ?it/s]"
      ]
     },
     "metadata": {},
     "output_type": "display_data"
    },
    {
     "data": {
      "application/vnd.jupyter.widget-view+json": {
       "model_id": "e3fabc1c39f54b13a522fea925fd66c7",
       "version_major": 2,
       "version_minor": 0
      },
      "text/plain": [
       "  0%|          | 0/8 [00:00<?, ?it/s]"
      ]
     },
     "metadata": {},
     "output_type": "display_data"
    },
    {
     "name": "stdout",
     "output_type": "stream",
     "text": [
      "[[ 76   0   0   0   1]\n",
      " [ 14  59   0   0   7]\n",
      " [ 25   2  39   0  21]\n",
      " [  1   0   0 135   0]\n",
      " [  9   2   3  51  67]]\n",
      "\n",
      "Test set: Average loss: 0.7402, Accuracy: 376/512 (73%)\n",
      "\n"
     ]
    },
    {
     "data": {
      "application/vnd.jupyter.widget-view+json": {
       "model_id": "82172f48d1014f27ac43b68545bf7c3a",
       "version_major": 2,
       "version_minor": 0
      },
      "text/plain": [
       "  0%|          | 0/2 [00:00<?, ?it/s]"
      ]
     },
     "metadata": {},
     "output_type": "display_data"
    },
    {
     "name": "stdout",
     "output_type": "stream",
     "text": [
      "[[21  1  1  0  3]\n",
      " [ 2 10  0  0  8]\n",
      " [ 5  1  3  0  5]\n",
      " [ 0  0  0 31  0]\n",
      " [ 2  1  0 17 17]]\n",
      "\n",
      "Test set: Average loss: 1.0129, Accuracy: 82/128 (64%)\n",
      "\n"
     ]
    },
    {
     "data": {
      "application/vnd.jupyter.widget-view+json": {
       "model_id": "4eb3d315f17f463da43fbb127a1ce686",
       "version_major": 2,
       "version_minor": 0
      },
      "text/plain": [
       "  0%|          | 0/8 [00:00<?, ?it/s]"
      ]
     },
     "metadata": {},
     "output_type": "display_data"
    },
    {
     "data": {
      "application/vnd.jupyter.widget-view+json": {
       "model_id": "279a4ed8a9344ae099d363f8dce8f317",
       "version_major": 2,
       "version_minor": 0
      },
      "text/plain": [
       "  0%|          | 0/8 [00:00<?, ?it/s]"
      ]
     },
     "metadata": {},
     "output_type": "display_data"
    },
    {
     "name": "stdout",
     "output_type": "stream",
     "text": [
      "[[ 77   0   0   0   0]\n",
      " [ 15  65   0   0   0]\n",
      " [  7   0  80   0   0]\n",
      " [  0   0   0 115  21]\n",
      " [ 19   2   6  19  86]]\n",
      "\n",
      "Test set: Average loss: 0.4174, Accuracy: 423/512 (83%)\n",
      "\n"
     ]
    },
    {
     "data": {
      "application/vnd.jupyter.widget-view+json": {
       "model_id": "efdd5c031a8e4a3ba73668210473be10",
       "version_major": 2,
       "version_minor": 0
      },
      "text/plain": [
       "  0%|          | 0/2 [00:00<?, ?it/s]"
      ]
     },
     "metadata": {},
     "output_type": "display_data"
    },
    {
     "name": "stdout",
     "output_type": "stream",
     "text": [
      "[[23  1  1  0  1]\n",
      " [ 6 13  0  0  1]\n",
      " [ 3  0 11  0  0]\n",
      " [ 0  0  0 23  8]\n",
      " [ 4  3  0  6 24]]\n",
      "\n",
      "Test set: Average loss: 0.7849, Accuracy: 94/128 (73%)\n",
      "\n"
     ]
    },
    {
     "data": {
      "application/vnd.jupyter.widget-view+json": {
       "model_id": "332d01893dfb4eb0ae6cd15da6bef1f9",
       "version_major": 2,
       "version_minor": 0
      },
      "text/plain": [
       "  0%|          | 0/8 [00:00<?, ?it/s]"
      ]
     },
     "metadata": {},
     "output_type": "display_data"
    },
    {
     "data": {
      "application/vnd.jupyter.widget-view+json": {
       "model_id": "2f5ba54b5896416f8a066a348da939d6",
       "version_major": 2,
       "version_minor": 0
      },
      "text/plain": [
       "  0%|          | 0/8 [00:00<?, ?it/s]"
      ]
     },
     "metadata": {},
     "output_type": "display_data"
    },
    {
     "name": "stdout",
     "output_type": "stream",
     "text": [
      "[[ 76   0   1   0   0]\n",
      " [  4  74   1   0   1]\n",
      " [  6   1  80   0   0]\n",
      " [  0   0   0 133   3]\n",
      " [ 11   2   6  39  74]]\n",
      "\n",
      "Test set: Average loss: 0.3389, Accuracy: 437/512 (85%)\n",
      "\n"
     ]
    },
    {
     "data": {
      "application/vnd.jupyter.widget-view+json": {
       "model_id": "87d5d643435d4547b4a49cfb1359941e",
       "version_major": 2,
       "version_minor": 0
      },
      "text/plain": [
       "  0%|          | 0/2 [00:00<?, ?it/s]"
      ]
     },
     "metadata": {},
     "output_type": "display_data"
    },
    {
     "name": "stdout",
     "output_type": "stream",
     "text": [
      "[[19  1  4  0  2]\n",
      " [ 1 15  2  0  2]\n",
      " [ 3  0 10  0  1]\n",
      " [ 0  0  0 28  3]\n",
      " [ 2  3  1 14 17]]\n",
      "\n",
      "Test set: Average loss: 0.7153, Accuracy: 89/128 (70%)\n",
      "\n"
     ]
    },
    {
     "data": {
      "application/vnd.jupyter.widget-view+json": {
       "model_id": "d6f389da2ed24bd6bfa43031b69beabe",
       "version_major": 2,
       "version_minor": 0
      },
      "text/plain": [
       "  0%|          | 0/8 [00:00<?, ?it/s]"
      ]
     },
     "metadata": {},
     "output_type": "display_data"
    },
    {
     "data": {
      "application/vnd.jupyter.widget-view+json": {
       "model_id": "a94387f911ad453e8378d7b80d53229c",
       "version_major": 2,
       "version_minor": 0
      },
      "text/plain": [
       "  0%|          | 0/8 [00:00<?, ?it/s]"
      ]
     },
     "metadata": {},
     "output_type": "display_data"
    },
    {
     "name": "stdout",
     "output_type": "stream",
     "text": [
      "[[ 71   0   1   1   4]\n",
      " [  2  56   0   0  22]\n",
      " [  1   2  67   0  17]\n",
      " [  0   0   0 136   0]\n",
      " [  1   2   3  51  75]]\n",
      "\n",
      "Test set: Average loss: 0.4934, Accuracy: 405/512 (79%)\n",
      "\n"
     ]
    },
    {
     "data": {
      "application/vnd.jupyter.widget-view+json": {
       "model_id": "d13efc0f2a694813b55e337e208d1068",
       "version_major": 2,
       "version_minor": 0
      },
      "text/plain": [
       "  0%|          | 0/2 [00:00<?, ?it/s]"
      ]
     },
     "metadata": {},
     "output_type": "display_data"
    },
    {
     "name": "stdout",
     "output_type": "stream",
     "text": [
      "[[17  3  0  0  6]\n",
      " [ 1  8  0  0 11]\n",
      " [ 1  0  7  0  6]\n",
      " [ 0  0  0 31  0]\n",
      " [ 0  1  0 17 19]]\n",
      "\n",
      "Test set: Average loss: 0.9256, Accuracy: 82/128 (64%)\n",
      "\n"
     ]
    },
    {
     "data": {
      "application/vnd.jupyter.widget-view+json": {
       "model_id": "42a83f983e7c4dc4b861e8d56bca2d64",
       "version_major": 2,
       "version_minor": 0
      },
      "text/plain": [
       "  0%|          | 0/8 [00:00<?, ?it/s]"
      ]
     },
     "metadata": {},
     "output_type": "display_data"
    },
    {
     "data": {
      "application/vnd.jupyter.widget-view+json": {
       "model_id": "e8302eabdd5c45d69c64778671ce7a2f",
       "version_major": 2,
       "version_minor": 0
      },
      "text/plain": [
       "  0%|          | 0/8 [00:00<?, ?it/s]"
      ]
     },
     "metadata": {},
     "output_type": "display_data"
    },
    {
     "name": "stdout",
     "output_type": "stream",
     "text": [
      "[[ 71   2   2   0   2]\n",
      " [  0  79   0   0   1]\n",
      " [  0   2  81   0   4]\n",
      " [  2   0   0 110  24]\n",
      " [  0   4   6  16 106]]\n",
      "\n",
      "Test set: Average loss: 0.3341, Accuracy: 447/512 (87%)\n",
      "\n"
     ]
    },
    {
     "data": {
      "application/vnd.jupyter.widget-view+json": {
       "model_id": "9fafabdcb2b44cb2bd6fc250dd33c5ac",
       "version_major": 2,
       "version_minor": 0
      },
      "text/plain": [
       "  0%|          | 0/2 [00:00<?, ?it/s]"
      ]
     },
     "metadata": {},
     "output_type": "display_data"
    },
    {
     "name": "stdout",
     "output_type": "stream",
     "text": [
      "[[13  8  2  0  3]\n",
      " [ 0 17  1  0  2]\n",
      " [ 1  1 10  0  2]\n",
      " [ 0  0  0 24  7]\n",
      " [ 1  4  0  6 26]]\n",
      "\n",
      "Test set: Average loss: 0.7466, Accuracy: 90/128 (70%)\n",
      "\n"
     ]
    },
    {
     "data": {
      "application/vnd.jupyter.widget-view+json": {
       "model_id": "5ff2f700c3a1467a85edf81efdb4e7f7",
       "version_major": 2,
       "version_minor": 0
      },
      "text/plain": [
       "  0%|          | 0/8 [00:00<?, ?it/s]"
      ]
     },
     "metadata": {},
     "output_type": "display_data"
    },
    {
     "data": {
      "application/vnd.jupyter.widget-view+json": {
       "model_id": "aca20da236e84389a7cce2c73a74838e",
       "version_major": 2,
       "version_minor": 0
      },
      "text/plain": [
       "  0%|          | 0/8 [00:00<?, ?it/s]"
      ]
     },
     "metadata": {},
     "output_type": "display_data"
    },
    {
     "name": "stdout",
     "output_type": "stream",
     "text": [
      "[[ 65   1  10   0   1]\n",
      " [  7  59   9   0   5]\n",
      " [  0   0  87   0   0]\n",
      " [  0   0   0 113  23]\n",
      " [  4   2  24  10  92]]\n",
      "\n",
      "Test set: Average loss: 0.4679, Accuracy: 416/512 (81%)\n",
      "\n"
     ]
    },
    {
     "data": {
      "application/vnd.jupyter.widget-view+json": {
       "model_id": "3510800a7d0c4c2db5f7f212cc4cdf0a",
       "version_major": 2,
       "version_minor": 0
      },
      "text/plain": [
       "  0%|          | 0/2 [00:00<?, ?it/s]"
      ]
     },
     "metadata": {},
     "output_type": "display_data"
    },
    {
     "name": "stdout",
     "output_type": "stream",
     "text": [
      "[[14  1 11  0  0]\n",
      " [ 0 13  7  0  0]\n",
      " [ 0  0 14  0  0]\n",
      " [ 0  0  0 20 11]\n",
      " [ 2  2  3  2 28]]\n",
      "\n",
      "Test set: Average loss: 0.8735, Accuracy: 89/128 (70%)\n",
      "\n"
     ]
    },
    {
     "data": {
      "application/vnd.jupyter.widget-view+json": {
       "model_id": "3b40d2e8103d484fa92fd3d08a382f0d",
       "version_major": 2,
       "version_minor": 0
      },
      "text/plain": [
       "  0%|          | 0/8 [00:00<?, ?it/s]"
      ]
     },
     "metadata": {},
     "output_type": "display_data"
    },
    {
     "data": {
      "application/vnd.jupyter.widget-view+json": {
       "model_id": "20cc03c4b5fe4a9ea8a82a549477019f",
       "version_major": 2,
       "version_minor": 0
      },
      "text/plain": [
       "  0%|          | 0/8 [00:00<?, ?it/s]"
      ]
     },
     "metadata": {},
     "output_type": "display_data"
    },
    {
     "name": "stdout",
     "output_type": "stream",
     "text": [
      "[[ 74   0   2   0   1]\n",
      " [  5  74   1   0   0]\n",
      " [ 10   0  75   0   2]\n",
      " [  2   0   0 134   0]\n",
      " [  7   9  10  51  55]]\n",
      "\n",
      "Test set: Average loss: 0.6205, Accuracy: 412/512 (80%)\n",
      "\n"
     ]
    },
    {
     "data": {
      "application/vnd.jupyter.widget-view+json": {
       "model_id": "bc65d56e3fe2418d9c975639c1819562",
       "version_major": 2,
       "version_minor": 0
      },
      "text/plain": [
       "  0%|          | 0/2 [00:00<?, ?it/s]"
      ]
     },
     "metadata": {},
     "output_type": "display_data"
    },
    {
     "name": "stdout",
     "output_type": "stream",
     "text": [
      "[[20  2  2  0  2]\n",
      " [ 1 15  4  0  0]\n",
      " [ 2  0 10  0  2]\n",
      " [ 0  0  0 31  0]\n",
      " [ 1  4  1 17 14]]\n",
      "\n",
      "Test set: Average loss: 1.0010, Accuracy: 90/128 (70%)\n",
      "\n"
     ]
    },
    {
     "data": {
      "application/vnd.jupyter.widget-view+json": {
       "model_id": "eb5759c637774a14b2b707475a85920b",
       "version_major": 2,
       "version_minor": 0
      },
      "text/plain": [
       "  0%|          | 0/8 [00:00<?, ?it/s]"
      ]
     },
     "metadata": {},
     "output_type": "display_data"
    },
    {
     "data": {
      "application/vnd.jupyter.widget-view+json": {
       "model_id": "50fda3a616604e3b960b09752f58293f",
       "version_major": 2,
       "version_minor": 0
      },
      "text/plain": [
       "  0%|          | 0/8 [00:00<?, ?it/s]"
      ]
     },
     "metadata": {},
     "output_type": "display_data"
    },
    {
     "name": "stdout",
     "output_type": "stream",
     "text": [
      "[[ 74   3   0   0   0]\n",
      " [  1  79   0   0   0]\n",
      " [  1   9  77   0   0]\n",
      " [  0   0   0 133   3]\n",
      " [ 18  32   9  30  43]]\n",
      "\n",
      "Test set: Average loss: 0.5850, Accuracy: 406/512 (79%)\n",
      "\n"
     ]
    },
    {
     "data": {
      "application/vnd.jupyter.widget-view+json": {
       "model_id": "00f7abeea1f244429bfcefae57081ee4",
       "version_major": 2,
       "version_minor": 0
      },
      "text/plain": [
       "  0%|          | 0/2 [00:00<?, ?it/s]"
      ]
     },
     "metadata": {},
     "output_type": "display_data"
    },
    {
     "name": "stdout",
     "output_type": "stream",
     "text": [
      "[[18  7  1  0  0]\n",
      " [ 0 20  0  0  0]\n",
      " [ 3  0 11  0  0]\n",
      " [ 0  0  0 28  3]\n",
      " [ 5  8  0 11 13]]\n",
      "\n",
      "Test set: Average loss: 0.8764, Accuracy: 90/128 (70%)\n",
      "\n"
     ]
    },
    {
     "data": {
      "application/vnd.jupyter.widget-view+json": {
       "model_id": "3ca89bf515aa46f38b7469416da7a339",
       "version_major": 2,
       "version_minor": 0
      },
      "text/plain": [
       "  0%|          | 0/8 [00:00<?, ?it/s]"
      ]
     },
     "metadata": {},
     "output_type": "display_data"
    },
    {
     "data": {
      "application/vnd.jupyter.widget-view+json": {
       "model_id": "36f9d5f4ab074f7c8e56d590bf7b2c0b",
       "version_major": 2,
       "version_minor": 0
      },
      "text/plain": [
       "  0%|          | 0/8 [00:00<?, ?it/s]"
      ]
     },
     "metadata": {},
     "output_type": "display_data"
    },
    {
     "name": "stdout",
     "output_type": "stream",
     "text": [
      "[[ 73   0   3   0   1]\n",
      " [  9  58   8   0   5]\n",
      " [  3   0  84   0   0]\n",
      " [  0   0   0 136   0]\n",
      " [  5   0  14  51  62]]\n",
      "\n",
      "Test set: Average loss: 0.4514, Accuracy: 413/512 (81%)\n",
      "\n"
     ]
    },
    {
     "data": {
      "application/vnd.jupyter.widget-view+json": {
       "model_id": "587f7afada15432b95a470e3731581a5",
       "version_major": 2,
       "version_minor": 0
      },
      "text/plain": [
       "  0%|          | 0/2 [00:00<?, ?it/s]"
      ]
     },
     "metadata": {},
     "output_type": "display_data"
    },
    {
     "name": "stdout",
     "output_type": "stream",
     "text": [
      "[[16  1  6  0  3]\n",
      " [ 1 11  7  0  1]\n",
      " [ 3  0 11  0  0]\n",
      " [ 0  0  0 31  0]\n",
      " [ 2  2  1 17 15]]\n",
      "\n",
      "Test set: Average loss: 0.9486, Accuracy: 84/128 (66%)\n",
      "\n"
     ]
    },
    {
     "data": {
      "application/vnd.jupyter.widget-view+json": {
       "model_id": "8252e1c3825d4c3a8bda8edd82f6f61e",
       "version_major": 2,
       "version_minor": 0
      },
      "text/plain": [
       "  0%|          | 0/8 [00:00<?, ?it/s]"
      ]
     },
     "metadata": {},
     "output_type": "display_data"
    },
    {
     "data": {
      "application/vnd.jupyter.widget-view+json": {
       "model_id": "4f6be00e81a44737a8e403c38bcfe817",
       "version_major": 2,
       "version_minor": 0
      },
      "text/plain": [
       "  0%|          | 0/8 [00:00<?, ?it/s]"
      ]
     },
     "metadata": {},
     "output_type": "display_data"
    },
    {
     "name": "stdout",
     "output_type": "stream",
     "text": [
      "[[ 29   5  22   0  21]\n",
      " [  2  65   9   0   4]\n",
      " [  0   0  84   0   3]\n",
      " [ 11   0   0 121   4]\n",
      " [  6   4  18  37  67]]\n",
      "\n",
      "Test set: Average loss: 0.8219, Accuracy: 366/512 (71%)\n",
      "\n"
     ]
    },
    {
     "data": {
      "application/vnd.jupyter.widget-view+json": {
       "model_id": "2d6271f16f034455a77ec16b54bfb7dc",
       "version_major": 2,
       "version_minor": 0
      },
      "text/plain": [
       "  0%|          | 0/2 [00:00<?, ?it/s]"
      ]
     },
     "metadata": {},
     "output_type": "display_data"
    },
    {
     "name": "stdout",
     "output_type": "stream",
     "text": [
      "[[ 8  1 11  0  6]\n",
      " [ 2 12  4  0  2]\n",
      " [ 0  0 12  0  2]\n",
      " [ 1  0  0 27  3]\n",
      " [ 1  3  1 13 19]]\n",
      "\n",
      "Test set: Average loss: 1.3772, Accuracy: 78/128 (61%)\n",
      "\n"
     ]
    },
    {
     "data": {
      "application/vnd.jupyter.widget-view+json": {
       "model_id": "32375bb963964e2daa04755bad5b2715",
       "version_major": 2,
       "version_minor": 0
      },
      "text/plain": [
       "  0%|          | 0/8 [00:00<?, ?it/s]"
      ]
     },
     "metadata": {},
     "output_type": "display_data"
    },
    {
     "data": {
      "application/vnd.jupyter.widget-view+json": {
       "model_id": "a562fef6e88e4febb936b13ec1bc3920",
       "version_major": 2,
       "version_minor": 0
      },
      "text/plain": [
       "  0%|          | 0/8 [00:00<?, ?it/s]"
      ]
     },
     "metadata": {},
     "output_type": "display_data"
    },
    {
     "name": "stdout",
     "output_type": "stream",
     "text": [
      "[[ 76   0   1   0   0]\n",
      " [  7  72   1   0   0]\n",
      " [ 16   2  63   0   6]\n",
      " [  3   0   0 112  21]\n",
      " [ 17   7   4  25  79]]\n",
      "\n",
      "Test set: Average loss: 0.5007, Accuracy: 402/512 (79%)\n",
      "\n"
     ]
    },
    {
     "data": {
      "application/vnd.jupyter.widget-view+json": {
       "model_id": "ee8326c76cfe41b5b06ce5922f98fbcc",
       "version_major": 2,
       "version_minor": 0
      },
      "text/plain": [
       "  0%|          | 0/2 [00:00<?, ?it/s]"
      ]
     },
     "metadata": {},
     "output_type": "display_data"
    },
    {
     "name": "stdout",
     "output_type": "stream",
     "text": [
      "[[23  2  0  0  1]\n",
      " [ 4 13  2  0  1]\n",
      " [ 3  0  8  0  3]\n",
      " [ 0  0  0 23  8]\n",
      " [ 6  3  0  8 20]]\n",
      "\n",
      "Test set: Average loss: 0.7852, Accuracy: 87/128 (68%)\n",
      "\n"
     ]
    },
    {
     "data": {
      "application/vnd.jupyter.widget-view+json": {
       "model_id": "354ab25557a7419698542649565d0c9c",
       "version_major": 2,
       "version_minor": 0
      },
      "text/plain": [
       "  0%|          | 0/8 [00:00<?, ?it/s]"
      ]
     },
     "metadata": {},
     "output_type": "display_data"
    },
    {
     "data": {
      "application/vnd.jupyter.widget-view+json": {
       "model_id": "09ebfcd5cdd5430fb3c40823364692e9",
       "version_major": 2,
       "version_minor": 0
      },
      "text/plain": [
       "  0%|          | 0/8 [00:00<?, ?it/s]"
      ]
     },
     "metadata": {},
     "output_type": "display_data"
    },
    {
     "name": "stdout",
     "output_type": "stream",
     "text": [
      "[[ 63   0   6   0   8]\n",
      " [  0  70   1   0   9]\n",
      " [  0   0  87   0   0]\n",
      " [  2   0   0  90  44]\n",
      " [  0   0   4   0 128]]\n",
      "\n",
      "Test set: Average loss: 0.3823, Accuracy: 438/512 (86%)\n",
      "\n"
     ]
    },
    {
     "data": {
      "application/vnd.jupyter.widget-view+json": {
       "model_id": "9ced4c29ccb44d14a214b0069cf2db78",
       "version_major": 2,
       "version_minor": 0
      },
      "text/plain": [
       "  0%|          | 0/2 [00:00<?, ?it/s]"
      ]
     },
     "metadata": {},
     "output_type": "display_data"
    },
    {
     "name": "stdout",
     "output_type": "stream",
     "text": [
      "[[11  1  7  0  7]\n",
      " [ 0 15  2  0  3]\n",
      " [ 0  0 13  0  1]\n",
      " [ 0  0  0 19 12]\n",
      " [ 0  2  0  1 34]]\n",
      "\n",
      "Test set: Average loss: 0.9395, Accuracy: 92/128 (72%)\n",
      "\n"
     ]
    },
    {
     "data": {
      "application/vnd.jupyter.widget-view+json": {
       "model_id": "93daae0fa98c4f83bee58d7416ba4a13",
       "version_major": 2,
       "version_minor": 0
      },
      "text/plain": [
       "  0%|          | 0/8 [00:00<?, ?it/s]"
      ]
     },
     "metadata": {},
     "output_type": "display_data"
    },
    {
     "data": {
      "application/vnd.jupyter.widget-view+json": {
       "model_id": "54c1fd260995444bbef2f9feed8087af",
       "version_major": 2,
       "version_minor": 0
      },
      "text/plain": [
       "  0%|          | 0/8 [00:00<?, ?it/s]"
      ]
     },
     "metadata": {},
     "output_type": "display_data"
    },
    {
     "name": "stdout",
     "output_type": "stream",
     "text": [
      "[[ 72   0   5   0   0]\n",
      " [  0  79   1   0   0]\n",
      " [  0   1  86   0   0]\n",
      " [  0   0   0 135   1]\n",
      " [  3  10  23  36  60]]\n",
      "\n",
      "Test set: Average loss: 0.3940, Accuracy: 432/512 (84%)\n",
      "\n"
     ]
    },
    {
     "data": {
      "application/vnd.jupyter.widget-view+json": {
       "model_id": "d32cb7f6596647828d18afd98e3c1697",
       "version_major": 2,
       "version_minor": 0
      },
      "text/plain": [
       "  0%|          | 0/2 [00:00<?, ?it/s]"
      ]
     },
     "metadata": {},
     "output_type": "display_data"
    },
    {
     "name": "stdout",
     "output_type": "stream",
     "text": [
      "[[15  3  7  0  1]\n",
      " [ 0 18  2  0  0]\n",
      " [ 0  0 14  0  0]\n",
      " [ 0  0  0 28  3]\n",
      " [ 3  4  2 12 16]]\n",
      "\n",
      "Test set: Average loss: 0.8258, Accuracy: 91/128 (71%)\n",
      "\n"
     ]
    },
    {
     "data": {
      "application/vnd.jupyter.widget-view+json": {
       "model_id": "acd3fc2c1bc04a3caf69d57a4cb6499e",
       "version_major": 2,
       "version_minor": 0
      },
      "text/plain": [
       "  0%|          | 0/8 [00:00<?, ?it/s]"
      ]
     },
     "metadata": {},
     "output_type": "display_data"
    },
    {
     "data": {
      "application/vnd.jupyter.widget-view+json": {
       "model_id": "977fda81112c44b4814062bce085e43f",
       "version_major": 2,
       "version_minor": 0
      },
      "text/plain": [
       "  0%|          | 0/8 [00:00<?, ?it/s]"
      ]
     },
     "metadata": {},
     "output_type": "display_data"
    },
    {
     "name": "stdout",
     "output_type": "stream",
     "text": [
      "[[56 12  7  0  2]\n",
      " [ 0 79  1  0  0]\n",
      " [ 0  4 83  0  0]\n",
      " [ 0  0  0 88 48]\n",
      " [ 0 24 19  8 81]]\n",
      "\n",
      "Test set: Average loss: 0.5510, Accuracy: 387/512 (76%)\n",
      "\n"
     ]
    },
    {
     "data": {
      "application/vnd.jupyter.widget-view+json": {
       "model_id": "7a7c019461c547279980334cd7f43378",
       "version_major": 2,
       "version_minor": 0
      },
      "text/plain": [
       "  0%|          | 0/2 [00:00<?, ?it/s]"
      ]
     },
     "metadata": {},
     "output_type": "display_data"
    },
    {
     "name": "stdout",
     "output_type": "stream",
     "text": [
      "[[11  6  7  0  2]\n",
      " [ 0 17  3  0  0]\n",
      " [ 0  2 10  0  2]\n",
      " [ 0  0  0 16 15]\n",
      " [ 1  6  3  3 24]]\n",
      "\n",
      "Test set: Average loss: 0.9887, Accuracy: 78/128 (61%)\n",
      "\n"
     ]
    },
    {
     "data": {
      "application/vnd.jupyter.widget-view+json": {
       "model_id": "9b4c1fbebd6c43beb83dcb04031894f1",
       "version_major": 2,
       "version_minor": 0
      },
      "text/plain": [
       "  0%|          | 0/8 [00:00<?, ?it/s]"
      ]
     },
     "metadata": {},
     "output_type": "display_data"
    },
    {
     "data": {
      "application/vnd.jupyter.widget-view+json": {
       "model_id": "e644475a0a0f4d6da91b2ef5c9104631",
       "version_major": 2,
       "version_minor": 0
      },
      "text/plain": [
       "  0%|          | 0/8 [00:00<?, ?it/s]"
      ]
     },
     "metadata": {},
     "output_type": "display_data"
    },
    {
     "name": "stdout",
     "output_type": "stream",
     "text": [
      "[[ 76   0   1   0   0]\n",
      " [ 15  65   0   0   0]\n",
      " [ 38   7  30   0  12]\n",
      " [  2   0   0 133   1]\n",
      " [ 20   5   1  49  57]]\n",
      "\n",
      "Test set: Average loss: 0.8952, Accuracy: 361/512 (71%)\n",
      "\n"
     ]
    },
    {
     "data": {
      "application/vnd.jupyter.widget-view+json": {
       "model_id": "3542d20d7438490ca34e62e076667317",
       "version_major": 2,
       "version_minor": 0
      },
      "text/plain": [
       "  0%|          | 0/2 [00:00<?, ?it/s]"
      ]
     },
     "metadata": {},
     "output_type": "display_data"
    },
    {
     "name": "stdout",
     "output_type": "stream",
     "text": [
      "[[24  1  0  0  1]\n",
      " [ 2 16  0  0  2]\n",
      " [ 9  0  2  0  3]\n",
      " [ 0  0  0 30  1]\n",
      " [ 4  1  0 15 17]]\n",
      "\n",
      "Test set: Average loss: 1.0225, Accuracy: 89/128 (70%)\n",
      "\n"
     ]
    },
    {
     "data": {
      "application/vnd.jupyter.widget-view+json": {
       "model_id": "02cb3d6c1af04924880476619b52c647",
       "version_major": 2,
       "version_minor": 0
      },
      "text/plain": [
       "  0%|          | 0/8 [00:00<?, ?it/s]"
      ]
     },
     "metadata": {},
     "output_type": "display_data"
    },
    {
     "data": {
      "application/vnd.jupyter.widget-view+json": {
       "model_id": "b31093daf4bd481a89bdf5273332f5c8",
       "version_major": 2,
       "version_minor": 0
      },
      "text/plain": [
       "  0%|          | 0/8 [00:00<?, ?it/s]"
      ]
     },
     "metadata": {},
     "output_type": "display_data"
    },
    {
     "name": "stdout",
     "output_type": "stream",
     "text": [
      "[[ 74   3   0   0   0]\n",
      " [  3  77   0   0   0]\n",
      " [ 11  11  62   0   3]\n",
      " [  0   0   0 132   4]\n",
      " [ 13  18   2  22  77]]\n",
      "\n",
      "Test set: Average loss: 0.4801, Accuracy: 422/512 (82%)\n",
      "\n"
     ]
    },
    {
     "data": {
      "application/vnd.jupyter.widget-view+json": {
       "model_id": "6532c04a10aa4646bbbfb4ef6241647c",
       "version_major": 2,
       "version_minor": 0
      },
      "text/plain": [
       "  0%|          | 0/2 [00:00<?, ?it/s]"
      ]
     },
     "metadata": {},
     "output_type": "display_data"
    },
    {
     "name": "stdout",
     "output_type": "stream",
     "text": [
      "[[20  4  1  0  1]\n",
      " [ 1 19  0  0  0]\n",
      " [ 4  1  7  0  2]\n",
      " [ 0  0  0 29  2]\n",
      " [ 3  5  0 11 18]]\n",
      "\n",
      "Test set: Average loss: 0.7959, Accuracy: 93/128 (73%)\n",
      "\n"
     ]
    },
    {
     "data": {
      "application/vnd.jupyter.widget-view+json": {
       "model_id": "f5b7cd2e74a04025841aa1363a81380e",
       "version_major": 2,
       "version_minor": 0
      },
      "text/plain": [
       "  0%|          | 0/8 [00:00<?, ?it/s]"
      ]
     },
     "metadata": {},
     "output_type": "display_data"
    },
    {
     "data": {
      "application/vnd.jupyter.widget-view+json": {
       "model_id": "6ac6e01478ee44edb5dd89500204ac36",
       "version_major": 2,
       "version_minor": 0
      },
      "text/plain": [
       "  0%|          | 0/8 [00:00<?, ?it/s]"
      ]
     },
     "metadata": {},
     "output_type": "display_data"
    },
    {
     "name": "stdout",
     "output_type": "stream",
     "text": [
      "[[ 71   0   4   0   2]\n",
      " [ 13  32  19   0  16]\n",
      " [  6   0  67   0  14]\n",
      " [  3   0   0 130   3]\n",
      " [ 10   0  13  35  74]]\n",
      "\n",
      "Test set: Average loss: 0.6455, Accuracy: 374/512 (73%)\n",
      "\n"
     ]
    },
    {
     "data": {
      "application/vnd.jupyter.widget-view+json": {
       "model_id": "b68cbf44198b4a1586fab17e5aa7b69a",
       "version_major": 2,
       "version_minor": 0
      },
      "text/plain": [
       "  0%|          | 0/2 [00:00<?, ?it/s]"
      ]
     },
     "metadata": {},
     "output_type": "display_data"
    },
    {
     "name": "stdout",
     "output_type": "stream",
     "text": [
      "[[17  1  5  0  3]\n",
      " [ 3  6  5  0  6]\n",
      " [ 2  0  9  0  3]\n",
      " [ 0  0  0 28  3]\n",
      " [ 3  0  2 14 18]]\n",
      "\n",
      "Test set: Average loss: 0.9779, Accuracy: 78/128 (61%)\n",
      "\n"
     ]
    },
    {
     "data": {
      "application/vnd.jupyter.widget-view+json": {
       "model_id": "7d3dd220345a42fab61b256c3ef95ced",
       "version_major": 2,
       "version_minor": 0
      },
      "text/plain": [
       "  0%|          | 0/8 [00:00<?, ?it/s]"
      ]
     },
     "metadata": {},
     "output_type": "display_data"
    },
    {
     "data": {
      "application/vnd.jupyter.widget-view+json": {
       "model_id": "bd881c1fa7cd4442a71aa135edfb4501",
       "version_major": 2,
       "version_minor": 0
      },
      "text/plain": [
       "  0%|          | 0/8 [00:00<?, ?it/s]"
      ]
     },
     "metadata": {},
     "output_type": "display_data"
    },
    {
     "name": "stdout",
     "output_type": "stream",
     "text": [
      "[[ 71   0   1   0   5]\n",
      " [  0  74   0   0   6]\n",
      " [  0   0  85   0   2]\n",
      " [  0   0   0  91  45]\n",
      " [  1   1   2   0 128]]\n",
      "\n",
      "Test set: Average loss: 0.3139, Accuracy: 449/512 (88%)\n",
      "\n"
     ]
    },
    {
     "data": {
      "application/vnd.jupyter.widget-view+json": {
       "model_id": "339acac454de4c238f69dd530deb2117",
       "version_major": 2,
       "version_minor": 0
      },
      "text/plain": [
       "  0%|          | 0/2 [00:00<?, ?it/s]"
      ]
     },
     "metadata": {},
     "output_type": "display_data"
    },
    {
     "name": "stdout",
     "output_type": "stream",
     "text": [
      "[[13  5  3  0  5]\n",
      " [ 0 17  0  0  3]\n",
      " [ 1  0  8  0  5]\n",
      " [ 0  0  1 18 12]\n",
      " [ 1  3  0  0 33]]\n",
      "\n",
      "Test set: Average loss: 0.7341, Accuracy: 89/128 (70%)\n",
      "\n"
     ]
    },
    {
     "data": {
      "application/vnd.jupyter.widget-view+json": {
       "model_id": "df077a25b1c446be89057ce161d9c79c",
       "version_major": 2,
       "version_minor": 0
      },
      "text/plain": [
       "  0%|          | 0/8 [00:00<?, ?it/s]"
      ]
     },
     "metadata": {},
     "output_type": "display_data"
    },
    {
     "data": {
      "application/vnd.jupyter.widget-view+json": {
       "model_id": "1823033190a34bd1b4c1ce586beb674f",
       "version_major": 2,
       "version_minor": 0
      },
      "text/plain": [
       "  0%|          | 0/8 [00:00<?, ?it/s]"
      ]
     },
     "metadata": {},
     "output_type": "display_data"
    },
    {
     "name": "stdout",
     "output_type": "stream",
     "text": [
      "[[ 69   0   0   0   8]\n",
      " [ 25   6   0   0  49]\n",
      " [ 12   0   4   0  71]\n",
      " [  0   0   0   0 136]\n",
      " [  9   0   1   0 122]]\n",
      "\n",
      "Test set: Average loss: 1.9155, Accuracy: 201/512 (39%)\n",
      "\n"
     ]
    },
    {
     "data": {
      "application/vnd.jupyter.widget-view+json": {
       "model_id": "7ffc237720f1422683f6ab3d9f4b4da2",
       "version_major": 2,
       "version_minor": 0
      },
      "text/plain": [
       "  0%|          | 0/2 [00:00<?, ?it/s]"
      ]
     },
     "metadata": {},
     "output_type": "display_data"
    },
    {
     "name": "stdout",
     "output_type": "stream",
     "text": [
      "[[18  0  0  0  8]\n",
      " [ 2  1  0  0 17]\n",
      " [ 1  0  2  0 11]\n",
      " [ 0  0  0  0 31]\n",
      " [ 4  0  0  0 33]]\n",
      "\n",
      "Test set: Average loss: 2.1924, Accuracy: 54/128 (42%)\n",
      "\n"
     ]
    },
    {
     "data": {
      "application/vnd.jupyter.widget-view+json": {
       "model_id": "a0fdedd73f1c40ec9945661d2a2a7f9b",
       "version_major": 2,
       "version_minor": 0
      },
      "text/plain": [
       "  0%|          | 0/8 [00:00<?, ?it/s]"
      ]
     },
     "metadata": {},
     "output_type": "display_data"
    },
    {
     "data": {
      "application/vnd.jupyter.widget-view+json": {
       "model_id": "a6be2c7004444414921d0e0231700de3",
       "version_major": 2,
       "version_minor": 0
      },
      "text/plain": [
       "  0%|          | 0/8 [00:00<?, ?it/s]"
      ]
     },
     "metadata": {},
     "output_type": "display_data"
    },
    {
     "name": "stdout",
     "output_type": "stream",
     "text": [
      "[[ 67   1   8   0   1]\n",
      " [  0  79   1   0   0]\n",
      " [  0   0  87   0   0]\n",
      " [  0   0   0  83  53]\n",
      " [  2   6  17   0 107]]\n",
      "\n",
      "Test set: Average loss: 0.3863, Accuracy: 423/512 (83%)\n",
      "\n"
     ]
    },
    {
     "data": {
      "application/vnd.jupyter.widget-view+json": {
       "model_id": "66f1cde7ce01431da81bd7b12f850e86",
       "version_major": 2,
       "version_minor": 0
      },
      "text/plain": [
       "  0%|          | 0/2 [00:00<?, ?it/s]"
      ]
     },
     "metadata": {},
     "output_type": "display_data"
    },
    {
     "name": "stdout",
     "output_type": "stream",
     "text": [
      "[[16  1  8  0  1]\n",
      " [ 0 15  5  0  0]\n",
      " [ 0  0 14  0  0]\n",
      " [ 0  0  0 15 16]\n",
      " [ 2  4  2  0 29]]\n",
      "\n",
      "Test set: Average loss: 0.8356, Accuracy: 89/128 (70%)\n",
      "\n"
     ]
    },
    {
     "data": {
      "application/vnd.jupyter.widget-view+json": {
       "model_id": "cda6116d4fe7496dbb6d6d8136ffb98a",
       "version_major": 2,
       "version_minor": 0
      },
      "text/plain": [
       "  0%|          | 0/8 [00:00<?, ?it/s]"
      ]
     },
     "metadata": {},
     "output_type": "display_data"
    },
    {
     "data": {
      "application/vnd.jupyter.widget-view+json": {
       "model_id": "2fca2c6510b0438abbe6ce8f70823cda",
       "version_major": 2,
       "version_minor": 0
      },
      "text/plain": [
       "  0%|          | 0/8 [00:00<?, ?it/s]"
      ]
     },
     "metadata": {},
     "output_type": "display_data"
    },
    {
     "name": "stdout",
     "output_type": "stream",
     "text": [
      "[[ 75   0   1   1   0]\n",
      " [ 17  62   0   0   1]\n",
      " [ 29   2  50   0   6]\n",
      " [  0   0   0 136   0]\n",
      " [ 28   6   2  52  44]]\n",
      "\n",
      "Test set: Average loss: 1.0079, Accuracy: 367/512 (72%)\n",
      "\n"
     ]
    },
    {
     "data": {
      "application/vnd.jupyter.widget-view+json": {
       "model_id": "d2f35d664d224fd59b5441cc1a2591c2",
       "version_major": 2,
       "version_minor": 0
      },
      "text/plain": [
       "  0%|          | 0/2 [00:00<?, ?it/s]"
      ]
     },
     "metadata": {},
     "output_type": "display_data"
    },
    {
     "name": "stdout",
     "output_type": "stream",
     "text": [
      "[[21  1  1  0  3]\n",
      " [ 2 14  1  0  3]\n",
      " [ 7  0  4  0  3]\n",
      " [ 0  0  0 31  0]\n",
      " [ 8  3  0 17  9]]\n",
      "\n",
      "Test set: Average loss: 1.2914, Accuracy: 79/128 (62%)\n",
      "\n"
     ]
    },
    {
     "data": {
      "application/vnd.jupyter.widget-view+json": {
       "model_id": "45df2c11899748aab37c285b955092bd",
       "version_major": 2,
       "version_minor": 0
      },
      "text/plain": [
       "  0%|          | 0/8 [00:00<?, ?it/s]"
      ]
     },
     "metadata": {},
     "output_type": "display_data"
    },
    {
     "data": {
      "application/vnd.jupyter.widget-view+json": {
       "model_id": "e50e293b5b5b422e9fbe89acbb5f17fe",
       "version_major": 2,
       "version_minor": 0
      },
      "text/plain": [
       "  0%|          | 0/8 [00:00<?, ?it/s]"
      ]
     },
     "metadata": {},
     "output_type": "display_data"
    },
    {
     "name": "stdout",
     "output_type": "stream",
     "text": [
      "[[ 36  20   0   0  21]\n",
      " [  0  80   0   0   0]\n",
      " [  0   4  65   0  18]\n",
      " [  0   0   0  21 115]\n",
      " [  1   9   5   0 117]]\n",
      "\n",
      "Test set: Average loss: 0.7553, Accuracy: 319/512 (62%)\n",
      "\n"
     ]
    },
    {
     "data": {
      "application/vnd.jupyter.widget-view+json": {
       "model_id": "3d58093f251e433aa5689e198a7ecebf",
       "version_major": 2,
       "version_minor": 0
      },
      "text/plain": [
       "  0%|          | 0/2 [00:00<?, ?it/s]"
      ]
     },
     "metadata": {},
     "output_type": "display_data"
    },
    {
     "name": "stdout",
     "output_type": "stream",
     "text": [
      "[[ 7 10  1  0  8]\n",
      " [ 0 18  0  0  2]\n",
      " [ 0  0  8  0  6]\n",
      " [ 0  0  0  3 28]\n",
      " [ 0  5  0  0 32]]\n",
      "\n",
      "Test set: Average loss: 1.2594, Accuracy: 68/128 (53%)\n",
      "\n"
     ]
    },
    {
     "data": {
      "application/vnd.jupyter.widget-view+json": {
       "model_id": "a6fd903ec02143d2a9fb77460653158d",
       "version_major": 2,
       "version_minor": 0
      },
      "text/plain": [
       "  0%|          | 0/8 [00:00<?, ?it/s]"
      ]
     },
     "metadata": {},
     "output_type": "display_data"
    },
    {
     "data": {
      "application/vnd.jupyter.widget-view+json": {
       "model_id": "a45b193da5b24d23b424318cbaa82cd4",
       "version_major": 2,
       "version_minor": 0
      },
      "text/plain": [
       "  0%|          | 0/8 [00:00<?, ?it/s]"
      ]
     },
     "metadata": {},
     "output_type": "display_data"
    },
    {
     "name": "stdout",
     "output_type": "stream",
     "text": [
      "[[ 62   0  13   1   1]\n",
      " [  1  71   5   0   3]\n",
      " [  0   0  84   2   1]\n",
      " [  0   0   0 136   0]\n",
      " [  0   0  10  53  69]]\n",
      "\n",
      "Test set: Average loss: 0.5001, Accuracy: 422/512 (82%)\n",
      "\n"
     ]
    },
    {
     "data": {
      "application/vnd.jupyter.widget-view+json": {
       "model_id": "2620d3a882f44830aabaed848edb27a9",
       "version_major": 2,
       "version_minor": 0
      },
      "text/plain": [
       "  0%|          | 0/2 [00:00<?, ?it/s]"
      ]
     },
     "metadata": {},
     "output_type": "display_data"
    },
    {
     "name": "stdout",
     "output_type": "stream",
     "text": [
      "[[10  1 11  1  3]\n",
      " [ 0 14  6  0  0]\n",
      " [ 1  0 13  0  0]\n",
      " [ 0  0  0 31  0]\n",
      " [ 1  3  1 17 15]]\n",
      "\n",
      "Test set: Average loss: 1.0468, Accuracy: 83/128 (65%)\n",
      "\n"
     ]
    },
    {
     "data": {
      "application/vnd.jupyter.widget-view+json": {
       "model_id": "b76be51a8ea147539151e9a53bd01c27",
       "version_major": 2,
       "version_minor": 0
      },
      "text/plain": [
       "  0%|          | 0/8 [00:00<?, ?it/s]"
      ]
     },
     "metadata": {},
     "output_type": "display_data"
    },
    {
     "data": {
      "application/vnd.jupyter.widget-view+json": {
       "model_id": "7411e969d5234e4fa381e514e8c9a631",
       "version_major": 2,
       "version_minor": 0
      },
      "text/plain": [
       "  0%|          | 0/8 [00:00<?, ?it/s]"
      ]
     },
     "metadata": {},
     "output_type": "display_data"
    },
    {
     "name": "stdout",
     "output_type": "stream",
     "text": [
      "[[ 68   0   0   0   9]\n",
      " [ 11  44   0   0  25]\n",
      " [ 11   1  70   0   5]\n",
      " [  5   0   0 113  18]\n",
      " [  4   0   3   1 124]]\n",
      "\n",
      "Test set: Average loss: 0.4851, Accuracy: 419/512 (82%)\n",
      "\n"
     ]
    },
    {
     "data": {
      "application/vnd.jupyter.widget-view+json": {
       "model_id": "56f2a0ca5adf40b8967fba446f1160ac",
       "version_major": 2,
       "version_minor": 0
      },
      "text/plain": [
       "  0%|          | 0/2 [00:00<?, ?it/s]"
      ]
     },
     "metadata": {},
     "output_type": "display_data"
    },
    {
     "name": "stdout",
     "output_type": "stream",
     "text": [
      "[[19  1  2  0  4]\n",
      " [ 1  9  1  0  9]\n",
      " [ 2  0 11  0  1]\n",
      " [ 0  0  0 26  5]\n",
      " [ 0  1  0  0 36]]\n",
      "\n",
      "Test set: Average loss: 0.7520, Accuracy: 101/128 (79%)\n",
      "\n"
     ]
    },
    {
     "data": {
      "application/vnd.jupyter.widget-view+json": {
       "model_id": "3bb709107577429ab47df8dd92144455",
       "version_major": 2,
       "version_minor": 0
      },
      "text/plain": [
       "  0%|          | 0/8 [00:00<?, ?it/s]"
      ]
     },
     "metadata": {},
     "output_type": "display_data"
    },
    {
     "data": {
      "application/vnd.jupyter.widget-view+json": {
       "model_id": "2d88c3c0e97d490da34222b2fd2422a5",
       "version_major": 2,
       "version_minor": 0
      },
      "text/plain": [
       "  0%|          | 0/8 [00:00<?, ?it/s]"
      ]
     },
     "metadata": {},
     "output_type": "display_data"
    },
    {
     "name": "stdout",
     "output_type": "stream",
     "text": [
      "[[ 73   1   0   1   2]\n",
      " [ 27  50   1   0   2]\n",
      " [ 17   7  59   0   4]\n",
      " [  0   2   0 131   3]\n",
      " [ 12  11   7  32  70]]\n",
      "\n",
      "Test set: Average loss: 0.7184, Accuracy: 383/512 (75%)\n",
      "\n"
     ]
    },
    {
     "data": {
      "application/vnd.jupyter.widget-view+json": {
       "model_id": "1bc645a9e01d426384df48182ecfe7c6",
       "version_major": 2,
       "version_minor": 0
      },
      "text/plain": [
       "  0%|          | 0/2 [00:00<?, ?it/s]"
      ]
     },
     "metadata": {},
     "output_type": "display_data"
    },
    {
     "name": "stdout",
     "output_type": "stream",
     "text": [
      "[[22  1  1  0  2]\n",
      " [ 6 10  0  0  4]\n",
      " [ 4  2  7  0  1]\n",
      " [ 0  0  0 28  3]\n",
      " [ 1  4  0 13 19]]\n",
      "\n",
      "Test set: Average loss: 0.8168, Accuracy: 86/128 (67%)\n",
      "\n"
     ]
    },
    {
     "data": {
      "application/vnd.jupyter.widget-view+json": {
       "model_id": "57274efbde164767a128a6763d164fbf",
       "version_major": 2,
       "version_minor": 0
      },
      "text/plain": [
       "  0%|          | 0/8 [00:00<?, ?it/s]"
      ]
     },
     "metadata": {},
     "output_type": "display_data"
    },
    {
     "data": {
      "application/vnd.jupyter.widget-view+json": {
       "model_id": "4caeab33d48c4404ae324eb57abd44ff",
       "version_major": 2,
       "version_minor": 0
      },
      "text/plain": [
       "  0%|          | 0/8 [00:00<?, ?it/s]"
      ]
     },
     "metadata": {},
     "output_type": "display_data"
    },
    {
     "name": "stdout",
     "output_type": "stream",
     "text": [
      "[[ 67   4   1   0   5]\n",
      " [  1  79   0   0   0]\n",
      " [  0   2  83   0   2]\n",
      " [  0   0   0  79  57]\n",
      " [  2  10   5   0 115]]\n",
      "\n",
      "Test set: Average loss: 0.3761, Accuracy: 423/512 (83%)\n",
      "\n"
     ]
    },
    {
     "data": {
      "application/vnd.jupyter.widget-view+json": {
       "model_id": "d2640c641ca048d6bc05fa37ae0ebb97",
       "version_major": 2,
       "version_minor": 0
      },
      "text/plain": [
       "  0%|          | 0/2 [00:00<?, ?it/s]"
      ]
     },
     "metadata": {},
     "output_type": "display_data"
    },
    {
     "name": "stdout",
     "output_type": "stream",
     "text": [
      "[[16  5  2  0  3]\n",
      " [ 1 17  0  0  2]\n",
      " [ 1  0 11  0  2]\n",
      " [ 0  0  0 16 15]\n",
      " [ 1  3  1  0 32]]\n",
      "\n",
      "Test set: Average loss: 0.7106, Accuracy: 92/128 (72%)\n",
      "\n"
     ]
    },
    {
     "data": {
      "application/vnd.jupyter.widget-view+json": {
       "model_id": "3ee08160e50b46979c1777a9ac09c456",
       "version_major": 2,
       "version_minor": 0
      },
      "text/plain": [
       "  0%|          | 0/8 [00:00<?, ?it/s]"
      ]
     },
     "metadata": {},
     "output_type": "display_data"
    },
    {
     "data": {
      "application/vnd.jupyter.widget-view+json": {
       "model_id": "f605a743c8de40458037fb587acd4caf",
       "version_major": 2,
       "version_minor": 0
      },
      "text/plain": [
       "  0%|          | 0/8 [00:00<?, ?it/s]"
      ]
     },
     "metadata": {},
     "output_type": "display_data"
    },
    {
     "name": "stdout",
     "output_type": "stream",
     "text": [
      "[[ 29   4  26   0  18]\n",
      " [  0  69   3   0   8]\n",
      " [  0   0  86   0   1]\n",
      " [  4   0   0  21 111]\n",
      " [  0   0   7   0 125]]\n",
      "\n",
      "Test set: Average loss: 0.7488, Accuracy: 330/512 (64%)\n",
      "\n"
     ]
    },
    {
     "data": {
      "application/vnd.jupyter.widget-view+json": {
       "model_id": "9ab0e313bcc14e5a8e7cd23318753529",
       "version_major": 2,
       "version_minor": 0
      },
      "text/plain": [
       "  0%|          | 0/2 [00:00<?, ?it/s]"
      ]
     },
     "metadata": {},
     "output_type": "display_data"
    },
    {
     "name": "stdout",
     "output_type": "stream",
     "text": [
      "[[ 6  5  8  0  7]\n",
      " [ 0 16  1  0  3]\n",
      " [ 0  0 13  0  1]\n",
      " [ 1  0  0  3 27]\n",
      " [ 0  1  0  0 36]]\n",
      "\n",
      "Test set: Average loss: 1.2100, Accuracy: 74/128 (58%)\n",
      "\n"
     ]
    },
    {
     "data": {
      "application/vnd.jupyter.widget-view+json": {
       "model_id": "7a5d620b15694297a946739172525e7c",
       "version_major": 2,
       "version_minor": 0
      },
      "text/plain": [
       "  0%|          | 0/8 [00:00<?, ?it/s]"
      ]
     },
     "metadata": {},
     "output_type": "display_data"
    },
    {
     "data": {
      "application/vnd.jupyter.widget-view+json": {
       "model_id": "50cea8c195d947cf82eb9d79978da82e",
       "version_major": 2,
       "version_minor": 0
      },
      "text/plain": [
       "  0%|          | 0/8 [00:00<?, ?it/s]"
      ]
     },
     "metadata": {},
     "output_type": "display_data"
    },
    {
     "name": "stdout",
     "output_type": "stream",
     "text": [
      "[[ 77   0   0   0   0]\n",
      " [ 42  36   0   0   2]\n",
      " [ 47   0  39   0   1]\n",
      " [  0   0   0 134   2]\n",
      " [ 26   0   0   7  99]]\n",
      "\n",
      "Test set: Average loss: 1.0318, Accuracy: 385/512 (75%)\n",
      "\n"
     ]
    },
    {
     "data": {
      "application/vnd.jupyter.widget-view+json": {
       "model_id": "0fb9b7a6d2a542ed88f4d5cd6257dcd1",
       "version_major": 2,
       "version_minor": 0
      },
      "text/plain": [
       "  0%|          | 0/2 [00:00<?, ?it/s]"
      ]
     },
     "metadata": {},
     "output_type": "display_data"
    },
    {
     "name": "stdout",
     "output_type": "stream",
     "text": [
      "[[24  1  1  0  0]\n",
      " [ 6 12  0  0  2]\n",
      " [ 9  0  3  0  2]\n",
      " [ 0  0  0 29  2]\n",
      " [ 7  0  0  4 26]]\n",
      "\n",
      "Test set: Average loss: 1.1063, Accuracy: 94/128 (73%)\n",
      "\n"
     ]
    },
    {
     "data": {
      "application/vnd.jupyter.widget-view+json": {
       "model_id": "3813dd567c2b4131a33c864a193f00b6",
       "version_major": 2,
       "version_minor": 0
      },
      "text/plain": [
       "  0%|          | 0/8 [00:00<?, ?it/s]"
      ]
     },
     "metadata": {},
     "output_type": "display_data"
    },
    {
     "data": {
      "application/vnd.jupyter.widget-view+json": {
       "model_id": "617e1ed96b0f466d8d7c3b8a3169a481",
       "version_major": 2,
       "version_minor": 0
      },
      "text/plain": [
       "  0%|          | 0/8 [00:00<?, ?it/s]"
      ]
     },
     "metadata": {},
     "output_type": "display_data"
    },
    {
     "name": "stdout",
     "output_type": "stream",
     "text": [
      "[[ 51   1   9   0  16]\n",
      " [  3  63   0   0  14]\n",
      " [  0   0  84   0   3]\n",
      " [  0   0   0 136   0]\n",
      " [  0   0   6  25 101]]\n",
      "\n",
      "Test set: Average loss: 0.3989, Accuracy: 435/512 (85%)\n",
      "\n"
     ]
    },
    {
     "data": {
      "application/vnd.jupyter.widget-view+json": {
       "model_id": "91a3f477cf9543e4b1ecac513a38a5f5",
       "version_major": 2,
       "version_minor": 0
      },
      "text/plain": [
       "  0%|          | 0/2 [00:00<?, ?it/s]"
      ]
     },
     "metadata": {},
     "output_type": "display_data"
    },
    {
     "name": "stdout",
     "output_type": "stream",
     "text": [
      "[[ 8  1  5  0 12]\n",
      " [ 1  8  3  0  8]\n",
      " [ 0  0 13  0  1]\n",
      " [ 0  0  0 31  0]\n",
      " [ 0  2  0  8 27]]\n",
      "\n",
      "Test set: Average loss: 0.8799, Accuracy: 87/128 (68%)\n",
      "\n"
     ]
    },
    {
     "data": {
      "application/vnd.jupyter.widget-view+json": {
       "model_id": "2353c262b55f42f19962faa2759576a2",
       "version_major": 2,
       "version_minor": 0
      },
      "text/plain": [
       "  0%|          | 0/8 [00:00<?, ?it/s]"
      ]
     },
     "metadata": {},
     "output_type": "display_data"
    },
    {
     "data": {
      "application/vnd.jupyter.widget-view+json": {
       "model_id": "9506d6d82b9f46fc8bff66cf1989474a",
       "version_major": 2,
       "version_minor": 0
      },
      "text/plain": [
       "  0%|          | 0/8 [00:00<?, ?it/s]"
      ]
     },
     "metadata": {},
     "output_type": "display_data"
    },
    {
     "name": "stdout",
     "output_type": "stream",
     "text": [
      "[[ 74   0   1   0   2]\n",
      " [ 21  37   0   0  22]\n",
      " [ 28   0  30   0  29]\n",
      " [  2   0   0 134   0]\n",
      " [  6   0   1  39  86]]\n",
      "\n",
      "Test set: Average loss: 1.1865, Accuracy: 361/512 (71%)\n",
      "\n"
     ]
    },
    {
     "data": {
      "application/vnd.jupyter.widget-view+json": {
       "model_id": "8d77590c5b0e46afa76ed88e78d4a019",
       "version_major": 2,
       "version_minor": 0
      },
      "text/plain": [
       "  0%|          | 0/2 [00:00<?, ?it/s]"
      ]
     },
     "metadata": {},
     "output_type": "display_data"
    },
    {
     "name": "stdout",
     "output_type": "stream",
     "text": [
      "[[19  1  1  0  5]\n",
      " [ 3  6  0  0 11]\n",
      " [ 5  0  2  0  7]\n",
      " [ 0  0  0 31  0]\n",
      " [ 2  0  0 15 20]]\n",
      "\n",
      "Test set: Average loss: 1.4060, Accuracy: 78/128 (61%)\n",
      "\n"
     ]
    },
    {
     "data": {
      "application/vnd.jupyter.widget-view+json": {
       "model_id": "743142cd7e50409283e439dc7bcfd2a1",
       "version_major": 2,
       "version_minor": 0
      },
      "text/plain": [
       "  0%|          | 0/8 [00:00<?, ?it/s]"
      ]
     },
     "metadata": {},
     "output_type": "display_data"
    },
    {
     "data": {
      "application/vnd.jupyter.widget-view+json": {
       "model_id": "c6d6c10cb75c4bde8a72e2fffcf937bc",
       "version_major": 2,
       "version_minor": 0
      },
      "text/plain": [
       "  0%|          | 0/8 [00:00<?, ?it/s]"
      ]
     },
     "metadata": {},
     "output_type": "display_data"
    },
    {
     "name": "stdout",
     "output_type": "stream",
     "text": [
      "[[ 68   5   0   0   4]\n",
      " [  0  80   0   0   0]\n",
      " [  0   0  87   0   0]\n",
      " [  0   0   0  97  39]\n",
      " [  0   8   3   0 121]]\n",
      "\n",
      "Test set: Average loss: 0.2730, Accuracy: 453/512 (88%)\n",
      "\n"
     ]
    },
    {
     "data": {
      "application/vnd.jupyter.widget-view+json": {
       "model_id": "5175e732412744c69ad2e87941c94927",
       "version_major": 2,
       "version_minor": 0
      },
      "text/plain": [
       "  0%|          | 0/2 [00:00<?, ?it/s]"
      ]
     },
     "metadata": {},
     "output_type": "display_data"
    },
    {
     "name": "stdout",
     "output_type": "stream",
     "text": [
      "[[16  4  2  0  4]\n",
      " [ 0 18  0  0  2]\n",
      " [ 0  1 11  0  2]\n",
      " [ 0  0  0 19 12]\n",
      " [ 2  4  0  0 31]]\n",
      "\n",
      "Test set: Average loss: 0.6849, Accuracy: 95/128 (74%)\n",
      "\n"
     ]
    },
    {
     "data": {
      "application/vnd.jupyter.widget-view+json": {
       "model_id": "7d7009bf75a2462c944a99ecd9b78cc7",
       "version_major": 2,
       "version_minor": 0
      },
      "text/plain": [
       "  0%|          | 0/8 [00:00<?, ?it/s]"
      ]
     },
     "metadata": {},
     "output_type": "display_data"
    },
    {
     "data": {
      "application/vnd.jupyter.widget-view+json": {
       "model_id": "cf45e9c0873e449b970c1255ba969283",
       "version_major": 2,
       "version_minor": 0
      },
      "text/plain": [
       "  0%|          | 0/8 [00:00<?, ?it/s]"
      ]
     },
     "metadata": {},
     "output_type": "display_data"
    },
    {
     "name": "stdout",
     "output_type": "stream",
     "text": [
      "[[ 38   8  24   0   7]\n",
      " [  1  77   1   0   1]\n",
      " [  0   0  78   0   9]\n",
      " [  0   0   0   0 136]\n",
      " [  1   4  22   0 105]]\n",
      "\n",
      "Test set: Average loss: 1.2022, Accuracy: 298/512 (58%)\n",
      "\n"
     ]
    },
    {
     "data": {
      "application/vnd.jupyter.widget-view+json": {
       "model_id": "3f0931ade6ba4340a39b876fd91dc23f",
       "version_major": 2,
       "version_minor": 0
      },
      "text/plain": [
       "  0%|          | 0/2 [00:00<?, ?it/s]"
      ]
     },
     "metadata": {},
     "output_type": "display_data"
    },
    {
     "name": "stdout",
     "output_type": "stream",
     "text": [
      "[[ 8  3 11  0  4]\n",
      " [ 0 13  4  0  3]\n",
      " [ 0  0 12  0  2]\n",
      " [ 0  0  0  0 31]\n",
      " [ 2  4  2  0 29]]\n",
      "\n",
      "Test set: Average loss: 1.5827, Accuracy: 62/128 (48%)\n",
      "\n"
     ]
    },
    {
     "data": {
      "application/vnd.jupyter.widget-view+json": {
       "model_id": "9dc14f0fdc5b47de99b4b6eced525d54",
       "version_major": 2,
       "version_minor": 0
      },
      "text/plain": [
       "  0%|          | 0/8 [00:00<?, ?it/s]"
      ]
     },
     "metadata": {},
     "output_type": "display_data"
    },
    {
     "data": {
      "application/vnd.jupyter.widget-view+json": {
       "model_id": "e40d8194b8bd4241988ee7de678561f1",
       "version_major": 2,
       "version_minor": 0
      },
      "text/plain": [
       "  0%|          | 0/8 [00:00<?, ?it/s]"
      ]
     },
     "metadata": {},
     "output_type": "display_data"
    },
    {
     "name": "stdout",
     "output_type": "stream",
     "text": [
      "[[ 73   1   1   0   2]\n",
      " [  2  77   0   0   1]\n",
      " [  0   0  87   0   0]\n",
      " [  0   0   0 135   1]\n",
      " [  4   5   8  20  95]]\n",
      "\n",
      "Test set: Average loss: 0.2261, Accuracy: 467/512 (91%)\n",
      "\n"
     ]
    },
    {
     "data": {
      "application/vnd.jupyter.widget-view+json": {
       "model_id": "4423e8ec6f304819948432adae5488fa",
       "version_major": 2,
       "version_minor": 0
      },
      "text/plain": [
       "  0%|          | 0/2 [00:00<?, ?it/s]"
      ]
     },
     "metadata": {},
     "output_type": "display_data"
    },
    {
     "name": "stdout",
     "output_type": "stream",
     "text": [
      "[[20  3  2  0  1]\n",
      " [ 1 14  1  0  4]\n",
      " [ 1  0 13  0  0]\n",
      " [ 0  0  0 31  0]\n",
      " [ 2  4  0  7 24]]\n",
      "\n",
      "Test set: Average loss: 0.5365, Accuracy: 102/128 (80%)\n",
      "\n"
     ]
    },
    {
     "data": {
      "application/vnd.jupyter.widget-view+json": {
       "model_id": "de682bdb59f9469cba00e0cfbf1f4317",
       "version_major": 2,
       "version_minor": 0
      },
      "text/plain": [
       "  0%|          | 0/8 [00:00<?, ?it/s]"
      ]
     },
     "metadata": {},
     "output_type": "display_data"
    },
    {
     "data": {
      "application/vnd.jupyter.widget-view+json": {
       "model_id": "f44d383a07ce44388d995bf6413d6a57",
       "version_major": 2,
       "version_minor": 0
      },
      "text/plain": [
       "  0%|          | 0/8 [00:00<?, ?it/s]"
      ]
     },
     "metadata": {},
     "output_type": "display_data"
    },
    {
     "name": "stdout",
     "output_type": "stream",
     "text": [
      "[[ 41   0   7   0  29]\n",
      " [  1  36  18   0  25]\n",
      " [  0   0  78   0   9]\n",
      " [  1   0   0 135   0]\n",
      " [  0   0  11  18 103]]\n",
      "\n",
      "Test set: Average loss: 0.6610, Accuracy: 393/512 (77%)\n",
      "\n"
     ]
    },
    {
     "data": {
      "application/vnd.jupyter.widget-view+json": {
       "model_id": "c039b57a1fdc4a2b8733ddc2b812a811",
       "version_major": 2,
       "version_minor": 0
      },
      "text/plain": [
       "  0%|          | 0/2 [00:00<?, ?it/s]"
      ]
     },
     "metadata": {},
     "output_type": "display_data"
    },
    {
     "name": "stdout",
     "output_type": "stream",
     "text": [
      "[[ 7  1  4  0 14]\n",
      " [ 0  6  8  0  6]\n",
      " [ 0  0 11  0  3]\n",
      " [ 0  0  0 31  0]\n",
      " [ 0  0  1  8 28]]\n",
      "\n",
      "Test set: Average loss: 1.2493, Accuracy: 83/128 (65%)\n",
      "\n"
     ]
    },
    {
     "data": {
      "application/vnd.jupyter.widget-view+json": {
       "model_id": "66087fcbe2d04996abfb20eaa8335c08",
       "version_major": 2,
       "version_minor": 0
      },
      "text/plain": [
       "  0%|          | 0/8 [00:00<?, ?it/s]"
      ]
     },
     "metadata": {},
     "output_type": "display_data"
    },
    {
     "data": {
      "application/vnd.jupyter.widget-view+json": {
       "model_id": "c821b2f333274be9b0d26d945f97819d",
       "version_major": 2,
       "version_minor": 0
      },
      "text/plain": [
       "  0%|          | 0/8 [00:00<?, ?it/s]"
      ]
     },
     "metadata": {},
     "output_type": "display_data"
    },
    {
     "name": "stdout",
     "output_type": "stream",
     "text": [
      "[[ 73   2   1   0   1]\n",
      " [  6  63   0   0  11]\n",
      " [  8  23  53   0   3]\n",
      " [  3  14   0  95  24]\n",
      " [  5   8   1   0 118]]\n",
      "\n",
      "Test set: Average loss: 0.6319, Accuracy: 402/512 (79%)\n",
      "\n"
     ]
    },
    {
     "data": {
      "application/vnd.jupyter.widget-view+json": {
       "model_id": "c4c99cff05d8457098306be687afffc0",
       "version_major": 2,
       "version_minor": 0
      },
      "text/plain": [
       "  0%|          | 0/2 [00:00<?, ?it/s]"
      ]
     },
     "metadata": {},
     "output_type": "display_data"
    },
    {
     "name": "stdout",
     "output_type": "stream",
     "text": [
      "[[18  4  1  0  3]\n",
      " [ 2 15  0  0  3]\n",
      " [ 3  3  5  0  3]\n",
      " [ 1  1  0 17 12]\n",
      " [ 3  2  0  0 32]]\n",
      "\n",
      "Test set: Average loss: 0.7783, Accuracy: 87/128 (68%)\n",
      "\n"
     ]
    },
    {
     "data": {
      "application/vnd.jupyter.widget-view+json": {
       "model_id": "220a8ff73996498a836a541fdadf0334",
       "version_major": 2,
       "version_minor": 0
      },
      "text/plain": [
       "  0%|          | 0/8 [00:00<?, ?it/s]"
      ]
     },
     "metadata": {},
     "output_type": "display_data"
    },
    {
     "data": {
      "application/vnd.jupyter.widget-view+json": {
       "model_id": "551f221b42da45188448da0a6aac00ad",
       "version_major": 2,
       "version_minor": 0
      },
      "text/plain": [
       "  0%|          | 0/8 [00:00<?, ?it/s]"
      ]
     },
     "metadata": {},
     "output_type": "display_data"
    },
    {
     "name": "stdout",
     "output_type": "stream",
     "text": [
      "[[ 73   1   3   0   0]\n",
      " [  6  69   5   0   0]\n",
      " [  0   0  87   0   0]\n",
      " [  0   0   0 136   0]\n",
      " [  5   4  18   7  98]]\n",
      "\n",
      "Test set: Average loss: 0.2782, Accuracy: 463/512 (90%)\n",
      "\n"
     ]
    },
    {
     "data": {
      "application/vnd.jupyter.widget-view+json": {
       "model_id": "239304b23d4a42b6bde276b50d6e1869",
       "version_major": 2,
       "version_minor": 0
      },
      "text/plain": [
       "  0%|          | 0/2 [00:00<?, ?it/s]"
      ]
     },
     "metadata": {},
     "output_type": "display_data"
    },
    {
     "name": "stdout",
     "output_type": "stream",
     "text": [
      "[[18  1  7  0  0]\n",
      " [ 0 11  7  0  2]\n",
      " [ 0  0 14  0  0]\n",
      " [ 0  0  0 31  0]\n",
      " [ 2  3  1  6 25]]\n",
      "\n",
      "Test set: Average loss: 0.7389, Accuracy: 99/128 (77%)\n",
      "\n"
     ]
    },
    {
     "data": {
      "application/vnd.jupyter.widget-view+json": {
       "model_id": "182838c198dc4a93b0c4d79af41c1c85",
       "version_major": 2,
       "version_minor": 0
      },
      "text/plain": [
       "  0%|          | 0/8 [00:00<?, ?it/s]"
      ]
     },
     "metadata": {},
     "output_type": "display_data"
    },
    {
     "data": {
      "application/vnd.jupyter.widget-view+json": {
       "model_id": "ede99333beaa4f6683b70360e6c18a43",
       "version_major": 2,
       "version_minor": 0
      },
      "text/plain": [
       "  0%|          | 0/8 [00:00<?, ?it/s]"
      ]
     },
     "metadata": {},
     "output_type": "display_data"
    },
    {
     "name": "stdout",
     "output_type": "stream",
     "text": [
      "[[ 32   1  43   1   0]\n",
      " [  1  36  29   0  14]\n",
      " [  0   0  87   0   0]\n",
      " [  0   0   0 133   3]\n",
      " [  0   0  33  10  89]]\n",
      "\n",
      "Test set: Average loss: 0.7925, Accuracy: 377/512 (74%)\n",
      "\n"
     ]
    },
    {
     "data": {
      "application/vnd.jupyter.widget-view+json": {
       "model_id": "131fdf31e03842e1a14069ccf9f5135e",
       "version_major": 2,
       "version_minor": 0
      },
      "text/plain": [
       "  0%|          | 0/2 [00:00<?, ?it/s]"
      ]
     },
     "metadata": {},
     "output_type": "display_data"
    },
    {
     "name": "stdout",
     "output_type": "stream",
     "text": [
      "[[ 5  1 19  0  1]\n",
      " [ 1  4 10  0  5]\n",
      " [ 0  0 14  0  0]\n",
      " [ 0  0  0 30  1]\n",
      " [ 0  0  6  2 29]]\n",
      "\n",
      "Test set: Average loss: 1.5742, Accuracy: 82/128 (64%)\n",
      "\n"
     ]
    },
    {
     "data": {
      "application/vnd.jupyter.widget-view+json": {
       "model_id": "fb63cf20bdb3452c8d1283dca44a2213",
       "version_major": 2,
       "version_minor": 0
      },
      "text/plain": [
       "  0%|          | 0/8 [00:00<?, ?it/s]"
      ]
     },
     "metadata": {},
     "output_type": "display_data"
    },
    {
     "data": {
      "application/vnd.jupyter.widget-view+json": {
       "model_id": "bb5d6e6f05b647c0891e47a17cb724c2",
       "version_major": 2,
       "version_minor": 0
      },
      "text/plain": [
       "  0%|          | 0/8 [00:00<?, ?it/s]"
      ]
     },
     "metadata": {},
     "output_type": "display_data"
    },
    {
     "name": "stdout",
     "output_type": "stream",
     "text": [
      "[[ 73   1   0   0   3]\n",
      " [  1  78   0   0   1]\n",
      " [  1   5  77   0   4]\n",
      " [  1   0   0 135   0]\n",
      " [  1   4   1  24 102]]\n",
      "\n",
      "Test set: Average loss: 0.2690, Accuracy: 465/512 (91%)\n",
      "\n"
     ]
    },
    {
     "data": {
      "application/vnd.jupyter.widget-view+json": {
       "model_id": "1cb4dd5d197541fa9962cc56d55a9979",
       "version_major": 2,
       "version_minor": 0
      },
      "text/plain": [
       "  0%|          | 0/2 [00:00<?, ?it/s]"
      ]
     },
     "metadata": {},
     "output_type": "display_data"
    },
    {
     "name": "stdout",
     "output_type": "stream",
     "text": [
      "[[16  3  2  0  5]\n",
      " [ 1 15  0  0  4]\n",
      " [ 1  2 10  0  1]\n",
      " [ 0  0  0 31  0]\n",
      " [ 0  2  0 11 24]]\n",
      "\n",
      "Test set: Average loss: 0.6530, Accuracy: 96/128 (75%)\n",
      "\n"
     ]
    },
    {
     "data": {
      "application/vnd.jupyter.widget-view+json": {
       "model_id": "655fe59a1c5c41759848f78190ed3036",
       "version_major": 2,
       "version_minor": 0
      },
      "text/plain": [
       "  0%|          | 0/8 [00:00<?, ?it/s]"
      ]
     },
     "metadata": {},
     "output_type": "display_data"
    },
    {
     "data": {
      "application/vnd.jupyter.widget-view+json": {
       "model_id": "b80ced68c4a04097940c9446edb0d2ce",
       "version_major": 2,
       "version_minor": 0
      },
      "text/plain": [
       "  0%|          | 0/8 [00:00<?, ?it/s]"
      ]
     },
     "metadata": {},
     "output_type": "display_data"
    },
    {
     "name": "stdout",
     "output_type": "stream",
     "text": [
      "[[ 46  11   2   0  18]\n",
      " [  0  77   0   0   3]\n",
      " [  0   3  76   0   8]\n",
      " [  0   0   0 123  13]\n",
      " [  0   0   3   0 129]]\n",
      "\n",
      "Test set: Average loss: 0.3507, Accuracy: 451/512 (88%)\n",
      "\n"
     ]
    },
    {
     "data": {
      "application/vnd.jupyter.widget-view+json": {
       "model_id": "1f53739915864f429dd218e8d0c8a57f",
       "version_major": 2,
       "version_minor": 0
      },
      "text/plain": [
       "  0%|          | 0/2 [00:00<?, ?it/s]"
      ]
     },
     "metadata": {},
     "output_type": "display_data"
    },
    {
     "name": "stdout",
     "output_type": "stream",
     "text": [
      "[[ 7  8  2  0  9]\n",
      " [ 0 17  0  0  3]\n",
      " [ 0  1  8  0  5]\n",
      " [ 0  1  0 26  4]\n",
      " [ 0  3  1  0 33]]\n",
      "\n",
      "Test set: Average loss: 0.9333, Accuracy: 91/128 (71%)\n",
      "\n"
     ]
    },
    {
     "data": {
      "application/vnd.jupyter.widget-view+json": {
       "model_id": "0adc1b8f5ba0419e95ed9123d6b7042c",
       "version_major": 2,
       "version_minor": 0
      },
      "text/plain": [
       "  0%|          | 0/8 [00:00<?, ?it/s]"
      ]
     },
     "metadata": {},
     "output_type": "display_data"
    },
    {
     "data": {
      "application/vnd.jupyter.widget-view+json": {
       "model_id": "570b29c0cdb8415297a2cb4530ecb556",
       "version_major": 2,
       "version_minor": 0
      },
      "text/plain": [
       "  0%|          | 0/8 [00:00<?, ?it/s]"
      ]
     },
     "metadata": {},
     "output_type": "display_data"
    },
    {
     "name": "stdout",
     "output_type": "stream",
     "text": [
      "[[ 75   0   0   0   2]\n",
      " [  2  75   0   0   3]\n",
      " [  1   0  85   0   1]\n",
      " [  0   0   0 136   0]\n",
      " [  1   0   2  16 113]]\n",
      "\n",
      "Test set: Average loss: 0.2015, Accuracy: 484/512 (95%)\n",
      "\n"
     ]
    },
    {
     "data": {
      "application/vnd.jupyter.widget-view+json": {
       "model_id": "693f919dae394056b351aeaeecd5b615",
       "version_major": 2,
       "version_minor": 0
      },
      "text/plain": [
       "  0%|          | 0/2 [00:00<?, ?it/s]"
      ]
     },
     "metadata": {},
     "output_type": "display_data"
    },
    {
     "name": "stdout",
     "output_type": "stream",
     "text": [
      "[[20  1  1  0  4]\n",
      " [ 0 10  0  0 10]\n",
      " [ 1  0 10  0  3]\n",
      " [ 0  0  0 31  0]\n",
      " [ 0  2  0  9 26]]\n",
      "\n",
      "Test set: Average loss: 0.6349, Accuracy: 97/128 (76%)\n",
      "\n"
     ]
    },
    {
     "data": {
      "application/vnd.jupyter.widget-view+json": {
       "model_id": "ee6d631fd451492eba2b957de27c8102",
       "version_major": 2,
       "version_minor": 0
      },
      "text/plain": [
       "  0%|          | 0/8 [00:00<?, ?it/s]"
      ]
     },
     "metadata": {},
     "output_type": "display_data"
    },
    {
     "data": {
      "application/vnd.jupyter.widget-view+json": {
       "model_id": "b4eb878a2a21430087fee732088ed3a3",
       "version_major": 2,
       "version_minor": 0
      },
      "text/plain": [
       "  0%|          | 0/8 [00:00<?, ?it/s]"
      ]
     },
     "metadata": {},
     "output_type": "display_data"
    },
    {
     "name": "stdout",
     "output_type": "stream",
     "text": [
      "[[ 76   0   1   0   0]\n",
      " [ 33  46   0   0   1]\n",
      " [ 21   0  61   0   5]\n",
      " [  7   0   0 122   7]\n",
      " [  9   0   2   0 121]]\n",
      "\n",
      "Test set: Average loss: 0.6007, Accuracy: 426/512 (83%)\n",
      "\n"
     ]
    },
    {
     "data": {
      "application/vnd.jupyter.widget-view+json": {
       "model_id": "3f1ca18f2f0e49a79a7f3a5f3867807e",
       "version_major": 2,
       "version_minor": 0
      },
      "text/plain": [
       "  0%|          | 0/2 [00:00<?, ?it/s]"
      ]
     },
     "metadata": {},
     "output_type": "display_data"
    },
    {
     "name": "stdout",
     "output_type": "stream",
     "text": [
      "[[21  0  0  0  5]\n",
      " [ 6 10  0  0  4]\n",
      " [ 6  0  8  0  0]\n",
      " [ 1  0  0 28  2]\n",
      " [ 4  0  1  1 31]]\n",
      "\n",
      "Test set: Average loss: 0.8283, Accuracy: 98/128 (77%)\n",
      "\n"
     ]
    },
    {
     "data": {
      "application/vnd.jupyter.widget-view+json": {
       "model_id": "8604e2bc46814778b47a0ae32921d69b",
       "version_major": 2,
       "version_minor": 0
      },
      "text/plain": [
       "  0%|          | 0/8 [00:00<?, ?it/s]"
      ]
     },
     "metadata": {},
     "output_type": "display_data"
    },
    {
     "data": {
      "application/vnd.jupyter.widget-view+json": {
       "model_id": "d944cc91e7c447b8813e1bb1ba7a17d3",
       "version_major": 2,
       "version_minor": 0
      },
      "text/plain": [
       "  0%|          | 0/8 [00:00<?, ?it/s]"
      ]
     },
     "metadata": {},
     "output_type": "display_data"
    },
    {
     "name": "stdout",
     "output_type": "stream",
     "text": [
      "[[ 24  18  23   3   9]\n",
      " [  0  78   1   0   1]\n",
      " [  0   1  83   0   3]\n",
      " [  0   0   0 136   0]\n",
      " [  2  13  14  40  63]]\n",
      "\n",
      "Test set: Average loss: 0.7201, Accuracy: 384/512 (75%)\n",
      "\n"
     ]
    },
    {
     "data": {
      "application/vnd.jupyter.widget-view+json": {
       "model_id": "45ad937d13894bf5867f2df9d8bbcec2",
       "version_major": 2,
       "version_minor": 0
      },
      "text/plain": [
       "  0%|          | 0/2 [00:00<?, ?it/s]"
      ]
     },
     "metadata": {},
     "output_type": "display_data"
    },
    {
     "name": "stdout",
     "output_type": "stream",
     "text": [
      "[[ 4 11  8  1  2]\n",
      " [ 0 15  1  0  4]\n",
      " [ 0  0 12  0  2]\n",
      " [ 0  0  0 31  0]\n",
      " [ 0  3  1 13 20]]\n",
      "\n",
      "Test set: Average loss: 1.1588, Accuracy: 82/128 (64%)\n",
      "\n"
     ]
    },
    {
     "data": {
      "application/vnd.jupyter.widget-view+json": {
       "model_id": "e35f8af19ec84d348cbe4b9ea3b16efb",
       "version_major": 2,
       "version_minor": 0
      },
      "text/plain": [
       "  0%|          | 0/8 [00:00<?, ?it/s]"
      ]
     },
     "metadata": {},
     "output_type": "display_data"
    },
    {
     "data": {
      "application/vnd.jupyter.widget-view+json": {
       "model_id": "535680bd5bec4fa1b5bb895feb524814",
       "version_major": 2,
       "version_minor": 0
      },
      "text/plain": [
       "  0%|          | 0/8 [00:00<?, ?it/s]"
      ]
     },
     "metadata": {},
     "output_type": "display_data"
    },
    {
     "name": "stdout",
     "output_type": "stream",
     "text": [
      "[[ 75   1   0   1   0]\n",
      " [ 34  45   1   0   0]\n",
      " [ 76   0  11   0   0]\n",
      " [  0   0   0 136   0]\n",
      " [ 41  17   2  41  31]]\n",
      "\n",
      "Test set: Average loss: 2.5136, Accuracy: 298/512 (58%)\n",
      "\n"
     ]
    },
    {
     "data": {
      "application/vnd.jupyter.widget-view+json": {
       "model_id": "0e56ce9e697346a1bc12ab8f7e9bbb43",
       "version_major": 2,
       "version_minor": 0
      },
      "text/plain": [
       "  0%|          | 0/2 [00:00<?, ?it/s]"
      ]
     },
     "metadata": {},
     "output_type": "display_data"
    },
    {
     "name": "stdout",
     "output_type": "stream",
     "text": [
      "[[25  0  1  0  0]\n",
      " [ 8 11  1  0  0]\n",
      " [12  0  2  0  0]\n",
      " [ 0  0  0 31  0]\n",
      " [12  3  0 15  7]]\n",
      "\n",
      "Test set: Average loss: 2.1833, Accuracy: 76/128 (59%)\n",
      "\n"
     ]
    },
    {
     "data": {
      "application/vnd.jupyter.widget-view+json": {
       "model_id": "bf0c765402cf42d99dfc4015d1d11e16",
       "version_major": 2,
       "version_minor": 0
      },
      "text/plain": [
       "  0%|          | 0/8 [00:00<?, ?it/s]"
      ]
     },
     "metadata": {},
     "output_type": "display_data"
    },
    {
     "data": {
      "application/vnd.jupyter.widget-view+json": {
       "model_id": "6c8e08baefb242c38f37c829e1267d58",
       "version_major": 2,
       "version_minor": 0
      },
      "text/plain": [
       "  0%|          | 0/8 [00:00<?, ?it/s]"
      ]
     },
     "metadata": {},
     "output_type": "display_data"
    },
    {
     "name": "stdout",
     "output_type": "stream",
     "text": [
      "[[ 28  47   1   0   1]\n",
      " [  0  79   0   0   1]\n",
      " [  0  36  41   0  10]\n",
      " [  1  16   0   0 119]\n",
      " [  3  47   7   0  75]]\n",
      "\n",
      "Test set: Average loss: 2.9179, Accuracy: 223/512 (44%)\n",
      "\n"
     ]
    },
    {
     "data": {
      "application/vnd.jupyter.widget-view+json": {
       "model_id": "7677a3b05c1d4997aa8a82eea2084179",
       "version_major": 2,
       "version_minor": 0
      },
      "text/plain": [
       "  0%|          | 0/2 [00:00<?, ?it/s]"
      ]
     },
     "metadata": {},
     "output_type": "display_data"
    },
    {
     "name": "stdout",
     "output_type": "stream",
     "text": [
      "[[ 3 20  1  0  2]\n",
      " [ 0 20  0  0  0]\n",
      " [ 0  6  6  0  2]\n",
      " [ 0  2  0  0 29]\n",
      " [ 1 15  0  0 21]]\n",
      "\n",
      "Test set: Average loss: 2.8666, Accuracy: 50/128 (39%)\n",
      "\n"
     ]
    },
    {
     "data": {
      "application/vnd.jupyter.widget-view+json": {
       "model_id": "b06babb34d7a4c749d382ff7e3c7a9a1",
       "version_major": 2,
       "version_minor": 0
      },
      "text/plain": [
       "  0%|          | 0/8 [00:00<?, ?it/s]"
      ]
     },
     "metadata": {},
     "output_type": "display_data"
    },
    {
     "data": {
      "application/vnd.jupyter.widget-view+json": {
       "model_id": "4bae711c19ac4ac0a11ed42d4b0cec8d",
       "version_major": 2,
       "version_minor": 0
      },
      "text/plain": [
       "  0%|          | 0/8 [00:00<?, ?it/s]"
      ]
     },
     "metadata": {},
     "output_type": "display_data"
    },
    {
     "name": "stdout",
     "output_type": "stream",
     "text": [
      "[[ 47  15  13   1   1]\n",
      " [  0  80   0   0   0]\n",
      " [  2   3  82   0   0]\n",
      " [  0   0   0 132   4]\n",
      " [  0   5  11   0 116]]\n",
      "\n",
      "Test set: Average loss: 0.2753, Accuracy: 457/512 (89%)\n",
      "\n"
     ]
    },
    {
     "data": {
      "application/vnd.jupyter.widget-view+json": {
       "model_id": "30e2b7816c8243058f55287049ccb735",
       "version_major": 2,
       "version_minor": 0
      },
      "text/plain": [
       "  0%|          | 0/2 [00:00<?, ?it/s]"
      ]
     },
     "metadata": {},
     "output_type": "display_data"
    },
    {
     "name": "stdout",
     "output_type": "stream",
     "text": [
      "[[ 8  9  8  0  1]\n",
      " [ 0 18  1  0  1]\n",
      " [ 0  0 14  0  0]\n",
      " [ 0  0  0 28  3]\n",
      " [ 0  4  0  0 33]]\n",
      "\n",
      "Test set: Average loss: 0.6658, Accuracy: 101/128 (79%)\n",
      "\n"
     ]
    },
    {
     "data": {
      "application/vnd.jupyter.widget-view+json": {
       "model_id": "57b5bc1f1224465fa0706f2d8b39bb56",
       "version_major": 2,
       "version_minor": 0
      },
      "text/plain": [
       "  0%|          | 0/8 [00:00<?, ?it/s]"
      ]
     },
     "metadata": {},
     "output_type": "display_data"
    },
    {
     "data": {
      "application/vnd.jupyter.widget-view+json": {
       "model_id": "b424032d9ccc4e488a8e1a0c78db8b41",
       "version_major": 2,
       "version_minor": 0
      },
      "text/plain": [
       "  0%|          | 0/8 [00:00<?, ?it/s]"
      ]
     },
     "metadata": {},
     "output_type": "display_data"
    },
    {
     "name": "stdout",
     "output_type": "stream",
     "text": [
      "[[ 70   1   2   0   4]\n",
      " [  0  79   0   0   1]\n",
      " [  0   0  87   0   0]\n",
      " [  0   0   0 124  12]\n",
      " [  0   0   2   0 130]]\n",
      "\n",
      "Test set: Average loss: 0.1517, Accuracy: 490/512 (96%)\n",
      "\n"
     ]
    },
    {
     "data": {
      "application/vnd.jupyter.widget-view+json": {
       "model_id": "2d9f778d29f34158adecd1cd6b5bd9b0",
       "version_major": 2,
       "version_minor": 0
      },
      "text/plain": [
       "  0%|          | 0/2 [00:00<?, ?it/s]"
      ]
     },
     "metadata": {},
     "output_type": "display_data"
    },
    {
     "name": "stdout",
     "output_type": "stream",
     "text": [
      "[[15  4  3  0  4]\n",
      " [ 0 18  0  0  2]\n",
      " [ 0  0 14  0  0]\n",
      " [ 0  0  0 27  4]\n",
      " [ 0  3  0  0 34]]\n",
      "\n",
      "Test set: Average loss: 0.6431, Accuracy: 108/128 (84%)\n",
      "\n"
     ]
    },
    {
     "data": {
      "application/vnd.jupyter.widget-view+json": {
       "model_id": "194a614c0d384947b1af99f5381f7c93",
       "version_major": 2,
       "version_minor": 0
      },
      "text/plain": [
       "  0%|          | 0/8 [00:00<?, ?it/s]"
      ]
     },
     "metadata": {},
     "output_type": "display_data"
    },
    {
     "data": {
      "application/vnd.jupyter.widget-view+json": {
       "model_id": "139cf251e00c49a5a7d9ea0cd9aeeb6a",
       "version_major": 2,
       "version_minor": 0
      },
      "text/plain": [
       "  0%|          | 0/8 [00:00<?, ?it/s]"
      ]
     },
     "metadata": {},
     "output_type": "display_data"
    },
    {
     "name": "stdout",
     "output_type": "stream",
     "text": [
      "[[ 77   0   0   0   0]\n",
      " [  0  80   0   0   0]\n",
      " [  0   0  87   0   0]\n",
      " [  0   0   0 135   1]\n",
      " [  0   0   0   0 132]]\n",
      "\n",
      "Test set: Average loss: 0.0507, Accuracy: 511/512 (100%)\n",
      "\n"
     ]
    },
    {
     "data": {
      "application/vnd.jupyter.widget-view+json": {
       "model_id": "9f2c715902e246f5bc4b8bb86e0f5113",
       "version_major": 2,
       "version_minor": 0
      },
      "text/plain": [
       "  0%|          | 0/2 [00:00<?, ?it/s]"
      ]
     },
     "metadata": {},
     "output_type": "display_data"
    },
    {
     "name": "stdout",
     "output_type": "stream",
     "text": [
      "[[20  1  2  0  3]\n",
      " [ 1 16  1  0  2]\n",
      " [ 0  0 14  0  0]\n",
      " [ 0  0  0 31  0]\n",
      " [ 2  2  0  0 33]]\n",
      "\n",
      "Test set: Average loss: 0.4261, Accuracy: 114/128 (89%)\n",
      "\n"
     ]
    },
    {
     "data": {
      "application/vnd.jupyter.widget-view+json": {
       "model_id": "17aa2f3e602a49469fd4d396575cb35b",
       "version_major": 2,
       "version_minor": 0
      },
      "text/plain": [
       "  0%|          | 0/8 [00:00<?, ?it/s]"
      ]
     },
     "metadata": {},
     "output_type": "display_data"
    },
    {
     "data": {
      "application/vnd.jupyter.widget-view+json": {
       "model_id": "6bb81abb4e424befacd781cf446e843a",
       "version_major": 2,
       "version_minor": 0
      },
      "text/plain": [
       "  0%|          | 0/8 [00:00<?, ?it/s]"
      ]
     },
     "metadata": {},
     "output_type": "display_data"
    },
    {
     "name": "stdout",
     "output_type": "stream",
     "text": [
      "[[ 74   0   1   0   2]\n",
      " [  0  80   0   0   0]\n",
      " [  0   0  86   0   1]\n",
      " [  0   0   0 134   2]\n",
      " [  0   0   1   0 131]]\n",
      "\n",
      "Test set: Average loss: 0.0715, Accuracy: 505/512 (99%)\n",
      "\n"
     ]
    },
    {
     "data": {
      "application/vnd.jupyter.widget-view+json": {
       "model_id": "6d50f16f854e4063bf19d05e63b19dc0",
       "version_major": 2,
       "version_minor": 0
      },
      "text/plain": [
       "  0%|          | 0/2 [00:00<?, ?it/s]"
      ]
     },
     "metadata": {},
     "output_type": "display_data"
    },
    {
     "name": "stdout",
     "output_type": "stream",
     "text": [
      "[[20  1  2  0  3]\n",
      " [ 0 15  1  0  4]\n",
      " [ 0  0 13  0  1]\n",
      " [ 0  0  0 31  0]\n",
      " [ 0  3  0  0 34]]\n",
      "\n",
      "Test set: Average loss: 0.4321, Accuracy: 113/128 (88%)\n",
      "\n"
     ]
    },
    {
     "data": {
      "application/vnd.jupyter.widget-view+json": {
       "model_id": "bf9f7654e4ee47979c032b01d8237b8c",
       "version_major": 2,
       "version_minor": 0
      },
      "text/plain": [
       "  0%|          | 0/8 [00:00<?, ?it/s]"
      ]
     },
     "metadata": {},
     "output_type": "display_data"
    }
   ],
   "source": [
    "def convert_image_np(inp):\n",
    "    \"\"\"Convert a Tensor to numpy image.\"\"\"\n",
    "    inp = inp.numpy().transpose((1, 2, 0))\n",
    "    # mean = np.array([0.485, 0.456, 0.406])\n",
    "    # std = np.array([0.229, 0.224, 0.225])\n",
    "    # inp = std * inp + mean\n",
    "    # inp = np.clip(inp, 0, 1)\n",
    "    return inp\n",
    "\n",
    "# We want to visualize the output of the spatial transformers layer\n",
    "# after the training, we visualize a batch of input images and\n",
    "# the corresponding transformed batch using STN.\n",
    "\n",
    "\n",
    "def visualize_stn():\n",
    "    with torch.no_grad():\n",
    "        # Get a batch of training data\n",
    "        data = next(iter(test_loader))[0].to(device)\n",
    "\n",
    "        input_tensor = data.cpu()\n",
    "        transformed_input_tensor = model.stn(data).cpu()\n",
    "        print(input_tensor.shape, transformed_input_tensor.shape, max(input_tensor.flatten()), max(transformed_input_tensor.flatten()))\n",
    "        in_grid = convert_image_np(\n",
    "            torchvision.utils.make_grid(input_tensor))\n",
    "\n",
    "        out_grid = convert_image_np(\n",
    "            torchvision.utils.make_grid(transformed_input_tensor))\n",
    "\n",
    "        # Plot the results side-by-side\n",
    "        f, axarr = plt.subplots(1, 2)\n",
    "        axarr[0].imshow(in_grid)\n",
    "        axarr[0].set_title('Dataset Images')\n",
    "\n",
    "        axarr[1].imshow(out_grid)\n",
    "        axarr[1].set_title('Transformed Images')\n",
    "\n",
    "for epoch in range(1, 150 + 1):\n",
    "    train(epoch)\n",
    "    train_conf()\n",
    "    test()\n",
    "\n",
    "# Visualize the STN transformation on some input batch\n",
    "visualize_stn()\n",
    "\n",
    "plt.ioff()\n",
    "plt.show()"
   ]
  },
  {
   "cell_type": "code",
   "execution_count": null,
   "id": "d22303bd",
   "metadata": {},
   "outputs": [],
   "source": []
  }
 ],
 "metadata": {
  "kernelspec": {
   "display_name": "Python 3 (ipykernel)",
   "language": "python",
   "name": "python3"
  },
  "language_info": {
   "codemirror_mode": {
    "name": "ipython",
    "version": 3
   },
   "file_extension": ".py",
   "mimetype": "text/x-python",
   "name": "python",
   "nbconvert_exporter": "python",
   "pygments_lexer": "ipython3",
   "version": "3.7.4"
  }
 },
 "nbformat": 4,
 "nbformat_minor": 5
}
